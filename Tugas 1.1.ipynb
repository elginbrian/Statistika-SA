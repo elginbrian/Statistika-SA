{
 "cells": [
  {
   "cell_type": "markdown",
   "metadata": {},
   "source": [
    "## Soal 1\n",
    "Tabel berikut menunjukkan distribusi frekuensi nilai ujian dari 50 mahasiswa: "
   ]
  },
  {
   "cell_type": "code",
   "execution_count": 144,
   "metadata": {},
   "outputs": [
    {
     "name": "stdout",
     "output_type": "stream",
     "text": [
      "  Lower Bound    Upper Bound    Freq F\n",
      "-------------  -------------  --------\n",
      "           40             49         5\n",
      "           50             59         7\n",
      "           60             69        12\n",
      "           70             79        15\n",
      "           80             89         6\n",
      "           90             99         5\n"
     ]
    }
   ],
   "source": [
    "from tabulate import tabulate\n",
    "import math\n",
    "\n",
    "#create data\n",
    "data = [\n",
    "    [40, 49, 5],\n",
    "    [50, 59, 7],\n",
    "    [60, 69, 12],\n",
    "    [70, 79, 15],\n",
    "    [80, 89, 6],\n",
    "    [90, 99, 5]\n",
    "]\n",
    "\n",
    "#create col names\n",
    "col_names = [\"Lower Bound\", \"Upper Bound\", \"Freq F\"]\n",
    "\n",
    "#create table\n",
    "print(tabulate(data, col_names))"
   ]
  },
  {
   "cell_type": "markdown",
   "metadata": {},
   "source": [
    "Hitung rata-rata, median, modus, dan deviasi standar nilai ujian dari data di atas. "
   ]
  },
  {
   "cell_type": "code",
   "execution_count": 145,
   "metadata": {},
   "outputs": [
    {
     "name": "stdout",
     "output_type": "stream",
     "text": [
      "  Lower Bound    Upper Bound    Freq F    Mid M\n",
      "-------------  -------------  --------  -------\n",
      "           40             49         5     44.5\n",
      "           50             59         7     54.5\n",
      "           60             69        12     64.5\n",
      "           70             79        15     74.5\n",
      "           80             89         6     84.5\n",
      "           90             99         5     94.5\n"
     ]
    }
   ],
   "source": [
    "# find midpoint of each class\n",
    "for i in range(len(data)):\n",
    "    midpoint = (data[i][0] + data[i][1]) / 2\n",
    "    data[i].append(midpoint)\n",
    "\n",
    "col_names.append(\"Mid M\")    \n",
    "\n",
    "print(tabulate(data, col_names))"
   ]
  },
  {
   "cell_type": "code",
   "execution_count": 146,
   "metadata": {},
   "outputs": [
    {
     "name": "stdout",
     "output_type": "stream",
     "text": [
      "  Lower Bound    Upper Bound    Freq F    Mid M      MF\n",
      "-------------  -------------  --------  -------  ------\n",
      "           40             49         5     44.5   222.5\n",
      "           50             59         7     54.5   381.5\n",
      "           60             69        12     64.5   774\n",
      "           70             79        15     74.5  1117.5\n",
      "           80             89         6     84.5   507\n",
      "           90             99         5     94.5   472.5\n"
     ]
    }
   ],
   "source": [
    "# multiply midpoint with frequency\n",
    "for i in range(len(data)):\n",
    "    fx = data[i][2] * data[i][3]\n",
    "    data[i].append(fx)\n",
    "\n",
    "col_names.append(\"MF\")  \n",
    "\n",
    "print(tabulate(data, col_names))  "
   ]
  },
  {
   "cell_type": "code",
   "execution_count": 147,
   "metadata": {},
   "outputs": [
    {
     "name": "stdout",
     "output_type": "stream",
     "text": [
      "  Lower Bound    Upper Bound    Freq F    Mid M      MF\n",
      "-------------  -------------  --------  -------  ------\n",
      "           40             49         5     44.5   222.5\n",
      "           50             59         7     54.5   381.5\n",
      "           60             69        12     64.5   774\n",
      "           70             79        15     74.5  1117.5\n",
      "           80             89         6     84.5   507\n",
      "           90             99         5     94.5   472.5\n",
      "--------------------------------------------------\n",
      "Sigma F  :  50\n",
      "Sigma MF :  3475.0\n",
      "Mean (μ) :  69.5\n"
     ]
    }
   ],
   "source": [
    "print(tabulate(data, col_names))\n",
    "print(\"-\"*50)\n",
    "\n",
    "# find sigma F\n",
    "sigma_F = 0\n",
    "for i in range(len(data)):\n",
    "    sigma_F += data[i][2]\n",
    "\n",
    "print(\"Sigma F  : \", sigma_F)\n",
    "\n",
    "# find sigma MF\n",
    "sigma_MF = 0\n",
    "for i in range(len(data)):\n",
    "    sigma_MF += data[i][4]\n",
    "\n",
    "print(\"Sigma MF : \", sigma_MF)    \n",
    "\n",
    "# find mean (μ)\n",
    "\n",
    "mu = sigma_MF / sigma_F\n",
    "\n",
    "print(\"Mean (μ) : \", mu)"
   ]
  },
  {
   "cell_type": "markdown",
   "metadata": {},
   "source": [
    "Rata-rata = 69.5"
   ]
  },
  {
   "cell_type": "code",
   "execution_count": 148,
   "metadata": {},
   "outputs": [
    {
     "name": "stdout",
     "output_type": "stream",
     "text": [
      "  Lower Bound    Upper Bound    Freq F    Mid M      MF    CF\n",
      "-------------  -------------  --------  -------  ------  ----\n",
      "           40             49         5     44.5   222.5     5\n",
      "           50             59         7     54.5   381.5    12\n",
      "           60             69        12     64.5   774      24\n",
      "           70             79        15     74.5  1117.5    39\n",
      "           80             89         6     84.5   507      45\n",
      "           90             99         5     94.5   472.5    50\n"
     ]
    }
   ],
   "source": [
    "# find Cumulative F\n",
    "cumulative_F = 0\n",
    "for i in range(len(data)):\n",
    "    cumulative_F += data[i][2]\n",
    "    data[i].append(cumulative_F)\n",
    "\n",
    "col_names.append(\"CF\")\n",
    "print(tabulate(data, col_names))"
   ]
  },
  {
   "cell_type": "code",
   "execution_count": 149,
   "metadata": {},
   "outputs": [
    {
     "name": "stdout",
     "output_type": "stream",
     "text": [
      "Lowest bound:  69.5\n"
     ]
    }
   ],
   "source": [
    "# find median class\n",
    "median_class = 0\n",
    "middle_query = sigma_F / 2;\n",
    "for i in range(len(data)):\n",
    "    if(data[i][5] >= middle_query):\n",
    "        median_class = i\n",
    "        break\n",
    "\n",
    "lowest_bound = data[median_class][0] - 0.5\n",
    "\n",
    "print(\"Lowest bound: \", lowest_bound)"
   ]
  },
  {
   "cell_type": "code",
   "execution_count": 150,
   "metadata": {},
   "outputs": [
    {
     "name": "stdout",
     "output_type": "stream",
     "text": [
      "  Lower Bound    Upper Bound    Freq F    Mid M      MF    CF\n",
      "-------------  -------------  --------  -------  ------  ----\n",
      "           40             49         5     44.5   222.5     5\n",
      "           50             59         7     54.5   381.5    12\n",
      "           60             69        12     64.5   774      24\n",
      "           70             79        15     74.5  1117.5    39\n",
      "           80             89         6     84.5   507      45\n",
      "           90             99         5     94.5   472.5    50\n",
      "------------------------------------------------------------\n",
      "Nominator    :  1.0\n",
      "Denominator  :  15\n",
      "Class length :  10\n",
      "Median (Me)   :  70.16666666666667\n"
     ]
    }
   ],
   "source": [
    "print(tabulate(data, col_names))\n",
    "print(\"-\"*60)\n",
    "\n",
    "# find median\n",
    "nominator   = (sigma_F / 2) - data[median_class - 1][5]\n",
    "denominator = data[median_class][2] \n",
    "print(\"Nominator    : \", nominator)\n",
    "print(\"Denominator  : \", denominator)\n",
    "\n",
    "class_length = data[0][1] - data[0][0] + 1\n",
    "print(\"Class length : \", class_length)\n",
    "\n",
    "median = lowest_bound + ((nominator / denominator) * class_length)\n",
    "print(\"Median (Me)   : \", median)"
   ]
  },
  {
   "cell_type": "markdown",
   "metadata": {},
   "source": [
    "Median (Me) = 70.16"
   ]
  },
  {
   "cell_type": "code",
   "execution_count": 151,
   "metadata": {},
   "outputs": [
    {
     "name": "stdout",
     "output_type": "stream",
     "text": [
      "  Lower Bound    Upper Bound    Freq F    Mid M      MF    CF\n",
      "-------------  -------------  --------  -------  ------  ----\n",
      "           40             49         5     44.5   222.5     5\n",
      "           50             59         7     54.5   381.5    12\n",
      "           60             69        12     64.5   774      24\n",
      "           70             79        15     74.5  1117.5    39\n",
      "           80             89         6     84.5   507      45\n",
      "           90             99         5     94.5   472.5    50\n",
      "------------------------------------------------------------\n",
      "Lowest bound:  69.5\n",
      "d1 :  3\n",
      "d2 :  9\n",
      "Modus (Mo) :  72.0\n"
     ]
    }
   ],
   "source": [
    "print(tabulate(data, col_names))\n",
    "print(\"-\"*60)\n",
    "\n",
    "# find highest frequency\n",
    "highest_freq = 0\n",
    "highest_freq_index = 0\n",
    "for i in range(len(data)):\n",
    "    if(data[i][2] > highest_freq):\n",
    "        highest_freq = data[i][2]\n",
    "        highest_freq_index = i\n",
    "\n",
    "lowest_bound = data[highest_freq_index][0] - 0.5\n",
    "print(\"Lowest bound: \", lowest_bound)   \n",
    "\n",
    "# find d1 and d2\n",
    "d1 = data[highest_freq_index][2] - data[highest_freq_index - 1][2]\n",
    "d2 = data[highest_freq_index][2] - data[highest_freq_index + 1][2]\n",
    "\n",
    "print(\"d1 : \", d1)\n",
    "print(\"d2 : \", d2)\n",
    "\n",
    "# find modus\n",
    "modus = lowest_bound + (d1 / (d1 + d2) * class_length)\n",
    "print(\"Modus (Mo) : \", modus)"
   ]
  },
  {
   "cell_type": "markdown",
   "metadata": {},
   "source": [
    "Modus (Mo) = 72"
   ]
  },
  {
   "cell_type": "code",
   "execution_count": 152,
   "metadata": {},
   "outputs": [
    {
     "name": "stdout",
     "output_type": "stream",
     "text": [
      "  Lower Bound    Upper Bound    Freq F    Mid M      MF    CF    MMu\n",
      "-------------  -------------  --------  -------  ------  ----  -----\n",
      "           40             49         5     44.5   222.5     5    625\n",
      "           50             59         7     54.5   381.5    12    225\n",
      "           60             69        12     64.5   774      24     25\n",
      "           70             79        15     74.5  1117.5    39     25\n",
      "           80             89         6     84.5   507      45    225\n",
      "           90             99         5     94.5   472.5    50    625\n"
     ]
    }
   ],
   "source": [
    "# find MMu\n",
    "for i in range(len(data)):\n",
    "    Mmu = math.pow((data[i][3] - mu), 2)\n",
    "    data[i].append(Mmu)\n",
    "\n",
    "col_names.append(\"MMu\")\n",
    "\n",
    "print(tabulate(data, col_names))                   "
   ]
  },
  {
   "cell_type": "code",
   "execution_count": 153,
   "metadata": {},
   "outputs": [
    {
     "name": "stdout",
     "output_type": "stream",
     "text": [
      "  Lower Bound    Upper Bound    Freq F    Mid M      MF    CF    MMu    FMMu\n",
      "-------------  -------------  --------  -------  ------  ----  -----  ------\n",
      "           40             49         5     44.5   222.5     5    625    3125\n",
      "           50             59         7     54.5   381.5    12    225    1575\n",
      "           60             69        12     64.5   774      24     25     300\n",
      "           70             79        15     74.5  1117.5    39     25     375\n",
      "           80             89         6     84.5   507      45    225    1350\n",
      "           90             99         5     94.5   472.5    50    625    3125\n"
     ]
    }
   ],
   "source": [
    "# find FMMU\n",
    "for i in range(len(data)):\n",
    "    FMMu = data[i][6] * data[i][2]\n",
    "    data[i].append(FMMu)\n",
    "\n",
    "col_names.append(\"FMMu\")\n",
    "\n",
    "print(tabulate(data, col_names))"
   ]
  },
  {
   "cell_type": "code",
   "execution_count": 154,
   "metadata": {},
   "outputs": [
    {
     "name": "stdout",
     "output_type": "stream",
     "text": [
      "  Lower Bound    Upper Bound    Freq F    Mid M      MF    CF    MMu    FMMu\n",
      "-------------  -------------  --------  -------  ------  ----  -----  ------\n",
      "           40             49         5     44.5   222.5     5    625    3125\n",
      "           50             59         7     54.5   381.5    12    225    1575\n",
      "           60             69        12     64.5   774      24     25     300\n",
      "           70             79        15     74.5  1117.5    39     25     375\n",
      "           80             89         6     84.5   507      45    225    1350\n",
      "           90             99         5     94.5   472.5    50    625    3125\n",
      "----------------------------------------------------------------------\n",
      "Sigma FMMu   :  9850.0\n",
      "Nominator    :  9850.0\n",
      "Denominator  :  50\n",
      "Deviation Standard (σ) :  14.035668847618199\n"
     ]
    }
   ],
   "source": [
    "print(tabulate(data, col_names))\n",
    "print(\"-\"*70)\n",
    "\n",
    "# find sigma FMMu\n",
    "sigma_FMMu = 0\n",
    "for i in range(len(data)):\n",
    "    sigma_FMMu += data[i][7]\n",
    "\n",
    "print(\"Sigma FMMu   : \", sigma_FMMu)\n",
    "nominator   = sigma_FMMu\n",
    "denominator = sigma_F    \n",
    "\n",
    "print(\"Nominator    : \", nominator)\n",
    "print(\"Denominator  : \", denominator)\n",
    "\n",
    "# find deviation standard\n",
    "\n",
    "deviation_standard = math.sqrt(nominator / denominator)\n",
    "print(\"Deviation Standard (σ) : \", deviation_standard)"
   ]
  },
  {
   "cell_type": "markdown",
   "metadata": {},
   "source": [
    "Deviation Standard (σ) = 14.03"
   ]
  },
  {
   "cell_type": "code",
   "execution_count": 155,
   "metadata": {},
   "outputs": [
    {
     "name": "stdout",
     "output_type": "stream",
     "text": [
      "  Lower Bound    Upper Bound    Freq F    Mid M      MF    CF    MMu    FMMu\n",
      "-------------  -------------  --------  -------  ------  ----  -----  ------\n",
      "           40             49         5     44.5   222.5     5    625    3125\n",
      "           50             59         7     54.5   381.5    12    225    1575\n",
      "           60             69        12     64.5   774      24     25     300\n",
      "           70             79        15     74.5  1117.5    39     25     375\n",
      "           80             89         6     84.5   507      45    225    1350\n",
      "           90             99         5     94.5   472.5    50    625    3125\n",
      "\n",
      "  Mean    Median    Modus      STD\n",
      "------  --------  -------  -------\n",
      "  69.5   70.1667       72  14.0357\n"
     ]
    }
   ],
   "source": [
    "final_data = [mu, median, modus, deviation_standard]\n",
    "final_col_names = [\"Mean\", \"Median\", \"Modus\", \"STD\"]\n",
    "\n",
    "print(tabulate(data, col_names))\n",
    "print()\n",
    "print(tabulate([final_data], final_col_names))"
   ]
  },
  {
   "cell_type": "code",
   "execution_count": 156,
   "metadata": {},
   "outputs": [
    {
     "data": {
      "image/png": "[encoded data removed]",
      "text/plain": [
       "<Figure size 640x480 with 1 Axes>"
      ]
     },
     "metadata": {},
     "output_type": "display_data"
    }
   ],
   "source": [
    "import numpy as np\n",
    "import matplotlib.pyplot as plt\n",
    "from scipy.stats import norm\n",
    "\n",
    "midpoints = [row[3] for row in data]\n",
    "frequencies = [row[2] for row in data]\n",
    "\n",
    "plt.bar(midpoints, frequencies, width=9, alpha=0.6, color='g', label='Data')\n",
    "\n",
    "x = np.linspace(min(midpoints) - 10, max(midpoints) + 10, 100)\n",
    "\n",
    "hist_area = sum(frequencies) * (midpoints[1] - midpoints[0])\n",
    "\n",
    "y = norm.pdf(x, mu, deviation_standard) * hist_area\n",
    "\n",
    "plt.plot(x, y, label='Normal Distribution', color='r')\n",
    "\n",
    "plt.axvline(mu, color='b', linestyle='--', linewidth=1, label=f'Mean: {mean:.2f}')\n",
    "plt.axvline(median, color='r', linestyle='--', linewidth=1, label=f'Median: {median:.2f}')\n",
    "plt.axvline(modus, color='purple', linestyle='--', linewidth=1, label=f'Modus: {modus:.2f}')\n",
    "\n",
    "plt.xlabel('Mid M')\n",
    "plt.ylabel('Freq F')\n",
    "plt.title('Graph')\n",
    "plt.legend()\n",
    "\n",
    "plt.show()"
   ]
  }
 ],
 "metadata": {
  "kernelspec": {
   "display_name": "Python 3",
   "language": "python",
   "name": "python3"
  },
  "language_info": {
   "codemirror_mode": {
    "name": "ipython",
    "version": 3
   },
   "file_extension": ".py",
   "mimetype": "text/x-python",
   "name": "python",
   "nbconvert_exporter": "python",
   "pygments_lexer": "ipython3",
   "version": "3.12.4"
  }
 },
 "nbformat": 4,
 "nbformat_minor": 2
}
