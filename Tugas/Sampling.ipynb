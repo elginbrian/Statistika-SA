{
 "cells": [
  {
   "cell_type": "markdown",
   "metadata": {},
   "source": [
    "### RANGKUMAN TEKNIK SAMPLING \n",
    "- Populasi merupakan wilayah generalisasi atau keseluruhan dari sesuatu yang sedang dipelajari karakteristiknya. \n",
    "- Sampel merupakan bagian dari dari populasi.\n",
    "- Jadi sampel adalah sebagian dari keseluruhan obyek yang akan diteliti atau dievaluasi yang memiliki karakteristik tertentu dari sebuah populasi.\n",
    "- Cara menentukan sampel disebut dengan teknik sampling atau teknik penyampelan."
   ]
  },
  {
   "cell_type": "code",
   "execution_count": 1,
   "metadata": {},
   "outputs": [],
   "source": [
    "import random\n",
    "import pandas as pd\n",
    "from faker import Faker\n",
    "\n",
    "fake = Faker('id_ID')\n",
    "\n",
    "names = set()\n",
    "while len(names) < 50:\n",
    "    names.add(fake.name())\n",
    "\n",
    "names = list(names)\n",
    "\n",
    "cities = [\"Jakarta\", \"Surabaya\", \"Malang\", \"Yogyakarta\"]\n",
    "education = [\"SD\", \"SMP\", \"SMA\", \"PT\"]\n",
    "jobs = [\"Guru\", \"Dokter\", \"Insinyur\", \"Akuntan\", \"Developer\", \"Desainer\", \"Polisi\"]\n",
    "genders = [\"Laki-laki\", \"Perempuan\"]\n",
    "\n",
    "data = []\n",
    "\n",
    "for name in names:\n",
    "    item = {\n",
    "        \"Nama\": name,\n",
    "        \"Umur\": random.randint(18, 65),\n",
    "        \"Kota\": random.choice(cities),\n",
    "        \"Pendidikan Terakhir\": random.choice(education),\n",
    "        \"Jenis Pekerjaan\": random.choice(jobs),\n",
    "        \"Jenis Kelamin\": random.choice(genders)\n",
    "    }\n",
    "    data.append(item)\n",
    "\n",
    "df = pd.DataFrame(data)\n",
    "df.to_csv(\"sampling.csv\", index=False)"
   ]
  },
  {
   "cell_type": "code",
   "execution_count": 2,
   "metadata": {},
   "outputs": [
    {
     "name": "stdout",
     "output_type": "stream",
     "text": [
      "+----+-----------------------------+--------+------------+-----------------------+-------------------+-----------------+\n",
      "|    | Nama                        |   Umur | Kota       | Pendidikan Terakhir   | Jenis Pekerjaan   | Jenis Kelamin   |\n",
      "|----+-----------------------------+--------+------------+-----------------------+-------------------+-----------------|\n",
      "|  0 | Puti Cinta Winarsih, S.H.   |     59 | Yogyakarta | SMA                   | Dokter            | Laki-laki       |\n",
      "|  1 | H. Darmanto Halim           |     63 | Malang     | SMA                   | Insinyur          | Laki-laki       |\n",
      "|  2 | Ika Suryono                 |     35 | Yogyakarta | SMP                   | Polisi            | Perempuan       |\n",
      "|  3 | Mariadi Haryanto            |     64 | Surabaya   | SD                    | Desainer          | Perempuan       |\n",
      "|  4 | Laras Zulkarnain            |     23 | Surabaya   | SMP                   | Developer         | Perempuan       |\n",
      "|  5 | Bakiadi Yulianti            |     26 | Jakarta    | SMA                   | Dokter            | Perempuan       |\n",
      "|  6 | Vino Rahmawati              |     60 | Surabaya   | SD                    | Insinyur          | Perempuan       |\n",
      "|  7 | Harsana Yolanda, S.Pt       |     19 | Surabaya   | SMP                   | Desainer          | Perempuan       |\n",
      "|  8 | Shania Hassanah, S.H.       |     64 | Surabaya   | SMA                   | Dokter            | Laki-laki       |\n",
      "|  9 | T. Rahmat Sihotang, M.Farm  |     24 | Jakarta    | SD                    | Desainer          | Perempuan       |\n",
      "| 10 | Titi Pradipta               |     53 | Yogyakarta | PT                    | Insinyur          | Laki-laki       |\n",
      "| 11 | Jail Usada                  |     31 | Malang     | SMA                   | Akuntan           | Perempuan       |\n",
      "| 12 | Ellis Hidayanto             |     24 | Surabaya   | SMP                   | Developer         | Laki-laki       |\n",
      "| 13 | Jono Pradipta               |     35 | Yogyakarta | SMA                   | Guru              | Perempuan       |\n",
      "| 14 | Saka Putra                  |     47 | Yogyakarta | SMA                   | Desainer          | Perempuan       |\n",
      "| 15 | Drs. Cakrawangsa Wacana     |     25 | Jakarta    | SD                    | Akuntan           | Perempuan       |\n",
      "| 16 | Dr. Waluyo Yuliarti, S.Pt   |     34 | Yogyakarta | SMA                   | Desainer          | Perempuan       |\n",
      "| 17 | Ajeng Sitorus               |     32 | Jakarta    | PT                    | Dokter            | Laki-laki       |\n",
      "| 18 | Bahuraksa Simbolon          |     27 | Malang     | SD                    | Guru              | Laki-laki       |\n",
      "| 19 | Drs. Padmi Yolanda, M.TI.   |     18 | Yogyakarta | SMA                   | Dokter            | Laki-laki       |\n",
      "| 20 | Hardana Lazuardi            |     35 | Yogyakarta | SMA                   | Desainer          | Perempuan       |\n",
      "| 21 | dr. Waluyo Puspasari        |     62 | Surabaya   | SMP                   | Akuntan           | Perempuan       |\n",
      "| 22 | Wirda Natsir, S.Kom         |     20 | Surabaya   | SD                    | Akuntan           | Perempuan       |\n",
      "| 23 | Wani Purnawati, S.IP        |     60 | Malang     | PT                    | Polisi            | Perempuan       |\n",
      "| 24 | Ir. Rahmat Saefullah, S.Kom |     28 | Malang     | SD                    | Developer         | Laki-laki       |\n",
      "| 25 | Ina Saefullah               |     53 | Malang     | SMA                   | Akuntan           | Perempuan       |\n",
      "| 26 | Julia Gunawan, M.TI.        |     38 | Surabaya   | SMA                   | Insinyur          | Perempuan       |\n",
      "| 27 | Dt. Drajat Setiawan         |     19 | Jakarta    | PT                    | Dokter            | Perempuan       |\n",
      "| 28 | Kemal Sihotang              |     35 | Jakarta    | SMP                   | Dokter            | Laki-laki       |\n",
      "| 29 | Vivi Samosir                |     28 | Malang     | SMA                   | Desainer          | Perempuan       |\n",
      "| 30 | Hesti Laksmiwati            |     60 | Surabaya   | PT                    | Developer         | Perempuan       |\n",
      "| 31 | Putri Puspita               |     62 | Surabaya   | SMP                   | Guru              | Laki-laki       |\n",
      "| 32 | Bagya Wacana                |     51 | Jakarta    | SMP                   | Dokter            | Perempuan       |\n",
      "| 33 | Ir. Elisa Mandala           |     47 | Yogyakarta | SMP                   | Desainer          | Perempuan       |\n",
      "| 34 | R.M. Wakiman Utama          |     25 | Surabaya   | SD                    | Guru              | Laki-laki       |\n",
      "| 35 | Yessi Farida, S.Pd          |     29 | Malang     | SMP                   | Desainer          | Perempuan       |\n",
      "| 36 | Cindy Setiawan              |     63 | Yogyakarta | SMA                   | Akuntan           | Perempuan       |\n",
      "| 37 | Elvin Rahmawati, S.I.Kom    |     25 | Yogyakarta | PT                    | Guru              | Laki-laki       |\n",
      "| 38 | Drs. Lukman Waluyo, M.Kom.  |     37 | Jakarta    | SMA                   | Insinyur          | Perempuan       |\n",
      "| 39 | KH. Cahyanto Napitupulu     |     22 | Malang     | SD                    | Desainer          | Laki-laki       |\n",
      "| 40 | Cut Cinta Palastri          |     25 | Surabaya   | SMP                   | Developer         | Laki-laki       |\n",
      "| 41 | H. Himawan Dabukke          |     32 | Yogyakarta | SD                    | Guru              | Perempuan       |\n",
      "| 42 | Diana Hartati               |     49 | Surabaya   | SMA                   | Dokter            | Perempuan       |\n",
      "| 43 | Fathonah Maryadi            |     39 | Yogyakarta | PT                    | Dokter            | Laki-laki       |\n",
      "| 44 | Darijan Haryanto, S.I.Kom   |     35 | Jakarta    | PT                    | Akuntan           | Laki-laki       |\n",
      "| 45 | Tedi Pratiwi                |     44 | Jakarta    | SMA                   | Developer         | Laki-laki       |\n",
      "| 46 | Tgk. Adinata Kusumo, S.Ked  |     63 | Yogyakarta | SD                    | Polisi            | Perempuan       |\n",
      "| 47 | Taufan Nababan, S.Sos       |     23 | Malang     | SD                    | Polisi            | Laki-laki       |\n",
      "| 48 | Dalima Namaga               |     48 | Surabaya   | SMA                   | Developer         | Laki-laki       |\n",
      "| 49 | Nalar Kusumo                |     55 | Yogyakarta | SD                    | Polisi            | Perempuan       |\n",
      "+----+-----------------------------+--------+------------+-----------------------+-------------------+-----------------+\n"
     ]
    }
   ],
   "source": [
    "from tabulate import tabulate\n",
    "print(tabulate(df, headers='keys', tablefmt='psql'))"
   ]
  },
  {
   "cell_type": "markdown",
   "metadata": {},
   "source": [
    "### A. Teknik Sampling Probabilitas\n",
    "- Probability sampling adalah teknik pengambilan sampel yang memberikan peluang yang sama bagi setiap unsur (anggota) populasi untuk dipilih menjadi anggota sampel. \n",
    "- Teknik ini merupakan teknik yang memungkinkan peneliti atau evaluator untuk membuat generalisasi dari karakteristik sampel menjadi karakteristik populasi. "
   ]
  },
  {
   "cell_type": "markdown",
   "metadata": {},
   "source": [
    "#### 1. Simple Random Sampling\n",
    "Penyampelan acak sederhana, memiliki maksud bahwa sebanyak n sampel diambil dari populasi N dan tiap anggota populasi mempunyai peluang yang sama untuk terambil.  \n",
    "\n",
    "Terdapat 3 (tiga) cara untuk menentukan sampel dengan mengunakan teknik ini, yaitu:\n",
    "- Cara undian \n",
    "- Mengambil perwakilan dari setiap beberapa baris\n",
    "- Menggunakan komputer untuk memberi hasil acak"
   ]
  },
  {
   "cell_type": "code",
   "execution_count": 3,
   "metadata": {},
   "outputs": [
    {
     "name": "stdout",
     "output_type": "stream",
     "text": [
      "+---------------------------+--------+------------+-----------------------+-------------------+-----------------+\n",
      "| Nama                      |   Umur | Kota       | Pendidikan Terakhir   | Jenis Pekerjaan   | Jenis Kelamin   |\n",
      "|---------------------------+--------+------------+-----------------------+-------------------+-----------------|\n",
      "| Puti Cinta Winarsih, S.H. |     59 | Yogyakarta | SMA                   | Dokter            | Laki-laki       |\n",
      "| Laras Zulkarnain          |     23 | Surabaya   | SMP                   | Developer         | Perempuan       |\n",
      "| Jail Usada                |     31 | Malang     | SMA                   | Akuntan           | Perempuan       |\n",
      "| Ajeng Sitorus             |     32 | Jakarta    | PT                    | Dokter            | Laki-laki       |\n",
      "| dr. Waluyo Puspasari      |     62 | Surabaya   | SMP                   | Akuntan           | Perempuan       |\n",
      "| Julia Gunawan, M.TI.      |     38 | Surabaya   | SMA                   | Insinyur          | Perempuan       |\n",
      "| Ir. Elisa Mandala         |     47 | Yogyakarta | SMP                   | Desainer          | Perempuan       |\n",
      "| Cindy Setiawan            |     63 | Yogyakarta | SMA                   | Akuntan           | Perempuan       |\n",
      "| Fathonah Maryadi          |     39 | Yogyakarta | PT                    | Dokter            | Laki-laki       |\n",
      "| Darijan Haryanto, S.I.Kom |     35 | Jakarta    | PT                    | Akuntan           | Laki-laki       |\n",
      "+---------------------------+--------+------------+-----------------------+-------------------+-----------------+\n"
     ]
    }
   ],
   "source": [
    "# Contoh mengambil 1 perwakilan untuk setiap 5 baris (total 10 sampel)\n",
    "sample = []\n",
    "count = 1\n",
    "temp = []\n",
    "for i in range(0, len(df)):\n",
    "    temp.append(df.iloc[i])\n",
    "    count += 1\n",
    "\n",
    "    if count % 5 == 0:\n",
    "        sample.append(random.choice(temp))\n",
    "        temp = []\n",
    "        \n",
    "print(tabulate(sample, headers='keys', tablefmt='psql'))"
   ]
  },
  {
   "cell_type": "code",
   "execution_count": 4,
   "metadata": {},
   "outputs": [
    {
     "name": "stdout",
     "output_type": "stream",
     "text": [
      "+----------------------------+--------+------------+-----------------------+-------------------+-----------------+\n",
      "| Nama                       |   Umur | Kota       | Pendidikan Terakhir   | Jenis Pekerjaan   | Jenis Kelamin   |\n",
      "|----------------------------+--------+------------+-----------------------+-------------------+-----------------|\n",
      "| Drs. Lukman Waluyo, M.Kom. |     37 | Jakarta    | SMA                   | Insinyur          | Perempuan       |\n",
      "| Bakiadi Yulianti           |     26 | Jakarta    | SMA                   | Dokter            | Perempuan       |\n",
      "| Elvin Rahmawati, S.I.Kom   |     25 | Yogyakarta | PT                    | Guru              | Laki-laki       |\n",
      "| Ellis Hidayanto            |     24 | Surabaya   | SMP                   | Developer         | Laki-laki       |\n",
      "| KH. Cahyanto Napitupulu    |     22 | Malang     | SD                    | Desainer          | Laki-laki       |\n",
      "| T. Rahmat Sihotang, M.Farm |     24 | Jakarta    | SD                    | Desainer          | Perempuan       |\n",
      "| Jono Pradipta              |     35 | Yogyakarta | SMA                   | Guru              | Perempuan       |\n",
      "| Diana Hartati              |     49 | Surabaya   | SMA                   | Dokter            | Perempuan       |\n",
      "| Saka Putra                 |     47 | Yogyakarta | SMA                   | Desainer          | Perempuan       |\n",
      "| Cut Cinta Palastri         |     25 | Surabaya   | SMP                   | Developer         | Laki-laki       |\n",
      "+----------------------------+--------+------------+-----------------------+-------------------+-----------------+\n"
     ]
    }
   ],
   "source": [
    "# Contoh mengambil 10 sampel secara random\n",
    "sample = random.sample(df.to_dict('records'), 10)\n",
    "print(tabulate(sample, headers='keys', tablefmt='psql'))"
   ]
  },
  {
   "cell_type": "markdown",
   "metadata": {},
   "source": [
    "#### 2. Stratified Random Sampling\n",
    "Pada penyampelan jenis ini, anggota populasi dikelompokkan berdasarkan stratanya, misal tinggi, sedang, dan rendah. Kemudian dipilih sampel yang mewakili masing-masing strata.\n",
    "\n",
    "Langkah-langkah dalam menentukan Stratified Random sampling: \n",
    "- Menentukan data pendukung tentang populasi yang diambil berikut strata-strata yang ada di dalamnya\n",
    "- Mengklasifikasikan populasi ke dalam grup atau strata yang saling lepas\n",
    "- Menentukan ukuran sample untuk tiap stratum\n",
    "- Memilih secara acak setiap stratum dengan menggunakan simple random sampling "
   ]
  },
  {
   "cell_type": "code",
   "execution_count": 5,
   "metadata": {},
   "outputs": [
    {
     "name": "stdout",
     "output_type": "stream",
     "text": [
      "Jumlah lulusan SD:  13\n",
      "Jumlah lulusan SMP:  11\n",
      "Jumlah lulusan SMA:  18\n",
      "Jumlah lulusan PT:  8\n",
      "\n",
      "Jumlah sample SD:  2\n",
      "Jumlah sample SMP:  2\n",
      "Jumlah sample SMA:  3\n",
      "Jumlah sample PT:  1\n",
      "\n",
      "Hasil sample: \n",
      "+---------------------------+--------+------------+-----------------------+-------------------+-----------------+\n",
      "| Nama                      |   Umur | Kota       | Pendidikan Terakhir   | Jenis Pekerjaan   | Jenis Kelamin   |\n",
      "|---------------------------+--------+------------+-----------------------+-------------------+-----------------|\n",
      "| KH. Cahyanto Napitupulu   |     22 | Malang     | SD                    | Desainer          | Laki-laki       |\n",
      "| Bahuraksa Simbolon        |     27 | Malang     | SD                    | Guru              | Laki-laki       |\n",
      "| Yessi Farida, S.Pd        |     29 | Malang     | SMP                   | Desainer          | Perempuan       |\n",
      "| Ika Suryono               |     35 | Yogyakarta | SMP                   | Polisi            | Perempuan       |\n",
      "| Puti Cinta Winarsih, S.H. |     59 | Yogyakarta | SMA                   | Dokter            | Laki-laki       |\n",
      "| Dr. Waluyo Yuliarti, S.Pt |     34 | Yogyakarta | SMA                   | Desainer          | Perempuan       |\n",
      "| Saka Putra                |     47 | Yogyakarta | SMA                   | Desainer          | Perempuan       |\n",
      "| Dt. Drajat Setiawan       |     19 | Jakarta    | PT                    | Dokter            | Perempuan       |\n",
      "+---------------------------+--------+------------+-----------------------+-------------------+-----------------+\n"
     ]
    }
   ],
   "source": [
    "# Mensampling berdasarkan pendidikan terakhir\n",
    "sd = []\n",
    "smp = []\n",
    "sma = []\n",
    "pt = []\n",
    "\n",
    "for i in range(len(df)):\n",
    "    if df.iloc[i]['Pendidikan Terakhir'] == 'SD':\n",
    "        sd.append(df.iloc[i])\n",
    "    elif df.iloc[i]['Pendidikan Terakhir'] == 'SMP':\n",
    "        smp.append(df.iloc[i])\n",
    "    elif df.iloc[i]['Pendidikan Terakhir'] == 'SMA':\n",
    "        sma.append(df.iloc[i])\n",
    "    elif df.iloc[i]['Pendidikan Terakhir'] == 'PT':\n",
    "        pt.append(df.iloc[i])\n",
    "\n",
    "print(\"Jumlah lulusan SD: \", len(sd))\n",
    "print(\"Jumlah lulusan SMP: \", len(smp))\n",
    "print(\"Jumlah lulusan SMA: \", len(sma))\n",
    "print(\"Jumlah lulusan PT: \", len(pt))\n",
    "\n",
    "# ambil 20% dari setiap jenjang pendidikan\n",
    "sd_sample = random.sample(sd, int(len(sd) * 0.2))\n",
    "smp_sample = random.sample(smp, int(len(smp) * 0.2))\n",
    "sma_sample = random.sample(sma, int(len(sma) * 0.2))\n",
    "pt_sample = random.sample(pt, int(len(pt) * 0.2))\n",
    "\n",
    "print(\"\\nJumlah sample SD: \", len(sd_sample))\n",
    "print(\"Jumlah sample SMP: \", len(smp_sample))\n",
    "print(\"Jumlah sample SMA: \", len(sma_sample))\n",
    "print(\"Jumlah sample PT: \", len(pt_sample))\n",
    "\n",
    "print(\"\\nHasil sample: \")\n",
    "sample = sd_sample + smp_sample + sma_sample + pt_sample\n",
    "print(tabulate(sample, headers='keys', tablefmt='psql'))"
   ]
  },
  {
   "cell_type": "markdown",
   "metadata": {},
   "source": [
    "#### 3. Sistematic Sampling \n",
    "Penyampelan dengan cara ini dilakukan dengan mengurutkan terlebih dahulu semua anggota, kemudian dipili urutan tertentu untuk dijadikan anggota sampel. "
   ]
  },
  {
   "cell_type": "code",
   "execution_count": 6,
   "metadata": {},
   "outputs": [
    {
     "name": "stdout",
     "output_type": "stream",
     "text": [
      "+----+-----------------------------+--------+------------+-----------------------+-------------------+-----------------+\n",
      "|    | Nama                        |   Umur | Kota       | Pendidikan Terakhir   | Jenis Pekerjaan   | Jenis Kelamin   |\n",
      "|----+-----------------------------+--------+------------+-----------------------+-------------------+-----------------|\n",
      "| 17 | Ajeng Sitorus               |     32 | Jakarta    | PT                    | Dokter            | Laki-laki       |\n",
      "| 32 | Bagya Wacana                |     51 | Jakarta    | SMP                   | Dokter            | Perempuan       |\n",
      "| 18 | Bahuraksa Simbolon          |     27 | Malang     | SD                    | Guru              | Laki-laki       |\n",
      "|  5 | Bakiadi Yulianti            |     26 | Jakarta    | SMA                   | Dokter            | Perempuan       |\n",
      "| 36 | Cindy Setiawan              |     63 | Yogyakarta | SMA                   | Akuntan           | Perempuan       |\n",
      "| 40 | Cut Cinta Palastri          |     25 | Surabaya   | SMP                   | Developer         | Laki-laki       |\n",
      "| 48 | Dalima Namaga               |     48 | Surabaya   | SMA                   | Developer         | Laki-laki       |\n",
      "| 44 | Darijan Haryanto, S.I.Kom   |     35 | Jakarta    | PT                    | Akuntan           | Laki-laki       |\n",
      "| 42 | Diana Hartati               |     49 | Surabaya   | SMA                   | Dokter            | Perempuan       |\n",
      "| 16 | Dr. Waluyo Yuliarti, S.Pt   |     34 | Yogyakarta | SMA                   | Desainer          | Perempuan       |\n",
      "| 15 | Drs. Cakrawangsa Wacana     |     25 | Jakarta    | SD                    | Akuntan           | Perempuan       |\n",
      "| 38 | Drs. Lukman Waluyo, M.Kom.  |     37 | Jakarta    | SMA                   | Insinyur          | Perempuan       |\n",
      "| 19 | Drs. Padmi Yolanda, M.TI.   |     18 | Yogyakarta | SMA                   | Dokter            | Laki-laki       |\n",
      "| 27 | Dt. Drajat Setiawan         |     19 | Jakarta    | PT                    | Dokter            | Perempuan       |\n",
      "| 12 | Ellis Hidayanto             |     24 | Surabaya   | SMP                   | Developer         | Laki-laki       |\n",
      "| 37 | Elvin Rahmawati, S.I.Kom    |     25 | Yogyakarta | PT                    | Guru              | Laki-laki       |\n",
      "| 43 | Fathonah Maryadi            |     39 | Yogyakarta | PT                    | Dokter            | Laki-laki       |\n",
      "|  1 | H. Darmanto Halim           |     63 | Malang     | SMA                   | Insinyur          | Laki-laki       |\n",
      "| 41 | H. Himawan Dabukke          |     32 | Yogyakarta | SD                    | Guru              | Perempuan       |\n",
      "| 20 | Hardana Lazuardi            |     35 | Yogyakarta | SMA                   | Desainer          | Perempuan       |\n",
      "|  7 | Harsana Yolanda, S.Pt       |     19 | Surabaya   | SMP                   | Desainer          | Perempuan       |\n",
      "| 30 | Hesti Laksmiwati            |     60 | Surabaya   | PT                    | Developer         | Perempuan       |\n",
      "|  2 | Ika Suryono                 |     35 | Yogyakarta | SMP                   | Polisi            | Perempuan       |\n",
      "| 25 | Ina Saefullah               |     53 | Malang     | SMA                   | Akuntan           | Perempuan       |\n",
      "| 33 | Ir. Elisa Mandala           |     47 | Yogyakarta | SMP                   | Desainer          | Perempuan       |\n",
      "| 24 | Ir. Rahmat Saefullah, S.Kom |     28 | Malang     | SD                    | Developer         | Laki-laki       |\n",
      "| 11 | Jail Usada                  |     31 | Malang     | SMA                   | Akuntan           | Perempuan       |\n",
      "| 13 | Jono Pradipta               |     35 | Yogyakarta | SMA                   | Guru              | Perempuan       |\n",
      "| 26 | Julia Gunawan, M.TI.        |     38 | Surabaya   | SMA                   | Insinyur          | Perempuan       |\n",
      "| 39 | KH. Cahyanto Napitupulu     |     22 | Malang     | SD                    | Desainer          | Laki-laki       |\n",
      "| 28 | Kemal Sihotang              |     35 | Jakarta    | SMP                   | Dokter            | Laki-laki       |\n",
      "|  4 | Laras Zulkarnain            |     23 | Surabaya   | SMP                   | Developer         | Perempuan       |\n",
      "|  3 | Mariadi Haryanto            |     64 | Surabaya   | SD                    | Desainer          | Perempuan       |\n",
      "| 49 | Nalar Kusumo                |     55 | Yogyakarta | SD                    | Polisi            | Perempuan       |\n",
      "|  0 | Puti Cinta Winarsih, S.H.   |     59 | Yogyakarta | SMA                   | Dokter            | Laki-laki       |\n",
      "| 31 | Putri Puspita               |     62 | Surabaya   | SMP                   | Guru              | Laki-laki       |\n",
      "| 34 | R.M. Wakiman Utama          |     25 | Surabaya   | SD                    | Guru              | Laki-laki       |\n",
      "| 14 | Saka Putra                  |     47 | Yogyakarta | SMA                   | Desainer          | Perempuan       |\n",
      "|  8 | Shania Hassanah, S.H.       |     64 | Surabaya   | SMA                   | Dokter            | Laki-laki       |\n",
      "|  9 | T. Rahmat Sihotang, M.Farm  |     24 | Jakarta    | SD                    | Desainer          | Perempuan       |\n",
      "| 47 | Taufan Nababan, S.Sos       |     23 | Malang     | SD                    | Polisi            | Laki-laki       |\n",
      "| 45 | Tedi Pratiwi                |     44 | Jakarta    | SMA                   | Developer         | Laki-laki       |\n",
      "| 46 | Tgk. Adinata Kusumo, S.Ked  |     63 | Yogyakarta | SD                    | Polisi            | Perempuan       |\n",
      "| 10 | Titi Pradipta               |     53 | Yogyakarta | PT                    | Insinyur          | Laki-laki       |\n",
      "|  6 | Vino Rahmawati              |     60 | Surabaya   | SD                    | Insinyur          | Perempuan       |\n",
      "| 29 | Vivi Samosir                |     28 | Malang     | SMA                   | Desainer          | Perempuan       |\n",
      "| 23 | Wani Purnawati, S.IP        |     60 | Malang     | PT                    | Polisi            | Perempuan       |\n",
      "| 22 | Wirda Natsir, S.Kom         |     20 | Surabaya   | SD                    | Akuntan           | Perempuan       |\n",
      "| 35 | Yessi Farida, S.Pd          |     29 | Malang     | SMP                   | Desainer          | Perempuan       |\n",
      "| 21 | dr. Waluyo Puspasari        |     62 | Surabaya   | SMP                   | Akuntan           | Perempuan       |\n",
      "+----+-----------------------------+--------+------------+-----------------------+-------------------+-----------------+\n"
     ]
    }
   ],
   "source": [
    "sorted_df = df.sort_values(by='Nama')\n",
    "print(tabulate(sorted_df, headers='keys', tablefmt='psql'))"
   ]
  },
  {
   "cell_type": "code",
   "execution_count": 7,
   "metadata": {},
   "outputs": [
    {
     "name": "stdout",
     "output_type": "stream",
     "text": [
      "+-----------------------------+--------+------------+-----------------------+-------------------+-----------------+\n",
      "| Nama                        |   Umur | Kota       | Pendidikan Terakhir   | Jenis Pekerjaan   | Jenis Kelamin   |\n",
      "|-----------------------------+--------+------------+-----------------------+-------------------+-----------------|\n",
      "| Ajeng Sitorus               |     32 | Jakarta    | PT                    | Dokter            | Laki-laki       |\n",
      "| Cut Cinta Palastri          |     25 | Surabaya   | SMP                   | Developer         | Laki-laki       |\n",
      "| Drs. Cakrawangsa Wacana     |     25 | Jakarta    | SD                    | Akuntan           | Perempuan       |\n",
      "| Elvin Rahmawati, S.I.Kom    |     25 | Yogyakarta | PT                    | Guru              | Laki-laki       |\n",
      "| Harsana Yolanda, S.Pt       |     19 | Surabaya   | SMP                   | Desainer          | Perempuan       |\n",
      "| Ir. Rahmat Saefullah, S.Kom |     28 | Malang     | SD                    | Developer         | Laki-laki       |\n",
      "| Kemal Sihotang              |     35 | Jakarta    | SMP                   | Dokter            | Laki-laki       |\n",
      "| Putri Puspita               |     62 | Surabaya   | SMP                   | Guru              | Laki-laki       |\n",
      "| Taufan Nababan, S.Sos       |     23 | Malang     | SD                    | Polisi            | Laki-laki       |\n",
      "| Vivi Samosir                |     28 | Malang     | SMA                   | Desainer          | Perempuan       |\n",
      "+-----------------------------+--------+------------+-----------------------+-------------------+-----------------+\n"
     ]
    }
   ],
   "source": [
    "# Mengambil sampel setiap kelipatan 5\n",
    "sample = []\n",
    "for i in range(0, len(sorted_df), 5):\n",
    "    sample.append(sorted_df.iloc[i])\n",
    "\n",
    "print(tabulate(sample, headers='keys', tablefmt='psql')) "
   ]
  },
  {
   "cell_type": "markdown",
   "metadata": {},
   "source": [
    "#### 4. Cluster Sampling \n",
    "Pada penyampelan jenis ini, populasi dibagi menjadi wilayah atau klaster. Jika terpilih klasternya, seluruh anggota dalam klaster tersebut yang menjadi sampel. \n",
    "\n",
    "Langkah-langkah dalam pengambilan sample dengan cluster sampling:\n",
    "- Menentukan cluster-clusternya  \n",
    "- Menentukan banyak cluster yang akan dijadikan sample, misal n cluster \n",
    "- Memilih secara acak cluster \n",
    "- Semua anggota yang terdapat dalam klaster yang terpilih merupakan sampel "
   ]
  },
  {
   "cell_type": "code",
   "execution_count": 8,
   "metadata": {},
   "outputs": [
    {
     "name": "stdout",
     "output_type": "stream",
     "text": [
      "+-----------------------------+--------+------------+-----------------------+-------------------+-----------------+\n",
      "| Nama                        |   Umur | Kota       | Pendidikan Terakhir   | Jenis Pekerjaan   | Jenis Kelamin   |\n",
      "|-----------------------------+--------+------------+-----------------------+-------------------+-----------------|\n",
      "| Hardana Lazuardi            |     35 | Yogyakarta | SMA                   | Desainer          | Perempuan       |\n",
      "| dr. Waluyo Puspasari        |     62 | Surabaya   | SMP                   | Akuntan           | Perempuan       |\n",
      "| Wirda Natsir, S.Kom         |     20 | Surabaya   | SD                    | Akuntan           | Perempuan       |\n",
      "| Wani Purnawati, S.IP        |     60 | Malang     | PT                    | Polisi            | Perempuan       |\n",
      "| Ir. Rahmat Saefullah, S.Kom |     28 | Malang     | SD                    | Developer         | Laki-laki       |\n",
      "+-----------------------------+--------+------------+-----------------------+-------------------+-----------------+\n"
     ]
    }
   ],
   "source": [
    "# Misalkan terdapat 5 cluster\n",
    "temp = df\n",
    "c1 = []\n",
    "c2 = []\n",
    "c3 = []\n",
    "c4 = []\n",
    "c5 = []\n",
    "clusters = [c1, c2, c3, c4, c5]\n",
    "\n",
    "fill  = 0\n",
    "count = 0\n",
    "for i in range(len(temp)):\n",
    "    if count == 5:\n",
    "        count = 0\n",
    "        fill += 1\n",
    "        \n",
    "    if fill <= 4:    \n",
    "        clusters[fill].append(temp.iloc[i])\n",
    "    count += 1\n",
    "\n",
    "sample = random.choice(clusters)\n",
    "print(tabulate(sample, headers='keys', tablefmt='psql'))"
   ]
  },
  {
   "cell_type": "markdown",
   "metadata": {},
   "source": [
    "### B. Non Probability Sampling \n",
    "Nonprobability sampling adalah teknik pengambilan sampel yang tidak memberi peluang atau kesempatan sama bagi setiap unsur atau anggota populasi yang dipilih menjadi sampel. Teknik pengambilan sampel ini diantaranya sampling incidental, sampling bertujuan, sampling bola salju (snowball sampling), dan sampling kuota. Non probability sampling ini tidak bisa digunakan untuk membuat generalisasi. "
   ]
  },
  {
   "cell_type": "markdown",
   "metadata": {},
   "source": [
    "#### 1. Sampling Incidental\n",
    "Nonprobability sampling adalah teknik pengambilan sampel yang tidak memberi peluang atau kesempatan sama bagi setiap unsur atau anggota populasi yang dipilih menjadi sampel. Teknik pengambilan sampel ini diantaranya sampling incidental, sampling bertujuan, sampling bola salju (snowball sampling), dan sampling kuota. Non probability sampling ini tidak bisa digunakan untuk membuat generalisasi. "
   ]
  },
  {
   "cell_type": "markdown",
   "metadata": {},
   "source": [
    "#### 2. Sampling purposive \n",
    "Teknik penentuan sampel berdasarkan pertimbangan peneliti atau evaluator tentang sampel mana yang paling bermanfaat dan representative (Babbie, 2004: 183). \n",
    "Terkadang sampel yang akan diambil ditentukan berdasarkan pengetahuan tentang suatu populasi, anggota-anggotanya dan tujuan dari penelitian. Jenis sampel ini sangat baik jika dimanfaatkan untuk studi penjajagan (studi awal untuk penelitian atau evaluasi). \n"
   ]
  },
  {
   "cell_type": "code",
   "execution_count": 9,
   "metadata": {},
   "outputs": [
    {
     "name": "stdout",
     "output_type": "stream",
     "text": [
      "+----------------------------+--------+------------+-----------------------+-------------------+-----------------+\n",
      "| Nama                       |   Umur | Kota       | Pendidikan Terakhir   | Jenis Pekerjaan   | Jenis Kelamin   |\n",
      "|----------------------------+--------+------------+-----------------------+-------------------+-----------------|\n",
      "| Ika Suryono                |     35 | Yogyakarta | SMP                   | Polisi            | Perempuan       |\n",
      "| Wani Purnawati, S.IP       |     60 | Malang     | PT                    | Polisi            | Perempuan       |\n",
      "| Tgk. Adinata Kusumo, S.Ked |     63 | Yogyakarta | SD                    | Polisi            | Perempuan       |\n",
      "| Taufan Nababan, S.Sos      |     23 | Malang     | SD                    | Polisi            | Laki-laki       |\n",
      "| Nalar Kusumo               |     55 | Yogyakarta | SD                    | Polisi            | Perempuan       |\n",
      "+----------------------------+--------+------------+-----------------------+-------------------+-----------------+\n"
     ]
    }
   ],
   "source": [
    "# Mengambil sampel hanya yang berprofesi sebagai Polisi\n",
    "sample = []\n",
    "\n",
    "for i in range(len(df)):\n",
    "    if df.iloc[i]['Jenis Pekerjaan'] == 'Polisi':\n",
    "        sample.append(df.iloc[i])\n",
    "\n",
    "print(tabulate(sample, headers='keys', tablefmt='psql'))  "
   ]
  },
  {
   "cell_type": "markdown",
   "metadata": {},
   "source": [
    "#### 3. Sampling Bola Salju\n",
    "Sampling snowball dapat dilakukan jika keberadaan dari suatu populasi sulit untuk ditemukan. Dengan kata lain, cara ini banyak dipakai ketika peneliti atau evaluator tidak banyak tahu tentang populasi penelitian aau evaluasinya. Pada sampling bola salju, peneliti mengumpulkan data dari beberapa sampel yang dapat ditemukan oleh peneliti sendiri, selanjutnya peneliti meminta individu yang telah dijadikan sampel tersebut untuk memberitahukan keberadaan anggota yang lainnya yang tidak dapat ditemukan oleh peneliti untuk dapat melengkapi data (Babbie, 2004: 184)."
   ]
  },
  {
   "cell_type": "code",
   "execution_count": 10,
   "metadata": {},
   "outputs": [
    {
     "name": "stdout",
     "output_type": "stream",
     "text": [
      "Memilih 3 orang acak:\n",
      "+----------------------------+--------+------------+-----------------------+-------------------+-----------------+\n",
      "| Nama                       |   Umur | Kota       | Pendidikan Terakhir   | Jenis Pekerjaan   | Jenis Kelamin   |\n",
      "|----------------------------+--------+------------+-----------------------+-------------------+-----------------|\n",
      "| Drs. Lukman Waluyo, M.Kom. |     37 | Jakarta    | SMA                   | Insinyur          | Perempuan       |\n",
      "| H. Himawan Dabukke         |     32 | Yogyakarta | SD                    | Guru              | Perempuan       |\n",
      "| Tgk. Adinata Kusumo, S.Ked |     63 | Yogyakarta | SD                    | Polisi            | Perempuan       |\n",
      "+----------------------------+--------+------------+-----------------------+-------------------+-----------------+\n",
      "Sample hasil rekomendasi:\n",
      "+----------------------------+--------+------------+-----------------------+-------------------+-----------------+---------+\n",
      "| Nama                       |   Umur | Kota       | Pendidikan Terakhir   | Jenis Pekerjaan   | Jenis Kelamin   | Saran   |\n",
      "|----------------------------+--------+------------+-----------------------+-------------------+-----------------+---------|\n",
      "| Drs. Lukman Waluyo, M.Kom. |     37 | Jakarta    | SMA                   | Insinyur          | Perempuan       |         |\n",
      "| H. Himawan Dabukke         |     32 | Yogyakarta | SD                    | Guru              | Perempuan       |         |\n",
      "| Tgk. Adinata Kusumo, S.Ked |     63 | Yogyakarta | SD                    | Polisi            | Perempuan       |         |\n",
      "| T. Rahmat Sihotang, M.Farm |     24 | Jakarta    | SD                    | Desainer          | Perempuan       | Lukman  |\n",
      "| Darijan Haryanto, S.I.Kom  |     35 | Jakarta    | PT                    | Akuntan           | Laki-laki       | Lukman  |\n",
      "| Dt. Drajat Setiawan        |     19 | Jakarta    | PT                    | Dokter            | Perempuan       | Lukman  |\n",
      "| Puti Cinta Winarsih, S.H.  |     59 | Yogyakarta | SMA                   | Dokter            | Laki-laki       | Himawan |\n",
      "| Dr. Waluyo Yuliarti, S.Pt  |     34 | Yogyakarta | SMA                   | Desainer          | Perempuan       | Himawan |\n",
      "| Dr. Waluyo Yuliarti, S.Pt  |     34 | Yogyakarta | SMA                   | Desainer          | Perempuan       | Himawan |\n",
      "| Jono Pradipta              |     35 | Yogyakarta | SMA                   | Guru              | Perempuan       | Adinata |\n",
      "| Ika Suryono                |     35 | Yogyakarta | SMP                   | Polisi            | Perempuan       | Adinata |\n",
      "| Fathonah Maryadi           |     39 | Yogyakarta | PT                    | Dokter            | Laki-laki       | Adinata |\n",
      "+----------------------------+--------+------------+-----------------------+-------------------+-----------------+---------+\n"
     ]
    }
   ],
   "source": [
    "# Misalkan memilih 3 orang acak, dan 3 orang tersebut memberi rekomendasi 3 orang lain di kota yg bersangkutan\n",
    "\n",
    "# Memilih 3 orang acak\n",
    "random_people = random.sample(df.to_dict('records'), 3)\n",
    "print(\"Memilih 3 orang acak:\")\n",
    "print(tabulate(random_people, headers='keys', tablefmt='psql'))\n",
    "\n",
    "recommendations = []\n",
    "for person in random_people:\n",
    "    city = person['Kota']\n",
    "    same_city_people = df[(df['Kota'] == city) & (df['Nama'] != person['Nama'])]\n",
    "    recommended_people = same_city_people.sample(3, replace=True).to_dict('records')\n",
    "\n",
    "    for recommended in recommended_people:\n",
    "        recommended['Saran'] = person['Nama'].split(' ')[1]\n",
    "\n",
    "    recommendations.extend(recommended_people)\n",
    "\n",
    "sample = random_people + recommendations\n",
    "\n",
    "# Hasil \n",
    "print(\"Sample hasil rekomendasi:\")\n",
    "print(tabulate(sample, headers='keys', tablefmt='psql'))\n"
   ]
  },
  {
   "cell_type": "markdown",
   "metadata": {},
   "source": [
    "#### 4. Sampling Quota \n",
    "Teknik sampling kuota adalah teknik menentukan sampel dari populasi yang mempunyai ciri-ciri tertentu sampai jumlah (kuota) yang diinginkan.  Pada sampling kuota, dimulai dengan membuat tabel atau matriks yang berisi penjabaran karakteristik dari populasi yang ingin dicapai atau karakteristik populasi yang sesuai dengan tujuan dari penelitian untuk selanjutnya ditentukan sampel yang memenuhi ciri-ciri dari populasi tersebut. "
   ]
  },
  {
   "cell_type": "code",
   "execution_count": 11,
   "metadata": {},
   "outputs": [
    {
     "name": "stdout",
     "output_type": "stream",
     "text": [
      "+---------------------------+--------+------------+-----------------------+-------------------+-----------------+\n",
      "| Nama                      |   Umur | Kota       | Pendidikan Terakhir   | Jenis Pekerjaan   | Jenis Kelamin   |\n",
      "|---------------------------+--------+------------+-----------------------+-------------------+-----------------|\n",
      "| Bagya Wacana              |     51 | Jakarta    | SMP                   | Dokter            | Perempuan       |\n",
      "| Darijan Haryanto, S.I.Kom |     35 | Jakarta    | PT                    | Akuntan           | Laki-laki       |\n",
      "| Ajeng Sitorus             |     32 | Jakarta    | PT                    | Dokter            | Laki-laki       |\n",
      "| Dalima Namaga             |     48 | Surabaya   | SMA                   | Developer         | Laki-laki       |\n",
      "| Laras Zulkarnain          |     23 | Surabaya   | SMP                   | Developer         | Perempuan       |\n",
      "| Putri Puspita             |     62 | Surabaya   | SMP                   | Guru              | Laki-laki       |\n",
      "| Wani Purnawati, S.IP      |     60 | Malang     | PT                    | Polisi            | Perempuan       |\n",
      "| Bahuraksa Simbolon        |     27 | Malang     | SD                    | Guru              | Laki-laki       |\n",
      "| KH. Cahyanto Napitupulu   |     22 | Malang     | SD                    | Desainer          | Laki-laki       |\n",
      "| Elvin Rahmawati, S.I.Kom  |     25 | Yogyakarta | PT                    | Guru              | Laki-laki       |\n",
      "| Dr. Waluyo Yuliarti, S.Pt |     34 | Yogyakarta | SMA                   | Desainer          | Perempuan       |\n",
      "| Titi Pradipta             |     53 | Yogyakarta | PT                    | Insinyur          | Laki-laki       |\n",
      "+---------------------------+--------+------------+-----------------------+-------------------+-----------------+\n"
     ]
    }
   ],
   "source": [
    "# Misalkan mengambil 3 sampel untuk setiap kota\n",
    "sample = []\n",
    "\n",
    "for city in cities:\n",
    "    city_df = df[df['Kota'] == city]\n",
    "    quota = 3\n",
    "    city_sample = random.sample(city_df.to_dict('records'), quota)\n",
    "    for selec in city_sample:\n",
    "        sample.append(selec)\n",
    "\n",
    "print(tabulate(sample, headers='keys', tablefmt='psql'))\n"
   ]
  }
 ],
 "metadata": {
  "kernelspec": {
   "display_name": "Python 3",
   "language": "python",
   "name": "python3"
  },
  "language_info": {
   "codemirror_mode": {
    "name": "ipython",
    "version": 3
   },
   "file_extension": ".py",
   "mimetype": "text/x-python",
   "name": "python",
   "nbconvert_exporter": "python",
   "pygments_lexer": "ipython3",
   "version": "3.12.4"
  }
 },
 "nbformat": 4,
 "nbformat_minor": 2
}
