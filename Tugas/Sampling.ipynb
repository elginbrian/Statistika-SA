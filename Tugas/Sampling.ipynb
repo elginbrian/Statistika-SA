{
 "cells": [
  {
   "cell_type": "markdown",
   "metadata": {},
   "source": [
    "### RANGKUMAN TEKNIK SAMPLING \n",
    "- Populasi merupakan wilayah generalisasi atau keseluruhan dari sesuatu yang sedang dipelajari karakteristiknya. \n",
    "- Sampel merupakan bagian dari dari populasi.\n",
    "- Jadi sampel adalah sebagian dari keseluruhan obyek yang akan diteliti atau dievaluasi yang memiliki karakteristik tertentu dari sebuah populasi.\n",
    "- Cara menentukan sampel disebut dengan teknik sampling atau teknik penyampelan."
   ]
  },
  {
   "cell_type": "code",
   "execution_count": 1,
   "metadata": {},
   "outputs": [],
   "source": [
    "import random\n",
    "import pandas as pd\n",
    "from faker import Faker\n",
    "\n",
    "fake = Faker('id_ID')\n",
    "\n",
    "names = set()\n",
    "while len(names) < 50:\n",
    "    names.add(fake.name())\n",
    "\n",
    "names = list(names)\n",
    "\n",
    "cities = [\"Jakarta\", \"Surabaya\", \"Malang\", \"Yogyakarta\"]\n",
    "education = [\"SD\", \"SMP\", \"SMA\", \"PT\"]\n",
    "jobs = [\"Guru\", \"Dokter\", \"Insinyur\", \"Akuntan\", \"Developer\", \"Desainer\", \"Polisi\"]\n",
    "genders = [\"Laki-laki\", \"Perempuan\"]\n",
    "\n",
    "data = []\n",
    "\n",
    "for name in names:\n",
    "    item = {\n",
    "        \"Nama\": name,\n",
    "        \"Umur\": random.randint(18, 65),\n",
    "        \"Kota\": random.choice(cities),\n",
    "        \"Pendidikan Terakhir\": random.choice(education),\n",
    "        \"Jenis Pekerjaan\": random.choice(jobs),\n",
    "        \"Jenis Kelamin\": random.choice(genders)\n",
    "    }\n",
    "    data.append(item)\n",
    "\n",
    "df = pd.DataFrame(data)\n",
    "df.to_csv(\"sampling.csv\", index=False)"
   ]
  },
  {
   "cell_type": "code",
   "execution_count": 2,
   "metadata": {},
   "outputs": [
    {
     "name": "stdout",
     "output_type": "stream",
     "text": [
      "+----+---------------------------------+--------+------------+-----------------------+-------------------+-----------------+\n",
      "|    | Nama                            |   Umur | Kota       | Pendidikan Terakhir   | Jenis Pekerjaan   | Jenis Kelamin   |\n",
      "|----+---------------------------------+--------+------------+-----------------------+-------------------+-----------------|\n",
      "|  0 | Galiono Zulaika                 |     51 | Yogyakarta | PT                    | Guru              | Perempuan       |\n",
      "|  1 | Drs. Laksana Pranowo, S.Sos     |     55 | Jakarta    | PT                    | Dokter            | Perempuan       |\n",
      "|  2 | dr. Kezia Hariyah               |     55 | Jakarta    | SMA                   | Dokter            | Perempuan       |\n",
      "|  3 | Dr. Cici Widiastuti             |     54 | Malang     | SD                    | Polisi            | Laki-laki       |\n",
      "|  4 | Puti Sarah Mayasari             |     58 | Jakarta    | SMP                   | Dokter            | Laki-laki       |\n",
      "|  5 | Intan Palastri                  |     62 | Surabaya   | SMA                   | Desainer          | Laki-laki       |\n",
      "|  6 | Lalita Tarihoran                |     18 | Yogyakarta | SMP                   | Developer         | Laki-laki       |\n",
      "|  7 | Puti Lili Pradana               |     30 | Malang     | SMP                   | Polisi            | Perempuan       |\n",
      "|  8 | Tgk. Eka Winarno, S.Sos         |     49 | Jakarta    | SD                    | Dokter            | Perempuan       |\n",
      "|  9 | Yulia Hakim                     |     24 | Yogyakarta | PT                    | Akuntan           | Laki-laki       |\n",
      "| 10 | Dr. Iriana Wastuti              |     24 | Yogyakarta | SD                    | Akuntan           | Laki-laki       |\n",
      "| 11 | Zahra Simbolon                  |     38 | Jakarta    | SMP                   | Developer         | Perempuan       |\n",
      "| 12 | Soleh Usada                     |     32 | Jakarta    | SMA                   | Dokter            | Laki-laki       |\n",
      "| 13 | Oskar Winarsih                  |     45 | Yogyakarta | SMP                   | Dokter            | Perempuan       |\n",
      "| 14 | R.M. Tasdik Maulana             |     45 | Malang     | SMA                   | Polisi            | Laki-laki       |\n",
      "| 15 | Icha Wahyudin                   |     20 | Jakarta    | PT                    | Guru              | Laki-laki       |\n",
      "| 16 | drg. Elon Latupono, S.H.        |     58 | Yogyakarta | PT                    | Polisi            | Laki-laki       |\n",
      "| 17 | Galur Ardianto                  |     22 | Malang     | SD                    | Polisi            | Laki-laki       |\n",
      "| 18 | Maria Wijayanti                 |     23 | Jakarta    | SMP                   | Guru              | Perempuan       |\n",
      "| 19 | Lalita Laksmiwati               |     61 | Malang     | SMP                   | Dokter            | Perempuan       |\n",
      "| 20 | Cecep Situmorang                |     18 | Jakarta    | SMA                   | Dokter            | Laki-laki       |\n",
      "| 21 | R. Gandi Hutagalung, S.Pt       |     34 | Malang     | SD                    | Insinyur          | Perempuan       |\n",
      "| 22 | Ir. Cakrajiya Wahyudin, S.E.    |     35 | Surabaya   | SMP                   | Guru              | Perempuan       |\n",
      "| 23 | Ilyas Megantara, S.E.I          |     37 | Malang     | SD                    | Desainer          | Perempuan       |\n",
      "| 24 | Janet Wacana                    |     21 | Jakarta    | SMP                   | Insinyur          | Perempuan       |\n",
      "| 25 | Padma Simanjuntak               |     36 | Surabaya   | SMP                   | Desainer          | Perempuan       |\n",
      "| 26 | Uda Natsir                      |     50 | Surabaya   | SD                    | Polisi            | Laki-laki       |\n",
      "| 27 | Mahmud Novitasari               |     59 | Yogyakarta | PT                    | Desainer          | Perempuan       |\n",
      "| 28 | Drs. Violet Utama, S.IP         |     28 | Malang     | SMA                   | Insinyur          | Perempuan       |\n",
      "| 29 | R. Luis Nuraini, M.Ak           |     42 | Yogyakarta | SMA                   | Developer         | Laki-laki       |\n",
      "| 30 | Kartika Dabukke                 |     49 | Malang     | SD                    | Akuntan           | Perempuan       |\n",
      "| 31 | Elvin Hutapea                   |     48 | Malang     | SD                    | Guru              | Perempuan       |\n",
      "| 32 | Tgk. Arsipatra Maryati, S.I.Kom |     28 | Malang     | SMP                   | Polisi            | Perempuan       |\n",
      "| 33 | Jail Mangunsong, S.Ked          |     18 | Surabaya   | SMP                   | Guru              | Laki-laki       |\n",
      "| 34 | Jumari Winarsih                 |     27 | Surabaya   | SMP                   | Dokter            | Perempuan       |\n",
      "| 35 | Tasdik Suartini, S.T.           |     45 | Surabaya   | PT                    | Polisi            | Perempuan       |\n",
      "| 36 | drg. Rini Sinaga, S.Psi         |     48 | Yogyakarta | SMA                   | Polisi            | Laki-laki       |\n",
      "| 37 | Jefri Maryati                   |     33 | Malang     | SD                    | Akuntan           | Perempuan       |\n",
      "| 38 | H. Mustofa Suartini, S.I.Kom    |     27 | Yogyakarta | SMP                   | Insinyur          | Perempuan       |\n",
      "| 39 | Bahuwirya Prasetyo              |     53 | Jakarta    | SMA                   | Developer         | Laki-laki       |\n",
      "| 40 | Bagiya Gunarto, M.M.            |     23 | Jakarta    | SD                    | Akuntan           | Laki-laki       |\n",
      "| 41 | Zelda Firmansyah                |     25 | Surabaya   | SD                    | Akuntan           | Laki-laki       |\n",
      "| 42 | Paramita Nugroho                |     44 | Jakarta    | SMA                   | Insinyur          | Laki-laki       |\n",
      "| 43 | Salsabila Januar                |     23 | Yogyakarta | SMA                   | Desainer          | Laki-laki       |\n",
      "| 44 | Nasim Prakasa, M.Kom.           |     55 | Surabaya   | PT                    | Dokter            | Perempuan       |\n",
      "| 45 | Tgk. Titin Sirait, S.Pd         |     31 | Yogyakarta | SMA                   | Insinyur          | Laki-laki       |\n",
      "| 46 | Kiandra Hutasoit                |     49 | Malang     | SMA                   | Developer         | Laki-laki       |\n",
      "| 47 | Qori Marpaung                   |     25 | Jakarta    | SMA                   | Insinyur          | Perempuan       |\n",
      "| 48 | Amalia Suryatmi, M.Farm         |     64 | Yogyakarta | SMA                   | Polisi            | Laki-laki       |\n",
      "| 49 | Tgk. Ulya Prakasa, S.T.         |     57 | Yogyakarta | SD                    | Insinyur          | Perempuan       |\n",
      "+----+---------------------------------+--------+------------+-----------------------+-------------------+-----------------+\n"
     ]
    }
   ],
   "source": [
    "from tabulate import tabulate\n",
    "print(tabulate(df, headers='keys', tablefmt='psql'))"
   ]
  },
  {
   "cell_type": "markdown",
   "metadata": {},
   "source": [
    "### A. Teknik Sampling Probabilitas\n",
    "- Probability sampling adalah teknik pengambilan sampel yang memberikan peluang yang sama bagi setiap unsur (anggota) populasi untuk dipilih menjadi anggota sampel. \n",
    "- Teknik ini merupakan teknik yang memungkinkan peneliti atau evaluator untuk membuat generalisasi dari karakteristik sampel menjadi karakteristik populasi. "
   ]
  },
  {
   "cell_type": "markdown",
   "metadata": {},
   "source": [
    "#### 1. Simple Random Sampling\n",
    "Penyampelan acak sederhana, memiliki maksud bahwa sebanyak n sampel diambil dari populasi N dan tiap anggota populasi mempunyai peluang yang sama untuk terambil.  \n",
    "\n",
    "Terdapat 3 (tiga) cara untuk menentukan sampel dengan mengunakan teknik ini, yaitu:\n",
    "- Cara undian \n",
    "- Mengambil perwakilan dari setiap beberapa baris\n",
    "- Menggunakan komputer untuk memberi hasil acak"
   ]
  },
  {
   "cell_type": "code",
   "execution_count": 3,
   "metadata": {},
   "outputs": [
    {
     "name": "stdout",
     "output_type": "stream",
     "text": [
      "+------------------------------+--------+------------+-----------------------+-------------------+-----------------+\n",
      "| Nama                         |   Umur | Kota       | Pendidikan Terakhir   | Jenis Pekerjaan   | Jenis Kelamin   |\n",
      "|------------------------------+--------+------------+-----------------------+-------------------+-----------------|\n",
      "| Drs. Laksana Pranowo, S.Sos  |     55 | Jakarta    | PT                    | Dokter            | Perempuan       |\n",
      "| Lalita Tarihoran             |     18 | Yogyakarta | SMP                   | Developer         | Laki-laki       |\n",
      "| Oskar Winarsih               |     45 | Yogyakarta | SMP                   | Dokter            | Perempuan       |\n",
      "| Galur Ardianto               |     22 | Malang     | SD                    | Polisi            | Laki-laki       |\n",
      "| R. Gandi Hutagalung, S.Pt    |     34 | Malang     | SD                    | Insinyur          | Perempuan       |\n",
      "| Padma Simanjuntak            |     36 | Surabaya   | SMP                   | Desainer          | Perempuan       |\n",
      "| Jail Mangunsong, S.Ked       |     18 | Surabaya   | SMP                   | Guru              | Laki-laki       |\n",
      "| H. Mustofa Suartini, S.I.Kom |     27 | Yogyakarta | SMP                   | Insinyur          | Perempuan       |\n",
      "| Bagiya Gunarto, M.M.         |     23 | Jakarta    | SD                    | Akuntan           | Laki-laki       |\n",
      "| Kiandra Hutasoit             |     49 | Malang     | SMA                   | Developer         | Laki-laki       |\n",
      "+------------------------------+--------+------------+-----------------------+-------------------+-----------------+\n"
     ]
    }
   ],
   "source": [
    "# Contoh mengambil 1 perwakilan untuk setiap 5 baris (total 10 sampel)\n",
    "sample = []\n",
    "count = 1\n",
    "temp = []\n",
    "for i in range(0, len(df)):\n",
    "    temp.append(df.iloc[i])\n",
    "    count += 1\n",
    "\n",
    "    if count % 5 == 0:\n",
    "        sample.append(random.choice(temp))\n",
    "        temp = []\n",
    "        \n",
    "print(tabulate(sample, headers='keys', tablefmt='psql'))"
   ]
  },
  {
   "cell_type": "code",
   "execution_count": 4,
   "metadata": {},
   "outputs": [
    {
     "name": "stdout",
     "output_type": "stream",
     "text": [
      "+------------------------------+--------+----------+-----------------------+-------------------+-----------------+\n",
      "| Nama                         |   Umur | Kota     | Pendidikan Terakhir   | Jenis Pekerjaan   | Jenis Kelamin   |\n",
      "|------------------------------+--------+----------+-----------------------+-------------------+-----------------|\n",
      "| Drs. Violet Utama, S.IP      |     28 | Malang   | SMA                   | Insinyur          | Perempuan       |\n",
      "| Ir. Cakrajiya Wahyudin, S.E. |     35 | Surabaya | SMP                   | Guru              | Perempuan       |\n",
      "| Drs. Laksana Pranowo, S.Sos  |     55 | Jakarta  | PT                    | Dokter            | Perempuan       |\n",
      "| Padma Simanjuntak            |     36 | Surabaya | SMP                   | Desainer          | Perempuan       |\n",
      "| Ilyas Megantara, S.E.I       |     37 | Malang   | SD                    | Desainer          | Perempuan       |\n",
      "| dr. Kezia Hariyah            |     55 | Jakarta  | SMA                   | Dokter            | Perempuan       |\n",
      "| Kartika Dabukke              |     49 | Malang   | SD                    | Akuntan           | Perempuan       |\n",
      "| Puti Lili Pradana            |     30 | Malang   | SMP                   | Polisi            | Perempuan       |\n",
      "| Icha Wahyudin                |     20 | Jakarta  | PT                    | Guru              | Laki-laki       |\n",
      "| Tgk. Eka Winarno, S.Sos      |     49 | Jakarta  | SD                    | Dokter            | Perempuan       |\n",
      "+------------------------------+--------+----------+-----------------------+-------------------+-----------------+\n"
     ]
    }
   ],
   "source": [
    "# Contoh mengambil 10 sampel secara random\n",
    "sample = random.sample(df.to_dict('records'), 10)\n",
    "print(tabulate(sample, headers='keys', tablefmt='psql'))"
   ]
  },
  {
   "cell_type": "markdown",
   "metadata": {},
   "source": [
    "#### 2. Stratified Random Sampling\n",
    "Pada penyampelan jenis ini, anggota populasi dikelompokkan berdasarkan stratanya, misal tinggi, sedang, dan rendah. Kemudian dipilih sampel yang mewakili masing-masing strata.\n",
    "\n",
    "Langkah-langkah dalam menentukan Stratified Random sampling: \n",
    "- Menentukan data pendukung tentang populasi yang diambil berikut strata-strata yang ada di dalamnya\n",
    "- Mengklasifikasikan populasi ke dalam grup atau strata yang saling lepas\n",
    "- Menentukan ukuran sample untuk tiap stratum\n",
    "- Memilih secara acak setiap stratum dengan menggunakan simple random sampling "
   ]
  },
  {
   "cell_type": "code",
   "execution_count": 5,
   "metadata": {},
   "outputs": [
    {
     "name": "stdout",
     "output_type": "stream",
     "text": [
      "Jumlah lulusan SD:  13\n",
      "Jumlah lulusan SMP:  14\n",
      "Jumlah lulusan SMA:  15\n",
      "Jumlah lulusan PT:  8\n",
      "\n",
      "Jumlah sample SD:  2\n",
      "Jumlah sample SMP:  2\n",
      "Jumlah sample SMA:  3\n",
      "Jumlah sample PT:  1\n",
      "\n",
      "Hasil sample: \n",
      "+-------------------------+--------+------------+-----------------------+-------------------+-----------------+\n",
      "| Nama                    |   Umur | Kota       | Pendidikan Terakhir   | Jenis Pekerjaan   | Jenis Kelamin   |\n",
      "|-------------------------+--------+------------+-----------------------+-------------------+-----------------|\n",
      "| Bagiya Gunarto, M.M.    |     23 | Jakarta    | SD                    | Akuntan           | Laki-laki       |\n",
      "| Dr. Cici Widiastuti     |     54 | Malang     | SD                    | Polisi            | Laki-laki       |\n",
      "| Jail Mangunsong, S.Ked  |     18 | Surabaya   | SMP                   | Guru              | Laki-laki       |\n",
      "| Puti Lili Pradana       |     30 | Malang     | SMP                   | Polisi            | Perempuan       |\n",
      "| drg. Rini Sinaga, S.Psi |     48 | Yogyakarta | SMA                   | Polisi            | Laki-laki       |\n",
      "| R.M. Tasdik Maulana     |     45 | Malang     | SMA                   | Polisi            | Laki-laki       |\n",
      "| Paramita Nugroho        |     44 | Jakarta    | SMA                   | Insinyur          | Laki-laki       |\n",
      "| Galiono Zulaika         |     51 | Yogyakarta | PT                    | Guru              | Perempuan       |\n",
      "+-------------------------+--------+------------+-----------------------+-------------------+-----------------+\n"
     ]
    }
   ],
   "source": [
    "# Mensampling berdasarkan pendidikan terakhir\n",
    "sd = []\n",
    "smp = []\n",
    "sma = []\n",
    "pt = []\n",
    "\n",
    "for i in range(len(df)):\n",
    "    if df.iloc[i]['Pendidikan Terakhir'] == 'SD':\n",
    "        sd.append(df.iloc[i])\n",
    "    elif df.iloc[i]['Pendidikan Terakhir'] == 'SMP':\n",
    "        smp.append(df.iloc[i])\n",
    "    elif df.iloc[i]['Pendidikan Terakhir'] == 'SMA':\n",
    "        sma.append(df.iloc[i])\n",
    "    elif df.iloc[i]['Pendidikan Terakhir'] == 'PT':\n",
    "        pt.append(df.iloc[i])\n",
    "\n",
    "print(\"Jumlah lulusan SD: \", len(sd))\n",
    "print(\"Jumlah lulusan SMP: \", len(smp))\n",
    "print(\"Jumlah lulusan SMA: \", len(sma))\n",
    "print(\"Jumlah lulusan PT: \", len(pt))\n",
    "\n",
    "# ambil 20% dari setiap jenjang pendidikan\n",
    "sd_sample = random.sample(sd, int(len(sd) * 0.2))\n",
    "smp_sample = random.sample(smp, int(len(smp) * 0.2))\n",
    "sma_sample = random.sample(sma, int(len(sma) * 0.2))\n",
    "pt_sample = random.sample(pt, int(len(pt) * 0.2))\n",
    "\n",
    "print(\"\\nJumlah sample SD: \", len(sd_sample))\n",
    "print(\"Jumlah sample SMP: \", len(smp_sample))\n",
    "print(\"Jumlah sample SMA: \", len(sma_sample))\n",
    "print(\"Jumlah sample PT: \", len(pt_sample))\n",
    "\n",
    "print(\"\\nHasil sample: \")\n",
    "sample = sd_sample + smp_sample + sma_sample + pt_sample\n",
    "print(tabulate(sample, headers='keys', tablefmt='psql'))"
   ]
  },
  {
   "cell_type": "markdown",
   "metadata": {},
   "source": [
    "#### 3. Sistematic Sampling \n",
    "Penyampelan dengan cara ini dilakukan dengan mengurutkan terlebih dahulu semua anggota, kemudian dipili urutan tertentu untuk dijadikan anggota sampel. "
   ]
  },
  {
   "cell_type": "code",
   "execution_count": 6,
   "metadata": {},
   "outputs": [
    {
     "name": "stdout",
     "output_type": "stream",
     "text": [
      "+----+---------------------------------+--------+------------+-----------------------+-------------------+-----------------+\n",
      "|    | Nama                            |   Umur | Kota       | Pendidikan Terakhir   | Jenis Pekerjaan   | Jenis Kelamin   |\n",
      "|----+---------------------------------+--------+------------+-----------------------+-------------------+-----------------|\n",
      "| 48 | Amalia Suryatmi, M.Farm         |     64 | Yogyakarta | SMA                   | Polisi            | Laki-laki       |\n",
      "| 40 | Bagiya Gunarto, M.M.            |     23 | Jakarta    | SD                    | Akuntan           | Laki-laki       |\n",
      "| 39 | Bahuwirya Prasetyo              |     53 | Jakarta    | SMA                   | Developer         | Laki-laki       |\n",
      "| 20 | Cecep Situmorang                |     18 | Jakarta    | SMA                   | Dokter            | Laki-laki       |\n",
      "|  3 | Dr. Cici Widiastuti             |     54 | Malang     | SD                    | Polisi            | Laki-laki       |\n",
      "| 10 | Dr. Iriana Wastuti              |     24 | Yogyakarta | SD                    | Akuntan           | Laki-laki       |\n",
      "|  1 | Drs. Laksana Pranowo, S.Sos     |     55 | Jakarta    | PT                    | Dokter            | Perempuan       |\n",
      "| 28 | Drs. Violet Utama, S.IP         |     28 | Malang     | SMA                   | Insinyur          | Perempuan       |\n",
      "| 31 | Elvin Hutapea                   |     48 | Malang     | SD                    | Guru              | Perempuan       |\n",
      "|  0 | Galiono Zulaika                 |     51 | Yogyakarta | PT                    | Guru              | Perempuan       |\n",
      "| 17 | Galur Ardianto                  |     22 | Malang     | SD                    | Polisi            | Laki-laki       |\n",
      "| 38 | H. Mustofa Suartini, S.I.Kom    |     27 | Yogyakarta | SMP                   | Insinyur          | Perempuan       |\n",
      "| 15 | Icha Wahyudin                   |     20 | Jakarta    | PT                    | Guru              | Laki-laki       |\n",
      "| 23 | Ilyas Megantara, S.E.I          |     37 | Malang     | SD                    | Desainer          | Perempuan       |\n",
      "|  5 | Intan Palastri                  |     62 | Surabaya   | SMA                   | Desainer          | Laki-laki       |\n",
      "| 22 | Ir. Cakrajiya Wahyudin, S.E.    |     35 | Surabaya   | SMP                   | Guru              | Perempuan       |\n",
      "| 33 | Jail Mangunsong, S.Ked          |     18 | Surabaya   | SMP                   | Guru              | Laki-laki       |\n",
      "| 24 | Janet Wacana                    |     21 | Jakarta    | SMP                   | Insinyur          | Perempuan       |\n",
      "| 37 | Jefri Maryati                   |     33 | Malang     | SD                    | Akuntan           | Perempuan       |\n",
      "| 34 | Jumari Winarsih                 |     27 | Surabaya   | SMP                   | Dokter            | Perempuan       |\n",
      "| 30 | Kartika Dabukke                 |     49 | Malang     | SD                    | Akuntan           | Perempuan       |\n",
      "| 46 | Kiandra Hutasoit                |     49 | Malang     | SMA                   | Developer         | Laki-laki       |\n",
      "| 19 | Lalita Laksmiwati               |     61 | Malang     | SMP                   | Dokter            | Perempuan       |\n",
      "|  6 | Lalita Tarihoran                |     18 | Yogyakarta | SMP                   | Developer         | Laki-laki       |\n",
      "| 27 | Mahmud Novitasari               |     59 | Yogyakarta | PT                    | Desainer          | Perempuan       |\n",
      "| 18 | Maria Wijayanti                 |     23 | Jakarta    | SMP                   | Guru              | Perempuan       |\n",
      "| 44 | Nasim Prakasa, M.Kom.           |     55 | Surabaya   | PT                    | Dokter            | Perempuan       |\n",
      "| 13 | Oskar Winarsih                  |     45 | Yogyakarta | SMP                   | Dokter            | Perempuan       |\n",
      "| 25 | Padma Simanjuntak               |     36 | Surabaya   | SMP                   | Desainer          | Perempuan       |\n",
      "| 42 | Paramita Nugroho                |     44 | Jakarta    | SMA                   | Insinyur          | Laki-laki       |\n",
      "|  7 | Puti Lili Pradana               |     30 | Malang     | SMP                   | Polisi            | Perempuan       |\n",
      "|  4 | Puti Sarah Mayasari             |     58 | Jakarta    | SMP                   | Dokter            | Laki-laki       |\n",
      "| 47 | Qori Marpaung                   |     25 | Jakarta    | SMA                   | Insinyur          | Perempuan       |\n",
      "| 21 | R. Gandi Hutagalung, S.Pt       |     34 | Malang     | SD                    | Insinyur          | Perempuan       |\n",
      "| 29 | R. Luis Nuraini, M.Ak           |     42 | Yogyakarta | SMA                   | Developer         | Laki-laki       |\n",
      "| 14 | R.M. Tasdik Maulana             |     45 | Malang     | SMA                   | Polisi            | Laki-laki       |\n",
      "| 43 | Salsabila Januar                |     23 | Yogyakarta | SMA                   | Desainer          | Laki-laki       |\n",
      "| 12 | Soleh Usada                     |     32 | Jakarta    | SMA                   | Dokter            | Laki-laki       |\n",
      "| 35 | Tasdik Suartini, S.T.           |     45 | Surabaya   | PT                    | Polisi            | Perempuan       |\n",
      "| 32 | Tgk. Arsipatra Maryati, S.I.Kom |     28 | Malang     | SMP                   | Polisi            | Perempuan       |\n",
      "|  8 | Tgk. Eka Winarno, S.Sos         |     49 | Jakarta    | SD                    | Dokter            | Perempuan       |\n",
      "| 45 | Tgk. Titin Sirait, S.Pd         |     31 | Yogyakarta | SMA                   | Insinyur          | Laki-laki       |\n",
      "| 49 | Tgk. Ulya Prakasa, S.T.         |     57 | Yogyakarta | SD                    | Insinyur          | Perempuan       |\n",
      "| 26 | Uda Natsir                      |     50 | Surabaya   | SD                    | Polisi            | Laki-laki       |\n",
      "|  9 | Yulia Hakim                     |     24 | Yogyakarta | PT                    | Akuntan           | Laki-laki       |\n",
      "| 11 | Zahra Simbolon                  |     38 | Jakarta    | SMP                   | Developer         | Perempuan       |\n",
      "| 41 | Zelda Firmansyah                |     25 | Surabaya   | SD                    | Akuntan           | Laki-laki       |\n",
      "|  2 | dr. Kezia Hariyah               |     55 | Jakarta    | SMA                   | Dokter            | Perempuan       |\n",
      "| 16 | drg. Elon Latupono, S.H.        |     58 | Yogyakarta | PT                    | Polisi            | Laki-laki       |\n",
      "| 36 | drg. Rini Sinaga, S.Psi         |     48 | Yogyakarta | SMA                   | Polisi            | Laki-laki       |\n",
      "+----+---------------------------------+--------+------------+-----------------------+-------------------+-----------------+\n"
     ]
    }
   ],
   "source": [
    "sorted_df = df.sort_values(by='Nama')\n",
    "print(tabulate(sorted_df, headers='keys', tablefmt='psql'))"
   ]
  },
  {
   "cell_type": "code",
   "execution_count": 7,
   "metadata": {},
   "outputs": [
    {
     "name": "stdout",
     "output_type": "stream",
     "text": [
      "+------------------------------+--------+------------+-----------------------+-------------------+-----------------+\n",
      "| Nama                         |   Umur | Kota       | Pendidikan Terakhir   | Jenis Pekerjaan   | Jenis Kelamin   |\n",
      "|------------------------------+--------+------------+-----------------------+-------------------+-----------------|\n",
      "| Amalia Suryatmi, M.Farm      |     64 | Yogyakarta | SMA                   | Polisi            | Laki-laki       |\n",
      "| Dr. Iriana Wastuti           |     24 | Yogyakarta | SD                    | Akuntan           | Laki-laki       |\n",
      "| Galur Ardianto               |     22 | Malang     | SD                    | Polisi            | Laki-laki       |\n",
      "| Ir. Cakrajiya Wahyudin, S.E. |     35 | Surabaya   | SMP                   | Guru              | Perempuan       |\n",
      "| Kartika Dabukke              |     49 | Malang     | SD                    | Akuntan           | Perempuan       |\n",
      "| Maria Wijayanti              |     23 | Jakarta    | SMP                   | Guru              | Perempuan       |\n",
      "| Puti Lili Pradana            |     30 | Malang     | SMP                   | Polisi            | Perempuan       |\n",
      "| R.M. Tasdik Maulana          |     45 | Malang     | SMA                   | Polisi            | Laki-laki       |\n",
      "| Tgk. Eka Winarno, S.Sos      |     49 | Jakarta    | SD                    | Dokter            | Perempuan       |\n",
      "| Zahra Simbolon               |     38 | Jakarta    | SMP                   | Developer         | Perempuan       |\n",
      "+------------------------------+--------+------------+-----------------------+-------------------+-----------------+\n"
     ]
    }
   ],
   "source": [
    "# Mengambil sampel setiap kelipatan 5\n",
    "sample = []\n",
    "for i in range(0, len(sorted_df), 5):\n",
    "    sample.append(sorted_df.iloc[i])\n",
    "\n",
    "print(tabulate(sample, headers='keys', tablefmt='psql')) "
   ]
  },
  {
   "cell_type": "markdown",
   "metadata": {},
   "source": [
    "#### 4. Cluster Sampling \n",
    "Pada penyampelan jenis ini, populasi dibagi menjadi wilayah atau klaster. Jika terpilih klasternya, seluruh anggota dalam klaster tersebut yang menjadi sampel. \n",
    "\n",
    "Langkah-langkah dalam pengambilan sample dengan cluster sampling:\n",
    "- Menentukan cluster-clusternya  \n",
    "- Menentukan banyak cluster yang akan dijadikan sample, misal n cluster \n",
    "- Memilih secara acak cluster \n",
    "- Semua anggota yang terdapat dalam klaster yang terpilih merupakan sampel "
   ]
  },
  {
   "cell_type": "code",
   "execution_count": 8,
   "metadata": {},
   "outputs": [
    {
     "name": "stdout",
     "output_type": "stream",
     "text": [
      "+-----------------------------+--------+------------+-----------------------+-------------------+-----------------+\n",
      "| Nama                        |   Umur | Kota       | Pendidikan Terakhir   | Jenis Pekerjaan   | Jenis Kelamin   |\n",
      "|-----------------------------+--------+------------+-----------------------+-------------------+-----------------|\n",
      "| Galiono Zulaika             |     51 | Yogyakarta | PT                    | Guru              | Perempuan       |\n",
      "| Drs. Laksana Pranowo, S.Sos |     55 | Jakarta    | PT                    | Dokter            | Perempuan       |\n",
      "| dr. Kezia Hariyah           |     55 | Jakarta    | SMA                   | Dokter            | Perempuan       |\n",
      "| Dr. Cici Widiastuti         |     54 | Malang     | SD                    | Polisi            | Laki-laki       |\n",
      "| Puti Sarah Mayasari         |     58 | Jakarta    | SMP                   | Dokter            | Laki-laki       |\n",
      "+-----------------------------+--------+------------+-----------------------+-------------------+-----------------+\n"
     ]
    }
   ],
   "source": [
    "# Misalkan terdapat 5 cluster\n",
    "temp = df\n",
    "c1 = []\n",
    "c2 = []\n",
    "c3 = []\n",
    "c4 = []\n",
    "c5 = []\n",
    "clusters = [c1, c2, c3, c4, c5]\n",
    "\n",
    "fill  = 0\n",
    "count = 0\n",
    "for i in range(len(temp)):\n",
    "    if count == 5:\n",
    "        count = 0\n",
    "        fill += 1\n",
    "        \n",
    "    if fill <= 4:    \n",
    "        clusters[fill].append(temp.iloc[i])\n",
    "    count += 1\n",
    "\n",
    "sample = random.choice(clusters)\n",
    "print(tabulate(sample, headers='keys', tablefmt='psql'))"
   ]
  },
  {
   "cell_type": "markdown",
   "metadata": {},
   "source": [
    "### B. Non Probability Sampling \n",
    "Nonprobability sampling adalah teknik pengambilan sampel yang tidak memberi peluang atau kesempatan sama bagi setiap unsur atau anggota populasi yang dipilih menjadi sampel. Teknik pengambilan sampel ini diantaranya sampling incidental, sampling bertujuan, sampling bola salju (snowball sampling), dan sampling kuota. Non probability sampling ini tidak bisa digunakan untuk membuat generalisasi. "
   ]
  },
  {
   "cell_type": "markdown",
   "metadata": {},
   "source": [
    "#### 1. Sampling Incidental\n",
    "Nonprobability sampling adalah teknik pengambilan sampel yang tidak memberi peluang atau kesempatan sama bagi setiap unsur atau anggota populasi yang dipilih menjadi sampel. Teknik pengambilan sampel ini diantaranya sampling incidental, sampling bertujuan, sampling bola salju (snowball sampling), dan sampling kuota. Non probability sampling ini tidak bisa digunakan untuk membuat generalisasi. "
   ]
  },
  {
   "cell_type": "markdown",
   "metadata": {},
   "source": [
    "#### 2. Sampling purposive \n",
    "Teknik penentuan sampel berdasarkan pertimbangan peneliti atau evaluator tentang sampel mana yang paling bermanfaat dan representative (Babbie, 2004: 183). \n",
    "Terkadang sampel yang akan diambil ditentukan berdasarkan pengetahuan tentang suatu populasi, anggota-anggotanya dan tujuan dari penelitian. Jenis sampel ini sangat baik jika dimanfaatkan untuk studi penjajagan (studi awal untuk penelitian atau evaluasi). \n"
   ]
  },
  {
   "cell_type": "code",
   "execution_count": 9,
   "metadata": {},
   "outputs": [
    {
     "name": "stdout",
     "output_type": "stream",
     "text": [
      "+---------------------------------+--------+------------+-----------------------+-------------------+-----------------+\n",
      "| Nama                            |   Umur | Kota       | Pendidikan Terakhir   | Jenis Pekerjaan   | Jenis Kelamin   |\n",
      "|---------------------------------+--------+------------+-----------------------+-------------------+-----------------|\n",
      "| Dr. Cici Widiastuti             |     54 | Malang     | SD                    | Polisi            | Laki-laki       |\n",
      "| Puti Lili Pradana               |     30 | Malang     | SMP                   | Polisi            | Perempuan       |\n",
      "| R.M. Tasdik Maulana             |     45 | Malang     | SMA                   | Polisi            | Laki-laki       |\n",
      "| drg. Elon Latupono, S.H.        |     58 | Yogyakarta | PT                    | Polisi            | Laki-laki       |\n",
      "| Galur Ardianto                  |     22 | Malang     | SD                    | Polisi            | Laki-laki       |\n",
      "| Uda Natsir                      |     50 | Surabaya   | SD                    | Polisi            | Laki-laki       |\n",
      "| Tgk. Arsipatra Maryati, S.I.Kom |     28 | Malang     | SMP                   | Polisi            | Perempuan       |\n",
      "| Tasdik Suartini, S.T.           |     45 | Surabaya   | PT                    | Polisi            | Perempuan       |\n",
      "| drg. Rini Sinaga, S.Psi         |     48 | Yogyakarta | SMA                   | Polisi            | Laki-laki       |\n",
      "| Amalia Suryatmi, M.Farm         |     64 | Yogyakarta | SMA                   | Polisi            | Laki-laki       |\n",
      "+---------------------------------+--------+------------+-----------------------+-------------------+-----------------+\n"
     ]
    }
   ],
   "source": [
    "# Mengambil sampel hanya yang berprofesi sebagai Polisi\n",
    "sample = []\n",
    "\n",
    "for i in range(len(df)):\n",
    "    if df.iloc[i]['Jenis Pekerjaan'] == 'Polisi':\n",
    "        sample.append(df.iloc[i])\n",
    "\n",
    "print(tabulate(sample, headers='keys', tablefmt='psql'))  "
   ]
  },
  {
   "cell_type": "markdown",
   "metadata": {},
   "source": [
    "#### 3. Sampling Bola Salju\n",
    "Sampling snowball dapat dilakukan jika keberadaan dari suatu populasi sulit untuk ditemukan. Dengan kata lain, cara ini banyak dipakai ketika peneliti atau evaluator tidak banyak tahu tentang populasi penelitian aau evaluasinya. Pada sampling bola salju, peneliti mengumpulkan data dari beberapa sampel yang dapat ditemukan oleh peneliti sendiri, selanjutnya peneliti meminta individu yang telah dijadikan sampel tersebut untuk memberitahukan keberadaan anggota yang lainnya yang tidak dapat ditemukan oleh peneliti untuk dapat melengkapi data (Babbie, 2004: 184)."
   ]
  },
  {
   "cell_type": "code",
   "execution_count": 10,
   "metadata": {},
   "outputs": [
    {
     "name": "stdout",
     "output_type": "stream",
     "text": [
      "Memilih 3 orang acak:\n",
      "+------------------------+--------+----------+-----------------------+-------------------+-----------------+\n",
      "| Nama                   |   Umur | Kota     | Pendidikan Terakhir   | Jenis Pekerjaan   | Jenis Kelamin   |\n",
      "|------------------------+--------+----------+-----------------------+-------------------+-----------------|\n",
      "| Jail Mangunsong, S.Ked |     18 | Surabaya | SMP                   | Guru              | Laki-laki       |\n",
      "| Janet Wacana           |     21 | Jakarta  | SMP                   | Insinyur          | Perempuan       |\n",
      "| Icha Wahyudin          |     20 | Jakarta  | PT                    | Guru              | Laki-laki       |\n",
      "+------------------------+--------+----------+-----------------------+-------------------+-----------------+\n",
      "Sample hasil rekomendasi:\n",
      "+------------------------------+--------+----------+-----------------------+-------------------+-----------------+-------------+\n",
      "| Nama                         |   Umur | Kota     | Pendidikan Terakhir   | Jenis Pekerjaan   | Jenis Kelamin   | Saran       |\n",
      "|------------------------------+--------+----------+-----------------------+-------------------+-----------------+-------------|\n",
      "| Jail Mangunsong, S.Ked       |     18 | Surabaya | SMP                   | Guru              | Laki-laki       |             |\n",
      "| Janet Wacana                 |     21 | Jakarta  | SMP                   | Insinyur          | Perempuan       |             |\n",
      "| Icha Wahyudin                |     20 | Jakarta  | PT                    | Guru              | Laki-laki       |             |\n",
      "| Intan Palastri               |     62 | Surabaya | SMA                   | Desainer          | Laki-laki       | Mangunsong, |\n",
      "| Ir. Cakrajiya Wahyudin, S.E. |     35 | Surabaya | SMP                   | Guru              | Perempuan       | Mangunsong, |\n",
      "| Zelda Firmansyah             |     25 | Surabaya | SD                    | Akuntan           | Laki-laki       | Mangunsong, |\n",
      "| Paramita Nugroho             |     44 | Jakarta  | SMA                   | Insinyur          | Laki-laki       | Wacana      |\n",
      "| Soleh Usada                  |     32 | Jakarta  | SMA                   | Dokter            | Laki-laki       | Wacana      |\n",
      "| Zahra Simbolon               |     38 | Jakarta  | SMP                   | Developer         | Perempuan       | Wacana      |\n",
      "| Cecep Situmorang             |     18 | Jakarta  | SMA                   | Dokter            | Laki-laki       | Wahyudin    |\n",
      "| dr. Kezia Hariyah            |     55 | Jakarta  | SMA                   | Dokter            | Perempuan       | Wahyudin    |\n",
      "| Bagiya Gunarto, M.M.         |     23 | Jakarta  | SD                    | Akuntan           | Laki-laki       | Wahyudin    |\n",
      "+------------------------------+--------+----------+-----------------------+-------------------+-----------------+-------------+\n"
     ]
    }
   ],
   "source": [
    "# Misalkan memilih 3 orang acak, dan 3 orang tersebut memberi rekomendasi 3 orang lain di kota yg bersangkutan\n",
    "\n",
    "# Memilih 3 orang acak\n",
    "random_people = random.sample(df.to_dict('records'), 3)\n",
    "print(\"Memilih 3 orang acak:\")\n",
    "print(tabulate(random_people, headers='keys', tablefmt='psql'))\n",
    "\n",
    "recommendations = []\n",
    "for person in random_people:\n",
    "    city = person['Kota']\n",
    "    same_city_people = df[(df['Kota'] == city) & (df['Nama'] != person['Nama'])]\n",
    "    recommended_people = same_city_people.sample(3, replace=True).to_dict('records')\n",
    "\n",
    "    for recommended in recommended_people:\n",
    "        recommended['Saran'] = person['Nama'].split(' ')[1]\n",
    "\n",
    "    recommendations.extend(recommended_people)\n",
    "\n",
    "sample = random_people + recommendations\n",
    "\n",
    "# Hasil \n",
    "print(\"Sample hasil rekomendasi:\")\n",
    "print(tabulate(sample, headers='keys', tablefmt='psql'))\n"
   ]
  },
  {
   "cell_type": "markdown",
   "metadata": {},
   "source": [
    "#### 4. Sampling Quota \n",
    "Teknik sampling kuota adalah teknik menentukan sampel dari populasi yang mempunyai ciri-ciri tertentu sampai jumlah (kuota) yang diinginkan.  Pada sampling kuota, dimulai dengan membuat tabel atau matriks yang berisi penjabaran karakteristik dari populasi yang ingin dicapai atau karakteristik populasi yang sesuai dengan tujuan dari penelitian untuk selanjutnya ditentukan sampel yang memenuhi ciri-ciri dari populasi tersebut. "
   ]
  },
  {
   "cell_type": "code",
   "execution_count": 11,
   "metadata": {},
   "outputs": [
    {
     "name": "stdout",
     "output_type": "stream",
     "text": [
      "+-------------------------+--------+------------+-----------------------+-------------------+-----------------+\n",
      "| Nama                    |   Umur | Kota       | Pendidikan Terakhir   | Jenis Pekerjaan   | Jenis Kelamin   |\n",
      "|-------------------------+--------+------------+-----------------------+-------------------+-----------------|\n",
      "| Bahuwirya Prasetyo      |     53 | Jakarta    | SMA                   | Developer         | Laki-laki       |\n",
      "| Icha Wahyudin           |     20 | Jakarta    | PT                    | Guru              | Laki-laki       |\n",
      "| Paramita Nugroho        |     44 | Jakarta    | SMA                   | Insinyur          | Laki-laki       |\n",
      "| Nasim Prakasa, M.Kom.   |     55 | Surabaya   | PT                    | Dokter            | Perempuan       |\n",
      "| Uda Natsir              |     50 | Surabaya   | SD                    | Polisi            | Laki-laki       |\n",
      "| Padma Simanjuntak       |     36 | Surabaya   | SMP                   | Desainer          | Perempuan       |\n",
      "| Lalita Laksmiwati       |     61 | Malang     | SMP                   | Dokter            | Perempuan       |\n",
      "| Kiandra Hutasoit        |     49 | Malang     | SMA                   | Developer         | Laki-laki       |\n",
      "| R.M. Tasdik Maulana     |     45 | Malang     | SMA                   | Polisi            | Laki-laki       |\n",
      "| Amalia Suryatmi, M.Farm |     64 | Yogyakarta | SMA                   | Polisi            | Laki-laki       |\n",
      "| Salsabila Januar        |     23 | Yogyakarta | SMA                   | Desainer          | Laki-laki       |\n",
      "| Tgk. Titin Sirait, S.Pd |     31 | Yogyakarta | SMA                   | Insinyur          | Laki-laki       |\n",
      "+-------------------------+--------+------------+-----------------------+-------------------+-----------------+\n"
     ]
    }
   ],
   "source": [
    "# Misalkan mengambil 3 sampel untuk setiap kota\n",
    "sample = []\n",
    "\n",
    "for city in cities:\n",
    "    city_df = df[df['Kota'] == city]\n",
    "    quota = 3\n",
    "    city_sample = random.sample(city_df.to_dict('records'), quota)\n",
    "    for selec in city_sample:\n",
    "        sample.append(selec)\n",
    "\n",
    "print(tabulate(sample, headers='keys', tablefmt='psql'))\n"
   ]
  }
 ],
 "metadata": {
  "kernelspec": {
   "display_name": "Python 3",
   "language": "python",
   "name": "python3"
  },
  "language_info": {
   "codemirror_mode": {
    "name": "ipython",
    "version": 3
   },
   "file_extension": ".py",
   "mimetype": "text/x-python",
   "name": "python",
   "nbconvert_exporter": "python",
   "pygments_lexer": "ipython3",
   "version": "3.12.4"
  }
 },
 "nbformat": 4,
 "nbformat_minor": 2
}
