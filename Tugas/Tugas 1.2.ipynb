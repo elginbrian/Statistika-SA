{
 "cells": [
  {
   "cell_type": "markdown",
   "metadata": {},
   "source": [
    "## Soal 2\n",
    " Berikut adalah data kecepatan unduh (Mbps) dari 15 server yang digunakan dalam jaringan perusahaan teknologi informasi: "
   ]
  },
  {
   "cell_type": "code",
   "execution_count": 71,
   "metadata": {},
   "outputs": [
    {
     "name": "stdout",
     "output_type": "stream",
     "text": [
      "  Bandwidth X    Freq F\n",
      "-------------  --------\n",
      "           10         1\n",
      "           15         2\n",
      "           20         3\n",
      "           25         4\n",
      "           30         2\n",
      "           35         2\n",
      "           50         1\n"
     ]
    }
   ],
   "source": [
    "from tabulate import tabulate\n",
    "import math\n",
    "\n",
    "data = [\n",
    "    [10, 1],\n",
    "    [15, 2],\n",
    "    [20 , 3],\n",
    "    [25, 4],\n",
    "    [30, 2],\n",
    "    [35, 2],\n",
    "    [50, 1]\n",
    "]\n",
    "\n",
    "col_names = [\"Bandwidth X\", \"Freq F\"]\n",
    "\n",
    "print(tabulate(data, col_names))"
   ]
  },
  {
   "cell_type": "markdown",
   "metadata": {},
   "source": [
    "a. Tentukan apakah ada outlier dalam data ini menggunakan metode IQR (Interquar�le Range). \n",
    "\n",
    "b. Hitung kemencengan (skewness) dan keruncingan (kurtosis) dari data kecepatan unduh di atas. Dan berilah penjelasan dari hasil nilai skewness dan kurtosis yang kamu dapatkan untuk menggambarkan disperis data tersebut. "
   ]
  },
  {
   "cell_type": "code",
   "execution_count": 72,
   "metadata": {},
   "outputs": [
    {
     "name": "stdout",
     "output_type": "stream",
     "text": [
      "  Bandwidth X    Freq F    CF\n",
      "-------------  --------  ----\n",
      "           10         1     1\n",
      "           15         2     3\n",
      "           20         3     6\n",
      "           25         4    10\n",
      "           30         2    12\n",
      "           35         2    14\n",
      "           50         1    15\n",
      "Sigma F:  15\n"
     ]
    }
   ],
   "source": [
    "# find CF\n",
    "cumulative_F = 0\n",
    "for i in range(len(data)):\n",
    "    cumulative_F += data[i][1]\n",
    "    data[i].append(cumulative_F)\n",
    "\n",
    "col_names.append(\"CF\")\n",
    "print(tabulate(data, col_names))\n",
    "\n",
    "# find sigma_f\n",
    "sigma_f = cumulative_F\n",
    "print(\"Sigma F: \", sigma_f)"
   ]
  },
  {
   "cell_type": "code",
   "execution_count": 73,
   "metadata": {},
   "outputs": [
    {
     "name": "stdout",
     "output_type": "stream",
     "text": [
      "Q1:  20\n",
      "Q3:  30\n"
     ]
    }
   ],
   "source": [
    "# find Q1 and Q3\n",
    "q1_cf = (sigma_f + 1) / 4\n",
    "q3_cf = (3 * sigma_f + 1) / 4\n",
    "\n",
    "q1_class = 0\n",
    "for i in range(len(data)):\n",
    "    if(data[i][2] >= q1_cf):\n",
    "        q1_class = i\n",
    "        break\n",
    "\n",
    "q3_class = 0\n",
    "for i in range(len(data)):\n",
    "    if(data[i][2] >= q3_cf):\n",
    "        q3_class = i\n",
    "        break\n",
    "\n",
    "q1 = data[q1_class][0]\n",
    "q3 = data[q3_class][0]\n",
    "\n",
    "print(\"Q1: \", q1)\n",
    "print(\"Q3: \", q3)"
   ]
  },
  {
   "cell_type": "code",
   "execution_count": 74,
   "metadata": {},
   "outputs": [
    {
     "name": "stdout",
     "output_type": "stream",
     "text": [
      "IQR:  10\n",
      "Lower Bound:  5.0\n",
      "Upper Bound:  45.0\n"
     ]
    }
   ],
   "source": [
    "# find iqr\n",
    "iqr = q3 - q1\n",
    "print(\"IQR: \", iqr)\n",
    "\n",
    "# find lower bound\n",
    "lower_bound = q1 - 1.5 * iqr\n",
    "print(\"Lower Bound: \", lower_bound)\n",
    "\n",
    "# find upper bound\n",
    "upper_bound = q3 + 1.5 * iqr\n",
    "print(\"Upper Bound: \", upper_bound)"
   ]
  },
  {
   "cell_type": "code",
   "execution_count": 75,
   "metadata": {},
   "outputs": [
    {
     "name": "stdout",
     "output_type": "stream",
     "text": [
      "Outlier:  [50]\n"
     ]
    }
   ],
   "source": [
    "# find outlier\n",
    "outliers = []\n",
    "for i in range(len(data)):\n",
    "    if(data[i][0] < lower_bound or data[i][0] > upper_bound):\n",
    "        outliers.append(data[i][0])\n",
    "\n",
    "print(\"Outlier: \", outliers)        "
   ]
  },
  {
   "cell_type": "markdown",
   "metadata": {},
   "source": [
    "Outlier: 50"
   ]
  },
  {
   "cell_type": "code",
   "execution_count": 76,
   "metadata": {},
   "outputs": [
    {
     "name": "stdout",
     "output_type": "stream",
     "text": [
      "  Bandwidth X    Freq F    CF    XF\n",
      "-------------  --------  ----  ----\n",
      "           10         1     1    10\n",
      "           15         2     3    30\n",
      "           20         3     6    60\n",
      "           25         4    10   100\n",
      "           30         2    12    60\n",
      "           35         2    14    70\n",
      "           50         1    15    50\n",
      "Sigma XF:  380\n",
      "Mean:  25.333333333333332\n",
      "Modus:  25\n"
     ]
    }
   ],
   "source": [
    "# find XF\n",
    "for i in range(len(data)):\n",
    "    xf = data[i][0] * data[i][1]\n",
    "    data[i].append(xf)\n",
    "\n",
    "col_names.append(\"XF\")\n",
    "print(tabulate(data, col_names))\n",
    "\n",
    "# find sigma_xf\n",
    "sigma_xf = sum(data[i][3] for i in range(len(data)))\n",
    "print(\"Sigma XF: \", sigma_xf)\n",
    "\n",
    "# find mean\n",
    "mean = sigma_xf / sigma_f\n",
    "print(\"Mean: \", mean)\n",
    "\n",
    "# find modus\n",
    "modus_query = 0\n",
    "modus_class = 0\n",
    "for i in range(len(data)):\n",
    "    if(data[i][1] > modus_query):\n",
    "        modus_query = data[i][1]\n",
    "        modus_class = i\n",
    "\n",
    "modus = data[modus_class][0]    \n",
    "print(\"Modus: \", modus)    "
   ]
  },
  {
   "cell_type": "code",
   "execution_count": 77,
   "metadata": {},
   "outputs": [
    {
     "name": "stdout",
     "output_type": "stream",
     "text": [
      "  Bandwidth X    Freq F    CF    XF         XMu        FXMu\n",
      "-------------  --------  ----  ----  ----------  ----------\n",
      "           10         1     1    10  235.111     235.111\n",
      "           15         2     3    30  106.778     213.556\n",
      "           20         3     6    60   28.4444     85.3333\n",
      "           25         4    10   100    0.111111    0.444444\n",
      "           30         2    12    60   21.7778     43.5556\n",
      "           35         2    14    70   93.4444    186.889\n",
      "           50         1    15    50  608.444     608.444\n"
     ]
    }
   ],
   "source": [
    "# find XMu\n",
    "for i in range(len(data)):\n",
    "    xmu = math.pow((data[i][0] - mean), 2)\n",
    "    data[i].append(xmu)\n",
    "\n",
    "col_names.append(\"XMu\")  \n",
    "\n",
    "# find FXMu\n",
    "for i in range(len(data)):\n",
    "    fxmu = data[i][4] * data[i][1]\n",
    "    data[i].append(fxmu)\n",
    "\n",
    "col_names.append(\"FXMu\")\n",
    "print(tabulate(data, col_names))    "
   ]
  },
  {
   "cell_type": "code",
   "execution_count": 78,
   "metadata": {},
   "outputs": [
    {
     "name": "stdout",
     "output_type": "stream",
     "text": [
      "  Bandwidth X    Freq F    CF    XF         XMu        FXMu\n",
      "-------------  --------  ----  ----  ----------  ----------\n",
      "           10         1     1    10  235.111     235.111\n",
      "           15         2     3    30  106.778     213.556\n",
      "           20         3     6    60   28.4444     85.3333\n",
      "           25         4    10   100    0.111111    0.444444\n",
      "           30         2    12    60   21.7778     43.5556\n",
      "           35         2    14    70   93.4444    186.889\n",
      "           50         1    15    50  608.444     608.444\n",
      "Sigma FXMu:  1373.3333333333333\n"
     ]
    }
   ],
   "source": [
    "# find sigma_FXMu\n",
    "sigma_fxmu = 0\n",
    "for i in range(len(data)):\n",
    "    sigma_fxmu += data[i][5]\n",
    "\n",
    "print(tabulate(data, col_names))\n",
    "print(\"Sigma FXMu: \",sigma_fxmu)    "
   ]
  },
  {
   "cell_type": "code",
   "execution_count": 79,
   "metadata": {},
   "outputs": [
    {
     "name": "stdout",
     "output_type": "stream",
     "text": [
      "  Bandwidth X    Freq F    CF    XF         XMu        FXMu\n",
      "-------------  --------  ----  ----  ----------  ----------\n",
      "           10         1     1    10  235.111     235.111\n",
      "           15         2     3    30  106.778     213.556\n",
      "           20         3     6    60   28.4444     85.3333\n",
      "           25         4    10   100    0.111111    0.444444\n",
      "           30         2    12    60   21.7778     43.5556\n",
      "           35         2    14    70   93.4444    186.889\n",
      "           50         1    15    50  608.444     608.444\n",
      "Standard Deviation:  2.4705674861666305\n"
     ]
    }
   ],
   "source": [
    "# find std\n",
    "std = math.sqrt(sigma_fxmu) / sigma_f\n",
    "print(tabulate(data, col_names))\n",
    "print(\"Standard Deviation: \", std)"
   ]
  },
  {
   "cell_type": "code",
   "execution_count": 80,
   "metadata": {},
   "outputs": [
    {
     "name": "stdout",
     "output_type": "stream",
     "text": [
      "  Bandwidth X    Freq F    CF    XF         XMu        FXMu\n",
      "-------------  --------  ----  ----  ----------  ----------\n",
      "           10         1     1    10  235.111     235.111\n",
      "           15         2     3    30  106.778     213.556\n",
      "           20         3     6    60   28.4444     85.3333\n",
      "           25         4    10   100    0.111111    0.444444\n",
      "           30         2    12    60   21.7778     43.5556\n",
      "           35         2    14    70   93.4444    186.889\n",
      "           50         1    15    50  608.444     608.444\n",
      "Skewness:  0.134921768055216\n"
     ]
    }
   ],
   "source": [
    "# find skewness\n",
    "skewness = (mean - modus) / std\n",
    "print(tabulate(data, col_names))\n",
    "print(\"Skewness: \", skewness)"
   ]
  },
  {
   "cell_type": "markdown",
   "metadata": {},
   "source": [
    "Skewness: 1.83"
   ]
  },
  {
   "cell_type": "code",
   "execution_count": 81,
   "metadata": {},
   "outputs": [
    {
     "name": "stdout",
     "output_type": "stream",
     "text": [
      "  Bandwidth X    Freq F    CF    XF         XMu        FXMu            MMu4           FXMu4\n",
      "-------------  --------  ----  ----  ----------  ----------  --------------  --------------\n",
      "           10         1     1    10  235.111     235.111      55277.2         55277.2\n",
      "           15         2     3    30  106.778     213.556      11401.5         22803\n",
      "           20         3     6    60   28.4444     85.3333       809.086        2427.26\n",
      "           25         4    10   100    0.111111    0.444444       0.0123457       0.0493827\n",
      "           30         2    12    60   21.7778     43.5556       474.272         948.543\n",
      "           35         2    14    70   93.4444    186.889       8731.86        17463.7\n",
      "           50         1    15    50  608.444     608.444     370205          370205\n"
     ]
    }
   ],
   "source": [
    "# find MMu4\n",
    "for i in range(len(data)):\n",
    "    mmu4 = math.pow((data[i][0] - mean), 4)\n",
    "    data[i].append(mmu4)\n",
    "\n",
    "col_names.append(\"MMu4\")\n",
    "\n",
    "# find FXMu4\n",
    "for i in range(len(data)):\n",
    "    fxmu4 = data[i][6] * data[i][1]\n",
    "    data[i].append(fxmu4)\n",
    "\n",
    "col_names.append(\"FXMu4\")   \n",
    "print(tabulate(data, col_names)) "
   ]
  },
  {
   "cell_type": "code",
   "execution_count": 82,
   "metadata": {},
   "outputs": [
    {
     "name": "stdout",
     "output_type": "stream",
     "text": [
      "  Bandwidth X    Freq F    CF    XF         XMu        FXMu            MMu4           FXMu4\n",
      "-------------  --------  ----  ----  ----------  ----------  --------------  --------------\n",
      "           10         1     1    10  235.111     235.111      55277.2         55277.2\n",
      "           15         2     3    30  106.778     213.556      11401.5         22803\n",
      "           20         3     6    60   28.4444     85.3333       809.086        2427.26\n",
      "           25         4    10   100    0.111111    0.444444       0.0123457       0.0493827\n",
      "           30         2    12    60   21.7778     43.5556       474.272         948.543\n",
      "           35         2    14    70   93.4444    186.889       8731.86        17463.7\n",
      "           50         1    15    50  608.444     608.444     370205          370205\n",
      "Sigma FXMu4:  469124.4444444445\n"
     ]
    }
   ],
   "source": [
    "# find sigma_FXMu4\n",
    "sigma_fxmu4 = 0\n",
    "for i in range(len(data)):\n",
    "    sigma_fxmu4 += data[i][7]\n",
    "\n",
    "print(tabulate(data, col_names))\n",
    "print(\"Sigma FXMu4: \", sigma_fxmu4)"
   ]
  },
  {
   "cell_type": "code",
   "execution_count": 83,
   "metadata": {},
   "outputs": [
    {
     "name": "stdout",
     "output_type": "stream",
     "text": [
      "std4:  37.25519890260631 \n",
      "\n",
      "  Bandwidth X    Freq F    CF    XF         XMu        FXMu            MMu4           FXMu4\n",
      "-------------  --------  ----  ----  ----------  ----------  --------------  --------------\n",
      "           10         1     1    10  235.111     235.111      55277.2         55277.2\n",
      "           15         2     3    30  106.778     213.556      11401.5         22803\n",
      "           20         3     6    60   28.4444     85.3333       809.086        2427.26\n",
      "           25         4    10   100    0.111111    0.444444       0.0123457       0.0493827\n",
      "           30         2    12    60   21.7778     43.5556       474.272         948.543\n",
      "           35         2    14    70   93.4444    186.889       8731.86        17463.7\n",
      "           50         1    15    50  608.444     608.444     370205          370205\n",
      "Kurtosis:  5.382728555395371\n"
     ]
    }
   ],
   "source": [
    "# find std4\n",
    "std4 = math.pow(std, 4)\n",
    "print(\"std4: \", std4, \"\\n\")\n",
    "\n",
    "# find curtosis\n",
    "curtosis = ((1 / sigma_f) * sigma_fxmu4) / std4\n",
    "curtosis_root4 = math.pow(curtosis, 1/4)\n",
    "\n",
    "print(tabulate(data, col_names))\n",
    "print(\"Kurtosis: \", curtosis_root4)"
   ]
  },
  {
   "cell_type": "markdown",
   "metadata": {},
   "source": [
    "Kurtosis: 5.92"
   ]
  },
  {
   "cell_type": "code",
   "execution_count": 84,
   "metadata": {},
   "outputs": [
    {
     "data": {
      "image/png": "[encoded data removed]",
      "text/plain": [
       "<Figure size 640x480 with 1 Axes>"
      ]
     },
     "metadata": {},
     "output_type": "display_data"
    }
   ],
   "source": [
    "import numpy as np\n",
    "import matplotlib.pyplot as plt\n",
    "from scipy.stats import norm\n",
    "\n",
    "midpoints = [row[0] for row in data]\n",
    "frequencies = [row[1] for row in data]\n",
    "\n",
    "colors = ['red' if (mid < lower_bound or mid > upper_bound) else 'green' for mid in midpoints]\n",
    "\n",
    "plt.bar(midpoints, frequencies, width=4, alpha=0.6, color=colors, label='Data')\n",
    "\n",
    "mean = np.mean(midpoints)\n",
    "std_dev = np.std(midpoints)\n",
    "x = np.linspace(min(midpoints) - 10, max(midpoints) + 10, 100)\n",
    "\n",
    "hist_area = sum(frequencies) * (midpoints[1] - midpoints[0])\n",
    "y = norm.pdf(x, mean, std_dev) * hist_area\n",
    "\n",
    "plt.plot(x, y, color='orange', label='Normal Distribution')\n",
    "\n",
    "plt.axvline(mean, color='b', linestyle='--', linewidth=1, label=f'Mean: {mean:.2f}')\n",
    "plt.axvline(modus, color='r', linestyle='--', linewidth=1, label=f'Modus: {modus:.2f}')\n",
    "\n",
    "plt.axvline(lower_bound, color='purple', linestyle='-', linewidth=1, label=f'IQR Min: {lower_bound:.2f}')\n",
    "plt.axvline(upper_bound, color='purple', linestyle='-', linewidth=1, label=f'IQR Max: {upper_bound:.2f}')\n",
    "\n",
    "plt.xlabel('Bandwidth X')\n",
    "plt.ylabel('Freq F')\n",
    "plt.title('Graph')\n",
    "plt.legend()\n",
    "\n",
    "plt.show()"
   ]
  }
 ],
 "metadata": {
  "kernelspec": {
   "display_name": "Python 3",
   "language": "python",
   "name": "python3"
  },
  "language_info": {
   "codemirror_mode": {
    "name": "ipython",
    "version": 3
   },
   "file_extension": ".py",
   "mimetype": "text/x-python",
   "name": "python",
   "nbconvert_exporter": "python",
   "pygments_lexer": "ipython3",
   "version": "3.12.4"
  }
 },
 "nbformat": 4,
 "nbformat_minor": 2
}
