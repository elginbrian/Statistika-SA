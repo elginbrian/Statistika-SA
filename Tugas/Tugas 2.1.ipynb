{
 "cells": [
  {
   "cell_type": "markdown",
   "metadata": {},
   "source": [
    "## Permasalahan Part A. Permutasi, Kombinasi, dan Probabilitas. \n",
    "Seorang administrator jaringan di perusahaan teknologi informasi ingin membuat kata sandi baru untuk server mereka. Kata sandi tersebut harus terdiri dari 6 karakter yang diambil dari huruf-huruf \"A\", \"B\", \"C\", \"D\", \"E\", dan \"F\". Berapa banyak cara yang berbeda dapat digunakan untuk menyusun kata sandi tersebut jika setiap karakter hanya boleh digunakan satu kali? "
   ]
  },
  {
   "cell_type": "code",
   "execution_count": 46,
   "metadata": {},
   "outputs": [
    {
     "name": "stdout",
     "output_type": "stream",
     "text": [
      "Possible case:  720 \n",
      "\n",
      "ABCDEF ABCDFE ABCEDF ABCEFD ABCFDE ABCFED ABDCEF ABDCFE ABDECF ABDEFC ABDFCE ABDFEC ABECDF ABECFD ABEDCF ABEDFC ABEFCD ABEFDC ABFCDE ABFCED ABFDCE ABFDEC ABFECD ABFEDC ACBDEF ACBDFE ACBEDF ACBEFD ACBFDE ACBFED ACDBEF ACDBFE ACDEBF ACDEFB ACDFBE ACDFEB ACEBDF ACEBFD ACEDBF ACEDFB ACEFBD ACEFDB ACFBDE ACFBED ACFDBE ACFDEB ACFEBD ACFEDB ADBCEF ADBCFE ADBECF ADBEFC ADBFCE ADBFEC ADCBEF ADCBFE ADCEBF ADCEFB ADCFBE ADCFEB \n",
      "\n",
      "ADEBCF ADEBFC ADECBF ADECFB ADEFBC ADEFCB ADFBCE ADFBEC ADFCBE ADFCEB ADFEBC ADFECB AEBCDF AEBCFD AEBDCF AEBDFC AEBFCD AEBFDC AECBDF AECBFD AECDBF AECDFB AECFBD AECFDB AEDBCF AEDBFC AEDCBF AEDCFB AEDFBC AEDFCB AEFBCD AEFBDC AEFCBD AEFCDB AEFDBC AEFDCB AFBCDE AFBCED AFBDCE AFBDEC AFBECD AFBEDC AFCBDE AFCBED AFCDBE AFCDEB AFCEBD AFCEDB AFDBCE AFDBEC AFDCBE AFDCEB AFDEBC AFDECB AFEBCD AFEBDC AFECBD AFECDB AFEDBC AFEDCB \n",
      "\n",
      "BACDEF BACDFE BACEDF BACEFD BACFDE BACFED BADCEF BADCFE BADECF BADEFC BADFCE BADFEC BAECDF BAECFD BAEDCF BAEDFC BAEFCD BAEFDC BAFCDE BAFCED BAFDCE BAFDEC BAFECD BAFEDC BCADEF BCADFE BCAEDF BCAEFD BCAFDE BCAFED BCDAEF BCDAFE BCDEAF BCDEFA BCDFAE BCDFEA BCEADF BCEAFD BCEDAF BCEDFA BCEFAD BCEFDA BCFADE BCFAED BCFDAE BCFDEA BCFEAD BCFEDA BDACEF BDACFE BDAECF BDAEFC BDAFCE BDAFEC BDCAEF BDCAFE BDCEAF BDCEFA BDCFAE BDCFEA \n",
      "\n",
      "BDEACF BDEAFC BDECAF BDECFA BDEFAC BDEFCA BDFACE BDFAEC BDFCAE BDFCEA BDFEAC BDFECA BEACDF BEACFD BEADCF BEADFC BEAFCD BEAFDC BECADF BECAFD BECDAF BECDFA BECFAD BECFDA BEDACF BEDAFC BEDCAF BEDCFA BEDFAC BEDFCA BEFACD BEFADC BEFCAD BEFCDA BEFDAC BEFDCA BFACDE BFACED BFADCE BFADEC BFAECD BFAEDC BFCADE BFCAED BFCDAE BFCDEA BFCEAD BFCEDA BFDACE BFDAEC BFDCAE BFDCEA BFDEAC BFDECA BFEACD BFEADC BFECAD BFECDA BFEDAC BFEDCA \n",
      "\n",
      "CABDEF CABDFE CABEDF CABEFD CABFDE CABFED CADBEF CADBFE CADEBF CADEFB CADFBE CADFEB CAEBDF CAEBFD CAEDBF CAEDFB CAEFBD CAEFDB CAFBDE CAFBED CAFDBE CAFDEB CAFEBD CAFEDB CBADEF CBADFE CBAEDF CBAEFD CBAFDE CBAFED CBDAEF CBDAFE CBDEAF CBDEFA CBDFAE CBDFEA CBEADF CBEAFD CBEDAF CBEDFA CBEFAD CBEFDA CBFADE CBFAED CBFDAE CBFDEA CBFEAD CBFEDA CDABEF CDABFE CDAEBF CDAEFB CDAFBE CDAFEB CDBAEF CDBAFE CDBEAF CDBEFA CDBFAE CDBFEA \n",
      "\n",
      "CDEABF CDEAFB CDEBAF CDEBFA CDEFAB CDEFBA CDFABE CDFAEB CDFBAE CDFBEA CDFEAB CDFEBA CEABDF CEABFD CEADBF CEADFB CEAFBD CEAFDB CEBADF CEBAFD CEBDAF CEBDFA CEBFAD CEBFDA CEDABF CEDAFB CEDBAF CEDBFA CEDFAB CEDFBA CEFABD CEFADB CEFBAD CEFBDA CEFDAB CEFDBA CFABDE CFABED CFADBE CFADEB CFAEBD CFAEDB CFBADE CFBAED CFBDAE CFBDEA CFBEAD CFBEDA CFDABE CFDAEB CFDBAE CFDBEA CFDEAB CFDEBA CFEABD CFEADB CFEBAD CFEBDA CFEDAB CFEDBA \n",
      "\n",
      "DABCEF DABCFE DABECF DABEFC DABFCE DABFEC DACBEF DACBFE DACEBF DACEFB DACFBE DACFEB DAEBCF DAEBFC DAECBF DAECFB DAEFBC DAEFCB DAFBCE DAFBEC DAFCBE DAFCEB DAFEBC DAFECB DBACEF DBACFE DBAECF DBAEFC DBAFCE DBAFEC DBCAEF DBCAFE DBCEAF DBCEFA DBCFAE DBCFEA DBEACF DBEAFC DBECAF DBECFA DBEFAC DBEFCA DBFACE DBFAEC DBFCAE DBFCEA DBFEAC DBFECA DCABEF DCABFE DCAEBF DCAEFB DCAFBE DCAFEB DCBAEF DCBAFE DCBEAF DCBEFA DCBFAE DCBFEA \n",
      "\n",
      "DCEABF DCEAFB DCEBAF DCEBFA DCEFAB DCEFBA DCFABE DCFAEB DCFBAE DCFBEA DCFEAB DCFEBA DEABCF DEABFC DEACBF DEACFB DEAFBC DEAFCB DEBACF DEBAFC DEBCAF DEBCFA DEBFAC DEBFCA DECABF DECAFB DECBAF DECBFA DECFAB DECFBA DEFABC DEFACB DEFBAC DEFBCA DEFCAB DEFCBA DFABCE DFABEC DFACBE DFACEB DFAEBC DFAECB DFBACE DFBAEC DFBCAE DFBCEA DFBEAC DFBECA DFCABE DFCAEB DFCBAE DFCBEA DFCEAB DFCEBA DFEABC DFEACB DFEBAC DFEBCA DFECAB DFECBA \n",
      "\n",
      "EABCDF EABCFD EABDCF EABDFC EABFCD EABFDC EACBDF EACBFD EACDBF EACDFB EACFBD EACFDB EADBCF EADBFC EADCBF EADCFB EADFBC EADFCB EAFBCD EAFBDC EAFCBD EAFCDB EAFDBC EAFDCB EBACDF EBACFD EBADCF EBADFC EBAFCD EBAFDC EBCADF EBCAFD EBCDAF EBCDFA EBCFAD EBCFDA EBDACF EBDAFC EBDCAF EBDCFA EBDFAC EBDFCA EBFACD EBFADC EBFCAD EBFCDA EBFDAC EBFDCA ECABDF ECABFD ECADBF ECADFB ECAFBD ECAFDB ECBADF ECBAFD ECBDAF ECBDFA ECBFAD ECBFDA \n",
      "\n",
      "ECDABF ECDAFB ECDBAF ECDBFA ECDFAB ECDFBA ECFABD ECFADB ECFBAD ECFBDA ECFDAB ECFDBA EDABCF EDABFC EDACBF EDACFB EDAFBC EDAFCB EDBACF EDBAFC EDBCAF EDBCFA EDBFAC EDBFCA EDCABF EDCAFB EDCBAF EDCBFA EDCFAB EDCFBA EDFABC EDFACB EDFBAC EDFBCA EDFCAB EDFCBA EFABCD EFABDC EFACBD EFACDB EFADBC EFADCB EFBACD EFBADC EFBCAD EFBCDA EFBDAC EFBDCA EFCABD EFCADB EFCBAD EFCBDA EFCDAB EFCDBA EFDABC EFDACB EFDBAC EFDBCA EFDCAB EFDCBA \n",
      "\n",
      "FABCDE FABCED FABDCE FABDEC FABECD FABEDC FACBDE FACBED FACDBE FACDEB FACEBD FACEDB FADBCE FADBEC FADCBE FADCEB FADEBC FADECB FAEBCD FAEBDC FAECBD FAECDB FAEDBC FAEDCB FBACDE FBACED FBADCE FBADEC FBAECD FBAEDC FBCADE FBCAED FBCDAE FBCDEA FBCEAD FBCEDA FBDACE FBDAEC FBDCAE FBDCEA FBDEAC FBDECA FBEACD FBEADC FBECAD FBECDA FBEDAC FBEDCA FCABDE FCABED FCADBE FCADEB FCAEBD FCAEDB FCBADE FCBAED FCBDAE FCBDEA FCBEAD FCBEDA \n",
      "\n",
      "FCDABE FCDAEB FCDBAE FCDBEA FCDEAB FCDEBA FCEABD FCEADB FCEBAD FCEBDA FCEDAB FCEDBA FDABCE FDABEC FDACBE FDACEB FDAEBC FDAECB FDBACE FDBAEC FDBCAE FDBCEA FDBEAC FDBECA FDCABE FDCAEB FDCBAE FDCBEA FDCEAB FDCEBA FDEABC FDEACB FDEBAC FDEBCA FDECAB FDECBA FEABCD FEABDC FEACBD FEACDB FEADBC FEADCB FEBACD FEBADC FEBCAD FEBCDA FEBDAC FEBDCA FECABD FECADB FECBAD FECBDA FECDAB FECDBA FEDABC FEDACB FEDBAC FEDBCA FEDCAB FEDCBA \n",
      "\n"
     ]
    }
   ],
   "source": [
    "from itertools import permutations \n",
    "from itertools import combinations\n",
    "\n",
    "# Generate all permutations of length 6\n",
    "perm = [''.join(p) for p in permutations('ABCDEF', 6)]\n",
    "\n",
    "# Count the number of permutations\n",
    "amount = len(perm)\n",
    "print(\"Possible case: \", amount, \"\\n\")\n",
    "\n",
    "count = 0\n",
    "for permutation in perm:\n",
    "    count += 1\n",
    "    print(permutation, \"\", end=\"\")\n",
    "    if(count == 60):\n",
    "        print(\"\\n\")\n",
    "        count = 0"
   ]
  },
  {
   "cell_type": "markdown",
   "metadata": {},
   "source": [
    "Sebuah perusahaan teknologi informasi memiliki 8 ahli keamanan jaringan dan ingin membentuk tim yang terdiri dari 3 ahli untuk mengerjakan proyek khusus. Berapa banyak cara berbeda dapat dipilih 3 ahli dari 8 ahli yang tersedia? "
   ]
  },
  {
   "cell_type": "code",
   "execution_count": 47,
   "metadata": {},
   "outputs": [
    {
     "name": "stdout",
     "output_type": "stream",
     "text": [
      "Possible case:  56 \n",
      "\n",
      "A B C   A B D   A B E   A B F   A B G   A B H   A C D   A C E   A C F   A C G   A C H   A D E   A D F   A D G   A D H   A E F   A E G   A E H   A F G   A F H   \n",
      "\n",
      "A G H   B C D   B C E   B C F   B C G   B C H   B D E   B D F   B D G   B D H   B E F   B E G   B E H   B F G   B F H   B G H   C D E   C D F   C D G   C D H   \n",
      "\n",
      "C E F   C E G   C E H   C F G   C F H   C G H   D E F   D E G   D E H   D F G   D F H   D G H   E F G   E F H   E G H   F G H   "
     ]
    }
   ],
   "source": [
    "comb = [' '.join(p) for p in combinations('ABCDEFGH', 3)]\n",
    "\n",
    "# Count the number of permutations\n",
    "amount = len(comb)\n",
    "print(\"Possible case: \", amount, \"\\n\")\n",
    "\n",
    "count = 0\n",
    "for combination in comb:\n",
    "    count += 1\n",
    "    print(combination, \"  \", end=\"\")\n",
    "    if(count == 20):\n",
    "        print(\"\\n\")\n",
    "        count = 0"
   ]
  },
  {
   "cell_type": "markdown",
   "metadata": {},
   "source": [
    "Sebuah perusahaan teknologi informasi mencatat aktivitas server mereka. Dari 100 log aktivitas server, ditemukan bahwa: \n",
    "- 60 log menunjukkan aktivitas normal \n",
    "- 25 log menunjukkan aktivitas yang mencurigakan \n",
    "- 15 log menunjukkan aktivitas yang mengarah ke serangan siber \n",
    "\n",
    "Jika sebuah log aktivitas server dipilih secara acak, berapakah probabilitas bahwa log tersebut menunjukkan aktivitas yang mencurigakan atau mengarah ke serangan siber? "
   ]
  },
  {
   "cell_type": "code",
   "execution_count": 48,
   "metadata": {},
   "outputs": [
    {
     "name": "stdout",
     "output_type": "stream",
     "text": [
      "Probability:  0.4\n"
     ]
    }
   ],
   "source": [
    "total_logs = 100\n",
    "normal_logs = 60\n",
    "suspicious_logs = 25\n",
    "cyber_attack_logs = 15\n",
    "\n",
    "suspicious_or_cyber_attack = suspicious_logs + cyber_attack_logs\n",
    "\n",
    "probability = suspicious_or_cyber_attack / total_logs\n",
    "\n",
    "print(\"Probability: \", probability)"
   ]
  },
  {
   "cell_type": "markdown",
   "metadata": {},
   "source": [
    "Sebuah Perusahaan teknologi informasi memiliki dua jenis server: Server A dan Server B. Data pemeliharaan selama satu tahun terakhir menunjukkan informasi berikut: \n",
    "- Total jumlah server: 100 \n",
    "- Server A: total 60 server, dengan 15 server membutuhkan pemeliharaan. \n",
    "- Server B: total 40 server, dengan 5 server membutuhkan pemeliharaan. \n",
    "\n",
    "Jika sebuah server dipilih secara acak dan diketahui bahwa server tersebut membutuhkan pemeliharaan, berapakah peluang bahwa server tersebut adalah Server A? "
   ]
  },
  {
   "cell_type": "code",
   "execution_count": 49,
   "metadata": {},
   "outputs": [
    {
     "name": "stdout",
     "output_type": "stream",
     "text": [
      "Probability:  0.75\n"
     ]
    }
   ],
   "source": [
    "total_servers = 100\n",
    "servers_A_total = 60\n",
    "servers_A_maintenance = 15\n",
    "servers_B_total = 40\n",
    "servers_B_maintenance = 5\n",
    "\n",
    "total_maintenance = servers_A_maintenance + servers_B_maintenance\n",
    "\n",
    "probability_A = servers_A_maintenance / total_maintenance\n",
    "\n",
    "print(\"Probability: \", probability_A)"
   ]
  }
 ],
 "metadata": {
  "kernelspec": {
   "display_name": "Python 3",
   "language": "python",
   "name": "python3"
  },
  "language_info": {
   "codemirror_mode": {
    "name": "ipython",
    "version": 3
   },
   "file_extension": ".py",
   "mimetype": "text/x-python",
   "name": "python",
   "nbconvert_exporter": "python",
   "pygments_lexer": "ipython3",
   "version": "3.12.4"
  }
 },
 "nbformat": 4,
 "nbformat_minor": 2
}
