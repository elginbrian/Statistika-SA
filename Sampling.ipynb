{
 "cells": [
  {
   "cell_type": "markdown",
   "metadata": {},
   "source": [
    "### RANGKUMAN TEKNIK SAMPLING \n",
    "- Populasi merupakan wilayah generalisasi atau keseluruhan dari sesuatu yang sedang dipelajari karakteristiknya. \n",
    "- Sampel merupakan bagian dari dari populasi.\n",
    "- Jadi sampel adalah sebagian dari keseluruhan obyek yang akan diteliti atau dievaluasi yang memiliki karakteristik tertentu dari sebuah populasi.\n",
    "- Cara menentukan sampel disebut dengan teknik sampling atau teknik penyampelan."
   ]
  },
  {
   "cell_type": "code",
   "execution_count": 5,
   "metadata": {},
   "outputs": [],
   "source": [
    "import random\n",
    "import pandas as pd\n",
    "from faker import Faker\n",
    "\n",
    "fake = Faker('id_ID')\n",
    "\n",
    "names = set()\n",
    "while len(names) < 50:\n",
    "    names.add(fake.name())\n",
    "\n",
    "names = list(names)\n",
    "\n",
    "cities = [\"Jakarta\", \"Surabaya\", \"Malang\", \"Yogyakarta\"]\n",
    "education = [\"SD\", \"SMP\", \"SMA\", \"PT\"]\n",
    "jobs = [\"Guru\", \"Dokter\", \"Insinyur\", \"Akuntan\", \"Developer\", \"Desainer\", \"Polisi\"]\n",
    "genders = [\"Laki-laki\", \"Perempuan\"]\n",
    "\n",
    "data = []\n",
    "\n",
    "for name in names:\n",
    "    item = {\n",
    "        \"Nama\": name,\n",
    "        \"Umur\": random.randint(18, 65),\n",
    "        \"Kota\": random.choice(cities),\n",
    "        \"Pendidikan Terakhir\": random.choice(education),\n",
    "        \"Jenis Pekerjaan\": random.choice(jobs),\n",
    "        \"Jenis Kelamin\": random.choice(genders)\n",
    "    }\n",
    "    data.append(item)\n",
    "\n",
    "df = pd.DataFrame(data)\n",
    "df.to_csv(\"sampling.csv\", index=False)"
   ]
  },
  {
   "cell_type": "code",
   "execution_count": 6,
   "metadata": {},
   "outputs": [
    {
     "name": "stdout",
     "output_type": "stream",
     "text": [
      "+----+-------------------------------+--------+------------+-----------------------+-------------------+-----------------+\n",
      "|    | Nama                          |   Umur | Kota       | Pendidikan Terakhir   | Jenis Pekerjaan   | Jenis Kelamin   |\n",
      "|----+-------------------------------+--------+------------+-----------------------+-------------------+-----------------|\n",
      "|  0 | Shania Sinaga                 |     57 | Malang     | SMP                   | Polisi            | Perempuan       |\n",
      "|  1 | Diah Mandala                  |     46 | Jakarta    | SD                    | Akuntan           | Perempuan       |\n",
      "|  2 | Yunita Sinaga                 |     37 | Surabaya   | SD                    | Developer         | Laki-laki       |\n",
      "|  3 | drg. Setya Januar, S.Pd       |     51 | Yogyakarta | SMA                   | Desainer          | Laki-laki       |\n",
      "|  4 | Vanya Megantara               |     25 | Surabaya   | SD                    | Insinyur          | Perempuan       |\n",
      "|  5 | Dr. Titi Rajata, M.M.         |     38 | Yogyakarta | SMP                   | Dokter            | Perempuan       |\n",
      "|  6 | Jamil Thamrin                 |     64 | Malang     | PT                    | Insinyur          | Perempuan       |\n",
      "|  7 | T. Bagas Suartini, S.H.       |     47 | Surabaya   | SD                    | Developer         | Laki-laki       |\n",
      "|  8 | Zulfa Thamrin                 |     20 | Surabaya   | PT                    | Developer         | Laki-laki       |\n",
      "|  9 | Usyi Manullang                |     30 | Malang     | SMP                   | Insinyur          | Laki-laki       |\n",
      "| 10 | Samiah Nurdiyanti             |     43 | Jakarta    | SMP                   | Insinyur          | Laki-laki       |\n",
      "| 11 | Dadi Prastuti                 |     64 | Jakarta    | PT                    | Developer         | Perempuan       |\n",
      "| 12 | Gabriella Wastuti             |     59 | Surabaya   | PT                    | Desainer          | Perempuan       |\n",
      "| 13 | Fitria Safitri                |     56 | Malang     | SMP                   | Insinyur          | Perempuan       |\n",
      "| 14 | Kayun Putra                   |     50 | Malang     | SMP                   | Polisi            | Perempuan       |\n",
      "| 15 | Julia Kuswoyo                 |     36 | Jakarta    | SMA                   | Desainer          | Laki-laki       |\n",
      "| 16 | Yunita Putra, S.Psi           |     24 | Surabaya   | SD                    | Dokter            | Perempuan       |\n",
      "| 17 | Wardi Sirait                  |     25 | Surabaya   | SMP                   | Desainer          | Laki-laki       |\n",
      "| 18 | Hari Pratiwi                  |     25 | Jakarta    | SMA                   | Developer         | Perempuan       |\n",
      "| 19 | Sabrina Prasasta, M.Kom.      |     63 | Jakarta    | SD                    | Developer         | Perempuan       |\n",
      "| 20 | drg. Cakrabirawa Uyainah      |     21 | Yogyakarta | SD                    | Polisi            | Laki-laki       |\n",
      "| 21 | Kenzie Gunawan                |     55 | Jakarta    | PT                    | Desainer          | Perempuan       |\n",
      "| 22 | Ade Agustina, S.Pt            |     31 | Jakarta    | SMA                   | Guru              | Perempuan       |\n",
      "| 23 | Jabal Permadi, S.Ked          |     31 | Jakarta    | SMP                   | Dokter            | Perempuan       |\n",
      "| 24 | H. Bahuwirya Rajasa           |     41 | Surabaya   | SD                    | Akuntan           | Perempuan       |\n",
      "| 25 | Damar Budiman                 |     43 | Yogyakarta | SD                    | Akuntan           | Perempuan       |\n",
      "| 26 | Kambali Maryati               |     46 | Malang     | SMP                   | Desainer          | Laki-laki       |\n",
      "| 27 | Asmuni Natsir                 |     25 | Surabaya   | SMP                   | Guru              | Laki-laki       |\n",
      "| 28 | Paris Suartini                |     59 | Malang     | SD                    | Akuntan           | Laki-laki       |\n",
      "| 29 | Cengkal Irawan                |     25 | Surabaya   | SMA                   | Dokter            | Laki-laki       |\n",
      "| 30 | Ian Melani                    |     18 | Surabaya   | SMA                   | Dokter            | Laki-laki       |\n",
      "| 31 | Cagak Marbun                  |     52 | Yogyakarta | PT                    | Polisi            | Laki-laki       |\n",
      "| 32 | Irwan Tarihoran               |     46 | Jakarta    | SMA                   | Insinyur          | Perempuan       |\n",
      "| 33 | Margana Fujiati               |     39 | Jakarta    | SD                    | Akuntan           | Laki-laki       |\n",
      "| 34 | KH. Adika Prayoga             |     42 | Surabaya   | PT                    | Guru              | Perempuan       |\n",
      "| 35 | Chandra Sihombing             |     40 | Jakarta    | SMP                   | Akuntan           | Laki-laki       |\n",
      "| 36 | Nadia Saefullah               |     26 | Jakarta    | SMA                   | Guru              | Perempuan       |\n",
      "| 37 | Makuta Hartati                |     52 | Yogyakarta | SMA                   | Guru              | Perempuan       |\n",
      "| 38 | Bella Najmudin                |     28 | Yogyakarta | SMP                   | Desainer          | Perempuan       |\n",
      "| 39 | Gara Kuswandari               |     47 | Jakarta    | PT                    | Polisi            | Perempuan       |\n",
      "| 40 | Samiah Halimah                |     39 | Yogyakarta | PT                    | Dokter            | Perempuan       |\n",
      "| 41 | Karimah Sihombing             |     55 | Malang     | SMP                   | Developer         | Perempuan       |\n",
      "| 42 | Yani Purnawati                |     44 | Malang     | SD                    | Polisi            | Perempuan       |\n",
      "| 43 | drg. Balijan Mangunsong, M.M. |     44 | Surabaya   | SMP                   | Akuntan           | Perempuan       |\n",
      "| 44 | Daru Uwais                    |     29 | Surabaya   | SMA                   | Akuntan           | Laki-laki       |\n",
      "| 45 | Maman Waskita                 |     24 | Yogyakarta | SD                    | Insinyur          | Laki-laki       |\n",
      "| 46 | Lantar Yuniar                 |     18 | Yogyakarta | SMA                   | Dokter            | Perempuan       |\n",
      "| 47 | Zelaya Hastuti, S.E.          |     48 | Malang     | SMP                   | Desainer          | Laki-laki       |\n",
      "| 48 | Dt. Aslijan Tampubolon        |     57 | Surabaya   | PT                    | Dokter            | Laki-laki       |\n",
      "| 49 | Pardi Tamba                   |     31 | Malang     | SMP                   | Akuntan           | Perempuan       |\n",
      "+----+-------------------------------+--------+------------+-----------------------+-------------------+-----------------+\n"
     ]
    }
   ],
   "source": [
    "from tabulate import tabulate\n",
    "print(tabulate(df, headers='keys', tablefmt='psql'))"
   ]
  },
  {
   "cell_type": "markdown",
   "metadata": {},
   "source": [
    "### A. Teknik Sampling Probabilitas\n",
    "- Probability sampling adalah teknik pengambilan sampel yang memberikan peluang yang sama bagi setiap unsur (anggota) populasi untuk dipilih menjadi anggota sampel. \n",
    "- Teknik ini merupakan teknik yang memungkinkan peneliti atau evaluator untuk membuat generalisasi dari karakteristik sampel menjadi karakteristik populasi. "
   ]
  },
  {
   "cell_type": "markdown",
   "metadata": {},
   "source": [
    "#### 1. Simple Random Sampling\n",
    "Penyampelan acak sederhana, memiliki maksud bahwa sebanyak n sampel diambil dari populasi N dan tiap anggota populasi mempunyai peluang yang sama untuk terambil.  \n",
    "\n",
    "Terdapat 3 (tiga) cara untuk menentukan sampel dengan mengunakan teknik ini, yaitu:\n",
    "- Cara undian \n",
    "- Mengambil perwakilan dari setiap beberapa baris\n",
    "- Menggunakan komputer untuk memberi hasil acak"
   ]
  },
  {
   "cell_type": "code",
   "execution_count": 7,
   "metadata": {},
   "outputs": [
    {
     "name": "stdout",
     "output_type": "stream",
     "text": [
      "+--------------------------+--------+------------+-----------------------+-------------------+-----------------+\n",
      "| Nama                     |   Umur | Kota       | Pendidikan Terakhir   | Jenis Pekerjaan   | Jenis Kelamin   |\n",
      "|--------------------------+--------+------------+-----------------------+-------------------+-----------------|\n",
      "| Yunita Sinaga            |     37 | Surabaya   | SD                    | Developer         | Laki-laki       |\n",
      "| Jamil Thamrin            |     64 | Malang     | PT                    | Insinyur          | Perempuan       |\n",
      "| Usyi Manullang           |     30 | Malang     | SMP                   | Insinyur          | Laki-laki       |\n",
      "| Yunita Putra, S.Psi      |     24 | Surabaya   | SD                    | Dokter            | Perempuan       |\n",
      "| Sabrina Prasasta, M.Kom. |     63 | Jakarta    | SD                    | Developer         | Perempuan       |\n",
      "| Kambali Maryati          |     46 | Malang     | SMP                   | Desainer          | Laki-laki       |\n",
      "| Ian Melani               |     18 | Surabaya   | SMA                   | Dokter            | Laki-laki       |\n",
      "| Chandra Sihombing        |     40 | Jakarta    | SMP                   | Akuntan           | Laki-laki       |\n",
      "| Yani Purnawati           |     44 | Malang     | SD                    | Polisi            | Perempuan       |\n",
      "| Lantar Yuniar            |     18 | Yogyakarta | SMA                   | Dokter            | Perempuan       |\n",
      "+--------------------------+--------+------------+-----------------------+-------------------+-----------------+\n"
     ]
    }
   ],
   "source": [
    "# Contoh mengambil 1 perwakilan untuk setiap 5 baris (total 10 sampel)\n",
    "sample = []\n",
    "count = 1\n",
    "temp = []\n",
    "for i in range(0, len(df)):\n",
    "    temp.append(df.iloc[i])\n",
    "    count += 1\n",
    "\n",
    "    if count % 5 == 0:\n",
    "        sample.append(random.choice(temp))\n",
    "        temp = []\n",
    "        \n",
    "print(tabulate(sample, headers='keys', tablefmt='psql'))"
   ]
  },
  {
   "cell_type": "code",
   "execution_count": 8,
   "metadata": {},
   "outputs": [
    {
     "name": "stdout",
     "output_type": "stream",
     "text": [
      "+-------------------------------+--------+------------+-----------------------+-------------------+-----------------+\n",
      "| Nama                          |   Umur | Kota       | Pendidikan Terakhir   | Jenis Pekerjaan   | Jenis Kelamin   |\n",
      "|-------------------------------+--------+------------+-----------------------+-------------------+-----------------|\n",
      "| KH. Adika Prayoga             |     42 | Surabaya   | PT                    | Guru              | Perempuan       |\n",
      "| Diah Mandala                  |     46 | Jakarta    | SD                    | Akuntan           | Perempuan       |\n",
      "| Karimah Sihombing             |     55 | Malang     | SMP                   | Developer         | Perempuan       |\n",
      "| Zulfa Thamrin                 |     20 | Surabaya   | PT                    | Developer         | Laki-laki       |\n",
      "| T. Bagas Suartini, S.H.       |     47 | Surabaya   | SD                    | Developer         | Laki-laki       |\n",
      "| Daru Uwais                    |     29 | Surabaya   | SMA                   | Akuntan           | Laki-laki       |\n",
      "| Fitria Safitri                |     56 | Malang     | SMP                   | Insinyur          | Perempuan       |\n",
      "| Makuta Hartati                |     52 | Yogyakarta | SMA                   | Guru              | Perempuan       |\n",
      "| drg. Balijan Mangunsong, M.M. |     44 | Surabaya   | SMP                   | Akuntan           | Perempuan       |\n",
      "| Bella Najmudin                |     28 | Yogyakarta | SMP                   | Desainer          | Perempuan       |\n",
      "+-------------------------------+--------+------------+-----------------------+-------------------+-----------------+\n"
     ]
    }
   ],
   "source": [
    "# Contoh mengambil 10 sampel secara random\n",
    "sample = random.sample(df.to_dict('records'), 10)\n",
    "print(tabulate(sample, headers='keys', tablefmt='psql'))"
   ]
  },
  {
   "cell_type": "markdown",
   "metadata": {},
   "source": [
    "#### 2. Stratified Random Sampling\n",
    "Pada penyampelan jenis ini, anggota populasi dikelompokkan berdasarkan stratanya, misal tinggi, sedang, dan rendah. Kemudian dipilih sampel yang mewakili masing-masing strata.\n",
    "\n",
    "Langkah-langkah dalam menentukan Stratified Random sampling: \n",
    "- Menentukan data pendukung tentang populasi yang diambil berikut strata-strata yang ada di dalamnya\n",
    "- Mengklasifikasikan populasi ke dalam grup atau strata yang saling lepas\n",
    "- Menentukan ukuran sample untuk tiap stratum\n",
    "- Memilih secara acak setiap stratum dengan menggunakan simple random sampling "
   ]
  },
  {
   "cell_type": "code",
   "execution_count": 9,
   "metadata": {},
   "outputs": [
    {
     "name": "stdout",
     "output_type": "stream",
     "text": [
      "Jumlah lulusan SD:  13\n",
      "Jumlah lulusan SMP:  16\n",
      "Jumlah lulusan SMA:  11\n",
      "Jumlah lulusan PT:  10\n",
      "\n",
      "Jumlah sample SD:  2\n",
      "Jumlah sample SMP:  3\n",
      "Jumlah sample SMA:  2\n",
      "Jumlah sample PT:  2\n",
      "\n",
      "Hasil sample: \n",
      "+-------------------------+--------+------------+-----------------------+-------------------+-----------------+\n",
      "| Nama                    |   Umur | Kota       | Pendidikan Terakhir   | Jenis Pekerjaan   | Jenis Kelamin   |\n",
      "|-------------------------+--------+------------+-----------------------+-------------------+-----------------|\n",
      "| T. Bagas Suartini, S.H. |     47 | Surabaya   | SD                    | Developer         | Laki-laki       |\n",
      "| Maman Waskita           |     24 | Yogyakarta | SD                    | Insinyur          | Laki-laki       |\n",
      "| Wardi Sirait            |     25 | Surabaya   | SMP                   | Desainer          | Laki-laki       |\n",
      "| Zelaya Hastuti, S.E.    |     48 | Malang     | SMP                   | Desainer          | Laki-laki       |\n",
      "| Kayun Putra             |     50 | Malang     | SMP                   | Polisi            | Perempuan       |\n",
      "| Cengkal Irawan          |     25 | Surabaya   | SMA                   | Dokter            | Laki-laki       |\n",
      "| Hari Pratiwi            |     25 | Jakarta    | SMA                   | Developer         | Perempuan       |\n",
      "| Gara Kuswandari         |     47 | Jakarta    | PT                    | Polisi            | Perempuan       |\n",
      "| Dadi Prastuti           |     64 | Jakarta    | PT                    | Developer         | Perempuan       |\n",
      "+-------------------------+--------+------------+-----------------------+-------------------+-----------------+\n"
     ]
    }
   ],
   "source": [
    "# Mensampling berdasarkan pendidikan terakhir\n",
    "sd = []\n",
    "smp = []\n",
    "sma = []\n",
    "pt = []\n",
    "\n",
    "for i in range(len(df)):\n",
    "    if df.iloc[i]['Pendidikan Terakhir'] == 'SD':\n",
    "        sd.append(df.iloc[i])\n",
    "    elif df.iloc[i]['Pendidikan Terakhir'] == 'SMP':\n",
    "        smp.append(df.iloc[i])\n",
    "    elif df.iloc[i]['Pendidikan Terakhir'] == 'SMA':\n",
    "        sma.append(df.iloc[i])\n",
    "    elif df.iloc[i]['Pendidikan Terakhir'] == 'PT':\n",
    "        pt.append(df.iloc[i])\n",
    "\n",
    "print(\"Jumlah lulusan SD: \", len(sd))\n",
    "print(\"Jumlah lulusan SMP: \", len(smp))\n",
    "print(\"Jumlah lulusan SMA: \", len(sma))\n",
    "print(\"Jumlah lulusan PT: \", len(pt))\n",
    "\n",
    "# ambil 20% dari setiap jenjang pendidikan\n",
    "sd_sample = random.sample(sd, int(len(sd) * 0.2))\n",
    "smp_sample = random.sample(smp, int(len(smp) * 0.2))\n",
    "sma_sample = random.sample(sma, int(len(sma) * 0.2))\n",
    "pt_sample = random.sample(pt, int(len(pt) * 0.2))\n",
    "\n",
    "print(\"\\nJumlah sample SD: \", len(sd_sample))\n",
    "print(\"Jumlah sample SMP: \", len(smp_sample))\n",
    "print(\"Jumlah sample SMA: \", len(sma_sample))\n",
    "print(\"Jumlah sample PT: \", len(pt_sample))\n",
    "\n",
    "print(\"\\nHasil sample: \")\n",
    "sample = sd_sample + smp_sample + sma_sample + pt_sample\n",
    "print(tabulate(sample, headers='keys', tablefmt='psql'))"
   ]
  },
  {
   "cell_type": "markdown",
   "metadata": {},
   "source": [
    "#### 3. Sistematic Sampling \n",
    "Penyampelan dengan cara ini dilakukan dengan mengurutkan terlebih dahulu semua anggota, kemudian dipili urutan tertentu untuk dijadikan anggota sampel. "
   ]
  },
  {
   "cell_type": "code",
   "execution_count": 10,
   "metadata": {},
   "outputs": [
    {
     "name": "stdout",
     "output_type": "stream",
     "text": [
      "+----+-------------------------------+--------+------------+-----------------------+-------------------+-----------------+\n",
      "|    | Nama                          |   Umur | Kota       | Pendidikan Terakhir   | Jenis Pekerjaan   | Jenis Kelamin   |\n",
      "|----+-------------------------------+--------+------------+-----------------------+-------------------+-----------------|\n",
      "| 22 | Ade Agustina, S.Pt            |     31 | Jakarta    | SMA                   | Guru              | Perempuan       |\n",
      "| 27 | Asmuni Natsir                 |     25 | Surabaya   | SMP                   | Guru              | Laki-laki       |\n",
      "| 38 | Bella Najmudin                |     28 | Yogyakarta | SMP                   | Desainer          | Perempuan       |\n",
      "| 31 | Cagak Marbun                  |     52 | Yogyakarta | PT                    | Polisi            | Laki-laki       |\n",
      "| 29 | Cengkal Irawan                |     25 | Surabaya   | SMA                   | Dokter            | Laki-laki       |\n",
      "| 35 | Chandra Sihombing             |     40 | Jakarta    | SMP                   | Akuntan           | Laki-laki       |\n",
      "| 11 | Dadi Prastuti                 |     64 | Jakarta    | PT                    | Developer         | Perempuan       |\n",
      "| 25 | Damar Budiman                 |     43 | Yogyakarta | SD                    | Akuntan           | Perempuan       |\n",
      "| 44 | Daru Uwais                    |     29 | Surabaya   | SMA                   | Akuntan           | Laki-laki       |\n",
      "|  1 | Diah Mandala                  |     46 | Jakarta    | SD                    | Akuntan           | Perempuan       |\n",
      "|  5 | Dr. Titi Rajata, M.M.         |     38 | Yogyakarta | SMP                   | Dokter            | Perempuan       |\n",
      "| 48 | Dt. Aslijan Tampubolon        |     57 | Surabaya   | PT                    | Dokter            | Laki-laki       |\n",
      "| 13 | Fitria Safitri                |     56 | Malang     | SMP                   | Insinyur          | Perempuan       |\n",
      "| 12 | Gabriella Wastuti             |     59 | Surabaya   | PT                    | Desainer          | Perempuan       |\n",
      "| 39 | Gara Kuswandari               |     47 | Jakarta    | PT                    | Polisi            | Perempuan       |\n",
      "| 24 | H. Bahuwirya Rajasa           |     41 | Surabaya   | SD                    | Akuntan           | Perempuan       |\n",
      "| 18 | Hari Pratiwi                  |     25 | Jakarta    | SMA                   | Developer         | Perempuan       |\n",
      "| 30 | Ian Melani                    |     18 | Surabaya   | SMA                   | Dokter            | Laki-laki       |\n",
      "| 32 | Irwan Tarihoran               |     46 | Jakarta    | SMA                   | Insinyur          | Perempuan       |\n",
      "| 23 | Jabal Permadi, S.Ked          |     31 | Jakarta    | SMP                   | Dokter            | Perempuan       |\n",
      "|  6 | Jamil Thamrin                 |     64 | Malang     | PT                    | Insinyur          | Perempuan       |\n",
      "| 15 | Julia Kuswoyo                 |     36 | Jakarta    | SMA                   | Desainer          | Laki-laki       |\n",
      "| 34 | KH. Adika Prayoga             |     42 | Surabaya   | PT                    | Guru              | Perempuan       |\n",
      "| 26 | Kambali Maryati               |     46 | Malang     | SMP                   | Desainer          | Laki-laki       |\n",
      "| 41 | Karimah Sihombing             |     55 | Malang     | SMP                   | Developer         | Perempuan       |\n",
      "| 14 | Kayun Putra                   |     50 | Malang     | SMP                   | Polisi            | Perempuan       |\n",
      "| 21 | Kenzie Gunawan                |     55 | Jakarta    | PT                    | Desainer          | Perempuan       |\n",
      "| 46 | Lantar Yuniar                 |     18 | Yogyakarta | SMA                   | Dokter            | Perempuan       |\n",
      "| 37 | Makuta Hartati                |     52 | Yogyakarta | SMA                   | Guru              | Perempuan       |\n",
      "| 45 | Maman Waskita                 |     24 | Yogyakarta | SD                    | Insinyur          | Laki-laki       |\n",
      "| 33 | Margana Fujiati               |     39 | Jakarta    | SD                    | Akuntan           | Laki-laki       |\n",
      "| 36 | Nadia Saefullah               |     26 | Jakarta    | SMA                   | Guru              | Perempuan       |\n",
      "| 49 | Pardi Tamba                   |     31 | Malang     | SMP                   | Akuntan           | Perempuan       |\n",
      "| 28 | Paris Suartini                |     59 | Malang     | SD                    | Akuntan           | Laki-laki       |\n",
      "| 19 | Sabrina Prasasta, M.Kom.      |     63 | Jakarta    | SD                    | Developer         | Perempuan       |\n",
      "| 40 | Samiah Halimah                |     39 | Yogyakarta | PT                    | Dokter            | Perempuan       |\n",
      "| 10 | Samiah Nurdiyanti             |     43 | Jakarta    | SMP                   | Insinyur          | Laki-laki       |\n",
      "|  0 | Shania Sinaga                 |     57 | Malang     | SMP                   | Polisi            | Perempuan       |\n",
      "|  7 | T. Bagas Suartini, S.H.       |     47 | Surabaya   | SD                    | Developer         | Laki-laki       |\n",
      "|  9 | Usyi Manullang                |     30 | Malang     | SMP                   | Insinyur          | Laki-laki       |\n",
      "|  4 | Vanya Megantara               |     25 | Surabaya   | SD                    | Insinyur          | Perempuan       |\n",
      "| 17 | Wardi Sirait                  |     25 | Surabaya   | SMP                   | Desainer          | Laki-laki       |\n",
      "| 42 | Yani Purnawati                |     44 | Malang     | SD                    | Polisi            | Perempuan       |\n",
      "| 16 | Yunita Putra, S.Psi           |     24 | Surabaya   | SD                    | Dokter            | Perempuan       |\n",
      "|  2 | Yunita Sinaga                 |     37 | Surabaya   | SD                    | Developer         | Laki-laki       |\n",
      "| 47 | Zelaya Hastuti, S.E.          |     48 | Malang     | SMP                   | Desainer          | Laki-laki       |\n",
      "|  8 | Zulfa Thamrin                 |     20 | Surabaya   | PT                    | Developer         | Laki-laki       |\n",
      "| 43 | drg. Balijan Mangunsong, M.M. |     44 | Surabaya   | SMP                   | Akuntan           | Perempuan       |\n",
      "| 20 | drg. Cakrabirawa Uyainah      |     21 | Yogyakarta | SD                    | Polisi            | Laki-laki       |\n",
      "|  3 | drg. Setya Januar, S.Pd       |     51 | Yogyakarta | SMA                   | Desainer          | Laki-laki       |\n",
      "+----+-------------------------------+--------+------------+-----------------------+-------------------+-----------------+\n"
     ]
    }
   ],
   "source": [
    "sorted_df = df.sort_values(by='Nama')\n",
    "print(tabulate(sorted_df, headers='keys', tablefmt='psql'))"
   ]
  },
  {
   "cell_type": "code",
   "execution_count": 11,
   "metadata": {},
   "outputs": [
    {
     "name": "stdout",
     "output_type": "stream",
     "text": [
      "+-----------------------+--------+------------+-----------------------+-------------------+-----------------+\n",
      "| Nama                  |   Umur | Kota       | Pendidikan Terakhir   | Jenis Pekerjaan   | Jenis Kelamin   |\n",
      "|-----------------------+--------+------------+-----------------------+-------------------+-----------------|\n",
      "| Ade Agustina, S.Pt    |     31 | Jakarta    | SMA                   | Guru              | Perempuan       |\n",
      "| Chandra Sihombing     |     40 | Jakarta    | SMP                   | Akuntan           | Laki-laki       |\n",
      "| Dr. Titi Rajata, M.M. |     38 | Yogyakarta | SMP                   | Dokter            | Perempuan       |\n",
      "| H. Bahuwirya Rajasa   |     41 | Surabaya   | SD                    | Akuntan           | Perempuan       |\n",
      "| Jamil Thamrin         |     64 | Malang     | PT                    | Insinyur          | Perempuan       |\n",
      "| Kayun Putra           |     50 | Malang     | SMP                   | Polisi            | Perempuan       |\n",
      "| Margana Fujiati       |     39 | Jakarta    | SD                    | Akuntan           | Laki-laki       |\n",
      "| Samiah Halimah        |     39 | Yogyakarta | PT                    | Dokter            | Perempuan       |\n",
      "| Vanya Megantara       |     25 | Surabaya   | SD                    | Insinyur          | Perempuan       |\n",
      "| Zelaya Hastuti, S.E.  |     48 | Malang     | SMP                   | Desainer          | Laki-laki       |\n",
      "+-----------------------+--------+------------+-----------------------+-------------------+-----------------+\n"
     ]
    }
   ],
   "source": [
    "# Mengambil sampel setiap kelipatan 5\n",
    "sample = []\n",
    "for i in range(0, len(sorted_df), 5):\n",
    "    sample.append(sorted_df.iloc[i])\n",
    "\n",
    "print(tabulate(sample, headers='keys', tablefmt='psql')) "
   ]
  },
  {
   "cell_type": "markdown",
   "metadata": {},
   "source": [
    "#### 4. Cluster Sampling \n",
    "Pada penyampelan jenis ini, populasi dibagi menjadi wilayah atau klaster. Jika terpilih klasternya, seluruh anggota dalam klaster tersebut yang menjadi sampel. \n",
    "\n",
    "Langkah-langkah dalam pengambilan sample dengan cluster sampling:\n",
    "- Menentukan cluster-clusternya  \n",
    "- Menentukan banyak cluster yang akan dijadikan sample, misal n cluster \n",
    "- Memilih secara acak cluster \n",
    "- Semua anggota yang terdapat dalam klaster yang terpilih merupakan sampel "
   ]
  },
  {
   "cell_type": "code",
   "execution_count": 12,
   "metadata": {},
   "outputs": [
    {
     "name": "stdout",
     "output_type": "stream",
     "text": [
      "+-------------------------+--------+------------+-----------------------+-------------------+-----------------+\n",
      "| Nama                    |   Umur | Kota       | Pendidikan Terakhir   | Jenis Pekerjaan   | Jenis Kelamin   |\n",
      "|-------------------------+--------+------------+-----------------------+-------------------+-----------------|\n",
      "| Dr. Titi Rajata, M.M.   |     38 | Yogyakarta | SMP                   | Dokter            | Perempuan       |\n",
      "| Jamil Thamrin           |     64 | Malang     | PT                    | Insinyur          | Perempuan       |\n",
      "| T. Bagas Suartini, S.H. |     47 | Surabaya   | SD                    | Developer         | Laki-laki       |\n",
      "| Zulfa Thamrin           |     20 | Surabaya   | PT                    | Developer         | Laki-laki       |\n",
      "| Usyi Manullang          |     30 | Malang     | SMP                   | Insinyur          | Laki-laki       |\n",
      "+-------------------------+--------+------------+-----------------------+-------------------+-----------------+\n"
     ]
    }
   ],
   "source": [
    "# Misalkan terdapat 5 cluster\n",
    "temp = df\n",
    "c1 = []\n",
    "c2 = []\n",
    "c3 = []\n",
    "c4 = []\n",
    "c5 = []\n",
    "clusters = [c1, c2, c3, c4, c5]\n",
    "\n",
    "fill  = 0\n",
    "count = 0\n",
    "for i in range(len(temp)):\n",
    "    if count == 5:\n",
    "        count = 0\n",
    "        fill += 1\n",
    "        \n",
    "    if fill <= 4:    \n",
    "        clusters[fill].append(temp.iloc[i])\n",
    "    count += 1\n",
    "\n",
    "sample = random.choice(clusters)\n",
    "print(tabulate(sample, headers='keys', tablefmt='psql'))"
   ]
  },
  {
   "cell_type": "markdown",
   "metadata": {},
   "source": [
    "### B. Non Probability Sampling \n",
    "Nonprobability sampling adalah teknik pengambilan sampel yang tidak memberi peluang atau kesempatan sama bagi setiap unsur atau anggota populasi yang dipilih menjadi sampel. Teknik pengambilan sampel ini diantaranya sampling incidental, sampling bertujuan, sampling bola salju (snowball sampling), dan sampling kuota. Non probability sampling ini tidak bisa digunakan untuk membuat generalisasi. "
   ]
  },
  {
   "cell_type": "markdown",
   "metadata": {},
   "source": [
    "#### 1. Sampling Incidental\n",
    "Nonprobability sampling adalah teknik pengambilan sampel yang tidak memberi peluang atau kesempatan sama bagi setiap unsur atau anggota populasi yang dipilih menjadi sampel. Teknik pengambilan sampel ini diantaranya sampling incidental, sampling bertujuan, sampling bola salju (snowball sampling), dan sampling kuota. Non probability sampling ini tidak bisa digunakan untuk membuat generalisasi. "
   ]
  },
  {
   "cell_type": "markdown",
   "metadata": {},
   "source": [
    "#### 2. Sampling purposive \n",
    "Teknik penentuan sampel berdasarkan pertimbangan peneliti atau evaluator tentang sampel mana yang paling bermanfaat dan representative (Babbie, 2004: 183). \n",
    "Terkadang sampel yang akan diambil ditentukan berdasarkan pengetahuan tentang suatu populasi, anggota-anggotanya dan tujuan dari penelitian. Jenis sampel ini sangat baik jika dimanfaatkan untuk studi penjajagan (studi awal untuk penelitian atau evaluasi). \n"
   ]
  },
  {
   "cell_type": "code",
   "execution_count": 13,
   "metadata": {},
   "outputs": [
    {
     "name": "stdout",
     "output_type": "stream",
     "text": [
      "+--------------------------+--------+------------+-----------------------+-------------------+-----------------+\n",
      "| Nama                     |   Umur | Kota       | Pendidikan Terakhir   | Jenis Pekerjaan   | Jenis Kelamin   |\n",
      "|--------------------------+--------+------------+-----------------------+-------------------+-----------------|\n",
      "| Shania Sinaga            |     57 | Malang     | SMP                   | Polisi            | Perempuan       |\n",
      "| Kayun Putra              |     50 | Malang     | SMP                   | Polisi            | Perempuan       |\n",
      "| drg. Cakrabirawa Uyainah |     21 | Yogyakarta | SD                    | Polisi            | Laki-laki       |\n",
      "| Cagak Marbun             |     52 | Yogyakarta | PT                    | Polisi            | Laki-laki       |\n",
      "| Gara Kuswandari          |     47 | Jakarta    | PT                    | Polisi            | Perempuan       |\n",
      "| Yani Purnawati           |     44 | Malang     | SD                    | Polisi            | Perempuan       |\n",
      "+--------------------------+--------+------------+-----------------------+-------------------+-----------------+\n"
     ]
    }
   ],
   "source": [
    "# Mengambil sampel hanya yang berprofesi sebagai Polisi\n",
    "sample = []\n",
    "\n",
    "for i in range(len(df)):\n",
    "    if df.iloc[i]['Jenis Pekerjaan'] == 'Polisi':\n",
    "        sample.append(df.iloc[i])\n",
    "\n",
    "print(tabulate(sample, headers='keys', tablefmt='psql'))  "
   ]
  },
  {
   "cell_type": "markdown",
   "metadata": {},
   "source": [
    "#### 3. Sampling Bola Salju\n",
    "Sampling snowball dapat dilakukan jika keberadaan dari suatu populasi sulit untuk ditemukan. Dengan kata lain, cara ini banyak dipakai ketika peneliti atau evaluator tidak banyak tahu tentang populasi penelitian aau evaluasinya. Pada sampling bola salju, peneliti mengumpulkan data dari beberapa sampel yang dapat ditemukan oleh peneliti sendiri, selanjutnya peneliti meminta individu yang telah dijadikan sampel tersebut untuk memberitahukan keberadaan anggota yang lainnya yang tidak dapat ditemukan oleh peneliti untuk dapat melengkapi data (Babbie, 2004: 184)."
   ]
  },
  {
   "cell_type": "code",
   "execution_count": 28,
   "metadata": {},
   "outputs": [
    {
     "name": "stdout",
     "output_type": "stream",
     "text": [
      "Memilih 3 orang acak:\n",
      "+-----------------+--------+------------+-----------------------+-------------------+-----------------+\n",
      "| Nama            |   Umur | Kota       | Pendidikan Terakhir   | Jenis Pekerjaan   | Jenis Kelamin   |\n",
      "|-----------------+--------+------------+-----------------------+-------------------+-----------------|\n",
      "| Dadi Prastuti   |     64 | Jakarta    | PT                    | Developer         | Perempuan       |\n",
      "| Lantar Yuniar   |     18 | Yogyakarta | SMA                   | Dokter            | Perempuan       |\n",
      "| Margana Fujiati |     39 | Jakarta    | SD                    | Akuntan           | Laki-laki       |\n",
      "+-----------------+--------+------------+-----------------------+-------------------+-----------------+\n",
      "Sample hasil rekomendasi:\n",
      "+--------------------------+--------+------------+-----------------------+-------------------+-----------------+-----------------+\n",
      "| Nama                     |   Umur | Kota       | Pendidikan Terakhir   | Jenis Pekerjaan   | Jenis Kelamin   | Saran           |\n",
      "|--------------------------+--------+------------+-----------------------+-------------------+-----------------+-----------------|\n",
      "| Dadi Prastuti            |     64 | Jakarta    | PT                    | Developer         | Perempuan       |                 |\n",
      "| Lantar Yuniar            |     18 | Yogyakarta | SMA                   | Dokter            | Perempuan       |                 |\n",
      "| Margana Fujiati          |     39 | Jakarta    | SD                    | Akuntan           | Laki-laki       |                 |\n",
      "| Sabrina Prasasta, M.Kom. |     63 | Jakarta    | SD                    | Developer         | Perempuan       | Dadi Prastuti   |\n",
      "| Ade Agustina, S.Pt       |     31 | Jakarta    | SMA                   | Guru              | Perempuan       | Dadi Prastuti   |\n",
      "| Julia Kuswoyo            |     36 | Jakarta    | SMA                   | Desainer          | Laki-laki       | Dadi Prastuti   |\n",
      "| Dr. Titi Rajata, M.M.    |     38 | Yogyakarta | SMP                   | Dokter            | Perempuan       | Lantar Yuniar   |\n",
      "| drg. Setya Januar, S.Pd  |     51 | Yogyakarta | SMA                   | Desainer          | Laki-laki       | Lantar Yuniar   |\n",
      "| Maman Waskita            |     24 | Yogyakarta | SD                    | Insinyur          | Laki-laki       | Lantar Yuniar   |\n",
      "| Chandra Sihombing        |     40 | Jakarta    | SMP                   | Akuntan           | Laki-laki       | Margana Fujiati |\n",
      "| Sabrina Prasasta, M.Kom. |     63 | Jakarta    | SD                    | Developer         | Perempuan       | Margana Fujiati |\n",
      "| Sabrina Prasasta, M.Kom. |     63 | Jakarta    | SD                    | Developer         | Perempuan       | Margana Fujiati |\n",
      "+--------------------------+--------+------------+-----------------------+-------------------+-----------------+-----------------+\n"
     ]
    }
   ],
   "source": [
    "# Misalkan memilih 3 orang acak, dan 3 orang tersebut memberi rekomendasi 3 orang lain di kota yg bersangkutan\n",
    "\n",
    "# Memilih 3 orang acak\n",
    "random_people = random.sample(df.to_dict('records'), 3)\n",
    "print(\"Memilih 3 orang acak:\")\n",
    "print(tabulate(random_people, headers='keys', tablefmt='psql'))\n",
    "\n",
    "recommendations = []\n",
    "for person in random_people:\n",
    "    city = person['Kota']\n",
    "    same_city_people = df[(df['Kota'] == city) & (df['Nama'] != person['Nama'])]\n",
    "    recommended_people = same_city_people.sample(3, replace=True).to_dict('records')\n",
    "\n",
    "    for recommended in recommended_people:\n",
    "        recommended['Saran'] = person['Nama']\n",
    "\n",
    "    recommendations.extend(recommended_people)\n",
    "\n",
    "sample = random_people + recommendations\n",
    "\n",
    "# Hasil \n",
    "print(\"Sample hasil rekomendasi:\")\n",
    "print(tabulate(sample, headers='keys', tablefmt='psql'))\n"
   ]
  },
  {
   "cell_type": "markdown",
   "metadata": {},
   "source": [
    "#### 4. Sampling Quota \n",
    "Teknik sampling kuota adalah teknik menentukan sampel dari populasi yang mempunyai ciri-ciri tertentu sampai jumlah (kuota) yang diinginkan.  Pada sampling kuota, dimulai dengan membuat tabel atau matriks yang berisi penjabaran karakteristik dari populasi yang ingin dicapai atau karakteristik populasi yang sesuai dengan tujuan dari penelitian untuk selanjutnya ditentukan sampel yang memenuhi ciri-ciri dari populasi tersebut. "
   ]
  },
  {
   "cell_type": "code",
   "execution_count": 15,
   "metadata": {},
   "outputs": [
    {
     "name": "stdout",
     "output_type": "stream",
     "text": [
      "+---------------------+--------+------------+-----------------------+-------------------+-----------------+\n",
      "| Nama                |   Umur | Kota       | Pendidikan Terakhir   | Jenis Pekerjaan   | Jenis Kelamin   |\n",
      "|---------------------+--------+------------+-----------------------+-------------------+-----------------|\n",
      "| Diah Mandala        |     46 | Jakarta    | SD                    | Akuntan           | Perempuan       |\n",
      "| Ade Agustina, S.Pt  |     31 | Jakarta    | SMA                   | Guru              | Perempuan       |\n",
      "| Nadia Saefullah     |     26 | Jakarta    | SMA                   | Guru              | Perempuan       |\n",
      "| Yunita Putra, S.Psi |     24 | Surabaya   | SD                    | Dokter            | Perempuan       |\n",
      "| Asmuni Natsir       |     25 | Surabaya   | SMP                   | Guru              | Laki-laki       |\n",
      "| KH. Adika Prayoga   |     42 | Surabaya   | PT                    | Guru              | Perempuan       |\n",
      "| Usyi Manullang      |     30 | Malang     | SMP                   | Insinyur          | Laki-laki       |\n",
      "| Karimah Sihombing   |     55 | Malang     | SMP                   | Developer         | Perempuan       |\n",
      "| Paris Suartini      |     59 | Malang     | SD                    | Akuntan           | Laki-laki       |\n",
      "| Makuta Hartati      |     52 | Yogyakarta | SMA                   | Guru              | Perempuan       |\n",
      "| Damar Budiman       |     43 | Yogyakarta | SD                    | Akuntan           | Perempuan       |\n",
      "| Bella Najmudin      |     28 | Yogyakarta | SMP                   | Desainer          | Perempuan       |\n",
      "+---------------------+--------+------------+-----------------------+-------------------+-----------------+\n"
     ]
    }
   ],
   "source": [
    "# Misalkan mengambil 3 sampel untuk setiap kota\n",
    "sample = []\n",
    "\n",
    "for city in cities:\n",
    "    city_df = df[df['Kota'] == city]\n",
    "    quota = 3\n",
    "    city_sample = random.sample(city_df.to_dict('records'), quota)\n",
    "    for selec in city_sample:\n",
    "        sample.append(selec)\n",
    "\n",
    "print(tabulate(sample, headers='keys', tablefmt='psql'))\n"
   ]
  }
 ],
 "metadata": {
  "kernelspec": {
   "display_name": "Python 3",
   "language": "python",
   "name": "python3"
  },
  "language_info": {
   "codemirror_mode": {
    "name": "ipython",
    "version": 3
   },
   "file_extension": ".py",
   "mimetype": "text/x-python",
   "name": "python",
   "nbconvert_exporter": "python",
   "pygments_lexer": "ipython3",
   "version": "3.12.4"
  }
 },
 "nbformat": 4,
 "nbformat_minor": 2
}
