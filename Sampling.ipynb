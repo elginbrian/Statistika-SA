{
 "cells": [
  {
   "cell_type": "markdown",
   "metadata": {},
   "source": [
    "### RANGKUMAN TEKNIK SAMPLING \n",
    "- Populasi merupakan wilayah generalisasi atau keseluruhan dari sesuatu yang sedang dipelajari karakteristiknya. \n",
    "- Sampel merupakan bagian dari dari populasi.\n",
    "- Jadi sampel adalah sebagian dari keseluruhan obyek yang akan diteliti atau dievaluasi yang memiliki karakteristik tertentu dari sebuah populasi.\n",
    "- Cara menentukan sampel disebut dengan teknik sampling atau teknik penyampelan."
   ]
  },
  {
   "cell_type": "code",
   "execution_count": 2,
   "metadata": {},
   "outputs": [],
   "source": [
    "import random\n",
    "import pandas as pd\n",
    "from faker import Faker\n",
    "\n",
    "fake = Faker('id_ID')\n",
    "\n",
    "names = set()\n",
    "while len(names) < 50:\n",
    "    names.add(fake.name())\n",
    "\n",
    "names = list(names)\n",
    "\n",
    "cities = [\"Jakarta\", \"Surabaya\", \"Malang\", \"Yogyakarta\"]\n",
    "education = [\"SD\", \"SMP\", \"SMA\", \"PT\"]\n",
    "jobs = [\"Guru\", \"Dokter\", \"Insinyur\", \"Akuntan\", \"Developer\", \"Desainer\", \"Polisi\"]\n",
    "genders = [\"Laki-laki\", \"Perempuan\"]\n",
    "\n",
    "data = []\n",
    "\n",
    "for name in names:\n",
    "    item = {\n",
    "        \"Nama\": name,\n",
    "        \"Umur\": random.randint(18, 65),\n",
    "        \"Kota\": random.choice(cities),\n",
    "        \"Pendidikan Terakhir\": random.choice(education),\n",
    "        \"Jenis Pekerjaan\": random.choice(jobs),\n",
    "        \"Jenis Kelamin\": random.choice(genders)\n",
    "    }\n",
    "    data.append(item)\n",
    "\n",
    "df = pd.DataFrame(data)\n",
    "df.to_csv(\"sampling.csv\", index=False)"
   ]
  },
  {
   "cell_type": "code",
   "execution_count": 3,
   "metadata": {},
   "outputs": [
    {
     "name": "stdout",
     "output_type": "stream",
     "text": [
      "+----+------------------------------+--------+------------+-----------------------+-------------------+-----------------+\n",
      "|    | Nama                         |   Umur | Kota       | Pendidikan Terakhir   | Jenis Pekerjaan   | Jenis Kelamin   |\n",
      "|----+------------------------------+--------+------------+-----------------------+-------------------+-----------------|\n",
      "|  0 | Oliva Palastri               |     28 | Yogyakarta | SD                    | Desainer          | Laki-laki       |\n",
      "|  1 | Kayun Nurdiyanti, S.Kom      |     45 | Yogyakarta | PT                    | Developer         | Laki-laki       |\n",
      "|  2 | Mahesa Wibowo                |     28 | Surabaya   | SMA                   | Desainer          | Perempuan       |\n",
      "|  3 | Darimin Tarihoran            |     61 | Malang     | SD                    | Akuntan           | Perempuan       |\n",
      "|  4 | Cakrabirawa Wibisono, M.M.   |     19 | Malang     | PT                    | Insinyur          | Perempuan       |\n",
      "|  5 | Rika Maulana                 |     53 | Malang     | SD                    | Dokter            | Laki-laki       |\n",
      "|  6 | Maras Mardhiyah              |     28 | Malang     | SMA                   | Dokter            | Laki-laki       |\n",
      "|  7 | Bakijan Waskita              |     31 | Surabaya   | PT                    | Akuntan           | Perempuan       |\n",
      "|  8 | Hj. Puput Saragih            |     24 | Jakarta    | PT                    | Dokter            | Perempuan       |\n",
      "|  9 | Dono Kurniawan               |     34 | Yogyakarta | SD                    | Polisi            | Laki-laki       |\n",
      "| 10 | Olivia Sitorus, S.I.Kom      |     46 | Yogyakarta | SD                    | Guru              | Perempuan       |\n",
      "| 11 | Johan Hariyah, M.Kom.        |     42 | Surabaya   | SMA                   | Developer         | Perempuan       |\n",
      "| 12 | Salman Padmasari             |     26 | Jakarta    | SMA                   | Insinyur          | Perempuan       |\n",
      "| 13 | Himawan Irawan               |     60 | Surabaya   | SMA                   | Developer         | Perempuan       |\n",
      "| 14 | dr. Jumadi Andriani          |     24 | Yogyakarta | SD                    | Guru              | Perempuan       |\n",
      "| 15 | Maya Waskita                 |     33 | Malang     | PT                    | Akuntan           | Laki-laki       |\n",
      "| 16 | R. Ratna Irawan, S.Sos       |     33 | Jakarta    | PT                    | Developer         | Laki-laki       |\n",
      "| 17 | Natalia Suryono              |     54 | Yogyakarta | SMA                   | Dokter            | Laki-laki       |\n",
      "| 18 | drg. Unggul Budiyanto, S.Pd  |     50 | Yogyakarta | SMP                   | Akuntan           | Laki-laki       |\n",
      "| 19 | Zizi Santoso                 |     36 | Surabaya   | SMA                   | Akuntan           | Perempuan       |\n",
      "| 20 | Dina Rahmawati               |     27 | Yogyakarta | PT                    | Dokter            | Perempuan       |\n",
      "| 21 | Mutia Pudjiastuti            |     47 | Malang     | SMA                   | Developer         | Perempuan       |\n",
      "| 22 | Tgk. Hafshah Saputra, S.Pt   |     40 | Jakarta    | SMA                   | Polisi            | Perempuan       |\n",
      "| 23 | Drs. Tasnim Salahudin        |     30 | Surabaya   | SMA                   | Polisi            | Perempuan       |\n",
      "| 24 | dr. Eka Santoso, S.Farm      |     64 | Malang     | SMA                   | Dokter            | Perempuan       |\n",
      "| 25 | Sutan Jinawi Nababan, S.Pt   |     42 | Jakarta    | PT                    | Guru              | Laki-laki       |\n",
      "| 26 | Sutan Ganda Hidayat, M.TI.   |     21 | Surabaya   | PT                    | Polisi            | Perempuan       |\n",
      "| 27 | Drs. Cakrabirawa Andriani    |     40 | Surabaya   | SMP                   | Polisi            | Laki-laki       |\n",
      "| 28 | Dalima Gunawan               |     44 | Jakarta    | SD                    | Guru              | Laki-laki       |\n",
      "| 29 | Vanya Mangunsong             |     38 | Malang     | SMP                   | Polisi            | Laki-laki       |\n",
      "| 30 | Cahyadi Sitorus, S.Kom       |     18 | Malang     | SMP                   | Insinyur          | Perempuan       |\n",
      "| 31 | Anastasia Lestari, M.Farm    |     48 | Malang     | SD                    | Insinyur          | Perempuan       |\n",
      "| 32 | Elvina Wulandari             |     65 | Malang     | SMP                   | Desainer          | Perempuan       |\n",
      "| 33 | Dr. Saadat Marbun, M.Kom.    |     28 | Surabaya   | SMP                   | Insinyur          | Perempuan       |\n",
      "| 34 | Mala Laksita                 |     60 | Malang     | SMP                   | Guru              | Laki-laki       |\n",
      "| 35 | Ian Kusmawati                |     64 | Yogyakarta | SD                    | Developer         | Perempuan       |\n",
      "| 36 | R.A. Yunita Mustofa, M.Farm  |     35 | Yogyakarta | SD                    | Akuntan           | Perempuan       |\n",
      "| 37 | Warsita Maulana, S.Psi       |     61 | Surabaya   | SMP                   | Desainer          | Perempuan       |\n",
      "| 38 | Sarah Hassanah               |     62 | Yogyakarta | SD                    | Guru              | Laki-laki       |\n",
      "| 39 | T. Ibrani Saragih, S.Farm    |     30 | Jakarta    | PT                    | Developer         | Perempuan       |\n",
      "| 40 | drg. Zelda Mandasari, S.Farm |     57 | Jakarta    | SMP                   | Dokter            | Perempuan       |\n",
      "| 41 | Ana Sihombing                |     42 | Jakarta    | PT                    | Guru              | Perempuan       |\n",
      "| 42 | Jarwi Samosir                |     42 | Yogyakarta | SD                    | Insinyur          | Perempuan       |\n",
      "| 43 | Prakosa Zulaika, M.M.        |     19 | Yogyakarta | SMA                   | Developer         | Perempuan       |\n",
      "| 44 | Salsabila Maryadi, M.TI.     |     22 | Jakarta    | SMP                   | Guru              | Laki-laki       |\n",
      "| 45 | dr. Juli Nasyidah, M.Pd      |     37 | Jakarta    | SMA                   | Guru              | Perempuan       |\n",
      "| 46 | Drs. Adiarja Wulandari, S.H. |     65 | Malang     | PT                    | Polisi            | Laki-laki       |\n",
      "| 47 | Victoria Ardianto            |     53 | Jakarta    | SMP                   | Desainer          | Perempuan       |\n",
      "| 48 | Tgk. Cakrabirawa Mahendra    |     50 | Yogyakarta | SMP                   | Desainer          | Laki-laki       |\n",
      "| 49 | Rika Nuraini                 |     62 | Jakarta    | PT                    | Polisi            | Laki-laki       |\n",
      "+----+------------------------------+--------+------------+-----------------------+-------------------+-----------------+\n"
     ]
    }
   ],
   "source": [
    "from tabulate import tabulate\n",
    "print(tabulate(df, headers='keys', tablefmt='psql'))"
   ]
  },
  {
   "cell_type": "markdown",
   "metadata": {},
   "source": [
    "### A. Teknik Sampling Probabilitas\n",
    "- Probability sampling adalah teknik pengambilan sampel yang memberikan peluang yang sama bagi setiap unsur (anggota) populasi untuk dipilih menjadi anggota sampel. \n",
    "- Teknik ini merupakan teknik yang memungkinkan peneliti atau evaluator untuk membuat generalisasi dari karakteristik sampel menjadi karakteristik populasi. "
   ]
  },
  {
   "cell_type": "markdown",
   "metadata": {},
   "source": [
    "#### 1. Simple Random Sampling\n",
    "Penyampelan acak sederhana, memiliki maksud bahwa sebanyak n sampel diambil dari populasi N dan tiap anggota populasi mempunyai peluang yang sama untuk terambil.  \n",
    "\n",
    "Terdapat 3 (tiga) cara untuk menentukan sampel dengan mengunakan teknik ini, yaitu:\n",
    "- Cara undian \n",
    "- Mengambil perwakilan dari setiap beberapa baris\n",
    "- Menggunakan komputer untuk memberi hasil acak"
   ]
  },
  {
   "cell_type": "code",
   "execution_count": 4,
   "metadata": {},
   "outputs": [
    {
     "name": "stdout",
     "output_type": "stream",
     "text": [
      "+------------------------------+--------+------------+-----------------------+-------------------+-----------------+\n",
      "| Nama                         |   Umur | Kota       | Pendidikan Terakhir   | Jenis Pekerjaan   | Jenis Kelamin   |\n",
      "|------------------------------+--------+------------+-----------------------+-------------------+-----------------|\n",
      "| Mahesa Wibowo                |     28 | Surabaya   | SMA                   | Desainer          | Perempuan       |\n",
      "| Rika Maulana                 |     53 | Malang     | SD                    | Dokter            | Laki-laki       |\n",
      "| Olivia Sitorus, S.I.Kom      |     46 | Yogyakarta | SD                    | Guru              | Perempuan       |\n",
      "| R. Ratna Irawan, S.Sos       |     33 | Jakarta    | PT                    | Developer         | Laki-laki       |\n",
      "| Tgk. Hafshah Saputra, S.Pt   |     40 | Jakarta    | SMA                   | Polisi            | Perempuan       |\n",
      "| Sutan Ganda Hidayat, M.TI.   |     21 | Surabaya   | PT                    | Polisi            | Perempuan       |\n",
      "| Anastasia Lestari, M.Farm    |     48 | Malang     | SD                    | Insinyur          | Perempuan       |\n",
      "| Warsita Maulana, S.Psi       |     61 | Surabaya   | SMP                   | Desainer          | Perempuan       |\n",
      "| T. Ibrani Saragih, S.Farm    |     30 | Jakarta    | PT                    | Developer         | Perempuan       |\n",
      "| Drs. Adiarja Wulandari, S.H. |     65 | Malang     | PT                    | Polisi            | Laki-laki       |\n",
      "+------------------------------+--------+------------+-----------------------+-------------------+-----------------+\n"
     ]
    }
   ],
   "source": [
    "# Contoh mengambil 1 perwakilan untuk setiap 5 baris (total 10 sampel)\n",
    "sample = []\n",
    "count = 1\n",
    "temp = []\n",
    "for i in range(0, len(df)):\n",
    "    temp.append(df.iloc[i])\n",
    "    count += 1\n",
    "\n",
    "    if count % 5 == 0:\n",
    "        sample.append(random.choice(temp))\n",
    "        temp = []\n",
    "        \n",
    "print(tabulate(sample, headers='keys', tablefmt='psql'))"
   ]
  },
  {
   "cell_type": "code",
   "execution_count": 5,
   "metadata": {},
   "outputs": [
    {
     "name": "stdout",
     "output_type": "stream",
     "text": [
      "+------------------------------+--------+------------+-----------------------+-------------------+-----------------+\n",
      "| Nama                         |   Umur | Kota       | Pendidikan Terakhir   | Jenis Pekerjaan   | Jenis Kelamin   |\n",
      "|------------------------------+--------+------------+-----------------------+-------------------+-----------------|\n",
      "| dr. Jumadi Andriani          |     24 | Yogyakarta | SD                    | Guru              | Perempuan       |\n",
      "| Prakosa Zulaika, M.M.        |     19 | Yogyakarta | SMA                   | Developer         | Perempuan       |\n",
      "| Sarah Hassanah               |     62 | Yogyakarta | SD                    | Guru              | Laki-laki       |\n",
      "| Ana Sihombing                |     42 | Jakarta    | PT                    | Guru              | Perempuan       |\n",
      "| Himawan Irawan               |     60 | Surabaya   | SMA                   | Developer         | Perempuan       |\n",
      "| drg. Zelda Mandasari, S.Farm |     57 | Jakarta    | SMP                   | Dokter            | Perempuan       |\n",
      "| R. Ratna Irawan, S.Sos       |     33 | Jakarta    | PT                    | Developer         | Laki-laki       |\n",
      "| T. Ibrani Saragih, S.Farm    |     30 | Jakarta    | PT                    | Developer         | Perempuan       |\n",
      "| Rika Maulana                 |     53 | Malang     | SD                    | Dokter            | Laki-laki       |\n",
      "| Bakijan Waskita              |     31 | Surabaya   | PT                    | Akuntan           | Perempuan       |\n",
      "+------------------------------+--------+------------+-----------------------+-------------------+-----------------+\n"
     ]
    }
   ],
   "source": [
    "# Contoh mengambil 10 sampel secara random\n",
    "sample = random.sample(df.to_dict('records'), 10)\n",
    "print(tabulate(sample, headers='keys', tablefmt='psql'))"
   ]
  },
  {
   "cell_type": "markdown",
   "metadata": {},
   "source": [
    "#### 2. Stratified Random Sampling\n",
    "Pada penyampelan jenis ini, anggota populasi dikelompokkan berdasarkan stratanya, misal tinggi, sedang, dan rendah. Kemudian dipilih sampel yang mewakili masing-masing strata.\n",
    "\n",
    "Langkah-langkah dalam menentukan Stratified Random sampling: \n",
    "- Menentukan data pendukung tentang populasi yang diambil berikut strata-strata yang ada di dalamnya\n",
    "- Mengklasifikasikan populasi ke dalam grup atau strata yang saling lepas\n",
    "- Menentukan ukuran sample untuk tiap stratum\n",
    "- Memilih secara acak setiap stratum dengan menggunakan simple random sampling "
   ]
  },
  {
   "cell_type": "code",
   "execution_count": 6,
   "metadata": {},
   "outputs": [
    {
     "name": "stdout",
     "output_type": "stream",
     "text": [
      "Jumlah lulusan SD:  12\n",
      "Jumlah lulusan SMP:  12\n",
      "Jumlah lulusan SMA:  13\n",
      "Jumlah lulusan PT:  13\n",
      "\n",
      "Jumlah sample SD:  2\n",
      "Jumlah sample SMP:  2\n",
      "Jumlah sample SMA:  2\n",
      "Jumlah sample PT:  2\n",
      "\n",
      "Hasil sample: \n",
      "+------------------------------+--------+------------+-----------------------+-------------------+-----------------+\n",
      "| Nama                         |   Umur | Kota       | Pendidikan Terakhir   | Jenis Pekerjaan   | Jenis Kelamin   |\n",
      "|------------------------------+--------+------------+-----------------------+-------------------+-----------------|\n",
      "| Darimin Tarihoran            |     61 | Malang     | SD                    | Akuntan           | Perempuan       |\n",
      "| Sarah Hassanah               |     62 | Yogyakarta | SD                    | Guru              | Laki-laki       |\n",
      "| drg. Zelda Mandasari, S.Farm |     57 | Jakarta    | SMP                   | Dokter            | Perempuan       |\n",
      "| Dr. Saadat Marbun, M.Kom.    |     28 | Surabaya   | SMP                   | Insinyur          | Perempuan       |\n",
      "| Tgk. Hafshah Saputra, S.Pt   |     40 | Jakarta    | SMA                   | Polisi            | Perempuan       |\n",
      "| Zizi Santoso                 |     36 | Surabaya   | SMA                   | Akuntan           | Perempuan       |\n",
      "| Bakijan Waskita              |     31 | Surabaya   | PT                    | Akuntan           | Perempuan       |\n",
      "| Maya Waskita                 |     33 | Malang     | PT                    | Akuntan           | Laki-laki       |\n",
      "+------------------------------+--------+------------+-----------------------+-------------------+-----------------+\n"
     ]
    }
   ],
   "source": [
    "# Mensampling berdasarkan pendidikan terakhir\n",
    "sd = []\n",
    "smp = []\n",
    "sma = []\n",
    "pt = []\n",
    "\n",
    "for i in range(len(df)):\n",
    "    if df.iloc[i]['Pendidikan Terakhir'] == 'SD':\n",
    "        sd.append(df.iloc[i])\n",
    "    elif df.iloc[i]['Pendidikan Terakhir'] == 'SMP':\n",
    "        smp.append(df.iloc[i])\n",
    "    elif df.iloc[i]['Pendidikan Terakhir'] == 'SMA':\n",
    "        sma.append(df.iloc[i])\n",
    "    elif df.iloc[i]['Pendidikan Terakhir'] == 'PT':\n",
    "        pt.append(df.iloc[i])\n",
    "\n",
    "print(\"Jumlah lulusan SD: \", len(sd))\n",
    "print(\"Jumlah lulusan SMP: \", len(smp))\n",
    "print(\"Jumlah lulusan SMA: \", len(sma))\n",
    "print(\"Jumlah lulusan PT: \", len(pt))\n",
    "\n",
    "# ambil 20% dari setiap jenjang pendidikan\n",
    "sd_sample = random.sample(sd, int(len(sd) * 0.2))\n",
    "smp_sample = random.sample(smp, int(len(smp) * 0.2))\n",
    "sma_sample = random.sample(sma, int(len(sma) * 0.2))\n",
    "pt_sample = random.sample(pt, int(len(pt) * 0.2))\n",
    "\n",
    "print(\"\\nJumlah sample SD: \", len(sd_sample))\n",
    "print(\"Jumlah sample SMP: \", len(smp_sample))\n",
    "print(\"Jumlah sample SMA: \", len(sma_sample))\n",
    "print(\"Jumlah sample PT: \", len(pt_sample))\n",
    "\n",
    "print(\"\\nHasil sample: \")\n",
    "sample = sd_sample + smp_sample + sma_sample + pt_sample\n",
    "print(tabulate(sample, headers='keys', tablefmt='psql'))"
   ]
  },
  {
   "cell_type": "markdown",
   "metadata": {},
   "source": [
    "#### 3. Sistematic Sampling \n",
    "Penyampelan dengan cara ini dilakukan dengan mengurutkan terlebih dahulu semua anggota, kemudian dipili urutan tertentu untuk dijadikan anggota sampel. "
   ]
  },
  {
   "cell_type": "code",
   "execution_count": 7,
   "metadata": {},
   "outputs": [
    {
     "name": "stdout",
     "output_type": "stream",
     "text": [
      "+----+------------------------------+--------+------------+-----------------------+-------------------+-----------------+\n",
      "|    | Nama                         |   Umur | Kota       | Pendidikan Terakhir   | Jenis Pekerjaan   | Jenis Kelamin   |\n",
      "|----+------------------------------+--------+------------+-----------------------+-------------------+-----------------|\n",
      "| 41 | Ana Sihombing                |     42 | Jakarta    | PT                    | Guru              | Perempuan       |\n",
      "| 31 | Anastasia Lestari, M.Farm    |     48 | Malang     | SD                    | Insinyur          | Perempuan       |\n",
      "|  7 | Bakijan Waskita              |     31 | Surabaya   | PT                    | Akuntan           | Perempuan       |\n",
      "| 30 | Cahyadi Sitorus, S.Kom       |     18 | Malang     | SMP                   | Insinyur          | Perempuan       |\n",
      "|  4 | Cakrabirawa Wibisono, M.M.   |     19 | Malang     | PT                    | Insinyur          | Perempuan       |\n",
      "| 28 | Dalima Gunawan               |     44 | Jakarta    | SD                    | Guru              | Laki-laki       |\n",
      "|  3 | Darimin Tarihoran            |     61 | Malang     | SD                    | Akuntan           | Perempuan       |\n",
      "| 20 | Dina Rahmawati               |     27 | Yogyakarta | PT                    | Dokter            | Perempuan       |\n",
      "|  9 | Dono Kurniawan               |     34 | Yogyakarta | SD                    | Polisi            | Laki-laki       |\n",
      "| 33 | Dr. Saadat Marbun, M.Kom.    |     28 | Surabaya   | SMP                   | Insinyur          | Perempuan       |\n",
      "| 46 | Drs. Adiarja Wulandari, S.H. |     65 | Malang     | PT                    | Polisi            | Laki-laki       |\n",
      "| 27 | Drs. Cakrabirawa Andriani    |     40 | Surabaya   | SMP                   | Polisi            | Laki-laki       |\n",
      "| 23 | Drs. Tasnim Salahudin        |     30 | Surabaya   | SMA                   | Polisi            | Perempuan       |\n",
      "| 32 | Elvina Wulandari             |     65 | Malang     | SMP                   | Desainer          | Perempuan       |\n",
      "| 13 | Himawan Irawan               |     60 | Surabaya   | SMA                   | Developer         | Perempuan       |\n",
      "|  8 | Hj. Puput Saragih            |     24 | Jakarta    | PT                    | Dokter            | Perempuan       |\n",
      "| 35 | Ian Kusmawati                |     64 | Yogyakarta | SD                    | Developer         | Perempuan       |\n",
      "| 42 | Jarwi Samosir                |     42 | Yogyakarta | SD                    | Insinyur          | Perempuan       |\n",
      "| 11 | Johan Hariyah, M.Kom.        |     42 | Surabaya   | SMA                   | Developer         | Perempuan       |\n",
      "|  1 | Kayun Nurdiyanti, S.Kom      |     45 | Yogyakarta | PT                    | Developer         | Laki-laki       |\n",
      "|  2 | Mahesa Wibowo                |     28 | Surabaya   | SMA                   | Desainer          | Perempuan       |\n",
      "| 34 | Mala Laksita                 |     60 | Malang     | SMP                   | Guru              | Laki-laki       |\n",
      "|  6 | Maras Mardhiyah              |     28 | Malang     | SMA                   | Dokter            | Laki-laki       |\n",
      "| 15 | Maya Waskita                 |     33 | Malang     | PT                    | Akuntan           | Laki-laki       |\n",
      "| 21 | Mutia Pudjiastuti            |     47 | Malang     | SMA                   | Developer         | Perempuan       |\n",
      "| 17 | Natalia Suryono              |     54 | Yogyakarta | SMA                   | Dokter            | Laki-laki       |\n",
      "|  0 | Oliva Palastri               |     28 | Yogyakarta | SD                    | Desainer          | Laki-laki       |\n",
      "| 10 | Olivia Sitorus, S.I.Kom      |     46 | Yogyakarta | SD                    | Guru              | Perempuan       |\n",
      "| 43 | Prakosa Zulaika, M.M.        |     19 | Yogyakarta | SMA                   | Developer         | Perempuan       |\n",
      "| 16 | R. Ratna Irawan, S.Sos       |     33 | Jakarta    | PT                    | Developer         | Laki-laki       |\n",
      "| 36 | R.A. Yunita Mustofa, M.Farm  |     35 | Yogyakarta | SD                    | Akuntan           | Perempuan       |\n",
      "|  5 | Rika Maulana                 |     53 | Malang     | SD                    | Dokter            | Laki-laki       |\n",
      "| 49 | Rika Nuraini                 |     62 | Jakarta    | PT                    | Polisi            | Laki-laki       |\n",
      "| 12 | Salman Padmasari             |     26 | Jakarta    | SMA                   | Insinyur          | Perempuan       |\n",
      "| 44 | Salsabila Maryadi, M.TI.     |     22 | Jakarta    | SMP                   | Guru              | Laki-laki       |\n",
      "| 38 | Sarah Hassanah               |     62 | Yogyakarta | SD                    | Guru              | Laki-laki       |\n",
      "| 26 | Sutan Ganda Hidayat, M.TI.   |     21 | Surabaya   | PT                    | Polisi            | Perempuan       |\n",
      "| 25 | Sutan Jinawi Nababan, S.Pt   |     42 | Jakarta    | PT                    | Guru              | Laki-laki       |\n",
      "| 39 | T. Ibrani Saragih, S.Farm    |     30 | Jakarta    | PT                    | Developer         | Perempuan       |\n",
      "| 48 | Tgk. Cakrabirawa Mahendra    |     50 | Yogyakarta | SMP                   | Desainer          | Laki-laki       |\n",
      "| 22 | Tgk. Hafshah Saputra, S.Pt   |     40 | Jakarta    | SMA                   | Polisi            | Perempuan       |\n",
      "| 29 | Vanya Mangunsong             |     38 | Malang     | SMP                   | Polisi            | Laki-laki       |\n",
      "| 47 | Victoria Ardianto            |     53 | Jakarta    | SMP                   | Desainer          | Perempuan       |\n",
      "| 37 | Warsita Maulana, S.Psi       |     61 | Surabaya   | SMP                   | Desainer          | Perempuan       |\n",
      "| 19 | Zizi Santoso                 |     36 | Surabaya   | SMA                   | Akuntan           | Perempuan       |\n",
      "| 24 | dr. Eka Santoso, S.Farm      |     64 | Malang     | SMA                   | Dokter            | Perempuan       |\n",
      "| 45 | dr. Juli Nasyidah, M.Pd      |     37 | Jakarta    | SMA                   | Guru              | Perempuan       |\n",
      "| 14 | dr. Jumadi Andriani          |     24 | Yogyakarta | SD                    | Guru              | Perempuan       |\n",
      "| 18 | drg. Unggul Budiyanto, S.Pd  |     50 | Yogyakarta | SMP                   | Akuntan           | Laki-laki       |\n",
      "| 40 | drg. Zelda Mandasari, S.Farm |     57 | Jakarta    | SMP                   | Dokter            | Perempuan       |\n",
      "+----+------------------------------+--------+------------+-----------------------+-------------------+-----------------+\n"
     ]
    }
   ],
   "source": [
    "sorted_df = df.sort_values(by='Nama')\n",
    "print(tabulate(sorted_df, headers='keys', tablefmt='psql'))"
   ]
  },
  {
   "cell_type": "code",
   "execution_count": 8,
   "metadata": {},
   "outputs": [
    {
     "name": "stdout",
     "output_type": "stream",
     "text": [
      "+------------------------------+--------+------------+-----------------------+-------------------+-----------------+\n",
      "| Nama                         |   Umur | Kota       | Pendidikan Terakhir   | Jenis Pekerjaan   | Jenis Kelamin   |\n",
      "|------------------------------+--------+------------+-----------------------+-------------------+-----------------|\n",
      "| Ana Sihombing                |     42 | Jakarta    | PT                    | Guru              | Perempuan       |\n",
      "| Dalima Gunawan               |     44 | Jakarta    | SD                    | Guru              | Laki-laki       |\n",
      "| Drs. Adiarja Wulandari, S.H. |     65 | Malang     | PT                    | Polisi            | Laki-laki       |\n",
      "| Hj. Puput Saragih            |     24 | Jakarta    | PT                    | Dokter            | Perempuan       |\n",
      "| Mahesa Wibowo                |     28 | Surabaya   | SMA                   | Desainer          | Perempuan       |\n",
      "| Natalia Suryono              |     54 | Yogyakarta | SMA                   | Dokter            | Laki-laki       |\n",
      "| R.A. Yunita Mustofa, M.Farm  |     35 | Yogyakarta | SD                    | Akuntan           | Perempuan       |\n",
      "| Sarah Hassanah               |     62 | Yogyakarta | SD                    | Guru              | Laki-laki       |\n",
      "| Tgk. Hafshah Saputra, S.Pt   |     40 | Jakarta    | SMA                   | Polisi            | Perempuan       |\n",
      "| dr. Eka Santoso, S.Farm      |     64 | Malang     | SMA                   | Dokter            | Perempuan       |\n",
      "+------------------------------+--------+------------+-----------------------+-------------------+-----------------+\n"
     ]
    }
   ],
   "source": [
    "# Mengambil sampel setiap kelipatan 5\n",
    "sample = []\n",
    "for i in range(0, len(sorted_df), 5):\n",
    "    sample.append(sorted_df.iloc[i])\n",
    "\n",
    "print(tabulate(sample, headers='keys', tablefmt='psql')) "
   ]
  },
  {
   "cell_type": "markdown",
   "metadata": {},
   "source": [
    "#### 4. Cluster Sampling \n",
    "Pada penyampelan jenis ini, populasi dibagi menjadi wilayah atau klaster. Jika terpilih klasternya, seluruh anggota dalam klaster tersebut yang menjadi sampel. \n",
    "\n",
    "Langkah-langkah dalam pengambilan sample dengan cluster sampling:\n",
    "- Menentukan cluster-clusternya  \n",
    "- Menentukan banyak cluster yang akan dijadikan sample, misal n cluster \n",
    "- Memilih secara acak cluster \n",
    "- Semua anggota yang terdapat dalam klaster yang terpilih merupakan sampel "
   ]
  },
  {
   "cell_type": "code",
   "execution_count": 9,
   "metadata": {},
   "outputs": [
    {
     "name": "stdout",
     "output_type": "stream",
     "text": [
      "+-----------------------------+--------+------------+-----------------------+-------------------+-----------------+\n",
      "| Nama                        |   Umur | Kota       | Pendidikan Terakhir   | Jenis Pekerjaan   | Jenis Kelamin   |\n",
      "|-----------------------------+--------+------------+-----------------------+-------------------+-----------------|\n",
      "| Maya Waskita                |     33 | Malang     | PT                    | Akuntan           | Laki-laki       |\n",
      "| R. Ratna Irawan, S.Sos      |     33 | Jakarta    | PT                    | Developer         | Laki-laki       |\n",
      "| Natalia Suryono             |     54 | Yogyakarta | SMA                   | Dokter            | Laki-laki       |\n",
      "| drg. Unggul Budiyanto, S.Pd |     50 | Yogyakarta | SMP                   | Akuntan           | Laki-laki       |\n",
      "| Zizi Santoso                |     36 | Surabaya   | SMA                   | Akuntan           | Perempuan       |\n",
      "+-----------------------------+--------+------------+-----------------------+-------------------+-----------------+\n"
     ]
    }
   ],
   "source": [
    "# Misalkan terdapat 5 cluster\n",
    "temp = df\n",
    "c1 = []\n",
    "c2 = []\n",
    "c3 = []\n",
    "c4 = []\n",
    "c5 = []\n",
    "clusters = [c1, c2, c3, c4, c5]\n",
    "\n",
    "fill  = 0\n",
    "count = 0\n",
    "for i in range(len(temp)):\n",
    "    if count == 5:\n",
    "        count = 0\n",
    "        fill += 1\n",
    "        \n",
    "    if fill <= 4:    \n",
    "        clusters[fill].append(temp.iloc[i])\n",
    "    count += 1\n",
    "\n",
    "sample = random.choice(clusters)\n",
    "print(tabulate(sample, headers='keys', tablefmt='psql'))"
   ]
  },
  {
   "cell_type": "markdown",
   "metadata": {},
   "source": [
    "### B. Non Probability Sampling \n",
    "Nonprobability sampling adalah teknik pengambilan sampel yang tidak memberi peluang atau kesempatan sama bagi setiap unsur atau anggota populasi yang dipilih menjadi sampel. Teknik pengambilan sampel ini diantaranya sampling incidental, sampling bertujuan, sampling bola salju (snowball sampling), dan sampling kuota. Non probability sampling ini tidak bisa digunakan untuk membuat generalisasi. "
   ]
  },
  {
   "cell_type": "markdown",
   "metadata": {},
   "source": [
    "#### 1. Sampling Incidental\n",
    "Nonprobability sampling adalah teknik pengambilan sampel yang tidak memberi peluang atau kesempatan sama bagi setiap unsur atau anggota populasi yang dipilih menjadi sampel. Teknik pengambilan sampel ini diantaranya sampling incidental, sampling bertujuan, sampling bola salju (snowball sampling), dan sampling kuota. Non probability sampling ini tidak bisa digunakan untuk membuat generalisasi. "
   ]
  },
  {
   "cell_type": "markdown",
   "metadata": {},
   "source": [
    "#### 2. Sampling purposive \n",
    "Teknik penentuan sampel berdasarkan pertimbangan peneliti atau evaluator tentang sampel mana yang paling bermanfaat dan representative (Babbie, 2004: 183). \n",
    "Terkadang sampel yang akan diambil ditentukan berdasarkan pengetahuan tentang suatu populasi, anggota-anggotanya dan tujuan dari penelitian. Jenis sampel ini sangat baik jika dimanfaatkan untuk studi penjajagan (studi awal untuk penelitian atau evaluasi). \n"
   ]
  },
  {
   "cell_type": "code",
   "execution_count": 10,
   "metadata": {},
   "outputs": [
    {
     "name": "stdout",
     "output_type": "stream",
     "text": [
      "+------------------------------+--------+------------+-----------------------+-------------------+-----------------+\n",
      "| Nama                         |   Umur | Kota       | Pendidikan Terakhir   | Jenis Pekerjaan   | Jenis Kelamin   |\n",
      "|------------------------------+--------+------------+-----------------------+-------------------+-----------------|\n",
      "| Dono Kurniawan               |     34 | Yogyakarta | SD                    | Polisi            | Laki-laki       |\n",
      "| Tgk. Hafshah Saputra, S.Pt   |     40 | Jakarta    | SMA                   | Polisi            | Perempuan       |\n",
      "| Drs. Tasnim Salahudin        |     30 | Surabaya   | SMA                   | Polisi            | Perempuan       |\n",
      "| Sutan Ganda Hidayat, M.TI.   |     21 | Surabaya   | PT                    | Polisi            | Perempuan       |\n",
      "| Drs. Cakrabirawa Andriani    |     40 | Surabaya   | SMP                   | Polisi            | Laki-laki       |\n",
      "| Vanya Mangunsong             |     38 | Malang     | SMP                   | Polisi            | Laki-laki       |\n",
      "| Drs. Adiarja Wulandari, S.H. |     65 | Malang     | PT                    | Polisi            | Laki-laki       |\n",
      "| Rika Nuraini                 |     62 | Jakarta    | PT                    | Polisi            | Laki-laki       |\n",
      "+------------------------------+--------+------------+-----------------------+-------------------+-----------------+\n"
     ]
    }
   ],
   "source": [
    "# Mengambil sampel hanya yang berprofesi sebagai Polisi\n",
    "sample = []\n",
    "\n",
    "for i in range(len(df)):\n",
    "    if df.iloc[i]['Jenis Pekerjaan'] == 'Polisi':\n",
    "        sample.append(df.iloc[i])\n",
    "\n",
    "print(tabulate(sample, headers='keys', tablefmt='psql'))  "
   ]
  },
  {
   "cell_type": "markdown",
   "metadata": {},
   "source": [
    "#### 3. Sampling Bola Salju\n",
    "Sampling snowball dapat dilakukan jika keberadaan dari suatu populasi sulit untuk ditemukan. Dengan kata lain, cara ini banyak dipakai ketika peneliti atau evaluator tidak banyak tahu tentang populasi penelitian aau evaluasinya. Pada sampling bola salju, peneliti mengumpulkan data dari beberapa sampel yang dapat ditemukan oleh peneliti sendiri, selanjutnya peneliti meminta individu yang telah dijadikan sampel tersebut untuk memberitahukan keberadaan anggota yang lainnya yang tidak dapat ditemukan oleh peneliti untuk dapat melengkapi data (Babbie, 2004: 184)."
   ]
  },
  {
   "cell_type": "code",
   "execution_count": 14,
   "metadata": {},
   "outputs": [
    {
     "name": "stdout",
     "output_type": "stream",
     "text": [
      "Memilih 3 orang acak:\n",
      "+---------------------------+--------+----------+-----------------------+-------------------+-----------------+\n",
      "| Nama                      |   Umur | Kota     | Pendidikan Terakhir   | Jenis Pekerjaan   | Jenis Kelamin   |\n",
      "|---------------------------+--------+----------+-----------------------+-------------------+-----------------|\n",
      "| Rika Maulana              |     53 | Malang   | SD                    | Dokter            | Laki-laki       |\n",
      "| Bakijan Waskita           |     31 | Surabaya | PT                    | Akuntan           | Perempuan       |\n",
      "| T. Ibrani Saragih, S.Farm |     30 | Jakarta  | PT                    | Developer         | Perempuan       |\n",
      "+---------------------------+--------+----------+-----------------------+-------------------+-----------------+\n",
      "Sample hasil rekomendasi:\n",
      "+------------------------------+--------+----------+-----------------------+-------------------+-----------------+---------+\n",
      "| Nama                         |   Umur | Kota     | Pendidikan Terakhir   | Jenis Pekerjaan   | Jenis Kelamin   | Saran   |\n",
      "|------------------------------+--------+----------+-----------------------+-------------------+-----------------+---------|\n",
      "| Rika Maulana                 |     53 | Malang   | SD                    | Dokter            | Laki-laki       |         |\n",
      "| Bakijan Waskita              |     31 | Surabaya | PT                    | Akuntan           | Perempuan       |         |\n",
      "| T. Ibrani Saragih, S.Farm    |     30 | Jakarta  | PT                    | Developer         | Perempuan       |         |\n",
      "| Darimin Tarihoran            |     61 | Malang   | SD                    | Akuntan           | Perempuan       | Maulana |\n",
      "| Cakrabirawa Wibisono, M.M.   |     19 | Malang   | PT                    | Insinyur          | Perempuan       | Maulana |\n",
      "| Darimin Tarihoran            |     61 | Malang   | SD                    | Akuntan           | Perempuan       | Maulana |\n",
      "| Zizi Santoso                 |     36 | Surabaya | SMA                   | Akuntan           | Perempuan       | Waskita |\n",
      "| Mahesa Wibowo                |     28 | Surabaya | SMA                   | Desainer          | Perempuan       | Waskita |\n",
      "| Warsita Maulana, S.Psi       |     61 | Surabaya | SMP                   | Desainer          | Perempuan       | Waskita |\n",
      "| Rika Nuraini                 |     62 | Jakarta  | PT                    | Polisi            | Laki-laki       | Ibrani  |\n",
      "| Tgk. Hafshah Saputra, S.Pt   |     40 | Jakarta  | SMA                   | Polisi            | Perempuan       | Ibrani  |\n",
      "| drg. Zelda Mandasari, S.Farm |     57 | Jakarta  | SMP                   | Dokter            | Perempuan       | Ibrani  |\n",
      "+------------------------------+--------+----------+-----------------------+-------------------+-----------------+---------+\n"
     ]
    }
   ],
   "source": [
    "# Misalkan memilih 3 orang acak, dan 3 orang tersebut memberi rekomendasi 3 orang lain di kota yg bersangkutan\n",
    "\n",
    "# Memilih 3 orang acak\n",
    "random_people = random.sample(df.to_dict('records'), 3)\n",
    "print(\"Memilih 3 orang acak:\")\n",
    "print(tabulate(random_people, headers='keys', tablefmt='psql'))\n",
    "\n",
    "recommendations = []\n",
    "for person in random_people:\n",
    "    city = person['Kota']\n",
    "    same_city_people = df[(df['Kota'] == city) & (df['Nama'] != person['Nama'])]\n",
    "    recommended_people = same_city_people.sample(3, replace=True).to_dict('records')\n",
    "\n",
    "    for recommended in recommended_people:\n",
    "        recommended['Saran'] = person['Nama'].split(' ')[1]\n",
    "\n",
    "    recommendations.extend(recommended_people)\n",
    "\n",
    "sample = random_people + recommendations\n",
    "\n",
    "# Hasil \n",
    "print(\"Sample hasil rekomendasi:\")\n",
    "print(tabulate(sample, headers='keys', tablefmt='psql'))\n"
   ]
  },
  {
   "cell_type": "markdown",
   "metadata": {},
   "source": [
    "#### 4. Sampling Quota \n",
    "Teknik sampling kuota adalah teknik menentukan sampel dari populasi yang mempunyai ciri-ciri tertentu sampai jumlah (kuota) yang diinginkan.  Pada sampling kuota, dimulai dengan membuat tabel atau matriks yang berisi penjabaran karakteristik dari populasi yang ingin dicapai atau karakteristik populasi yang sesuai dengan tujuan dari penelitian untuk selanjutnya ditentukan sampel yang memenuhi ciri-ciri dari populasi tersebut. "
   ]
  },
  {
   "cell_type": "code",
   "execution_count": 12,
   "metadata": {},
   "outputs": [
    {
     "name": "stdout",
     "output_type": "stream",
     "text": [
      "+---------------------------+--------+------------+-----------------------+-------------------+-----------------+\n",
      "| Nama                      |   Umur | Kota       | Pendidikan Terakhir   | Jenis Pekerjaan   | Jenis Kelamin   |\n",
      "|---------------------------+--------+------------+-----------------------+-------------------+-----------------|\n",
      "| Victoria Ardianto         |     53 | Jakarta    | SMP                   | Desainer          | Perempuan       |\n",
      "| R. Ratna Irawan, S.Sos    |     33 | Jakarta    | PT                    | Developer         | Laki-laki       |\n",
      "| Salman Padmasari          |     26 | Jakarta    | SMA                   | Insinyur          | Perempuan       |\n",
      "| Bakijan Waskita           |     31 | Surabaya   | PT                    | Akuntan           | Perempuan       |\n",
      "| Dr. Saadat Marbun, M.Kom. |     28 | Surabaya   | SMP                   | Insinyur          | Perempuan       |\n",
      "| Zizi Santoso              |     36 | Surabaya   | SMA                   | Akuntan           | Perempuan       |\n",
      "| Rika Maulana              |     53 | Malang     | SD                    | Dokter            | Laki-laki       |\n",
      "| Mutia Pudjiastuti         |     47 | Malang     | SMA                   | Developer         | Perempuan       |\n",
      "| dr. Eka Santoso, S.Farm   |     64 | Malang     | SMA                   | Dokter            | Perempuan       |\n",
      "| Dina Rahmawati            |     27 | Yogyakarta | PT                    | Dokter            | Perempuan       |\n",
      "| Sarah Hassanah            |     62 | Yogyakarta | SD                    | Guru              | Laki-laki       |\n",
      "| Olivia Sitorus, S.I.Kom   |     46 | Yogyakarta | SD                    | Guru              | Perempuan       |\n",
      "+---------------------------+--------+------------+-----------------------+-------------------+-----------------+\n"
     ]
    }
   ],
   "source": [
    "# Misalkan mengambil 3 sampel untuk setiap kota\n",
    "sample = []\n",
    "\n",
    "for city in cities:\n",
    "    city_df = df[df['Kota'] == city]\n",
    "    quota = 3\n",
    "    city_sample = random.sample(city_df.to_dict('records'), quota)\n",
    "    for selec in city_sample:\n",
    "        sample.append(selec)\n",
    "\n",
    "print(tabulate(sample, headers='keys', tablefmt='psql'))\n"
   ]
  }
 ],
 "metadata": {
  "kernelspec": {
   "display_name": "Python 3",
   "language": "python",
   "name": "python3"
  },
  "language_info": {
   "codemirror_mode": {
    "name": "ipython",
    "version": 3
   },
   "file_extension": ".py",
   "mimetype": "text/x-python",
   "name": "python",
   "nbconvert_exporter": "python",
   "pygments_lexer": "ipython3",
   "version": "3.12.4"
  }
 },
 "nbformat": 4,
 "nbformat_minor": 2
}
