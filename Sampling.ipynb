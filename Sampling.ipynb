{
 "cells": [
  {
   "cell_type": "markdown",
   "metadata": {},
   "source": [
    "### RANGKUMAN TEKNIK SAMPLING \n",
    "- Populasi merupakan wilayah generalisasi atau keseluruhan dari sesuatu yang sedang dipelajari karakteristiknya. \n",
    "- Sampel merupakan bagian dari dari populasi.\n",
    "- Jadi sampel adalah sebagian dari keseluruhan obyek yang akan diteliti atau dievaluasi yang memiliki karakteristik tertentu dari sebuah populasi.\n",
    "- Cara menentukan sampel disebut dengan teknik sampling atau teknik penyampelan."
   ]
  },
  {
   "cell_type": "code",
   "execution_count": 137,
   "metadata": {},
   "outputs": [],
   "source": [
    "import random\n",
    "import pandas as pd\n",
    "from faker import Faker\n",
    "\n",
    "fake = Faker('id_ID')\n",
    "\n",
    "names = set()\n",
    "while len(names) < 50:\n",
    "    names.add(fake.name())\n",
    "\n",
    "names = list(names)\n",
    "\n",
    "cities = [\"Jakarta\", \"Surabaya\", \"Malang\", \"Yogyakarta\"]\n",
    "education = [\"SD\", \"SMP\", \"SMA\", \"PT\"]\n",
    "jobs = [\"Guru\", \"Dokter\", \"Insinyur\", \"Akuntan\", \"Developer\", \"Desainer\", \"Polisi\"]\n",
    "genders = [\"Laki-laki\", \"Perempuan\"]\n",
    "\n",
    "data = []\n",
    "\n",
    "for name in names:\n",
    "    item = {\n",
    "        \"Nama\": name,\n",
    "        \"Umur\": random.randint(18, 65),\n",
    "        \"Kota\": random.choice(cities),\n",
    "        \"Pendidikan Terakhir\": random.choice(education),\n",
    "        \"Jenis Pekerjaan\": random.choice(jobs),\n",
    "        \"Jenis Kelamin\": random.choice(genders)\n",
    "    }\n",
    "    data.append(item)\n",
    "\n",
    "df = pd.DataFrame(data)\n",
    "df.to_csv(\"sampling.csv\", index=False)"
   ]
  },
  {
   "cell_type": "code",
   "execution_count": 138,
   "metadata": {},
   "outputs": [
    {
     "name": "stdout",
     "output_type": "stream",
     "text": [
      "+----+-------------------------------+--------+------------+-----------------------+-------------------+-----------------+\n",
      "|    | Nama                          |   Umur | Kota       | Pendidikan Terakhir   | Jenis Pekerjaan   | Jenis Kelamin   |\n",
      "|----+-------------------------------+--------+------------+-----------------------+-------------------+-----------------|\n",
      "|  0 | Drs. Uda Andriani             |     38 | Malang     | SD                    | Insinyur          | Laki-laki       |\n",
      "|  1 | dr. Nova Prasasta, S.Pt       |     59 | Surabaya   | PT                    | Polisi            | Perempuan       |\n",
      "|  2 | Ir. Darman Suryono            |     19 | Yogyakarta | SMP                   | Dokter            | Perempuan       |\n",
      "|  3 | Sakura Santoso, M.Ak          |     40 | Jakarta    | SD                    | Insinyur          | Laki-laki       |\n",
      "|  4 | Digdaya Purnawati             |     47 | Yogyakarta | SD                    | Guru              | Laki-laki       |\n",
      "|  5 | Drs. Pia Rahmawati            |     22 | Yogyakarta | PT                    | Guru              | Perempuan       |\n",
      "|  6 | Lasmono Dabukke               |     43 | Jakarta    | SMP                   | Akuntan           | Perempuan       |\n",
      "|  7 | R. Mulyono Wibisono           |     24 | Jakarta    | SD                    | Polisi            | Perempuan       |\n",
      "|  8 | drg. Wardi Wibowo             |     42 | Jakarta    | SMA                   | Guru              | Perempuan       |\n",
      "|  9 | Dr. Vanya Usada, S.Pd         |     65 | Malang     | SD                    | Developer         | Perempuan       |\n",
      "| 10 | Siska Siregar                 |     29 | Yogyakarta | SD                    | Guru              | Laki-laki       |\n",
      "| 11 | dr. Agnes Budiyanto, S.Ked    |     35 | Malang     | SMA                   | Polisi            | Laki-laki       |\n",
      "| 12 | Gina Rahmawati                |     37 | Yogyakarta | SD                    | Desainer          | Perempuan       |\n",
      "| 13 | Drs. Sakura Sihombing, S.E.   |     45 | Jakarta    | PT                    | Insinyur          | Laki-laki       |\n",
      "| 14 | Salman Dabukke                |     23 | Jakarta    | SD                    | Dokter            | Perempuan       |\n",
      "| 15 | Zizi Gunawan                  |     37 | Surabaya   | SMA                   | Desainer          | Laki-laki       |\n",
      "| 16 | Dr. Almira Wijayanti          |     57 | Surabaya   | SMA                   | Insinyur          | Perempuan       |\n",
      "| 17 | Daniswara Wibowo              |     46 | Yogyakarta | PT                    | Insinyur          | Perempuan       |\n",
      "| 18 | Dt. Ajimin Gunarto            |     49 | Yogyakarta | PT                    | Polisi            | Laki-laki       |\n",
      "| 19 | Yoga Usamah, S.E.             |     46 | Malang     | SD                    | Developer         | Laki-laki       |\n",
      "| 20 | Drs. Dalimin Rahmawati, S.Psi |     65 | Jakarta    | PT                    | Guru              | Perempuan       |\n",
      "| 21 | drg. Nadia Utami              |     42 | Yogyakarta | SD                    | Developer         | Perempuan       |\n",
      "| 22 | Oman Wacana                   |     43 | Surabaya   | SD                    | Insinyur          | Perempuan       |\n",
      "| 23 | drg. Rina Nuraini, S.IP       |     24 | Jakarta    | SMP                   | Akuntan           | Perempuan       |\n",
      "| 24 | Rahayu Prayoga, S.E.          |     64 | Jakarta    | SMP                   | Dokter            | Laki-laki       |\n",
      "| 25 | Sidiq Haryanti                |     49 | Malang     | SMA                   | Polisi            | Perempuan       |\n",
      "| 26 | Gatot Megantara               |     49 | Malang     | PT                    | Developer         | Perempuan       |\n",
      "| 27 | Ifa Kuswoyo                   |     59 | Surabaya   | SMP                   | Guru              | Perempuan       |\n",
      "| 28 | Kemal Salahudin               |     18 | Jakarta    | SD                    | Polisi            | Laki-laki       |\n",
      "| 29 | Ophelia Agustina              |     35 | Jakarta    | SMA                   | Desainer          | Laki-laki       |\n",
      "| 30 | Tgk. Salsabila Maheswara      |     31 | Malang     | SD                    | Desainer          | Laki-laki       |\n",
      "| 31 | Hardana Tampubolon            |     60 | Malang     | PT                    | Akuntan           | Laki-laki       |\n",
      "| 32 | Ella Halimah                  |     58 | Surabaya   | SMP                   | Akuntan           | Perempuan       |\n",
      "| 33 | Jail Yulianti                 |     44 | Surabaya   | SMA                   | Dokter            | Perempuan       |\n",
      "| 34 | Kiandra Prasasta              |     45 | Jakarta    | SMA                   | Desainer          | Perempuan       |\n",
      "| 35 | Prabawa Padmasari             |     30 | Malang     | PT                    | Akuntan           | Perempuan       |\n",
      "| 36 | Argono Prasetyo               |     52 | Yogyakarta | SMA                   | Akuntan           | Laki-laki       |\n",
      "| 37 | R. Luluh Hutagalung           |     24 | Yogyakarta | SMA                   | Guru              | Laki-laki       |\n",
      "| 38 | Cemplunk Wijayanti, M.Ak      |     32 | Jakarta    | SMA                   | Insinyur          | Laki-laki       |\n",
      "| 39 | Elvin Waluyo                  |     19 | Surabaya   | PT                    | Desainer          | Laki-laki       |\n",
      "| 40 | Kawaca Maheswara              |     53 | Malang     | SMA                   | Insinyur          | Perempuan       |\n",
      "| 41 | Gara Yulianti                 |     63 | Surabaya   | SD                    | Guru              | Laki-laki       |\n",
      "| 42 | dr. Mumpuni Tampubolon        |     25 | Malang     | PT                    | Polisi            | Perempuan       |\n",
      "| 43 | Dt. Baktiadi Najmudin         |     47 | Surabaya   | SD                    | Akuntan           | Perempuan       |\n",
      "| 44 | R.M. Kurnia Mangunsong, S.Kom |     64 | Malang     | SD                    | Polisi            | Perempuan       |\n",
      "| 45 | Talia Adriansyah, S.Psi       |     36 | Jakarta    | PT                    | Guru              | Laki-laki       |\n",
      "| 46 | Nurul Mustofa                 |     42 | Jakarta    | SD                    | Developer         | Perempuan       |\n",
      "| 47 | Zaenab Mansur, S.Pd           |     57 | Malang     | SD                    | Insinyur          | Perempuan       |\n",
      "| 48 | Bella Kuswandari              |     42 | Surabaya   | SMP                   | Insinyur          | Perempuan       |\n",
      "| 49 | Yani Hidayanto                |     33 | Surabaya   | SMP                   | Insinyur          | Perempuan       |\n",
      "+----+-------------------------------+--------+------------+-----------------------+-------------------+-----------------+\n"
     ]
    }
   ],
   "source": [
    "from tabulate import tabulate\n",
    "print(tabulate(df, headers='keys', tablefmt='psql'))"
   ]
  },
  {
   "cell_type": "markdown",
   "metadata": {},
   "source": [
    "### A. Teknik Sampling Probabilitas\n",
    "- Probability sampling adalah teknik pengambilan sampel yang memberikan peluang yang sama bagi setiap unsur (anggota) populasi untuk dipilih menjadi anggota sampel. \n",
    "- Teknik ini merupakan teknik yang memungkinkan peneliti atau evaluator untuk membuat generalisasi dari karakteristik sampel menjadi karakteristik populasi. "
   ]
  },
  {
   "cell_type": "markdown",
   "metadata": {},
   "source": [
    "#### 1. Simple Random Sampling\n",
    "Penyampelan acak sederhana, memiliki maksud bahwa sebanyak n sampel diambil dari populasi N dan tiap anggota populasi mempunyai peluang yang sama untuk terambil.  \n",
    "\n",
    "Terdapat 3 (tiga) cara untuk menentukan sampel dengan mengunakan teknik ini, yaitu:\n",
    "- Cara undian \n",
    "- Mengambil perwakilan dari setiap beberapa baris\n",
    "- Menggunakan komputer untuk memberi hasil acak"
   ]
  },
  {
   "cell_type": "code",
   "execution_count": 139,
   "metadata": {},
   "outputs": [
    {
     "name": "stdout",
     "output_type": "stream",
     "text": [
      "+-------------------------------+--------+------------+-----------------------+-------------------+-----------------+\n",
      "| Nama                          |   Umur | Kota       | Pendidikan Terakhir   | Jenis Pekerjaan   | Jenis Kelamin   |\n",
      "|-------------------------------+--------+------------+-----------------------+-------------------+-----------------|\n",
      "| Sakura Santoso, M.Ak          |     40 | Jakarta    | SD                    | Insinyur          | Laki-laki       |\n",
      "| drg. Wardi Wibowo             |     42 | Jakarta    | SMA                   | Guru              | Perempuan       |\n",
      "| Siska Siregar                 |     29 | Yogyakarta | SD                    | Guru              | Laki-laki       |\n",
      "| Dr. Almira Wijayanti          |     57 | Surabaya   | SMA                   | Insinyur          | Perempuan       |\n",
      "| drg. Nadia Utami              |     42 | Yogyakarta | SD                    | Developer         | Perempuan       |\n",
      "| Rahayu Prayoga, S.E.          |     64 | Jakarta    | SMP                   | Dokter            | Laki-laki       |\n",
      "| Jail Yulianti                 |     44 | Surabaya   | SMA                   | Dokter            | Perempuan       |\n",
      "| Kiandra Prasasta              |     45 | Jakarta    | SMA                   | Desainer          | Perempuan       |\n",
      "| Elvin Waluyo                  |     19 | Surabaya   | PT                    | Desainer          | Laki-laki       |\n",
      "| R.M. Kurnia Mangunsong, S.Kom |     64 | Malang     | SD                    | Polisi            | Perempuan       |\n",
      "+-------------------------------+--------+------------+-----------------------+-------------------+-----------------+\n"
     ]
    }
   ],
   "source": [
    "# Contoh mengambil 1 perwakilan untuk setiap 5 baris (total 10 sampel)\n",
    "sample = []\n",
    "count = 1\n",
    "temp = []\n",
    "for i in range(0, len(df)):\n",
    "    temp.append(df.iloc[i])\n",
    "    count += 1\n",
    "\n",
    "    if count % 5 == 0:\n",
    "        sample.append(random.choice(temp))\n",
    "        temp = []\n",
    "        \n",
    "print(tabulate(sample, headers='keys', tablefmt='psql'))"
   ]
  },
  {
   "cell_type": "code",
   "execution_count": 140,
   "metadata": {},
   "outputs": [
    {
     "name": "stdout",
     "output_type": "stream",
     "text": [
      "+-------------------------------+--------+------------+-----------------------+-------------------+-----------------+\n",
      "| Nama                          |   Umur | Kota       | Pendidikan Terakhir   | Jenis Pekerjaan   | Jenis Kelamin   |\n",
      "|-------------------------------+--------+------------+-----------------------+-------------------+-----------------|\n",
      "| Siska Siregar                 |     29 | Yogyakarta | SD                    | Guru              | Laki-laki       |\n",
      "| Ir. Darman Suryono            |     19 | Yogyakarta | SMP                   | Dokter            | Perempuan       |\n",
      "| Salman Dabukke                |     23 | Jakarta    | SD                    | Dokter            | Perempuan       |\n",
      "| R.M. Kurnia Mangunsong, S.Kom |     64 | Malang     | SD                    | Polisi            | Perempuan       |\n",
      "| Dt. Baktiadi Najmudin         |     47 | Surabaya   | SD                    | Akuntan           | Perempuan       |\n",
      "| Dt. Ajimin Gunarto            |     49 | Yogyakarta | PT                    | Polisi            | Laki-laki       |\n",
      "| Drs. Dalimin Rahmawati, S.Psi |     65 | Jakarta    | PT                    | Guru              | Perempuan       |\n",
      "| Kawaca Maheswara              |     53 | Malang     | SMA                   | Insinyur          | Perempuan       |\n",
      "| Dr. Almira Wijayanti          |     57 | Surabaya   | SMA                   | Insinyur          | Perempuan       |\n",
      "| Oman Wacana                   |     43 | Surabaya   | SD                    | Insinyur          | Perempuan       |\n",
      "+-------------------------------+--------+------------+-----------------------+-------------------+-----------------+\n"
     ]
    }
   ],
   "source": [
    "# Contoh mengambil 10 sampel secara random\n",
    "sample = random.sample(df.to_dict('records'), 10)\n",
    "print(tabulate(sample, headers='keys', tablefmt='psql'))"
   ]
  },
  {
   "cell_type": "markdown",
   "metadata": {},
   "source": [
    "#### 2. Stratified Random Sampling\n",
    "Pada penyampelan jenis ini, anggota populasi dikelompokkan berdasarkan stratanya, misal tinggi, sedang, dan rendah. Kemudian dipilih sampel yang mewakili masing-masing strata.\n",
    "\n",
    "Langkah-langkah dalam menentukan Stratified Random sampling: \n",
    "- Menentukan data pendukung tentang populasi yang diambil berikut strata-strata yang ada di dalamnya\n",
    "- Mengklasifikasikan populasi ke dalam grup atau strata yang saling lepas\n",
    "- Menentukan ukuran sample untuk tiap stratum\n",
    "- Memilih secara acak setiap stratum dengan menggunakan simple random sampling "
   ]
  },
  {
   "cell_type": "code",
   "execution_count": 141,
   "metadata": {},
   "outputs": [
    {
     "name": "stdout",
     "output_type": "stream",
     "text": [
      "Jumlah lulusan SD:  18\n",
      "Jumlah lulusan SMP:  8\n",
      "Jumlah lulusan SMA:  12\n",
      "Jumlah lulusan PT:  12\n",
      "\n",
      "Jumlah sample SD:  3\n",
      "Jumlah sample SMP:  1\n",
      "Jumlah sample SMA:  2\n",
      "Jumlah sample PT:  2\n",
      "\n",
      "Hasil sample: \n",
      "+-----------------------------+--------+------------+-----------------------+-------------------+-----------------+\n",
      "| Nama                        |   Umur | Kota       | Pendidikan Terakhir   | Jenis Pekerjaan   | Jenis Kelamin   |\n",
      "|-----------------------------+--------+------------+-----------------------+-------------------+-----------------|\n",
      "| Gara Yulianti               |     63 | Surabaya   | SD                    | Guru              | Laki-laki       |\n",
      "| Zaenab Mansur, S.Pd         |     57 | Malang     | SD                    | Insinyur          | Perempuan       |\n",
      "| Dr. Vanya Usada, S.Pd       |     65 | Malang     | SD                    | Developer         | Perempuan       |\n",
      "| Lasmono Dabukke             |     43 | Jakarta    | SMP                   | Akuntan           | Perempuan       |\n",
      "| drg. Wardi Wibowo           |     42 | Jakarta    | SMA                   | Guru              | Perempuan       |\n",
      "| dr. Agnes Budiyanto, S.Ked  |     35 | Malang     | SMA                   | Polisi            | Laki-laki       |\n",
      "| Daniswara Wibowo            |     46 | Yogyakarta | PT                    | Insinyur          | Perempuan       |\n",
      "| Drs. Sakura Sihombing, S.E. |     45 | Jakarta    | PT                    | Insinyur          | Laki-laki       |\n",
      "+-----------------------------+--------+------------+-----------------------+-------------------+-----------------+\n"
     ]
    }
   ],
   "source": [
    "# Mensampling berdasarkan pendidikan terakhir\n",
    "sd = []\n",
    "smp = []\n",
    "sma = []\n",
    "pt = []\n",
    "\n",
    "for i in range(len(df)):\n",
    "    if df.iloc[i]['Pendidikan Terakhir'] == 'SD':\n",
    "        sd.append(df.iloc[i])\n",
    "    elif df.iloc[i]['Pendidikan Terakhir'] == 'SMP':\n",
    "        smp.append(df.iloc[i])\n",
    "    elif df.iloc[i]['Pendidikan Terakhir'] == 'SMA':\n",
    "        sma.append(df.iloc[i])\n",
    "    elif df.iloc[i]['Pendidikan Terakhir'] == 'PT':\n",
    "        pt.append(df.iloc[i])\n",
    "\n",
    "print(\"Jumlah lulusan SD: \", len(sd))\n",
    "print(\"Jumlah lulusan SMP: \", len(smp))\n",
    "print(\"Jumlah lulusan SMA: \", len(sma))\n",
    "print(\"Jumlah lulusan PT: \", len(pt))\n",
    "\n",
    "# ambil 20% dari setiap jenjang pendidikan\n",
    "sd_sample = random.sample(sd, int(len(sd) * 0.2))\n",
    "smp_sample = random.sample(smp, int(len(smp) * 0.2))\n",
    "sma_sample = random.sample(sma, int(len(sma) * 0.2))\n",
    "pt_sample = random.sample(pt, int(len(pt) * 0.2))\n",
    "\n",
    "print(\"\\nJumlah sample SD: \", len(sd_sample))\n",
    "print(\"Jumlah sample SMP: \", len(smp_sample))\n",
    "print(\"Jumlah sample SMA: \", len(sma_sample))\n",
    "print(\"Jumlah sample PT: \", len(pt_sample))\n",
    "\n",
    "print(\"\\nHasil sample: \")\n",
    "sample = sd_sample + smp_sample + sma_sample + pt_sample\n",
    "print(tabulate(sample, headers='keys', tablefmt='psql'))"
   ]
  },
  {
   "cell_type": "markdown",
   "metadata": {},
   "source": [
    "#### 3. Sistematic Sampling \n",
    "Penyampelan dengan cara ini dilakukan dengan mengurutkan terlebih dahulu semua anggota, kemudian dipili urutan tertentu untuk dijadikan anggota sampel. "
   ]
  },
  {
   "cell_type": "code",
   "execution_count": 142,
   "metadata": {},
   "outputs": [
    {
     "name": "stdout",
     "output_type": "stream",
     "text": [
      "+----+-------------------------------+--------+------------+-----------------------+-------------------+-----------------+\n",
      "|    | Nama                          |   Umur | Kota       | Pendidikan Terakhir   | Jenis Pekerjaan   | Jenis Kelamin   |\n",
      "|----+-------------------------------+--------+------------+-----------------------+-------------------+-----------------|\n",
      "| 36 | Argono Prasetyo               |     52 | Yogyakarta | SMA                   | Akuntan           | Laki-laki       |\n",
      "| 48 | Bella Kuswandari              |     42 | Surabaya   | SMP                   | Insinyur          | Perempuan       |\n",
      "| 38 | Cemplunk Wijayanti, M.Ak      |     32 | Jakarta    | SMA                   | Insinyur          | Laki-laki       |\n",
      "| 17 | Daniswara Wibowo              |     46 | Yogyakarta | PT                    | Insinyur          | Perempuan       |\n",
      "|  4 | Digdaya Purnawati             |     47 | Yogyakarta | SD                    | Guru              | Laki-laki       |\n",
      "| 16 | Dr. Almira Wijayanti          |     57 | Surabaya   | SMA                   | Insinyur          | Perempuan       |\n",
      "|  9 | Dr. Vanya Usada, S.Pd         |     65 | Malang     | SD                    | Developer         | Perempuan       |\n",
      "| 20 | Drs. Dalimin Rahmawati, S.Psi |     65 | Jakarta    | PT                    | Guru              | Perempuan       |\n",
      "|  5 | Drs. Pia Rahmawati            |     22 | Yogyakarta | PT                    | Guru              | Perempuan       |\n",
      "| 13 | Drs. Sakura Sihombing, S.E.   |     45 | Jakarta    | PT                    | Insinyur          | Laki-laki       |\n",
      "|  0 | Drs. Uda Andriani             |     38 | Malang     | SD                    | Insinyur          | Laki-laki       |\n",
      "| 18 | Dt. Ajimin Gunarto            |     49 | Yogyakarta | PT                    | Polisi            | Laki-laki       |\n",
      "| 43 | Dt. Baktiadi Najmudin         |     47 | Surabaya   | SD                    | Akuntan           | Perempuan       |\n",
      "| 32 | Ella Halimah                  |     58 | Surabaya   | SMP                   | Akuntan           | Perempuan       |\n",
      "| 39 | Elvin Waluyo                  |     19 | Surabaya   | PT                    | Desainer          | Laki-laki       |\n",
      "| 41 | Gara Yulianti                 |     63 | Surabaya   | SD                    | Guru              | Laki-laki       |\n",
      "| 26 | Gatot Megantara               |     49 | Malang     | PT                    | Developer         | Perempuan       |\n",
      "| 12 | Gina Rahmawati                |     37 | Yogyakarta | SD                    | Desainer          | Perempuan       |\n",
      "| 31 | Hardana Tampubolon            |     60 | Malang     | PT                    | Akuntan           | Laki-laki       |\n",
      "| 27 | Ifa Kuswoyo                   |     59 | Surabaya   | SMP                   | Guru              | Perempuan       |\n",
      "|  2 | Ir. Darman Suryono            |     19 | Yogyakarta | SMP                   | Dokter            | Perempuan       |\n",
      "| 33 | Jail Yulianti                 |     44 | Surabaya   | SMA                   | Dokter            | Perempuan       |\n",
      "| 40 | Kawaca Maheswara              |     53 | Malang     | SMA                   | Insinyur          | Perempuan       |\n",
      "| 28 | Kemal Salahudin               |     18 | Jakarta    | SD                    | Polisi            | Laki-laki       |\n",
      "| 34 | Kiandra Prasasta              |     45 | Jakarta    | SMA                   | Desainer          | Perempuan       |\n",
      "|  6 | Lasmono Dabukke               |     43 | Jakarta    | SMP                   | Akuntan           | Perempuan       |\n",
      "| 46 | Nurul Mustofa                 |     42 | Jakarta    | SD                    | Developer         | Perempuan       |\n",
      "| 22 | Oman Wacana                   |     43 | Surabaya   | SD                    | Insinyur          | Perempuan       |\n",
      "| 29 | Ophelia Agustina              |     35 | Jakarta    | SMA                   | Desainer          | Laki-laki       |\n",
      "| 35 | Prabawa Padmasari             |     30 | Malang     | PT                    | Akuntan           | Perempuan       |\n",
      "| 37 | R. Luluh Hutagalung           |     24 | Yogyakarta | SMA                   | Guru              | Laki-laki       |\n",
      "|  7 | R. Mulyono Wibisono           |     24 | Jakarta    | SD                    | Polisi            | Perempuan       |\n",
      "| 44 | R.M. Kurnia Mangunsong, S.Kom |     64 | Malang     | SD                    | Polisi            | Perempuan       |\n",
      "| 24 | Rahayu Prayoga, S.E.          |     64 | Jakarta    | SMP                   | Dokter            | Laki-laki       |\n",
      "|  3 | Sakura Santoso, M.Ak          |     40 | Jakarta    | SD                    | Insinyur          | Laki-laki       |\n",
      "| 14 | Salman Dabukke                |     23 | Jakarta    | SD                    | Dokter            | Perempuan       |\n",
      "| 25 | Sidiq Haryanti                |     49 | Malang     | SMA                   | Polisi            | Perempuan       |\n",
      "| 10 | Siska Siregar                 |     29 | Yogyakarta | SD                    | Guru              | Laki-laki       |\n",
      "| 45 | Talia Adriansyah, S.Psi       |     36 | Jakarta    | PT                    | Guru              | Laki-laki       |\n",
      "| 30 | Tgk. Salsabila Maheswara      |     31 | Malang     | SD                    | Desainer          | Laki-laki       |\n",
      "| 49 | Yani Hidayanto                |     33 | Surabaya   | SMP                   | Insinyur          | Perempuan       |\n",
      "| 19 | Yoga Usamah, S.E.             |     46 | Malang     | SD                    | Developer         | Laki-laki       |\n",
      "| 47 | Zaenab Mansur, S.Pd           |     57 | Malang     | SD                    | Insinyur          | Perempuan       |\n",
      "| 15 | Zizi Gunawan                  |     37 | Surabaya   | SMA                   | Desainer          | Laki-laki       |\n",
      "| 11 | dr. Agnes Budiyanto, S.Ked    |     35 | Malang     | SMA                   | Polisi            | Laki-laki       |\n",
      "| 42 | dr. Mumpuni Tampubolon        |     25 | Malang     | PT                    | Polisi            | Perempuan       |\n",
      "|  1 | dr. Nova Prasasta, S.Pt       |     59 | Surabaya   | PT                    | Polisi            | Perempuan       |\n",
      "| 21 | drg. Nadia Utami              |     42 | Yogyakarta | SD                    | Developer         | Perempuan       |\n",
      "| 23 | drg. Rina Nuraini, S.IP       |     24 | Jakarta    | SMP                   | Akuntan           | Perempuan       |\n",
      "|  8 | drg. Wardi Wibowo             |     42 | Jakarta    | SMA                   | Guru              | Perempuan       |\n",
      "+----+-------------------------------+--------+------------+-----------------------+-------------------+-----------------+\n"
     ]
    }
   ],
   "source": [
    "sorted_df = df.sort_values(by='Nama')\n",
    "print(tabulate(sorted_df, headers='keys', tablefmt='psql'))"
   ]
  },
  {
   "cell_type": "code",
   "execution_count": 143,
   "metadata": {},
   "outputs": [
    {
     "name": "stdout",
     "output_type": "stream",
     "text": [
      "+------------------------+--------+------------+-----------------------+-------------------+-----------------+\n",
      "| Nama                   |   Umur | Kota       | Pendidikan Terakhir   | Jenis Pekerjaan   | Jenis Kelamin   |\n",
      "|------------------------+--------+------------+-----------------------+-------------------+-----------------|\n",
      "| Argono Prasetyo        |     52 | Yogyakarta | SMA                   | Akuntan           | Laki-laki       |\n",
      "| Dr. Almira Wijayanti   |     57 | Surabaya   | SMA                   | Insinyur          | Perempuan       |\n",
      "| Drs. Uda Andriani      |     38 | Malang     | SD                    | Insinyur          | Laki-laki       |\n",
      "| Gara Yulianti          |     63 | Surabaya   | SD                    | Guru              | Laki-laki       |\n",
      "| Ir. Darman Suryono     |     19 | Yogyakarta | SMP                   | Dokter            | Perempuan       |\n",
      "| Lasmono Dabukke        |     43 | Jakarta    | SMP                   | Akuntan           | Perempuan       |\n",
      "| R. Luluh Hutagalung    |     24 | Yogyakarta | SMA                   | Guru              | Laki-laki       |\n",
      "| Salman Dabukke         |     23 | Jakarta    | SD                    | Dokter            | Perempuan       |\n",
      "| Yani Hidayanto         |     33 | Surabaya   | SMP                   | Insinyur          | Perempuan       |\n",
      "| dr. Mumpuni Tampubolon |     25 | Malang     | PT                    | Polisi            | Perempuan       |\n",
      "+------------------------+--------+------------+-----------------------+-------------------+-----------------+\n"
     ]
    }
   ],
   "source": [
    "# Mengambil sampel setiap kelipatan 5\n",
    "sample = []\n",
    "for i in range(0, len(sorted_df), 5):\n",
    "    sample.append(sorted_df.iloc[i])\n",
    "\n",
    "print(tabulate(sample, headers='keys', tablefmt='psql')) "
   ]
  },
  {
   "cell_type": "markdown",
   "metadata": {},
   "source": [
    "#### Cluster Sampling \n",
    "Pada penyampelan jenis ini, populasi dibagi menjadi wilayah atau klaster. Jika terpilih klasternya, seluruh anggota dalam klaster tersebut yang menjadi sampel. \n",
    "\n",
    "Langkah-langkah dalam pengambilan sample dengan cluster sampling:\n",
    "- Menentukan cluster-clusternya  \n",
    "- Menentukan banyak cluster yang akan dijadikan sample, misal n cluster \n",
    "- Memilih secara acak cluster \n",
    "- Semua anggota yang terdapat dalam klaster yang terpilih merupakan sampel "
   ]
  },
  {
   "cell_type": "code",
   "execution_count": 144,
   "metadata": {},
   "outputs": [
    {
     "name": "stdout",
     "output_type": "stream",
     "text": [
      "+----------------------+--------+------------+-----------------------+-------------------+-----------------+\n",
      "| Nama                 |   Umur | Kota       | Pendidikan Terakhir   | Jenis Pekerjaan   | Jenis Kelamin   |\n",
      "|----------------------+--------+------------+-----------------------+-------------------+-----------------|\n",
      "| Zizi Gunawan         |     37 | Surabaya   | SMA                   | Desainer          | Laki-laki       |\n",
      "| Dr. Almira Wijayanti |     57 | Surabaya   | SMA                   | Insinyur          | Perempuan       |\n",
      "| Daniswara Wibowo     |     46 | Yogyakarta | PT                    | Insinyur          | Perempuan       |\n",
      "| Dt. Ajimin Gunarto   |     49 | Yogyakarta | PT                    | Polisi            | Laki-laki       |\n",
      "| Yoga Usamah, S.E.    |     46 | Malang     | SD                    | Developer         | Laki-laki       |\n",
      "+----------------------+--------+------------+-----------------------+-------------------+-----------------+\n"
     ]
    }
   ],
   "source": [
    "# Misalkan terdapat 5 cluster\n",
    "temp = df\n",
    "c1 = []\n",
    "c2 = []\n",
    "c3 = []\n",
    "c4 = []\n",
    "c5 = []\n",
    "clusters = [c1, c2, c3, c4, c5]\n",
    "\n",
    "fill  = 0\n",
    "count = 0\n",
    "for i in range(len(temp)):\n",
    "    if count == 5:\n",
    "        count = 0\n",
    "        fill += 1\n",
    "        \n",
    "    if fill <= 4:    \n",
    "        clusters[fill].append(temp.iloc[i])\n",
    "    count += 1\n",
    "\n",
    "sample = random.choice(clusters)\n",
    "print(tabulate(sample, headers='keys', tablefmt='psql'))"
   ]
  },
  {
   "cell_type": "markdown",
   "metadata": {},
   "source": [
    "### B. Non Probability Sampling \n",
    "Nonprobability sampling adalah teknik pengambilan sampel yang tidak memberi peluang atau kesempatan sama bagi setiap unsur atau anggota populasi yang dipilih menjadi sampel. Teknik pengambilan sampel ini diantaranya sampling incidental, sampling bertujuan, sampling bola salju (snowball sampling), dan sampling kuota. Non probability sampling ini tidak bisa digunakan untuk membuat generalisasi. "
   ]
  },
  {
   "cell_type": "markdown",
   "metadata": {},
   "source": [
    "#### 1. Sampling Incidental\n",
    "Nonprobability sampling adalah teknik pengambilan sampel yang tidak memberi peluang atau kesempatan sama bagi setiap unsur atau anggota populasi yang dipilih menjadi sampel. Teknik pengambilan sampel ini diantaranya sampling incidental, sampling bertujuan, sampling bola salju (snowball sampling), dan sampling kuota. Non probability sampling ini tidak bisa digunakan untuk membuat generalisasi. "
   ]
  },
  {
   "cell_type": "markdown",
   "metadata": {},
   "source": [
    "#### 2. Sampling purposive \n",
    "Teknik penentuan sampel berdasarkan pertimbangan peneliti atau evaluator tentang sampel mana yang paling bermanfaat dan representative (Babbie, 2004: 183). \n",
    "Terkadang sampel yang akan diambil ditentukan berdasarkan pengetahuan tentang suatu populasi, anggota-anggotanya dan tujuan dari penelitian. Jenis sampel ini sangat baik jika dimanfaatkan untuk studi penjajagan (studi awal untuk penelitian atau evaluasi). \n"
   ]
  },
  {
   "cell_type": "code",
   "execution_count": 145,
   "metadata": {},
   "outputs": [
    {
     "name": "stdout",
     "output_type": "stream",
     "text": [
      "+-------------------------------+--------+------------+-----------------------+-------------------+-----------------+\n",
      "| Nama                          |   Umur | Kota       | Pendidikan Terakhir   | Jenis Pekerjaan   | Jenis Kelamin   |\n",
      "|-------------------------------+--------+------------+-----------------------+-------------------+-----------------|\n",
      "| dr. Nova Prasasta, S.Pt       |     59 | Surabaya   | PT                    | Polisi            | Perempuan       |\n",
      "| R. Mulyono Wibisono           |     24 | Jakarta    | SD                    | Polisi            | Perempuan       |\n",
      "| dr. Agnes Budiyanto, S.Ked    |     35 | Malang     | SMA                   | Polisi            | Laki-laki       |\n",
      "| Dt. Ajimin Gunarto            |     49 | Yogyakarta | PT                    | Polisi            | Laki-laki       |\n",
      "| Sidiq Haryanti                |     49 | Malang     | SMA                   | Polisi            | Perempuan       |\n",
      "| Kemal Salahudin               |     18 | Jakarta    | SD                    | Polisi            | Laki-laki       |\n",
      "| dr. Mumpuni Tampubolon        |     25 | Malang     | PT                    | Polisi            | Perempuan       |\n",
      "| R.M. Kurnia Mangunsong, S.Kom |     64 | Malang     | SD                    | Polisi            | Perempuan       |\n",
      "+-------------------------------+--------+------------+-----------------------+-------------------+-----------------+\n"
     ]
    }
   ],
   "source": [
    "# Mengambil sampel hanya yang berprofesi sebagai Polisi\n",
    "sample = []\n",
    "\n",
    "for i in range(len(df)):\n",
    "    if df.iloc[i]['Jenis Pekerjaan'] == 'Polisi':\n",
    "        sample.append(df.iloc[i])\n",
    "\n",
    "print(tabulate(sample, headers='keys', tablefmt='psql'))  "
   ]
  },
  {
   "cell_type": "markdown",
   "metadata": {},
   "source": [
    "#### 3. Sampling Bola Salju\n",
    "Sampling snowball dapat dilakukan jika keberadaan dari suatu populasi sulit untuk ditemukan. Dengan kata lain, cara ini banyak dipakai ketika peneliti atau evaluator tidak banyak tahu tentang populasi penelitian aau evaluasinya. Pada sampling bola salju, peneliti mengumpulkan data dari beberapa sampel yang dapat ditemukan oleh peneliti sendiri, selanjutnya peneliti meminta individu yang telah dijadikan sampel tersebut untuk memberitahukan keberadaan anggota yang lainnya yang tidak dapat ditemukan oleh peneliti untuk dapat melengkapi data (Babbie, 2004: 184)."
   ]
  },
  {
   "cell_type": "markdown",
   "metadata": {},
   "source": [
    "#### 4. Sampling Quota \n",
    "Teknik sampling kuota adalah teknik menentukan sampel dari populasi yang mempunyai ciri-ciri tertentu sampai jumlah (kuota) yang diinginkan.  Pada sampling kuota, dimulai dengan membuat tabel atau matriks yang berisi penjabaran karakteristik dari populasi yang ingin dicapai atau karakteristik populasi yang sesuai dengan tujuan dari penelitian untuk selanjutnya ditentukan sampel yang memenuhi ciri-ciri dari populasi tersebut. "
   ]
  },
  {
   "cell_type": "code",
   "execution_count": 146,
   "metadata": {},
   "outputs": [
    {
     "name": "stdout",
     "output_type": "stream",
     "text": [
      "+-----------------------------+--------+------------+-----------------------+-------------------+-----------------+\n",
      "| Nama                        |   Umur | Kota       | Pendidikan Terakhir   | Jenis Pekerjaan   | Jenis Kelamin   |\n",
      "|-----------------------------+--------+------------+-----------------------+-------------------+-----------------|\n",
      "| Drs. Sakura Sihombing, S.E. |     45 | Jakarta    | PT                    | Insinyur          | Laki-laki       |\n",
      "| Kemal Salahudin             |     18 | Jakarta    | SD                    | Polisi            | Laki-laki       |\n",
      "| drg. Wardi Wibowo           |     42 | Jakarta    | SMA                   | Guru              | Perempuan       |\n",
      "| Bella Kuswandari            |     42 | Surabaya   | SMP                   | Insinyur          | Perempuan       |\n",
      "| Ifa Kuswoyo                 |     59 | Surabaya   | SMP                   | Guru              | Perempuan       |\n",
      "| Zizi Gunawan                |     37 | Surabaya   | SMA                   | Desainer          | Laki-laki       |\n",
      "| dr. Mumpuni Tampubolon      |     25 | Malang     | PT                    | Polisi            | Perempuan       |\n",
      "| Tgk. Salsabila Maheswara    |     31 | Malang     | SD                    | Desainer          | Laki-laki       |\n",
      "| Dr. Vanya Usada, S.Pd       |     65 | Malang     | SD                    | Developer         | Perempuan       |\n",
      "| Drs. Pia Rahmawati          |     22 | Yogyakarta | PT                    | Guru              | Perempuan       |\n",
      "| Dt. Ajimin Gunarto          |     49 | Yogyakarta | PT                    | Polisi            | Laki-laki       |\n",
      "| drg. Nadia Utami            |     42 | Yogyakarta | SD                    | Developer         | Perempuan       |\n",
      "+-----------------------------+--------+------------+-----------------------+-------------------+-----------------+\n"
     ]
    }
   ],
   "source": [
    "## Misalkan mengambil 3 sampel untuk setiap kota\n",
    "sample = []\n",
    "\n",
    "for city in cities:\n",
    "    city_df = df[df['Kota'] == city]\n",
    "    quota = 3\n",
    "    city_sample = random.sample(city_df.to_dict('records'), quota)\n",
    "    for selec in city_sample:\n",
    "        sample.append(selec)\n",
    "\n",
    "print(tabulate(sample, headers='keys', tablefmt='psql'))\n"
   ]
  }
 ],
 "metadata": {
  "kernelspec": {
   "display_name": "Python 3",
   "language": "python",
   "name": "python3"
  },
  "language_info": {
   "codemirror_mode": {
    "name": "ipython",
    "version": 3
   },
   "file_extension": ".py",
   "mimetype": "text/x-python",
   "name": "python",
   "nbconvert_exporter": "python",
   "pygments_lexer": "ipython3",
   "version": "3.12.4"
  }
 },
 "nbformat": 4,
 "nbformat_minor": 2
}
