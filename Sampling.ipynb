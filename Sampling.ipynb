{
 "cells": [
  {
   "cell_type": "markdown",
   "metadata": {},
   "source": [
    "### RANGKUMAN TEKNIK SAMPLING \n",
    "- Populasi merupakan wilayah generalisasi atau keseluruhan dari sesuatu yang sedang dipelajari karakteristiknya. \n",
    "- Sampel merupakan bagian dari dari populasi.\n",
    "- Jadi sampel adalah sebagian dari keseluruhan obyek yang akan diteliti atau dievaluasi yang memiliki karakteristik tertentu dari sebuah populasi.\n",
    "- Cara menentukan sampel disebut dengan teknik sampling atau teknik penyampelan."
   ]
  },
  {
   "cell_type": "code",
   "execution_count": 45,
   "metadata": {},
   "outputs": [],
   "source": [
    "import random\n",
    "import pandas as pd\n",
    "from faker import Faker\n",
    "\n",
    "fake = Faker('id_ID')\n",
    "\n",
    "names = set()\n",
    "while len(names) < 50:\n",
    "    names.add(fake.name())\n",
    "\n",
    "names = list(names)\n",
    "\n",
    "cities = [\"Jakarta\", \"Surabaya\", \"Malang\", \"Yogyakarta\"]\n",
    "education = [\"SD\", \"SMP\", \"SMA\", \"PT\"]\n",
    "jobs = [\"Guru\", \"Dokter\", \"Insinyur\", \"Akuntan\", \"Developer\", \"Desainer\", \"Polisi\"]\n",
    "genders = [\"Laki-laki\", \"Perempuan\"]\n",
    "\n",
    "data = []\n",
    "\n",
    "for name in names:\n",
    "    item = {\n",
    "        \"Nama\": name,\n",
    "        \"Umur\": random.randint(18, 65),\n",
    "        \"Kota\": random.choice(cities),\n",
    "        \"Pendidikan Terakhir\": random.choice(education),\n",
    "        \"Jenis Pekerjaan\": random.choice(jobs),\n",
    "        \"Jenis Kelamin\": random.choice(genders)\n",
    "    }\n",
    "    data.append(item)\n",
    "\n",
    "df = pd.DataFrame(data)\n",
    "df.to_csv(\"sampling.csv\", index=False)"
   ]
  },
  {
   "cell_type": "code",
   "execution_count": 46,
   "metadata": {},
   "outputs": [
    {
     "name": "stdout",
     "output_type": "stream",
     "text": [
      "+----+-------------------------------+--------+------------+-----------------------+-------------------+-----------------+\n",
      "|    | Nama                          |   Umur | Kota       | Pendidikan Terakhir   | Jenis Pekerjaan   | Jenis Kelamin   |\n",
      "|----+-------------------------------+--------+------------+-----------------------+-------------------+-----------------|\n",
      "|  0 | Ir. Ciaobella Mandasari       |     54 | Surabaya   | SMA                   | Insinyur          | Perempuan       |\n",
      "|  1 | Dasa Jailani                  |     20 | Surabaya   | SD                    | Insinyur          | Laki-laki       |\n",
      "|  2 | Jaka Mansur                   |     30 | Malang     | PT                    | Desainer          | Perempuan       |\n",
      "|  3 | Dr. Cagak Suartini            |     42 | Jakarta    | SD                    | Desainer          | Perempuan       |\n",
      "|  4 | Rahman Tampubolon             |     25 | Malang     | PT                    | Guru              | Laki-laki       |\n",
      "|  5 | Caturangga Halimah, S.Gz      |     37 | Malang     | SD                    | Akuntan           | Laki-laki       |\n",
      "|  6 | Harja Marbun                  |     27 | Malang     | SMA                   | Polisi            | Laki-laki       |\n",
      "|  7 | Hana Pratiwi                  |     48 | Yogyakarta | SMP                   | Guru              | Perempuan       |\n",
      "|  8 | Cornelia Anggraini            |     26 | Surabaya   | PT                    | Polisi            | Laki-laki       |\n",
      "|  9 | Hasta Sihombing, S.Pt         |     21 | Jakarta    | SD                    | Developer         | Laki-laki       |\n",
      "| 10 | Gabriella Rahayu              |     61 | Yogyakarta | SMP                   | Akuntan           | Laki-laki       |\n",
      "| 11 | Vicky Puspita                 |     50 | Malang     | SMA                   | Desainer          | Laki-laki       |\n",
      "| 12 | Ani Zulkarnain                |     31 | Yogyakarta | SMP                   | Developer         | Perempuan       |\n",
      "| 13 | Tari Lestari                  |     41 | Jakarta    | PT                    | Akuntan           | Laki-laki       |\n",
      "| 14 | Siti Budiyanto                |     47 | Yogyakarta | PT                    | Guru              | Perempuan       |\n",
      "| 15 | Patricia Wahyuni, M.M.        |     58 | Surabaya   | SMA                   | Insinyur          | Perempuan       |\n",
      "| 16 | Dt. Darmaji Saragih           |     42 | Surabaya   | PT                    | Developer         | Laki-laki       |\n",
      "| 17 | Salsabila Halim               |     47 | Surabaya   | SMP                   | Guru              | Perempuan       |\n",
      "| 18 | drg. Elon Puspita             |     19 | Jakarta    | SMA                   | Dokter            | Laki-laki       |\n",
      "| 19 | Eli Suryono                   |     38 | Yogyakarta | PT                    | Dokter            | Laki-laki       |\n",
      "| 20 | Ir. Maida Marbun, S.Psi       |     22 | Surabaya   | SMP                   | Polisi            | Laki-laki       |\n",
      "| 21 | Prasetyo Latupono             |     26 | Jakarta    | SMP                   | Akuntan           | Perempuan       |\n",
      "| 22 | Lamar Prasetyo                |     46 | Jakarta    | SMA                   | Dokter            | Perempuan       |\n",
      "| 23 | Tira Sinaga, S.E.I            |     48 | Malang     | SMP                   | Akuntan           | Laki-laki       |\n",
      "| 24 | Eka Haryanti                  |     22 | Malang     | PT                    | Desainer          | Laki-laki       |\n",
      "| 25 | Yuliana Yolanda               |     39 | Malang     | SMP                   | Dokter            | Perempuan       |\n",
      "| 26 | Puti Maimunah Budiyanto, S.Pt |     24 | Malang     | SMA                   | Dokter            | Laki-laki       |\n",
      "| 27 | R.A. Karen Wahyuni            |     23 | Yogyakarta | SMA                   | Desainer          | Perempuan       |\n",
      "| 28 | Vivi Agustina, M.Ak           |     50 | Jakarta    | PT                    | Desainer          | Perempuan       |\n",
      "| 29 | Aditya Rahmawati              |     20 | Malang     | PT                    | Insinyur          | Perempuan       |\n",
      "| 30 | Lukita Mustofa                |     65 | Yogyakarta | SMP                   | Desainer          | Laki-laki       |\n",
      "| 31 | Galak Wahyudin                |     51 | Yogyakarta | PT                    | Insinyur          | Laki-laki       |\n",
      "| 32 | Gading Natsir, S.E.           |     65 | Malang     | SD                    | Dokter            | Perempuan       |\n",
      "| 33 | Saadat Yuliarti               |     29 | Jakarta    | SMA                   | Insinyur          | Laki-laki       |\n",
      "| 34 | Mariadi Waskita               |     50 | Surabaya   | SMP                   | Akuntan           | Perempuan       |\n",
      "| 35 | Paiman Sitorus                |     32 | Surabaya   | PT                    | Akuntan           | Laki-laki       |\n",
      "| 36 | Laila Susanti                 |     45 | Surabaya   | SD                    | Guru              | Perempuan       |\n",
      "| 37 | Karta Wijayanti               |     21 | Jakarta    | SMP                   | Insinyur          | Laki-laki       |\n",
      "| 38 | Dadap Astuti                  |     29 | Surabaya   | SD                    | Desainer          | Perempuan       |\n",
      "| 39 | Hj. Eka Utami, M.Pd           |     57 | Jakarta    | PT                    | Insinyur          | Perempuan       |\n",
      "| 40 | Asirwada Purnawati            |     29 | Malang     | SD                    | Developer         | Laki-laki       |\n",
      "| 41 | Ilsa Saefullah                |     37 | Surabaya   | PT                    | Guru              | Laki-laki       |\n",
      "| 42 | drg. Rina Kusmawati, S.Pd     |     56 | Yogyakarta | SD                    | Polisi            | Laki-laki       |\n",
      "| 43 | Violet Namaga                 |     38 | Surabaya   | SMP                   | Guru              | Perempuan       |\n",
      "| 44 | Septi Dongoran                |     63 | Jakarta    | SMP                   | Polisi            | Perempuan       |\n",
      "| 45 | Oliva Lailasari               |     30 | Malang     | SD                    | Insinyur          | Perempuan       |\n",
      "| 46 | Vicky Adriansyah              |     57 | Jakarta    | PT                    | Dokter            | Laki-laki       |\n",
      "| 47 | Gabriella Sihombing           |     58 | Jakarta    | PT                    | Guru              | Laki-laki       |\n",
      "| 48 | Harjo Mandala, S.Farm         |     19 | Malang     | SD                    | Guru              | Laki-laki       |\n",
      "| 49 | Drs. Hasta Wahyudin, S.Pd     |     29 | Surabaya   | SD                    | Polisi            | Perempuan       |\n",
      "+----+-------------------------------+--------+------------+-----------------------+-------------------+-----------------+\n"
     ]
    }
   ],
   "source": [
    "from tabulate import tabulate\n",
    "print(tabulate(df, headers='keys', tablefmt='psql'))"
   ]
  },
  {
   "cell_type": "markdown",
   "metadata": {},
   "source": [
    "### A. Teknik Sampling Probabilitas\n",
    "- Probability sampling adalah teknik pengambilan sampel yang memberikan peluang yang sama bagi setiap unsur (anggota) populasi untuk dipilih menjadi anggota sampel. \n",
    "- Teknik ini merupakan teknik yang memungkinkan peneliti atau evaluator untuk membuat generalisasi dari karakteristik sampel menjadi karakteristik populasi. "
   ]
  },
  {
   "cell_type": "markdown",
   "metadata": {},
   "source": [
    "#### 1. Simple Random Sampling\n",
    "Penyampelan acak sederhana, memiliki maksud bahwa sebanyak n sampel diambil dari populasi N dan tiap anggota populasi mempunyai peluang yang sama untuk terambil.  \n",
    "\n",
    "Terdapat 3 (tiga) cara untuk menentukan sampel dengan mengunakan teknik ini, yaitu:\n",
    "- Cara undian \n",
    "- Mengambil perwakilan dari setiap beberapa baris\n",
    "- Menggunakan komputer untuk memberi hasil acak"
   ]
  },
  {
   "cell_type": "code",
   "execution_count": 47,
   "metadata": {},
   "outputs": [
    {
     "name": "stdout",
     "output_type": "stream",
     "text": [
      "+-------------------------------+--------+------------+-----------------------+-------------------+-----------------+\n",
      "| Nama                          |   Umur | Kota       | Pendidikan Terakhir   | Jenis Pekerjaan   | Jenis Kelamin   |\n",
      "|-------------------------------+--------+------------+-----------------------+-------------------+-----------------|\n",
      "| Dr. Cagak Suartini            |     42 | Jakarta    | SD                    | Desainer          | Perempuan       |\n",
      "| Cornelia Anggraini            |     26 | Surabaya   | PT                    | Polisi            | Laki-laki       |\n",
      "| Vicky Puspita                 |     50 | Malang     | SMA                   | Desainer          | Laki-laki       |\n",
      "| Dt. Darmaji Saragih           |     42 | Surabaya   | PT                    | Developer         | Laki-laki       |\n",
      "| Tira Sinaga, S.E.I            |     48 | Malang     | SMP                   | Akuntan           | Laki-laki       |\n",
      "| Puti Maimunah Budiyanto, S.Pt |     24 | Malang     | SMA                   | Dokter            | Laki-laki       |\n",
      "| Galak Wahyudin                |     51 | Yogyakarta | PT                    | Insinyur          | Laki-laki       |\n",
      "| Paiman Sitorus                |     32 | Surabaya   | PT                    | Akuntan           | Laki-laki       |\n",
      "| Hj. Eka Utami, M.Pd           |     57 | Jakarta    | PT                    | Insinyur          | Perempuan       |\n",
      "| Gabriella Sihombing           |     58 | Jakarta    | PT                    | Guru              | Laki-laki       |\n",
      "+-------------------------------+--------+------------+-----------------------+-------------------+-----------------+\n"
     ]
    }
   ],
   "source": [
    "# Contoh mengambil 1 perwakilan untuk setiap 5 baris (total 10 sampel)\n",
    "sample = []\n",
    "count = 1\n",
    "temp = []\n",
    "for i in range(0, len(df)):\n",
    "    temp.append(df.iloc[i])\n",
    "    count += 1\n",
    "\n",
    "    if count % 5 == 0:\n",
    "        sample.append(random.choice(temp))\n",
    "        temp = []\n",
    "        \n",
    "print(tabulate(sample, headers='keys', tablefmt='psql'))"
   ]
  },
  {
   "cell_type": "code",
   "execution_count": 48,
   "metadata": {},
   "outputs": [
    {
     "name": "stdout",
     "output_type": "stream",
     "text": [
      "+-------------------------+--------+------------+-----------------------+-------------------+-----------------+\n",
      "| Nama                    |   Umur | Kota       | Pendidikan Terakhir   | Jenis Pekerjaan   | Jenis Kelamin   |\n",
      "|-------------------------+--------+------------+-----------------------+-------------------+-----------------|\n",
      "| Karta Wijayanti         |     21 | Jakarta    | SMP                   | Insinyur          | Laki-laki       |\n",
      "| Ir. Maida Marbun, S.Psi |     22 | Surabaya   | SMP                   | Polisi            | Laki-laki       |\n",
      "| Asirwada Purnawati      |     29 | Malang     | SD                    | Developer         | Laki-laki       |\n",
      "| Vicky Puspita           |     50 | Malang     | SMA                   | Desainer          | Laki-laki       |\n",
      "| Ani Zulkarnain          |     31 | Yogyakarta | SMP                   | Developer         | Perempuan       |\n",
      "| Galak Wahyudin          |     51 | Yogyakarta | PT                    | Insinyur          | Laki-laki       |\n",
      "| Gabriella Rahayu        |     61 | Yogyakarta | SMP                   | Akuntan           | Laki-laki       |\n",
      "| Cornelia Anggraini      |     26 | Surabaya   | PT                    | Polisi            | Laki-laki       |\n",
      "| Ilsa Saefullah          |     37 | Surabaya   | PT                    | Guru              | Laki-laki       |\n",
      "| Oliva Lailasari         |     30 | Malang     | SD                    | Insinyur          | Perempuan       |\n",
      "+-------------------------+--------+------------+-----------------------+-------------------+-----------------+\n"
     ]
    }
   ],
   "source": [
    "# Contoh mengambil 10 sampel secara random\n",
    "sample = random.sample(df.to_dict('records'), 10)\n",
    "print(tabulate(sample, headers='keys', tablefmt='psql'))"
   ]
  },
  {
   "cell_type": "markdown",
   "metadata": {},
   "source": [
    "#### 2. Stratified Random Sampling\n",
    "Pada penyampelan jenis ini, anggota populasi dikelompokkan berdasarkan stratanya, misal tinggi, sedang, dan rendah. Kemudian dipilih sampel yang mewakili masing-masing strata.\n",
    "\n",
    "Langkah-langkah dalam menentukan Stratified Random sampling: \n",
    "- Menentukan data pendukung tentang populasi yang diambil berikut strata-strata yang ada di dalamnya\n",
    "- Mengklasifikasikan populasi ke dalam grup atau strata yang saling lepas\n",
    "- Menentukan ukuran sample untuk tiap stratum\n",
    "- Memilih secara acak setiap stratum dengan menggunakan simple random sampling "
   ]
  },
  {
   "cell_type": "code",
   "execution_count": 49,
   "metadata": {},
   "outputs": [
    {
     "name": "stdout",
     "output_type": "stream",
     "text": [
      "Jumlah lulusan SD:  12\n",
      "Jumlah lulusan SMP:  13\n",
      "Jumlah lulusan SMA:  9\n",
      "Jumlah lulusan PT:  16\n",
      "\n",
      "Jumlah sample SD:  2\n",
      "Jumlah sample SMP:  2\n",
      "Jumlah sample SMA:  1\n",
      "Jumlah sample PT:  3\n",
      "\n",
      "Hasil sample: \n",
      "+-------------------------+--------+----------+-----------------------+-------------------+-----------------+\n",
      "| Nama                    |   Umur | Kota     | Pendidikan Terakhir   | Jenis Pekerjaan   | Jenis Kelamin   |\n",
      "|-------------------------+--------+----------+-----------------------+-------------------+-----------------|\n",
      "| Oliva Lailasari         |     30 | Malang   | SD                    | Insinyur          | Perempuan       |\n",
      "| Dr. Cagak Suartini      |     42 | Jakarta  | SD                    | Desainer          | Perempuan       |\n",
      "| Septi Dongoran          |     63 | Jakarta  | SMP                   | Polisi            | Perempuan       |\n",
      "| Ir. Maida Marbun, S.Psi |     22 | Surabaya | SMP                   | Polisi            | Laki-laki       |\n",
      "| Ir. Ciaobella Mandasari |     54 | Surabaya | SMA                   | Insinyur          | Perempuan       |\n",
      "| Hj. Eka Utami, M.Pd     |     57 | Jakarta  | PT                    | Insinyur          | Perempuan       |\n",
      "| Tari Lestari            |     41 | Jakarta  | PT                    | Akuntan           | Laki-laki       |\n",
      "| Vicky Adriansyah        |     57 | Jakarta  | PT                    | Dokter            | Laki-laki       |\n",
      "+-------------------------+--------+----------+-----------------------+-------------------+-----------------+\n"
     ]
    }
   ],
   "source": [
    "# Mensampling berdasarkan pendidikan terakhir\n",
    "sd = []\n",
    "smp = []\n",
    "sma = []\n",
    "pt = []\n",
    "\n",
    "for i in range(len(df)):\n",
    "    if df.iloc[i]['Pendidikan Terakhir'] == 'SD':\n",
    "        sd.append(df.iloc[i])\n",
    "    elif df.iloc[i]['Pendidikan Terakhir'] == 'SMP':\n",
    "        smp.append(df.iloc[i])\n",
    "    elif df.iloc[i]['Pendidikan Terakhir'] == 'SMA':\n",
    "        sma.append(df.iloc[i])\n",
    "    elif df.iloc[i]['Pendidikan Terakhir'] == 'PT':\n",
    "        pt.append(df.iloc[i])\n",
    "\n",
    "print(\"Jumlah lulusan SD: \", len(sd))\n",
    "print(\"Jumlah lulusan SMP: \", len(smp))\n",
    "print(\"Jumlah lulusan SMA: \", len(sma))\n",
    "print(\"Jumlah lulusan PT: \", len(pt))\n",
    "\n",
    "# ambil 20% dari setiap jenjang pendidikan\n",
    "sd_sample = random.sample(sd, int(len(sd) * 0.2))\n",
    "smp_sample = random.sample(smp, int(len(smp) * 0.2))\n",
    "sma_sample = random.sample(sma, int(len(sma) * 0.2))\n",
    "pt_sample = random.sample(pt, int(len(pt) * 0.2))\n",
    "\n",
    "print(\"\\nJumlah sample SD: \", len(sd_sample))\n",
    "print(\"Jumlah sample SMP: \", len(smp_sample))\n",
    "print(\"Jumlah sample SMA: \", len(sma_sample))\n",
    "print(\"Jumlah sample PT: \", len(pt_sample))\n",
    "\n",
    "print(\"\\nHasil sample: \")\n",
    "sample = sd_sample + smp_sample + sma_sample + pt_sample\n",
    "print(tabulate(sample, headers='keys', tablefmt='psql'))"
   ]
  },
  {
   "cell_type": "markdown",
   "metadata": {},
   "source": [
    "#### 3. Sistematic Sampling \n",
    "Penyampelan dengan cara ini dilakukan dengan mengurutkan terlebih dahulu semua anggota, kemudian dipili urutan tertentu untuk dijadikan anggota sampel. "
   ]
  },
  {
   "cell_type": "code",
   "execution_count": 50,
   "metadata": {},
   "outputs": [
    {
     "name": "stdout",
     "output_type": "stream",
     "text": [
      "+----+-------------------------------+--------+------------+-----------------------+-------------------+-----------------+\n",
      "|    | Nama                          |   Umur | Kota       | Pendidikan Terakhir   | Jenis Pekerjaan   | Jenis Kelamin   |\n",
      "|----+-------------------------------+--------+------------+-----------------------+-------------------+-----------------|\n",
      "| 29 | Aditya Rahmawati              |     20 | Malang     | PT                    | Insinyur          | Perempuan       |\n",
      "| 12 | Ani Zulkarnain                |     31 | Yogyakarta | SMP                   | Developer         | Perempuan       |\n",
      "| 40 | Asirwada Purnawati            |     29 | Malang     | SD                    | Developer         | Laki-laki       |\n",
      "|  5 | Caturangga Halimah, S.Gz      |     37 | Malang     | SD                    | Akuntan           | Laki-laki       |\n",
      "|  8 | Cornelia Anggraini            |     26 | Surabaya   | PT                    | Polisi            | Laki-laki       |\n",
      "| 38 | Dadap Astuti                  |     29 | Surabaya   | SD                    | Desainer          | Perempuan       |\n",
      "|  1 | Dasa Jailani                  |     20 | Surabaya   | SD                    | Insinyur          | Laki-laki       |\n",
      "|  3 | Dr. Cagak Suartini            |     42 | Jakarta    | SD                    | Desainer          | Perempuan       |\n",
      "| 49 | Drs. Hasta Wahyudin, S.Pd     |     29 | Surabaya   | SD                    | Polisi            | Perempuan       |\n",
      "| 16 | Dt. Darmaji Saragih           |     42 | Surabaya   | PT                    | Developer         | Laki-laki       |\n",
      "| 24 | Eka Haryanti                  |     22 | Malang     | PT                    | Desainer          | Laki-laki       |\n",
      "| 19 | Eli Suryono                   |     38 | Yogyakarta | PT                    | Dokter            | Laki-laki       |\n",
      "| 10 | Gabriella Rahayu              |     61 | Yogyakarta | SMP                   | Akuntan           | Laki-laki       |\n",
      "| 47 | Gabriella Sihombing           |     58 | Jakarta    | PT                    | Guru              | Laki-laki       |\n",
      "| 32 | Gading Natsir, S.E.           |     65 | Malang     | SD                    | Dokter            | Perempuan       |\n",
      "| 31 | Galak Wahyudin                |     51 | Yogyakarta | PT                    | Insinyur          | Laki-laki       |\n",
      "|  7 | Hana Pratiwi                  |     48 | Yogyakarta | SMP                   | Guru              | Perempuan       |\n",
      "|  6 | Harja Marbun                  |     27 | Malang     | SMA                   | Polisi            | Laki-laki       |\n",
      "| 48 | Harjo Mandala, S.Farm         |     19 | Malang     | SD                    | Guru              | Laki-laki       |\n",
      "|  9 | Hasta Sihombing, S.Pt         |     21 | Jakarta    | SD                    | Developer         | Laki-laki       |\n",
      "| 39 | Hj. Eka Utami, M.Pd           |     57 | Jakarta    | PT                    | Insinyur          | Perempuan       |\n",
      "| 41 | Ilsa Saefullah                |     37 | Surabaya   | PT                    | Guru              | Laki-laki       |\n",
      "|  0 | Ir. Ciaobella Mandasari       |     54 | Surabaya   | SMA                   | Insinyur          | Perempuan       |\n",
      "| 20 | Ir. Maida Marbun, S.Psi       |     22 | Surabaya   | SMP                   | Polisi            | Laki-laki       |\n",
      "|  2 | Jaka Mansur                   |     30 | Malang     | PT                    | Desainer          | Perempuan       |\n",
      "| 37 | Karta Wijayanti               |     21 | Jakarta    | SMP                   | Insinyur          | Laki-laki       |\n",
      "| 36 | Laila Susanti                 |     45 | Surabaya   | SD                    | Guru              | Perempuan       |\n",
      "| 22 | Lamar Prasetyo                |     46 | Jakarta    | SMA                   | Dokter            | Perempuan       |\n",
      "| 30 | Lukita Mustofa                |     65 | Yogyakarta | SMP                   | Desainer          | Laki-laki       |\n",
      "| 34 | Mariadi Waskita               |     50 | Surabaya   | SMP                   | Akuntan           | Perempuan       |\n",
      "| 45 | Oliva Lailasari               |     30 | Malang     | SD                    | Insinyur          | Perempuan       |\n",
      "| 35 | Paiman Sitorus                |     32 | Surabaya   | PT                    | Akuntan           | Laki-laki       |\n",
      "| 15 | Patricia Wahyuni, M.M.        |     58 | Surabaya   | SMA                   | Insinyur          | Perempuan       |\n",
      "| 21 | Prasetyo Latupono             |     26 | Jakarta    | SMP                   | Akuntan           | Perempuan       |\n",
      "| 26 | Puti Maimunah Budiyanto, S.Pt |     24 | Malang     | SMA                   | Dokter            | Laki-laki       |\n",
      "| 27 | R.A. Karen Wahyuni            |     23 | Yogyakarta | SMA                   | Desainer          | Perempuan       |\n",
      "|  4 | Rahman Tampubolon             |     25 | Malang     | PT                    | Guru              | Laki-laki       |\n",
      "| 33 | Saadat Yuliarti               |     29 | Jakarta    | SMA                   | Insinyur          | Laki-laki       |\n",
      "| 17 | Salsabila Halim               |     47 | Surabaya   | SMP                   | Guru              | Perempuan       |\n",
      "| 44 | Septi Dongoran                |     63 | Jakarta    | SMP                   | Polisi            | Perempuan       |\n",
      "| 14 | Siti Budiyanto                |     47 | Yogyakarta | PT                    | Guru              | Perempuan       |\n",
      "| 13 | Tari Lestari                  |     41 | Jakarta    | PT                    | Akuntan           | Laki-laki       |\n",
      "| 23 | Tira Sinaga, S.E.I            |     48 | Malang     | SMP                   | Akuntan           | Laki-laki       |\n",
      "| 46 | Vicky Adriansyah              |     57 | Jakarta    | PT                    | Dokter            | Laki-laki       |\n",
      "| 11 | Vicky Puspita                 |     50 | Malang     | SMA                   | Desainer          | Laki-laki       |\n",
      "| 43 | Violet Namaga                 |     38 | Surabaya   | SMP                   | Guru              | Perempuan       |\n",
      "| 28 | Vivi Agustina, M.Ak           |     50 | Jakarta    | PT                    | Desainer          | Perempuan       |\n",
      "| 25 | Yuliana Yolanda               |     39 | Malang     | SMP                   | Dokter            | Perempuan       |\n",
      "| 18 | drg. Elon Puspita             |     19 | Jakarta    | SMA                   | Dokter            | Laki-laki       |\n",
      "| 42 | drg. Rina Kusmawati, S.Pd     |     56 | Yogyakarta | SD                    | Polisi            | Laki-laki       |\n",
      "+----+-------------------------------+--------+------------+-----------------------+-------------------+-----------------+\n"
     ]
    }
   ],
   "source": [
    "sorted_df = df.sort_values(by='Nama')\n",
    "print(tabulate(sorted_df, headers='keys', tablefmt='psql'))"
   ]
  },
  {
   "cell_type": "code",
   "execution_count": 51,
   "metadata": {},
   "outputs": [
    {
     "name": "stdout",
     "output_type": "stream",
     "text": [
      "+---------------------+--------+------------+-----------------------+-------------------+-----------------+\n",
      "| Nama                |   Umur | Kota       | Pendidikan Terakhir   | Jenis Pekerjaan   | Jenis Kelamin   |\n",
      "|---------------------+--------+------------+-----------------------+-------------------+-----------------|\n",
      "| Aditya Rahmawati    |     20 | Malang     | PT                    | Insinyur          | Perempuan       |\n",
      "| Dadap Astuti        |     29 | Surabaya   | SD                    | Desainer          | Perempuan       |\n",
      "| Eka Haryanti        |     22 | Malang     | PT                    | Desainer          | Laki-laki       |\n",
      "| Galak Wahyudin      |     51 | Yogyakarta | PT                    | Insinyur          | Laki-laki       |\n",
      "| Hj. Eka Utami, M.Pd |     57 | Jakarta    | PT                    | Insinyur          | Perempuan       |\n",
      "| Karta Wijayanti     |     21 | Jakarta    | SMP                   | Insinyur          | Laki-laki       |\n",
      "| Oliva Lailasari     |     30 | Malang     | SD                    | Insinyur          | Perempuan       |\n",
      "| R.A. Karen Wahyuni  |     23 | Yogyakarta | SMA                   | Desainer          | Perempuan       |\n",
      "| Siti Budiyanto      |     47 | Yogyakarta | PT                    | Guru              | Perempuan       |\n",
      "| Violet Namaga       |     38 | Surabaya   | SMP                   | Guru              | Perempuan       |\n",
      "+---------------------+--------+------------+-----------------------+-------------------+-----------------+\n"
     ]
    }
   ],
   "source": [
    "# Mengambil sampel setiap kelipatan 5\n",
    "sample = []\n",
    "for i in range(0, len(sorted_df), 5):\n",
    "    sample.append(sorted_df.iloc[i])\n",
    "\n",
    "print(tabulate(sample, headers='keys', tablefmt='psql')) "
   ]
  },
  {
   "cell_type": "markdown",
   "metadata": {},
   "source": [
    "#### 4. Cluster Sampling \n",
    "Pada penyampelan jenis ini, populasi dibagi menjadi wilayah atau klaster. Jika terpilih klasternya, seluruh anggota dalam klaster tersebut yang menjadi sampel. \n",
    "\n",
    "Langkah-langkah dalam pengambilan sample dengan cluster sampling:\n",
    "- Menentukan cluster-clusternya  \n",
    "- Menentukan banyak cluster yang akan dijadikan sample, misal n cluster \n",
    "- Memilih secara acak cluster \n",
    "- Semua anggota yang terdapat dalam klaster yang terpilih merupakan sampel "
   ]
  },
  {
   "cell_type": "code",
   "execution_count": 52,
   "metadata": {},
   "outputs": [
    {
     "name": "stdout",
     "output_type": "stream",
     "text": [
      "+--------------------------+--------+------------+-----------------------+-------------------+-----------------+\n",
      "| Nama                     |   Umur | Kota       | Pendidikan Terakhir   | Jenis Pekerjaan   | Jenis Kelamin   |\n",
      "|--------------------------+--------+------------+-----------------------+-------------------+-----------------|\n",
      "| Caturangga Halimah, S.Gz |     37 | Malang     | SD                    | Akuntan           | Laki-laki       |\n",
      "| Harja Marbun             |     27 | Malang     | SMA                   | Polisi            | Laki-laki       |\n",
      "| Hana Pratiwi             |     48 | Yogyakarta | SMP                   | Guru              | Perempuan       |\n",
      "| Cornelia Anggraini       |     26 | Surabaya   | PT                    | Polisi            | Laki-laki       |\n",
      "| Hasta Sihombing, S.Pt    |     21 | Jakarta    | SD                    | Developer         | Laki-laki       |\n",
      "+--------------------------+--------+------------+-----------------------+-------------------+-----------------+\n"
     ]
    }
   ],
   "source": [
    "# Misalkan terdapat 5 cluster\n",
    "temp = df\n",
    "c1 = []\n",
    "c2 = []\n",
    "c3 = []\n",
    "c4 = []\n",
    "c5 = []\n",
    "clusters = [c1, c2, c3, c4, c5]\n",
    "\n",
    "fill  = 0\n",
    "count = 0\n",
    "for i in range(len(temp)):\n",
    "    if count == 5:\n",
    "        count = 0\n",
    "        fill += 1\n",
    "        \n",
    "    if fill <= 4:    \n",
    "        clusters[fill].append(temp.iloc[i])\n",
    "    count += 1\n",
    "\n",
    "sample = random.choice(clusters)\n",
    "print(tabulate(sample, headers='keys', tablefmt='psql'))"
   ]
  },
  {
   "cell_type": "markdown",
   "metadata": {},
   "source": [
    "### B. Non Probability Sampling \n",
    "Nonprobability sampling adalah teknik pengambilan sampel yang tidak memberi peluang atau kesempatan sama bagi setiap unsur atau anggota populasi yang dipilih menjadi sampel. Teknik pengambilan sampel ini diantaranya sampling incidental, sampling bertujuan, sampling bola salju (snowball sampling), dan sampling kuota. Non probability sampling ini tidak bisa digunakan untuk membuat generalisasi. "
   ]
  },
  {
   "cell_type": "markdown",
   "metadata": {},
   "source": [
    "#### 1. Sampling Incidental\n",
    "Nonprobability sampling adalah teknik pengambilan sampel yang tidak memberi peluang atau kesempatan sama bagi setiap unsur atau anggota populasi yang dipilih menjadi sampel. Teknik pengambilan sampel ini diantaranya sampling incidental, sampling bertujuan, sampling bola salju (snowball sampling), dan sampling kuota. Non probability sampling ini tidak bisa digunakan untuk membuat generalisasi. "
   ]
  },
  {
   "cell_type": "markdown",
   "metadata": {},
   "source": [
    "#### 2. Sampling purposive \n",
    "Teknik penentuan sampel berdasarkan pertimbangan peneliti atau evaluator tentang sampel mana yang paling bermanfaat dan representative (Babbie, 2004: 183). \n",
    "Terkadang sampel yang akan diambil ditentukan berdasarkan pengetahuan tentang suatu populasi, anggota-anggotanya dan tujuan dari penelitian. Jenis sampel ini sangat baik jika dimanfaatkan untuk studi penjajagan (studi awal untuk penelitian atau evaluasi). \n"
   ]
  },
  {
   "cell_type": "code",
   "execution_count": 53,
   "metadata": {},
   "outputs": [
    {
     "name": "stdout",
     "output_type": "stream",
     "text": [
      "+---------------------------+--------+------------+-----------------------+-------------------+-----------------+\n",
      "| Nama                      |   Umur | Kota       | Pendidikan Terakhir   | Jenis Pekerjaan   | Jenis Kelamin   |\n",
      "|---------------------------+--------+------------+-----------------------+-------------------+-----------------|\n",
      "| Harja Marbun              |     27 | Malang     | SMA                   | Polisi            | Laki-laki       |\n",
      "| Cornelia Anggraini        |     26 | Surabaya   | PT                    | Polisi            | Laki-laki       |\n",
      "| Ir. Maida Marbun, S.Psi   |     22 | Surabaya   | SMP                   | Polisi            | Laki-laki       |\n",
      "| drg. Rina Kusmawati, S.Pd |     56 | Yogyakarta | SD                    | Polisi            | Laki-laki       |\n",
      "| Septi Dongoran            |     63 | Jakarta    | SMP                   | Polisi            | Perempuan       |\n",
      "| Drs. Hasta Wahyudin, S.Pd |     29 | Surabaya   | SD                    | Polisi            | Perempuan       |\n",
      "+---------------------------+--------+------------+-----------------------+-------------------+-----------------+\n"
     ]
    }
   ],
   "source": [
    "# Mengambil sampel hanya yang berprofesi sebagai Polisi\n",
    "sample = []\n",
    "\n",
    "for i in range(len(df)):\n",
    "    if df.iloc[i]['Jenis Pekerjaan'] == 'Polisi':\n",
    "        sample.append(df.iloc[i])\n",
    "\n",
    "print(tabulate(sample, headers='keys', tablefmt='psql'))  "
   ]
  },
  {
   "cell_type": "markdown",
   "metadata": {},
   "source": [
    "#### 3. Sampling Bola Salju\n",
    "Sampling snowball dapat dilakukan jika keberadaan dari suatu populasi sulit untuk ditemukan. Dengan kata lain, cara ini banyak dipakai ketika peneliti atau evaluator tidak banyak tahu tentang populasi penelitian aau evaluasinya. Pada sampling bola salju, peneliti mengumpulkan data dari beberapa sampel yang dapat ditemukan oleh peneliti sendiri, selanjutnya peneliti meminta individu yang telah dijadikan sampel tersebut untuk memberitahukan keberadaan anggota yang lainnya yang tidak dapat ditemukan oleh peneliti untuk dapat melengkapi data (Babbie, 2004: 184)."
   ]
  },
  {
   "cell_type": "code",
   "execution_count": 54,
   "metadata": {},
   "outputs": [
    {
     "name": "stdout",
     "output_type": "stream",
     "text": [
      "Memilih 3 orang acak:\n",
      "+----------------+--------+------------+-----------------------+-------------------+-----------------+\n",
      "| Nama           |   Umur | Kota       | Pendidikan Terakhir   | Jenis Pekerjaan   | Jenis Kelamin   |\n",
      "|----------------+--------+------------+-----------------------+-------------------+-----------------|\n",
      "| Tari Lestari   |     41 | Jakarta    | PT                    | Akuntan           | Laki-laki       |\n",
      "| Hana Pratiwi   |     48 | Yogyakarta | SMP                   | Guru              | Perempuan       |\n",
      "| Lukita Mustofa |     65 | Yogyakarta | SMP                   | Desainer          | Laki-laki       |\n",
      "+----------------+--------+------------+-----------------------+-------------------+-----------------+\n",
      "Sample hasil rekomendasi:\n",
      "+--------------------+--------+------------+-----------------------+-------------------+-----------------+---------+\n",
      "| Nama               |   Umur | Kota       | Pendidikan Terakhir   | Jenis Pekerjaan   | Jenis Kelamin   | Saran   |\n",
      "|--------------------+--------+------------+-----------------------+-------------------+-----------------+---------|\n",
      "| Tari Lestari       |     41 | Jakarta    | PT                    | Akuntan           | Laki-laki       |         |\n",
      "| Hana Pratiwi       |     48 | Yogyakarta | SMP                   | Guru              | Perempuan       |         |\n",
      "| Lukita Mustofa     |     65 | Yogyakarta | SMP                   | Desainer          | Laki-laki       |         |\n",
      "| Septi Dongoran     |     63 | Jakarta    | SMP                   | Polisi            | Perempuan       | Lestari |\n",
      "| Dr. Cagak Suartini |     42 | Jakarta    | SD                    | Desainer          | Perempuan       | Lestari |\n",
      "| Vicky Adriansyah   |     57 | Jakarta    | PT                    | Dokter            | Laki-laki       | Lestari |\n",
      "| R.A. Karen Wahyuni |     23 | Yogyakarta | SMA                   | Desainer          | Perempuan       | Pratiwi |\n",
      "| Siti Budiyanto     |     47 | Yogyakarta | PT                    | Guru              | Perempuan       | Pratiwi |\n",
      "| Eli Suryono        |     38 | Yogyakarta | PT                    | Dokter            | Laki-laki       | Pratiwi |\n",
      "| R.A. Karen Wahyuni |     23 | Yogyakarta | SMA                   | Desainer          | Perempuan       | Mustofa |\n",
      "| Gabriella Rahayu   |     61 | Yogyakarta | SMP                   | Akuntan           | Laki-laki       | Mustofa |\n",
      "| Siti Budiyanto     |     47 | Yogyakarta | PT                    | Guru              | Perempuan       | Mustofa |\n",
      "+--------------------+--------+------------+-----------------------+-------------------+-----------------+---------+\n"
     ]
    }
   ],
   "source": [
    "# Misalkan memilih 3 orang acak, dan 3 orang tersebut memberi rekomendasi 3 orang lain di kota yg bersangkutan\n",
    "\n",
    "# Memilih 3 orang acak\n",
    "random_people = random.sample(df.to_dict('records'), 3)\n",
    "print(\"Memilih 3 orang acak:\")\n",
    "print(tabulate(random_people, headers='keys', tablefmt='psql'))\n",
    "\n",
    "recommendations = []\n",
    "for person in random_people:\n",
    "    city = person['Kota']\n",
    "    same_city_people = df[(df['Kota'] == city) & (df['Nama'] != person['Nama'])]\n",
    "    recommended_people = same_city_people.sample(3, replace=True).to_dict('records')\n",
    "\n",
    "    for recommended in recommended_people:\n",
    "        recommended['Saran'] = person['Nama'].split(' ')[1]\n",
    "\n",
    "    recommendations.extend(recommended_people)\n",
    "\n",
    "sample = random_people + recommendations\n",
    "\n",
    "# Hasil \n",
    "print(\"Sample hasil rekomendasi:\")\n",
    "print(tabulate(sample, headers='keys', tablefmt='psql'))\n"
   ]
  },
  {
   "cell_type": "markdown",
   "metadata": {},
   "source": [
    "#### 4. Sampling Quota \n",
    "Teknik sampling kuota adalah teknik menentukan sampel dari populasi yang mempunyai ciri-ciri tertentu sampai jumlah (kuota) yang diinginkan.  Pada sampling kuota, dimulai dengan membuat tabel atau matriks yang berisi penjabaran karakteristik dari populasi yang ingin dicapai atau karakteristik populasi yang sesuai dengan tujuan dari penelitian untuk selanjutnya ditentukan sampel yang memenuhi ciri-ciri dari populasi tersebut. "
   ]
  },
  {
   "cell_type": "code",
   "execution_count": 55,
   "metadata": {},
   "outputs": [
    {
     "name": "stdout",
     "output_type": "stream",
     "text": [
      "+-------------------------+--------+------------+-----------------------+-------------------+-----------------+\n",
      "| Nama                    |   Umur | Kota       | Pendidikan Terakhir   | Jenis Pekerjaan   | Jenis Kelamin   |\n",
      "|-------------------------+--------+------------+-----------------------+-------------------+-----------------|\n",
      "| Karta Wijayanti         |     21 | Jakarta    | SMP                   | Insinyur          | Laki-laki       |\n",
      "| Septi Dongoran          |     63 | Jakarta    | SMP                   | Polisi            | Perempuan       |\n",
      "| Vicky Adriansyah        |     57 | Jakarta    | PT                    | Dokter            | Laki-laki       |\n",
      "| Ilsa Saefullah          |     37 | Surabaya   | PT                    | Guru              | Laki-laki       |\n",
      "| Ir. Maida Marbun, S.Psi |     22 | Surabaya   | SMP                   | Polisi            | Laki-laki       |\n",
      "| Violet Namaga           |     38 | Surabaya   | SMP                   | Guru              | Perempuan       |\n",
      "| Asirwada Purnawati      |     29 | Malang     | SD                    | Developer         | Laki-laki       |\n",
      "| Aditya Rahmawati        |     20 | Malang     | PT                    | Insinyur          | Perempuan       |\n",
      "| Harja Marbun            |     27 | Malang     | SMA                   | Polisi            | Laki-laki       |\n",
      "| Galak Wahyudin          |     51 | Yogyakarta | PT                    | Insinyur          | Laki-laki       |\n",
      "| Ani Zulkarnain          |     31 | Yogyakarta | SMP                   | Developer         | Perempuan       |\n",
      "| Gabriella Rahayu        |     61 | Yogyakarta | SMP                   | Akuntan           | Laki-laki       |\n",
      "+-------------------------+--------+------------+-----------------------+-------------------+-----------------+\n"
     ]
    }
   ],
   "source": [
    "# Misalkan mengambil 3 sampel untuk setiap kota\n",
    "sample = []\n",
    "\n",
    "for city in cities:\n",
    "    city_df = df[df['Kota'] == city]\n",
    "    quota = 3\n",
    "    city_sample = random.sample(city_df.to_dict('records'), quota)\n",
    "    for selec in city_sample:\n",
    "        sample.append(selec)\n",
    "\n",
    "print(tabulate(sample, headers='keys', tablefmt='psql'))\n"
   ]
  }
 ],
 "metadata": {
  "kernelspec": {
   "display_name": "Python 3",
   "language": "python",
   "name": "python3"
  },
  "language_info": {
   "codemirror_mode": {
    "name": "ipython",
    "version": 3
   },
   "file_extension": ".py",
   "mimetype": "text/x-python",
   "name": "python",
   "nbconvert_exporter": "python",
   "pygments_lexer": "ipython3",
   "version": "3.12.4"
  }
 },
 "nbformat": 4,
 "nbformat_minor": 2
}
