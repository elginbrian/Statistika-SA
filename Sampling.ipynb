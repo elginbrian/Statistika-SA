{
 "cells": [
  {
   "cell_type": "markdown",
   "metadata": {},
   "source": [
    "### RANGKUMAN TEKNIK SAMPLING \n",
    "- Populasi merupakan wilayah generalisasi atau keseluruhan dari sesuatu yang sedang dipelajari karakteristiknya. \n",
    "- Sampel merupakan bagian dari dari populasi.\n",
    "- Jadi sampel adalah sebagian dari keseluruhan obyek yang akan diteliti atau dievaluasi yang memiliki karakteristik tertentu dari sebuah populasi.\n",
    "- Cara menentukan sampel disebut dengan teknik sampling atau teknik penyampelan."
   ]
  },
  {
   "cell_type": "code",
   "execution_count": 12,
   "metadata": {},
   "outputs": [],
   "source": [
    "import random\n",
    "import pandas as pd\n",
    "from faker import Faker\n",
    "\n",
    "fake = Faker('id_ID')\n",
    "\n",
    "names = set()\n",
    "while len(names) < 50:\n",
    "    names.add(fake.name())\n",
    "\n",
    "names = list(names)\n",
    "\n",
    "cities = [\"Jakarta\", \"Surabaya\", \"Malang\", \"Yogyakarta\"]\n",
    "education = [\"SD\", \"SMP\", \"SMA\", \"PT\"]\n",
    "jobs = [\"Guru\", \"Dokter\", \"Insinyur\", \"Akuntan\", \"Developer\", \"Desainer\", \"Polisi\"]\n",
    "genders = [\"Laki-laki\", \"Perempuan\"]\n",
    "\n",
    "data = []\n",
    "\n",
    "for name in names:\n",
    "    item = {\n",
    "        \"Nama\": name,\n",
    "        \"Umur\": random.randint(18, 65),\n",
    "        \"Kota\": random.choice(cities),\n",
    "        \"Pendidikan Terakhir\": random.choice(education),\n",
    "        \"Jenis Pekerjaan\": random.choice(jobs),\n",
    "        \"Jenis Kelamin\": random.choice(genders)\n",
    "    }\n",
    "    data.append(item)\n",
    "\n",
    "df = pd.DataFrame(data)\n",
    "df.to_csv(\"sampling.csv\", index=False)"
   ]
  },
  {
   "cell_type": "code",
   "execution_count": 13,
   "metadata": {},
   "outputs": [
    {
     "name": "stdout",
     "output_type": "stream",
     "text": [
      "+----+-----------------------------+--------+------------+-----------------------+-------------------+-----------------+\n",
      "|    | Nama                        |   Umur | Kota       | Pendidikan Terakhir   | Jenis Pekerjaan   | Jenis Kelamin   |\n",
      "|----+-----------------------------+--------+------------+-----------------------+-------------------+-----------------|\n",
      "|  0 | Tgk. Eli Budiyanto          |     58 | Jakarta    | PT                    | Insinyur          | Perempuan       |\n",
      "|  1 | Tirta Tampubolon            |     32 | Yogyakarta | SMA                   | Developer         | Laki-laki       |\n",
      "|  2 | Laswi Wahyudin              |     44 | Surabaya   | SMA                   | Guru              | Perempuan       |\n",
      "|  3 | R.A. Zelaya Winarno         |     20 | Yogyakarta | SMP                   | Developer         | Laki-laki       |\n",
      "|  4 | Gaman Saptono               |     56 | Surabaya   | PT                    | Insinyur          | Perempuan       |\n",
      "|  5 | Lala Rahayu                 |     34 | Yogyakarta | PT                    | Akuntan           | Perempuan       |\n",
      "|  6 | Dr. Satya Nasyiah, S.IP     |     54 | Malang     | SMA                   | Dokter            | Perempuan       |\n",
      "|  7 | Dalima Pudjiastuti          |     31 | Surabaya   | SMP                   | Developer         | Perempuan       |\n",
      "|  8 | Kamila Namaga, S.Pd         |     53 | Yogyakarta | SD                    | Akuntan           | Perempuan       |\n",
      "|  9 | dr. Keisha Rahayu           |     41 | Surabaya   | SMP                   | Insinyur          | Perempuan       |\n",
      "| 10 | Ratih Wahyudin, S.Sos       |     23 | Jakarta    | SMA                   | Guru              | Laki-laki       |\n",
      "| 11 | Ganda Salahudin             |     57 | Surabaya   | SMA                   | Polisi            | Perempuan       |\n",
      "| 12 | Ratna Kuswoyo               |     43 | Malang     | SMA                   | Insinyur          | Laki-laki       |\n",
      "| 13 | Ulya Nashiruddin            |     50 | Jakarta    | SD                    | Akuntan           | Laki-laki       |\n",
      "| 14 | Drs. Tami Megantara, S.E.   |     21 | Surabaya   | SD                    | Desainer          | Laki-laki       |\n",
      "| 15 | Teguh Utama                 |     49 | Yogyakarta | SD                    | Dokter            | Laki-laki       |\n",
      "| 16 | Maman Kurniawan, S.Farm     |     43 | Yogyakarta | SD                    | Dokter            | Laki-laki       |\n",
      "| 17 | Tgk. Lintang Siregar, M.TI. |     58 | Yogyakarta | SMP                   | Akuntan           | Perempuan       |\n",
      "| 18 | Tgk. Sari Waskita           |     57 | Jakarta    | PT                    | Developer         | Perempuan       |\n",
      "| 19 | Indah Astuti                |     23 | Jakarta    | PT                    | Dokter            | Laki-laki       |\n",
      "| 20 | Restu Pertiwi               |     30 | Yogyakarta | SMP                   | Akuntan           | Laki-laki       |\n",
      "| 21 | Zalindra Wasita             |     35 | Surabaya   | SMA                   | Desainer          | Laki-laki       |\n",
      "| 22 | Muni Andriani               |     55 | Jakarta    | SMP                   | Polisi            | Laki-laki       |\n",
      "| 23 | Bakijan Riyanti             |     20 | Surabaya   | PT                    | Developer         | Laki-laki       |\n",
      "| 24 | Cornelia Lailasari, S.I.Kom |     27 | Malang     | SMP                   | Akuntan           | Laki-laki       |\n",
      "| 25 | Jono Mangunsong             |     27 | Yogyakarta | SD                    | Insinyur          | Perempuan       |\n",
      "| 26 | Ir. Manah Pratiwi, M.Ak     |     42 | Jakarta    | PT                    | Desainer          | Perempuan       |\n",
      "| 27 | Dodo Palastri               |     47 | Jakarta    | PT                    | Insinyur          | Perempuan       |\n",
      "| 28 | dr. Nadine Natsir           |     35 | Surabaya   | SMA                   | Polisi            | Perempuan       |\n",
      "| 29 | Gara Waskita                |     46 | Yogyakarta | SMP                   | Dokter            | Perempuan       |\n",
      "| 30 | Jane Samosir                |     60 | Yogyakarta | SMP                   | Guru              | Perempuan       |\n",
      "| 31 | dr. Kamaria Maulana, S.Sos  |     62 | Surabaya   | SMA                   | Developer         | Laki-laki       |\n",
      "| 32 | Irma Kusumo                 |     38 | Jakarta    | SMA                   | Developer         | Perempuan       |\n",
      "| 33 | Cut Rika Wastuti            |     22 | Yogyakarta | PT                    | Akuntan           | Laki-laki       |\n",
      "| 34 | Sakti Melani, S.Gz          |     42 | Malang     | PT                    | Developer         | Laki-laki       |\n",
      "| 35 | Tgk. Mutia Marpaung, S.Pt   |     23 | Surabaya   | SD                    | Polisi            | Laki-laki       |\n",
      "| 36 | Cakrabirawa Usada, M.Farm   |     25 | Surabaya   | PT                    | Insinyur          | Perempuan       |\n",
      "| 37 | dr. Rangga Farida, S.IP     |     20 | Yogyakarta | SMP                   | Insinyur          | Perempuan       |\n",
      "| 38 | Oni Maryadi                 |     42 | Malang     | SMA                   | Polisi            | Laki-laki       |\n",
      "| 39 | Zaenab Thamrin, S.Psi       |     52 | Yogyakarta | PT                    | Insinyur          | Perempuan       |\n",
      "| 40 | Dasa Mayasari, S.Kom        |     65 | Malang     | SMP                   | Desainer          | Perempuan       |\n",
      "| 41 | R.A. Juli Sihombing, S.Kom  |     21 | Malang     | SMA                   | Polisi            | Perempuan       |\n",
      "| 42 | Endra Kuswoyo               |     36 | Surabaya   | SD                    | Dokter            | Laki-laki       |\n",
      "| 43 | Kezia Jailani               |     62 | Malang     | SD                    | Developer         | Laki-laki       |\n",
      "| 44 | Syahrini Suryono            |     57 | Jakarta    | PT                    | Akuntan           | Laki-laki       |\n",
      "| 45 | Siska Tampubolon            |     34 | Yogyakarta | SMP                   | Guru              | Laki-laki       |\n",
      "| 46 | Dt. Prayitna Marpaung, M.Pd |     63 | Malang     | SMP                   | Dokter            | Perempuan       |\n",
      "| 47 | Balangga Prabowo            |     41 | Yogyakarta | SMP                   | Polisi            | Laki-laki       |\n",
      "| 48 | Harja Hassanah              |     52 | Jakarta    | SMA                   | Desainer          | Laki-laki       |\n",
      "| 49 | Banawa Habibi               |     46 | Jakarta    | SD                    | Dokter            | Laki-laki       |\n",
      "+----+-----------------------------+--------+------------+-----------------------+-------------------+-----------------+\n"
     ]
    }
   ],
   "source": [
    "from tabulate import tabulate\n",
    "print(tabulate(df, headers='keys', tablefmt='psql'))"
   ]
  },
  {
   "cell_type": "markdown",
   "metadata": {},
   "source": [
    "### A. Teknik Sampling Probabilitas\n",
    "- Probability sampling adalah teknik pengambilan sampel yang memberikan peluang yang sama bagi setiap unsur (anggota) populasi untuk dipilih menjadi anggota sampel. \n",
    "- Teknik ini merupakan teknik yang memungkinkan peneliti atau evaluator untuk membuat generalisasi dari karakteristik sampel menjadi karakteristik populasi. "
   ]
  },
  {
   "cell_type": "markdown",
   "metadata": {},
   "source": [
    "#### 1. Simple Random Sampling\n",
    "Penyampelan acak sederhana, memiliki maksud bahwa sebanyak n sampel diambil dari populasi N dan tiap anggota populasi mempunyai peluang yang sama untuk terambil.  \n",
    "\n",
    "Terdapat 3 (tiga) cara untuk menentukan sampel dengan mengunakan teknik ini, yaitu:\n",
    "- Cara undian \n",
    "- Mengambil perwakilan dari setiap beberapa baris\n",
    "- Menggunakan komputer untuk memberi hasil acak"
   ]
  },
  {
   "cell_type": "code",
   "execution_count": 14,
   "metadata": {},
   "outputs": [
    {
     "name": "stdout",
     "output_type": "stream",
     "text": [
      "+-----------------------------+--------+------------+-----------------------+-------------------+-----------------+\n",
      "| Nama                        |   Umur | Kota       | Pendidikan Terakhir   | Jenis Pekerjaan   | Jenis Kelamin   |\n",
      "|-----------------------------+--------+------------+-----------------------+-------------------+-----------------|\n",
      "| Tgk. Eli Budiyanto          |     58 | Jakarta    | PT                    | Insinyur          | Perempuan       |\n",
      "| Kamila Namaga, S.Pd         |     53 | Yogyakarta | SD                    | Akuntan           | Perempuan       |\n",
      "| dr. Keisha Rahayu           |     41 | Surabaya   | SMP                   | Insinyur          | Perempuan       |\n",
      "| Teguh Utama                 |     49 | Yogyakarta | SD                    | Dokter            | Laki-laki       |\n",
      "| Bakijan Riyanti             |     20 | Surabaya   | PT                    | Developer         | Laki-laki       |\n",
      "| Cornelia Lailasari, S.I.Kom |     27 | Malang     | SMP                   | Akuntan           | Laki-laki       |\n",
      "| Jane Samosir                |     60 | Yogyakarta | SMP                   | Guru              | Perempuan       |\n",
      "| dr. Rangga Farida, S.IP     |     20 | Yogyakarta | SMP                   | Insinyur          | Perempuan       |\n",
      "| Endra Kuswoyo               |     36 | Surabaya   | SD                    | Dokter            | Laki-laki       |\n",
      "| Harja Hassanah              |     52 | Jakarta    | SMA                   | Desainer          | Laki-laki       |\n",
      "+-----------------------------+--------+------------+-----------------------+-------------------+-----------------+\n"
     ]
    }
   ],
   "source": [
    "# Contoh mengambil 1 perwakilan untuk setiap 5 baris (total 10 sampel)\n",
    "sample = []\n",
    "count = 1\n",
    "temp = []\n",
    "for i in range(0, len(df)):\n",
    "    temp.append(df.iloc[i])\n",
    "    count += 1\n",
    "\n",
    "    if count % 5 == 0:\n",
    "        sample.append(random.choice(temp))\n",
    "        temp = []\n",
    "        \n",
    "print(tabulate(sample, headers='keys', tablefmt='psql'))"
   ]
  },
  {
   "cell_type": "code",
   "execution_count": 15,
   "metadata": {},
   "outputs": [
    {
     "name": "stdout",
     "output_type": "stream",
     "text": [
      "+-----------------------------+--------+------------+-----------------------+-------------------+-----------------+\n",
      "| Nama                        |   Umur | Kota       | Pendidikan Terakhir   | Jenis Pekerjaan   | Jenis Kelamin   |\n",
      "|-----------------------------+--------+------------+-----------------------+-------------------+-----------------|\n",
      "| Zaenab Thamrin, S.Psi       |     52 | Yogyakarta | PT                    | Insinyur          | Perempuan       |\n",
      "| dr. Rangga Farida, S.IP     |     20 | Yogyakarta | SMP                   | Insinyur          | Perempuan       |\n",
      "| Irma Kusumo                 |     38 | Jakarta    | SMA                   | Developer         | Perempuan       |\n",
      "| Siska Tampubolon            |     34 | Yogyakarta | SMP                   | Guru              | Laki-laki       |\n",
      "| Dodo Palastri               |     47 | Jakarta    | PT                    | Insinyur          | Perempuan       |\n",
      "| R.A. Zelaya Winarno         |     20 | Yogyakarta | SMP                   | Developer         | Laki-laki       |\n",
      "| Bakijan Riyanti             |     20 | Surabaya   | PT                    | Developer         | Laki-laki       |\n",
      "| Cornelia Lailasari, S.I.Kom |     27 | Malang     | SMP                   | Akuntan           | Laki-laki       |\n",
      "| Dasa Mayasari, S.Kom        |     65 | Malang     | SMP                   | Desainer          | Perempuan       |\n",
      "| Ratih Wahyudin, S.Sos       |     23 | Jakarta    | SMA                   | Guru              | Laki-laki       |\n",
      "+-----------------------------+--------+------------+-----------------------+-------------------+-----------------+\n"
     ]
    }
   ],
   "source": [
    "# Contoh mengambil 10 sampel secara random\n",
    "sample = random.sample(df.to_dict('records'), 10)\n",
    "print(tabulate(sample, headers='keys', tablefmt='psql'))"
   ]
  },
  {
   "cell_type": "markdown",
   "metadata": {},
   "source": [
    "#### 2. Stratified Random Sampling\n",
    "Pada penyampelan jenis ini, anggota populasi dikelompokkan berdasarkan stratanya, misal tinggi, sedang, dan rendah. Kemudian dipilih sampel yang mewakili masing-masing strata.\n",
    "\n",
    "Langkah-langkah dalam menentukan Stratified Random sampling: \n",
    "- Menentukan data pendukung tentang populasi yang diambil berikut strata-strata yang ada di dalamnya\n",
    "- Mengklasifikasikan populasi ke dalam grup atau strata yang saling lepas\n",
    "- Menentukan ukuran sample untuk tiap stratum\n",
    "- Memilih secara acak setiap stratum dengan menggunakan simple random sampling "
   ]
  },
  {
   "cell_type": "code",
   "execution_count": 16,
   "metadata": {},
   "outputs": [
    {
     "name": "stdout",
     "output_type": "stream",
     "text": [
      "Jumlah lulusan SD:  10\n",
      "Jumlah lulusan SMP:  14\n",
      "Jumlah lulusan SMA:  13\n",
      "Jumlah lulusan PT:  13\n",
      "\n",
      "Jumlah sample SD:  2\n",
      "Jumlah sample SMP:  2\n",
      "Jumlah sample SMA:  2\n",
      "Jumlah sample PT:  2\n",
      "\n",
      "Hasil sample: \n",
      "+-----------------------------+--------+------------+-----------------------+-------------------+-----------------+\n",
      "| Nama                        |   Umur | Kota       | Pendidikan Terakhir   | Jenis Pekerjaan   | Jenis Kelamin   |\n",
      "|-----------------------------+--------+------------+-----------------------+-------------------+-----------------|\n",
      "| Endra Kuswoyo               |     36 | Surabaya   | SD                    | Dokter            | Laki-laki       |\n",
      "| Jono Mangunsong             |     27 | Yogyakarta | SD                    | Insinyur          | Perempuan       |\n",
      "| Siska Tampubolon            |     34 | Yogyakarta | SMP                   | Guru              | Laki-laki       |\n",
      "| Tgk. Lintang Siregar, M.TI. |     58 | Yogyakarta | SMP                   | Akuntan           | Perempuan       |\n",
      "| dr. Kamaria Maulana, S.Sos  |     62 | Surabaya   | SMA                   | Developer         | Laki-laki       |\n",
      "| Tirta Tampubolon            |     32 | Yogyakarta | SMA                   | Developer         | Laki-laki       |\n",
      "| Syahrini Suryono            |     57 | Jakarta    | PT                    | Akuntan           | Laki-laki       |\n",
      "| Zaenab Thamrin, S.Psi       |     52 | Yogyakarta | PT                    | Insinyur          | Perempuan       |\n",
      "+-----------------------------+--------+------------+-----------------------+-------------------+-----------------+\n"
     ]
    }
   ],
   "source": [
    "# Mensampling berdasarkan pendidikan terakhir\n",
    "sd = []\n",
    "smp = []\n",
    "sma = []\n",
    "pt = []\n",
    "\n",
    "for i in range(len(df)):\n",
    "    if df.iloc[i]['Pendidikan Terakhir'] == 'SD':\n",
    "        sd.append(df.iloc[i])\n",
    "    elif df.iloc[i]['Pendidikan Terakhir'] == 'SMP':\n",
    "        smp.append(df.iloc[i])\n",
    "    elif df.iloc[i]['Pendidikan Terakhir'] == 'SMA':\n",
    "        sma.append(df.iloc[i])\n",
    "    elif df.iloc[i]['Pendidikan Terakhir'] == 'PT':\n",
    "        pt.append(df.iloc[i])\n",
    "\n",
    "print(\"Jumlah lulusan SD: \", len(sd))\n",
    "print(\"Jumlah lulusan SMP: \", len(smp))\n",
    "print(\"Jumlah lulusan SMA: \", len(sma))\n",
    "print(\"Jumlah lulusan PT: \", len(pt))\n",
    "\n",
    "# ambil 20% dari setiap jenjang pendidikan\n",
    "sd_sample = random.sample(sd, int(len(sd) * 0.2))\n",
    "smp_sample = random.sample(smp, int(len(smp) * 0.2))\n",
    "sma_sample = random.sample(sma, int(len(sma) * 0.2))\n",
    "pt_sample = random.sample(pt, int(len(pt) * 0.2))\n",
    "\n",
    "print(\"\\nJumlah sample SD: \", len(sd_sample))\n",
    "print(\"Jumlah sample SMP: \", len(smp_sample))\n",
    "print(\"Jumlah sample SMA: \", len(sma_sample))\n",
    "print(\"Jumlah sample PT: \", len(pt_sample))\n",
    "\n",
    "print(\"\\nHasil sample: \")\n",
    "sample = sd_sample + smp_sample + sma_sample + pt_sample\n",
    "print(tabulate(sample, headers='keys', tablefmt='psql'))"
   ]
  },
  {
   "cell_type": "markdown",
   "metadata": {},
   "source": [
    "#### 3. Sistematic Sampling \n",
    "Penyampelan dengan cara ini dilakukan dengan mengurutkan terlebih dahulu semua anggota, kemudian dipili urutan tertentu untuk dijadikan anggota sampel. "
   ]
  },
  {
   "cell_type": "code",
   "execution_count": 17,
   "metadata": {},
   "outputs": [
    {
     "name": "stdout",
     "output_type": "stream",
     "text": [
      "+----+-----------------------------+--------+------------+-----------------------+-------------------+-----------------+\n",
      "|    | Nama                        |   Umur | Kota       | Pendidikan Terakhir   | Jenis Pekerjaan   | Jenis Kelamin   |\n",
      "|----+-----------------------------+--------+------------+-----------------------+-------------------+-----------------|\n",
      "| 23 | Bakijan Riyanti             |     20 | Surabaya   | PT                    | Developer         | Laki-laki       |\n",
      "| 47 | Balangga Prabowo            |     41 | Yogyakarta | SMP                   | Polisi            | Laki-laki       |\n",
      "| 49 | Banawa Habibi               |     46 | Jakarta    | SD                    | Dokter            | Laki-laki       |\n",
      "| 36 | Cakrabirawa Usada, M.Farm   |     25 | Surabaya   | PT                    | Insinyur          | Perempuan       |\n",
      "| 24 | Cornelia Lailasari, S.I.Kom |     27 | Malang     | SMP                   | Akuntan           | Laki-laki       |\n",
      "| 33 | Cut Rika Wastuti            |     22 | Yogyakarta | PT                    | Akuntan           | Laki-laki       |\n",
      "|  7 | Dalima Pudjiastuti          |     31 | Surabaya   | SMP                   | Developer         | Perempuan       |\n",
      "| 40 | Dasa Mayasari, S.Kom        |     65 | Malang     | SMP                   | Desainer          | Perempuan       |\n",
      "| 27 | Dodo Palastri               |     47 | Jakarta    | PT                    | Insinyur          | Perempuan       |\n",
      "|  6 | Dr. Satya Nasyiah, S.IP     |     54 | Malang     | SMA                   | Dokter            | Perempuan       |\n",
      "| 14 | Drs. Tami Megantara, S.E.   |     21 | Surabaya   | SD                    | Desainer          | Laki-laki       |\n",
      "| 46 | Dt. Prayitna Marpaung, M.Pd |     63 | Malang     | SMP                   | Dokter            | Perempuan       |\n",
      "| 42 | Endra Kuswoyo               |     36 | Surabaya   | SD                    | Dokter            | Laki-laki       |\n",
      "|  4 | Gaman Saptono               |     56 | Surabaya   | PT                    | Insinyur          | Perempuan       |\n",
      "| 11 | Ganda Salahudin             |     57 | Surabaya   | SMA                   | Polisi            | Perempuan       |\n",
      "| 29 | Gara Waskita                |     46 | Yogyakarta | SMP                   | Dokter            | Perempuan       |\n",
      "| 48 | Harja Hassanah              |     52 | Jakarta    | SMA                   | Desainer          | Laki-laki       |\n",
      "| 19 | Indah Astuti                |     23 | Jakarta    | PT                    | Dokter            | Laki-laki       |\n",
      "| 26 | Ir. Manah Pratiwi, M.Ak     |     42 | Jakarta    | PT                    | Desainer          | Perempuan       |\n",
      "| 32 | Irma Kusumo                 |     38 | Jakarta    | SMA                   | Developer         | Perempuan       |\n",
      "| 30 | Jane Samosir                |     60 | Yogyakarta | SMP                   | Guru              | Perempuan       |\n",
      "| 25 | Jono Mangunsong             |     27 | Yogyakarta | SD                    | Insinyur          | Perempuan       |\n",
      "|  8 | Kamila Namaga, S.Pd         |     53 | Yogyakarta | SD                    | Akuntan           | Perempuan       |\n",
      "| 43 | Kezia Jailani               |     62 | Malang     | SD                    | Developer         | Laki-laki       |\n",
      "|  5 | Lala Rahayu                 |     34 | Yogyakarta | PT                    | Akuntan           | Perempuan       |\n",
      "|  2 | Laswi Wahyudin              |     44 | Surabaya   | SMA                   | Guru              | Perempuan       |\n",
      "| 16 | Maman Kurniawan, S.Farm     |     43 | Yogyakarta | SD                    | Dokter            | Laki-laki       |\n",
      "| 22 | Muni Andriani               |     55 | Jakarta    | SMP                   | Polisi            | Laki-laki       |\n",
      "| 38 | Oni Maryadi                 |     42 | Malang     | SMA                   | Polisi            | Laki-laki       |\n",
      "| 41 | R.A. Juli Sihombing, S.Kom  |     21 | Malang     | SMA                   | Polisi            | Perempuan       |\n",
      "|  3 | R.A. Zelaya Winarno         |     20 | Yogyakarta | SMP                   | Developer         | Laki-laki       |\n",
      "| 10 | Ratih Wahyudin, S.Sos       |     23 | Jakarta    | SMA                   | Guru              | Laki-laki       |\n",
      "| 12 | Ratna Kuswoyo               |     43 | Malang     | SMA                   | Insinyur          | Laki-laki       |\n",
      "| 20 | Restu Pertiwi               |     30 | Yogyakarta | SMP                   | Akuntan           | Laki-laki       |\n",
      "| 34 | Sakti Melani, S.Gz          |     42 | Malang     | PT                    | Developer         | Laki-laki       |\n",
      "| 45 | Siska Tampubolon            |     34 | Yogyakarta | SMP                   | Guru              | Laki-laki       |\n",
      "| 44 | Syahrini Suryono            |     57 | Jakarta    | PT                    | Akuntan           | Laki-laki       |\n",
      "| 15 | Teguh Utama                 |     49 | Yogyakarta | SD                    | Dokter            | Laki-laki       |\n",
      "|  0 | Tgk. Eli Budiyanto          |     58 | Jakarta    | PT                    | Insinyur          | Perempuan       |\n",
      "| 17 | Tgk. Lintang Siregar, M.TI. |     58 | Yogyakarta | SMP                   | Akuntan           | Perempuan       |\n",
      "| 35 | Tgk. Mutia Marpaung, S.Pt   |     23 | Surabaya   | SD                    | Polisi            | Laki-laki       |\n",
      "| 18 | Tgk. Sari Waskita           |     57 | Jakarta    | PT                    | Developer         | Perempuan       |\n",
      "|  1 | Tirta Tampubolon            |     32 | Yogyakarta | SMA                   | Developer         | Laki-laki       |\n",
      "| 13 | Ulya Nashiruddin            |     50 | Jakarta    | SD                    | Akuntan           | Laki-laki       |\n",
      "| 39 | Zaenab Thamrin, S.Psi       |     52 | Yogyakarta | PT                    | Insinyur          | Perempuan       |\n",
      "| 21 | Zalindra Wasita             |     35 | Surabaya   | SMA                   | Desainer          | Laki-laki       |\n",
      "| 31 | dr. Kamaria Maulana, S.Sos  |     62 | Surabaya   | SMA                   | Developer         | Laki-laki       |\n",
      "|  9 | dr. Keisha Rahayu           |     41 | Surabaya   | SMP                   | Insinyur          | Perempuan       |\n",
      "| 28 | dr. Nadine Natsir           |     35 | Surabaya   | SMA                   | Polisi            | Perempuan       |\n",
      "| 37 | dr. Rangga Farida, S.IP     |     20 | Yogyakarta | SMP                   | Insinyur          | Perempuan       |\n",
      "+----+-----------------------------+--------+------------+-----------------------+-------------------+-----------------+\n"
     ]
    }
   ],
   "source": [
    "sorted_df = df.sort_values(by='Nama')\n",
    "print(tabulate(sorted_df, headers='keys', tablefmt='psql'))"
   ]
  },
  {
   "cell_type": "code",
   "execution_count": 18,
   "metadata": {},
   "outputs": [
    {
     "name": "stdout",
     "output_type": "stream",
     "text": [
      "+---------------------------+--------+------------+-----------------------+-------------------+-----------------+\n",
      "| Nama                      |   Umur | Kota       | Pendidikan Terakhir   | Jenis Pekerjaan   | Jenis Kelamin   |\n",
      "|---------------------------+--------+------------+-----------------------+-------------------+-----------------|\n",
      "| Bakijan Riyanti           |     20 | Surabaya   | PT                    | Developer         | Laki-laki       |\n",
      "| Cut Rika Wastuti          |     22 | Yogyakarta | PT                    | Akuntan           | Laki-laki       |\n",
      "| Drs. Tami Megantara, S.E. |     21 | Surabaya   | SD                    | Desainer          | Laki-laki       |\n",
      "| Gara Waskita              |     46 | Yogyakarta | SMP                   | Dokter            | Perempuan       |\n",
      "| Jane Samosir              |     60 | Yogyakarta | SMP                   | Guru              | Perempuan       |\n",
      "| Laswi Wahyudin            |     44 | Surabaya   | SMA                   | Guru              | Perempuan       |\n",
      "| R.A. Zelaya Winarno       |     20 | Yogyakarta | SMP                   | Developer         | Laki-laki       |\n",
      "| Siska Tampubolon          |     34 | Yogyakarta | SMP                   | Guru              | Laki-laki       |\n",
      "| Tgk. Mutia Marpaung, S.Pt |     23 | Surabaya   | SD                    | Polisi            | Laki-laki       |\n",
      "| Zalindra Wasita           |     35 | Surabaya   | SMA                   | Desainer          | Laki-laki       |\n",
      "+---------------------------+--------+------------+-----------------------+-------------------+-----------------+\n"
     ]
    }
   ],
   "source": [
    "# Mengambil sampel setiap kelipatan 5\n",
    "sample = []\n",
    "for i in range(0, len(sorted_df), 5):\n",
    "    sample.append(sorted_df.iloc[i])\n",
    "\n",
    "print(tabulate(sample, headers='keys', tablefmt='psql')) "
   ]
  },
  {
   "cell_type": "markdown",
   "metadata": {},
   "source": [
    "#### 4. Cluster Sampling \n",
    "Pada penyampelan jenis ini, populasi dibagi menjadi wilayah atau klaster. Jika terpilih klasternya, seluruh anggota dalam klaster tersebut yang menjadi sampel. \n",
    "\n",
    "Langkah-langkah dalam pengambilan sample dengan cluster sampling:\n",
    "- Menentukan cluster-clusternya  \n",
    "- Menentukan banyak cluster yang akan dijadikan sample, misal n cluster \n",
    "- Memilih secara acak cluster \n",
    "- Semua anggota yang terdapat dalam klaster yang terpilih merupakan sampel "
   ]
  },
  {
   "cell_type": "code",
   "execution_count": 19,
   "metadata": {},
   "outputs": [
    {
     "name": "stdout",
     "output_type": "stream",
     "text": [
      "+-----------------------------+--------+------------+-----------------------+-------------------+-----------------+\n",
      "| Nama                        |   Umur | Kota       | Pendidikan Terakhir   | Jenis Pekerjaan   | Jenis Kelamin   |\n",
      "|-----------------------------+--------+------------+-----------------------+-------------------+-----------------|\n",
      "| Teguh Utama                 |     49 | Yogyakarta | SD                    | Dokter            | Laki-laki       |\n",
      "| Maman Kurniawan, S.Farm     |     43 | Yogyakarta | SD                    | Dokter            | Laki-laki       |\n",
      "| Tgk. Lintang Siregar, M.TI. |     58 | Yogyakarta | SMP                   | Akuntan           | Perempuan       |\n",
      "| Tgk. Sari Waskita           |     57 | Jakarta    | PT                    | Developer         | Perempuan       |\n",
      "| Indah Astuti                |     23 | Jakarta    | PT                    | Dokter            | Laki-laki       |\n",
      "+-----------------------------+--------+------------+-----------------------+-------------------+-----------------+\n"
     ]
    }
   ],
   "source": [
    "# Misalkan terdapat 5 cluster\n",
    "temp = df\n",
    "c1 = []\n",
    "c2 = []\n",
    "c3 = []\n",
    "c4 = []\n",
    "c5 = []\n",
    "clusters = [c1, c2, c3, c4, c5]\n",
    "\n",
    "fill  = 0\n",
    "count = 0\n",
    "for i in range(len(temp)):\n",
    "    if count == 5:\n",
    "        count = 0\n",
    "        fill += 1\n",
    "        \n",
    "    if fill <= 4:    \n",
    "        clusters[fill].append(temp.iloc[i])\n",
    "    count += 1\n",
    "\n",
    "sample = random.choice(clusters)\n",
    "print(tabulate(sample, headers='keys', tablefmt='psql'))"
   ]
  },
  {
   "cell_type": "markdown",
   "metadata": {},
   "source": [
    "### B. Non Probability Sampling \n",
    "Nonprobability sampling adalah teknik pengambilan sampel yang tidak memberi peluang atau kesempatan sama bagi setiap unsur atau anggota populasi yang dipilih menjadi sampel. Teknik pengambilan sampel ini diantaranya sampling incidental, sampling bertujuan, sampling bola salju (snowball sampling), dan sampling kuota. Non probability sampling ini tidak bisa digunakan untuk membuat generalisasi. "
   ]
  },
  {
   "cell_type": "markdown",
   "metadata": {},
   "source": [
    "#### 1. Sampling Incidental\n",
    "Nonprobability sampling adalah teknik pengambilan sampel yang tidak memberi peluang atau kesempatan sama bagi setiap unsur atau anggota populasi yang dipilih menjadi sampel. Teknik pengambilan sampel ini diantaranya sampling incidental, sampling bertujuan, sampling bola salju (snowball sampling), dan sampling kuota. Non probability sampling ini tidak bisa digunakan untuk membuat generalisasi. "
   ]
  },
  {
   "cell_type": "markdown",
   "metadata": {},
   "source": [
    "#### 2. Sampling purposive \n",
    "Teknik penentuan sampel berdasarkan pertimbangan peneliti atau evaluator tentang sampel mana yang paling bermanfaat dan representative (Babbie, 2004: 183). \n",
    "Terkadang sampel yang akan diambil ditentukan berdasarkan pengetahuan tentang suatu populasi, anggota-anggotanya dan tujuan dari penelitian. Jenis sampel ini sangat baik jika dimanfaatkan untuk studi penjajagan (studi awal untuk penelitian atau evaluasi). \n"
   ]
  },
  {
   "cell_type": "code",
   "execution_count": 20,
   "metadata": {},
   "outputs": [
    {
     "name": "stdout",
     "output_type": "stream",
     "text": [
      "+----------------------------+--------+------------+-----------------------+-------------------+-----------------+\n",
      "| Nama                       |   Umur | Kota       | Pendidikan Terakhir   | Jenis Pekerjaan   | Jenis Kelamin   |\n",
      "|----------------------------+--------+------------+-----------------------+-------------------+-----------------|\n",
      "| Ganda Salahudin            |     57 | Surabaya   | SMA                   | Polisi            | Perempuan       |\n",
      "| Muni Andriani              |     55 | Jakarta    | SMP                   | Polisi            | Laki-laki       |\n",
      "| dr. Nadine Natsir          |     35 | Surabaya   | SMA                   | Polisi            | Perempuan       |\n",
      "| Tgk. Mutia Marpaung, S.Pt  |     23 | Surabaya   | SD                    | Polisi            | Laki-laki       |\n",
      "| Oni Maryadi                |     42 | Malang     | SMA                   | Polisi            | Laki-laki       |\n",
      "| R.A. Juli Sihombing, S.Kom |     21 | Malang     | SMA                   | Polisi            | Perempuan       |\n",
      "| Balangga Prabowo           |     41 | Yogyakarta | SMP                   | Polisi            | Laki-laki       |\n",
      "+----------------------------+--------+------------+-----------------------+-------------------+-----------------+\n"
     ]
    }
   ],
   "source": [
    "# Mengambil sampel hanya yang berprofesi sebagai Polisi\n",
    "sample = []\n",
    "\n",
    "for i in range(len(df)):\n",
    "    if df.iloc[i]['Jenis Pekerjaan'] == 'Polisi':\n",
    "        sample.append(df.iloc[i])\n",
    "\n",
    "print(tabulate(sample, headers='keys', tablefmt='psql'))  "
   ]
  },
  {
   "cell_type": "markdown",
   "metadata": {},
   "source": [
    "#### 3. Sampling Bola Salju\n",
    "Sampling snowball dapat dilakukan jika keberadaan dari suatu populasi sulit untuk ditemukan. Dengan kata lain, cara ini banyak dipakai ketika peneliti atau evaluator tidak banyak tahu tentang populasi penelitian aau evaluasinya. Pada sampling bola salju, peneliti mengumpulkan data dari beberapa sampel yang dapat ditemukan oleh peneliti sendiri, selanjutnya peneliti meminta individu yang telah dijadikan sampel tersebut untuk memberitahukan keberadaan anggota yang lainnya yang tidak dapat ditemukan oleh peneliti untuk dapat melengkapi data (Babbie, 2004: 184)."
   ]
  },
  {
   "cell_type": "code",
   "execution_count": 21,
   "metadata": {},
   "outputs": [
    {
     "name": "stdout",
     "output_type": "stream",
     "text": [
      "Memilih 3 orang acak:\n",
      "+----------------------------+--------+----------+-----------------------+-------------------+-----------------+\n",
      "| Nama                       |   Umur | Kota     | Pendidikan Terakhir   | Jenis Pekerjaan   | Jenis Kelamin   |\n",
      "|----------------------------+--------+----------+-----------------------+-------------------+-----------------|\n",
      "| dr. Kamaria Maulana, S.Sos |     62 | Surabaya | SMA                   | Developer         | Laki-laki       |\n",
      "| Ir. Manah Pratiwi, M.Ak    |     42 | Jakarta  | PT                    | Desainer          | Perempuan       |\n",
      "| Dodo Palastri              |     47 | Jakarta  | PT                    | Insinyur          | Perempuan       |\n",
      "+----------------------------+--------+----------+-----------------------+-------------------+-----------------+\n",
      "Sample hasil rekomendasi:\n",
      "+----------------------------+--------+----------+-----------------------+-------------------+-----------------+----------+\n",
      "| Nama                       |   Umur | Kota     | Pendidikan Terakhir   | Jenis Pekerjaan   | Jenis Kelamin   | Saran    |\n",
      "|----------------------------+--------+----------+-----------------------+-------------------+-----------------+----------|\n",
      "| dr. Kamaria Maulana, S.Sos |     62 | Surabaya | SMA                   | Developer         | Laki-laki       |          |\n",
      "| Ir. Manah Pratiwi, M.Ak    |     42 | Jakarta  | PT                    | Desainer          | Perempuan       |          |\n",
      "| Dodo Palastri              |     47 | Jakarta  | PT                    | Insinyur          | Perempuan       |          |\n",
      "| Ganda Salahudin            |     57 | Surabaya | SMA                   | Polisi            | Perempuan       | Kamaria  |\n",
      "| Cakrabirawa Usada, M.Farm  |     25 | Surabaya | PT                    | Insinyur          | Perempuan       | Kamaria  |\n",
      "| Tgk. Mutia Marpaung, S.Pt  |     23 | Surabaya | SD                    | Polisi            | Laki-laki       | Kamaria  |\n",
      "| Irma Kusumo                |     38 | Jakarta  | SMA                   | Developer         | Perempuan       | Manah    |\n",
      "| Muni Andriani              |     55 | Jakarta  | SMP                   | Polisi            | Laki-laki       | Manah    |\n",
      "| Banawa Habibi              |     46 | Jakarta  | SD                    | Dokter            | Laki-laki       | Manah    |\n",
      "| Banawa Habibi              |     46 | Jakarta  | SD                    | Dokter            | Laki-laki       | Palastri |\n",
      "| Ratih Wahyudin, S.Sos      |     23 | Jakarta  | SMA                   | Guru              | Laki-laki       | Palastri |\n",
      "| Muni Andriani              |     55 | Jakarta  | SMP                   | Polisi            | Laki-laki       | Palastri |\n",
      "+----------------------------+--------+----------+-----------------------+-------------------+-----------------+----------+\n"
     ]
    }
   ],
   "source": [
    "# Misalkan memilih 3 orang acak, dan 3 orang tersebut memberi rekomendasi 3 orang lain di kota yg bersangkutan\n",
    "\n",
    "# Memilih 3 orang acak\n",
    "random_people = random.sample(df.to_dict('records'), 3)\n",
    "print(\"Memilih 3 orang acak:\")\n",
    "print(tabulate(random_people, headers='keys', tablefmt='psql'))\n",
    "\n",
    "recommendations = []\n",
    "for person in random_people:\n",
    "    city = person['Kota']\n",
    "    same_city_people = df[(df['Kota'] == city) & (df['Nama'] != person['Nama'])]\n",
    "    recommended_people = same_city_people.sample(3, replace=True).to_dict('records')\n",
    "\n",
    "    for recommended in recommended_people:\n",
    "        recommended['Saran'] = person['Nama'].split(' ')[1]\n",
    "\n",
    "    recommendations.extend(recommended_people)\n",
    "\n",
    "sample = random_people + recommendations\n",
    "\n",
    "# Hasil \n",
    "print(\"Sample hasil rekomendasi:\")\n",
    "print(tabulate(sample, headers='keys', tablefmt='psql'))\n"
   ]
  },
  {
   "cell_type": "markdown",
   "metadata": {},
   "source": [
    "#### 4. Sampling Quota \n",
    "Teknik sampling kuota adalah teknik menentukan sampel dari populasi yang mempunyai ciri-ciri tertentu sampai jumlah (kuota) yang diinginkan.  Pada sampling kuota, dimulai dengan membuat tabel atau matriks yang berisi penjabaran karakteristik dari populasi yang ingin dicapai atau karakteristik populasi yang sesuai dengan tujuan dari penelitian untuk selanjutnya ditentukan sampel yang memenuhi ciri-ciri dari populasi tersebut. "
   ]
  },
  {
   "cell_type": "code",
   "execution_count": 22,
   "metadata": {},
   "outputs": [
    {
     "name": "stdout",
     "output_type": "stream",
     "text": [
      "+-------------------------+--------+------------+-----------------------+-------------------+-----------------+\n",
      "| Nama                    |   Umur | Kota       | Pendidikan Terakhir   | Jenis Pekerjaan   | Jenis Kelamin   |\n",
      "|-------------------------+--------+------------+-----------------------+-------------------+-----------------|\n",
      "| Harja Hassanah          |     52 | Jakarta    | SMA                   | Desainer          | Laki-laki       |\n",
      "| Ratih Wahyudin, S.Sos   |     23 | Jakarta    | SMA                   | Guru              | Laki-laki       |\n",
      "| Syahrini Suryono        |     57 | Jakarta    | PT                    | Akuntan           | Laki-laki       |\n",
      "| Zalindra Wasita         |     35 | Surabaya   | SMA                   | Desainer          | Laki-laki       |\n",
      "| dr. Nadine Natsir       |     35 | Surabaya   | SMA                   | Polisi            | Perempuan       |\n",
      "| Laswi Wahyudin          |     44 | Surabaya   | SMA                   | Guru              | Perempuan       |\n",
      "| Kezia Jailani           |     62 | Malang     | SD                    | Developer         | Laki-laki       |\n",
      "| Ratna Kuswoyo           |     43 | Malang     | SMA                   | Insinyur          | Laki-laki       |\n",
      "| Dr. Satya Nasyiah, S.IP |     54 | Malang     | SMA                   | Dokter            | Perempuan       |\n",
      "| Balangga Prabowo        |     41 | Yogyakarta | SMP                   | Polisi            | Laki-laki       |\n",
      "| Cut Rika Wastuti        |     22 | Yogyakarta | PT                    | Akuntan           | Laki-laki       |\n",
      "| Tirta Tampubolon        |     32 | Yogyakarta | SMA                   | Developer         | Laki-laki       |\n",
      "+-------------------------+--------+------------+-----------------------+-------------------+-----------------+\n"
     ]
    }
   ],
   "source": [
    "# Misalkan mengambil 3 sampel untuk setiap kota\n",
    "sample = []\n",
    "\n",
    "for city in cities:\n",
    "    city_df = df[df['Kota'] == city]\n",
    "    quota = 3\n",
    "    city_sample = random.sample(city_df.to_dict('records'), quota)\n",
    "    for selec in city_sample:\n",
    "        sample.append(selec)\n",
    "\n",
    "print(tabulate(sample, headers='keys', tablefmt='psql'))\n"
   ]
  }
 ],
 "metadata": {
  "kernelspec": {
   "display_name": "Python 3",
   "language": "python",
   "name": "python3"
  },
  "language_info": {
   "codemirror_mode": {
    "name": "ipython",
    "version": 3
   },
   "file_extension": ".py",
   "mimetype": "text/x-python",
   "name": "python",
   "nbconvert_exporter": "python",
   "pygments_lexer": "ipython3",
   "version": "3.12.4"
  }
 },
 "nbformat": 4,
 "nbformat_minor": 2
}
