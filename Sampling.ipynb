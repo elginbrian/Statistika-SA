{
 "cells": [
  {
   "cell_type": "markdown",
   "metadata": {},
   "source": [
    "### RANGKUMAN TEKNIK SAMPLING \n",
    "- Populasi merupakan wilayah generalisasi atau keseluruhan dari sesuatu yang sedang dipelajari karakteristiknya. \n",
    "- Sampel merupakan bagian dari dari populasi.\n",
    "- Jadi sampel adalah sebagian dari keseluruhan obyek yang akan diteliti atau dievaluasi yang memiliki karakteristik tertentu dari sebuah populasi.\n",
    "- Cara menentukan sampel disebut dengan teknik sampling atau teknik penyampelan."
   ]
  },
  {
   "cell_type": "code",
   "execution_count": 1,
   "metadata": {},
   "outputs": [],
   "source": [
    "import random\n",
    "import pandas as pd\n",
    "from faker import Faker\n",
    "\n",
    "fake = Faker('id_ID')\n",
    "\n",
    "names = set()\n",
    "while len(names) < 50:\n",
    "    names.add(fake.name())\n",
    "\n",
    "names = list(names)\n",
    "\n",
    "cities = [\"Jakarta\", \"Surabaya\", \"Malang\", \"Yogyakarta\"]\n",
    "education = [\"SD\", \"SMP\", \"SMA\", \"PT\"]\n",
    "jobs = [\"Guru\", \"Dokter\", \"Insinyur\", \"Akuntan\", \"Developer\", \"Desainer\", \"Polisi\"]\n",
    "genders = [\"Laki-laki\", \"Perempuan\"]\n",
    "\n",
    "data = []\n",
    "\n",
    "for name in names:\n",
    "    item = {\n",
    "        \"Nama\": name,\n",
    "        \"Umur\": random.randint(18, 65),\n",
    "        \"Kota\": random.choice(cities),\n",
    "        \"Pendidikan Terakhir\": random.choice(education),\n",
    "        \"Jenis Pekerjaan\": random.choice(jobs),\n",
    "        \"Jenis Kelamin\": random.choice(genders)\n",
    "    }\n",
    "    data.append(item)\n",
    "\n",
    "df = pd.DataFrame(data)\n",
    "df.to_csv(\"sampling.csv\", index=False)"
   ]
  },
  {
   "cell_type": "code",
   "execution_count": 2,
   "metadata": {},
   "outputs": [
    {
     "name": "stdout",
     "output_type": "stream",
     "text": [
      "+----+--------------------------------+--------+------------+-----------------------+-------------------+-----------------+\n",
      "|    | Nama                           |   Umur | Kota       | Pendidikan Terakhir   | Jenis Pekerjaan   | Jenis Kelamin   |\n",
      "|----+--------------------------------+--------+------------+-----------------------+-------------------+-----------------|\n",
      "|  0 | Carla Hardiansyah              |     21 | Jakarta    | SMP                   | Developer         | Perempuan       |\n",
      "|  1 | Ulva Wibowo                    |     40 | Malang     | PT                    | Insinyur          | Laki-laki       |\n",
      "|  2 | Gilda Haryanti                 |     30 | Jakarta    | PT                    | Guru              | Laki-laki       |\n",
      "|  3 | Nurul Rajasa, S.Pt             |     54 | Malang     | SMP                   | Insinyur          | Laki-laki       |\n",
      "|  4 | Marsudi Manullang              |     41 | Surabaya   | SMA                   | Polisi            | Perempuan       |\n",
      "|  5 | Maimunah Puspita               |     56 | Jakarta    | SMA                   | Dokter            | Laki-laki       |\n",
      "|  6 | Ir. Maryadi Tampubolon, M.Pd   |     58 | Surabaya   | PT                    | Developer         | Perempuan       |\n",
      "|  7 | Elisa Prasetya                 |     29 | Surabaya   | SMA                   | Guru              | Laki-laki       |\n",
      "|  8 | T. Najam Mansur, S.Pt          |     30 | Yogyakarta | SMP                   | Polisi            | Laki-laki       |\n",
      "|  9 | Paulin Namaga                  |     30 | Surabaya   | SD                    | Akuntan           | Perempuan       |\n",
      "| 10 | Uda Haryanti                   |     45 | Surabaya   | SD                    | Dokter            | Perempuan       |\n",
      "| 11 | Dariati Winarno                |     40 | Jakarta    | SD                    | Dokter            | Perempuan       |\n",
      "| 12 | Hj. Gabriella Lailasari, S.Kom |     26 | Yogyakarta | SMP                   | Desainer          | Laki-laki       |\n",
      "| 13 | Malika Prasetya, S.IP          |     43 | Jakarta    | SMA                   | Akuntan           | Laki-laki       |\n",
      "| 14 | Harsana Ardianto, S.Psi        |     27 | Jakarta    | PT                    | Guru              | Perempuan       |\n",
      "| 15 | Vivi Novitasari                |     63 | Malang     | PT                    | Insinyur          | Laki-laki       |\n",
      "| 16 | Ade Pangestu                   |     34 | Malang     | SMP                   | Dokter            | Laki-laki       |\n",
      "| 17 | Dr. Malika Simbolon, S.I.Kom   |     22 | Malang     | SMP                   | Insinyur          | Laki-laki       |\n",
      "| 18 | Ir. Cici Prayoga, S.Sos        |     38 | Yogyakarta | SMA                   | Polisi            | Laki-laki       |\n",
      "| 19 | Sutan Mujur Jailani            |     65 | Yogyakarta | SD                    | Desainer          | Laki-laki       |\n",
      "| 20 | drg. Widya Halimah             |     19 | Surabaya   | PT                    | Polisi            | Perempuan       |\n",
      "| 21 | Emin Saputra                   |     44 | Surabaya   | SMP                   | Akuntan           | Laki-laki       |\n",
      "| 22 | Syahrini Setiawan              |     45 | Yogyakarta | SD                    | Dokter            | Perempuan       |\n",
      "| 23 | Dirja Fujiati                  |     34 | Surabaya   | SMA                   | Insinyur          | Perempuan       |\n",
      "| 24 | Lukman Hardiansyah             |     49 | Malang     | SMP                   | Guru              | Perempuan       |\n",
      "| 25 | Rusman Jailani                 |     65 | Jakarta    | SMA                   | Akuntan           | Laki-laki       |\n",
      "| 26 | Ian Haryanto                   |     54 | Surabaya   | PT                    | Polisi            | Perempuan       |\n",
      "| 27 | Sakura Rahimah, S.E.           |     50 | Malang     | SMA                   | Insinyur          | Laki-laki       |\n",
      "| 28 | Gandi Maheswara                |     55 | Malang     | SMP                   | Guru              | Perempuan       |\n",
      "| 29 | Adiarja Mardhiyah              |     22 | Surabaya   | SMP                   | Developer         | Perempuan       |\n",
      "| 30 | Ciaobella Rahayu               |     46 | Jakarta    | SMP                   | Polisi            | Perempuan       |\n",
      "| 31 | Vanya Wibowo                   |     26 | Malang     | PT                    | Dokter            | Perempuan       |\n",
      "| 32 | Jaka Situmorang                |     35 | Yogyakarta | PT                    | Dokter            | Laki-laki       |\n",
      "| 33 | Radit Wibisono                 |     64 | Jakarta    | SMP                   | Guru              | Laki-laki       |\n",
      "| 34 | Jais Sinaga                    |     23 | Surabaya   | SD                    | Developer         | Laki-laki       |\n",
      "| 35 | H. Najam Pratama, M.Ak         |     30 | Jakarta    | PT                    | Desainer          | Laki-laki       |\n",
      "| 36 | Emin Dabukke                   |     35 | Malang     | SMA                   | Desainer          | Laki-laki       |\n",
      "| 37 | Kiandra Najmudin               |     48 | Yogyakarta | SMA                   | Polisi            | Perempuan       |\n",
      "| 38 | Gaiman Habibi                  |     18 | Yogyakarta | SD                    | Developer         | Perempuan       |\n",
      "| 39 | Banawa Rahmawati               |     25 | Surabaya   | SMP                   | Dokter            | Laki-laki       |\n",
      "| 40 | Ratna Yuniar                   |     59 | Surabaya   | SMA                   | Dokter            | Laki-laki       |\n",
      "| 41 | Irma Sitorus                   |     58 | Jakarta    | SMP                   | Akuntan           | Laki-laki       |\n",
      "| 42 | Agnes Putra                    |     25 | Surabaya   | SMA                   | Dokter            | Laki-laki       |\n",
      "| 43 | Rahmi Rajasa                   |     43 | Yogyakarta | PT                    | Guru              | Laki-laki       |\n",
      "| 44 | dr. Vivi Pranowo               |     46 | Yogyakarta | PT                    | Developer         | Perempuan       |\n",
      "| 45 | Tgk. Pardi Ramadan             |     28 | Yogyakarta | SD                    | Guru              | Laki-laki       |\n",
      "| 46 | Galang Gunarto, M.Ak           |     46 | Yogyakarta | SMP                   | Akuntan           | Laki-laki       |\n",
      "| 47 | drg. Aditya Wijayanti          |     54 | Yogyakarta | SD                    | Guru              | Perempuan       |\n",
      "| 48 | Rahmi Wasita                   |     64 | Malang     | SMA                   | Developer         | Perempuan       |\n",
      "| 49 | R.M. Adiarja Putra             |     34 | Surabaya   | SMA                   | Insinyur          | Perempuan       |\n",
      "+----+--------------------------------+--------+------------+-----------------------+-------------------+-----------------+\n"
     ]
    }
   ],
   "source": [
    "from tabulate import tabulate\n",
    "print(tabulate(df, headers='keys', tablefmt='psql'))"
   ]
  },
  {
   "cell_type": "markdown",
   "metadata": {},
   "source": [
    "### A. Teknik Sampling Probabilitas\n",
    "- Probability sampling adalah teknik pengambilan sampel yang memberikan peluang yang sama bagi setiap unsur (anggota) populasi untuk dipilih menjadi anggota sampel. \n",
    "- Teknik ini merupakan teknik yang memungkinkan peneliti atau evaluator untuk membuat generalisasi dari karakteristik sampel menjadi karakteristik populasi. "
   ]
  },
  {
   "cell_type": "markdown",
   "metadata": {},
   "source": [
    "#### 1. Simple Random Sampling\n",
    "Penyampelan acak sederhana, memiliki maksud bahwa sebanyak n sampel diambil dari populasi N dan tiap anggota populasi mempunyai peluang yang sama untuk terambil.  \n",
    "\n",
    "Terdapat 3 (tiga) cara untuk menentukan sampel dengan mengunakan teknik ini, yaitu:\n",
    "- Cara undian \n",
    "- Mengambil perwakilan dari setiap beberapa baris\n",
    "- Menggunakan komputer untuk memberi hasil acak"
   ]
  },
  {
   "cell_type": "code",
   "execution_count": 3,
   "metadata": {},
   "outputs": [
    {
     "name": "stdout",
     "output_type": "stream",
     "text": [
      "+-------------------------+--------+------------+-----------------------+-------------------+-----------------+\n",
      "| Nama                    |   Umur | Kota       | Pendidikan Terakhir   | Jenis Pekerjaan   | Jenis Kelamin   |\n",
      "|-------------------------+--------+------------+-----------------------+-------------------+-----------------|\n",
      "| Ulva Wibowo             |     40 | Malang     | PT                    | Insinyur          | Laki-laki       |\n",
      "| Marsudi Manullang       |     41 | Surabaya   | SMA                   | Polisi            | Perempuan       |\n",
      "| Uda Haryanti            |     45 | Surabaya   | SD                    | Dokter            | Perempuan       |\n",
      "| Harsana Ardianto, S.Psi |     27 | Jakarta    | PT                    | Guru              | Perempuan       |\n",
      "| Sutan Mujur Jailani     |     65 | Yogyakarta | SD                    | Desainer          | Laki-laki       |\n",
      "| Lukman Hardiansyah      |     49 | Malang     | SMP                   | Guru              | Perempuan       |\n",
      "| Adiarja Mardhiyah       |     22 | Surabaya   | SMP                   | Developer         | Perempuan       |\n",
      "| Kiandra Najmudin        |     48 | Yogyakarta | SMA                   | Polisi            | Perempuan       |\n",
      "| Irma Sitorus            |     58 | Jakarta    | SMP                   | Akuntan           | Laki-laki       |\n",
      "| drg. Aditya Wijayanti   |     54 | Yogyakarta | SD                    | Guru              | Perempuan       |\n",
      "+-------------------------+--------+------------+-----------------------+-------------------+-----------------+\n"
     ]
    }
   ],
   "source": [
    "# Contoh mengambil 1 perwakilan untuk setiap 5 baris (total 10 sampel)\n",
    "sample = []\n",
    "count = 1\n",
    "temp = []\n",
    "for i in range(0, len(df)):\n",
    "    temp.append(df.iloc[i])\n",
    "    count += 1\n",
    "\n",
    "    if count % 5 == 0:\n",
    "        sample.append(random.choice(temp))\n",
    "        temp = []\n",
    "        \n",
    "print(tabulate(sample, headers='keys', tablefmt='psql'))"
   ]
  },
  {
   "cell_type": "code",
   "execution_count": 4,
   "metadata": {},
   "outputs": [
    {
     "name": "stdout",
     "output_type": "stream",
     "text": [
      "+------------------------------+--------+------------+-----------------------+-------------------+-----------------+\n",
      "| Nama                         |   Umur | Kota       | Pendidikan Terakhir   | Jenis Pekerjaan   | Jenis Kelamin   |\n",
      "|------------------------------+--------+------------+-----------------------+-------------------+-----------------|\n",
      "| Radit Wibisono               |     64 | Jakarta    | SMP                   | Guru              | Laki-laki       |\n",
      "| Jais Sinaga                  |     23 | Surabaya   | SD                    | Developer         | Laki-laki       |\n",
      "| Dr. Malika Simbolon, S.I.Kom |     22 | Malang     | SMP                   | Insinyur          | Laki-laki       |\n",
      "| Irma Sitorus                 |     58 | Jakarta    | SMP                   | Akuntan           | Laki-laki       |\n",
      "| Dirja Fujiati                |     34 | Surabaya   | SMA                   | Insinyur          | Perempuan       |\n",
      "| Vanya Wibowo                 |     26 | Malang     | PT                    | Dokter            | Perempuan       |\n",
      "| Gaiman Habibi                |     18 | Yogyakarta | SD                    | Developer         | Perempuan       |\n",
      "| Nurul Rajasa, S.Pt           |     54 | Malang     | SMP                   | Insinyur          | Laki-laki       |\n",
      "| Lukman Hardiansyah           |     49 | Malang     | SMP                   | Guru              | Perempuan       |\n",
      "| Ir. Maryadi Tampubolon, M.Pd |     58 | Surabaya   | PT                    | Developer         | Perempuan       |\n",
      "+------------------------------+--------+------------+-----------------------+-------------------+-----------------+\n"
     ]
    }
   ],
   "source": [
    "# Contoh mengambil 10 sampel secara random\n",
    "sample = random.sample(df.to_dict('records'), 10)\n",
    "print(tabulate(sample, headers='keys', tablefmt='psql'))"
   ]
  },
  {
   "cell_type": "markdown",
   "metadata": {},
   "source": [
    "#### 2. Stratified Random Sampling\n",
    "Pada penyampelan jenis ini, anggota populasi dikelompokkan berdasarkan stratanya, misal tinggi, sedang, dan rendah. Kemudian dipilih sampel yang mewakili masing-masing strata.\n",
    "\n",
    "Langkah-langkah dalam menentukan Stratified Random sampling: \n",
    "- Menentukan data pendukung tentang populasi yang diambil berikut strata-strata yang ada di dalamnya\n",
    "- Mengklasifikasikan populasi ke dalam grup atau strata yang saling lepas\n",
    "- Menentukan ukuran sample untuk tiap stratum\n",
    "- Memilih secara acak setiap stratum dengan menggunakan simple random sampling "
   ]
  },
  {
   "cell_type": "code",
   "execution_count": 5,
   "metadata": {},
   "outputs": [
    {
     "name": "stdout",
     "output_type": "stream",
     "text": [
      "Jumlah lulusan SD:  9\n",
      "Jumlah lulusan SMP:  15\n",
      "Jumlah lulusan SMA:  14\n",
      "Jumlah lulusan PT:  12\n",
      "\n",
      "Jumlah sample SD:  1\n",
      "Jumlah sample SMP:  3\n",
      "Jumlah sample SMA:  2\n",
      "Jumlah sample PT:  2\n",
      "\n",
      "Hasil sample: \n",
      "+------------------------------+--------+------------+-----------------------+-------------------+-----------------+\n",
      "| Nama                         |   Umur | Kota       | Pendidikan Terakhir   | Jenis Pekerjaan   | Jenis Kelamin   |\n",
      "|------------------------------+--------+------------+-----------------------+-------------------+-----------------|\n",
      "| Paulin Namaga                |     30 | Surabaya   | SD                    | Akuntan           | Perempuan       |\n",
      "| Ade Pangestu                 |     34 | Malang     | SMP                   | Dokter            | Laki-laki       |\n",
      "| Ciaobella Rahayu             |     46 | Jakarta    | SMP                   | Polisi            | Perempuan       |\n",
      "| Dr. Malika Simbolon, S.I.Kom |     22 | Malang     | SMP                   | Insinyur          | Laki-laki       |\n",
      "| Kiandra Najmudin             |     48 | Yogyakarta | SMA                   | Polisi            | Perempuan       |\n",
      "| Malika Prasetya, S.IP        |     43 | Jakarta    | SMA                   | Akuntan           | Laki-laki       |\n",
      "| Ir. Maryadi Tampubolon, M.Pd |     58 | Surabaya   | PT                    | Developer         | Perempuan       |\n",
      "| Harsana Ardianto, S.Psi      |     27 | Jakarta    | PT                    | Guru              | Perempuan       |\n",
      "+------------------------------+--------+------------+-----------------------+-------------------+-----------------+\n"
     ]
    }
   ],
   "source": [
    "# Mensampling berdasarkan pendidikan terakhir\n",
    "sd = []\n",
    "smp = []\n",
    "sma = []\n",
    "pt = []\n",
    "\n",
    "for i in range(len(df)):\n",
    "    if df.iloc[i]['Pendidikan Terakhir'] == 'SD':\n",
    "        sd.append(df.iloc[i])\n",
    "    elif df.iloc[i]['Pendidikan Terakhir'] == 'SMP':\n",
    "        smp.append(df.iloc[i])\n",
    "    elif df.iloc[i]['Pendidikan Terakhir'] == 'SMA':\n",
    "        sma.append(df.iloc[i])\n",
    "    elif df.iloc[i]['Pendidikan Terakhir'] == 'PT':\n",
    "        pt.append(df.iloc[i])\n",
    "\n",
    "print(\"Jumlah lulusan SD: \", len(sd))\n",
    "print(\"Jumlah lulusan SMP: \", len(smp))\n",
    "print(\"Jumlah lulusan SMA: \", len(sma))\n",
    "print(\"Jumlah lulusan PT: \", len(pt))\n",
    "\n",
    "# ambil 20% dari setiap jenjang pendidikan\n",
    "sd_sample = random.sample(sd, int(len(sd) * 0.2))\n",
    "smp_sample = random.sample(smp, int(len(smp) * 0.2))\n",
    "sma_sample = random.sample(sma, int(len(sma) * 0.2))\n",
    "pt_sample = random.sample(pt, int(len(pt) * 0.2))\n",
    "\n",
    "print(\"\\nJumlah sample SD: \", len(sd_sample))\n",
    "print(\"Jumlah sample SMP: \", len(smp_sample))\n",
    "print(\"Jumlah sample SMA: \", len(sma_sample))\n",
    "print(\"Jumlah sample PT: \", len(pt_sample))\n",
    "\n",
    "print(\"\\nHasil sample: \")\n",
    "sample = sd_sample + smp_sample + sma_sample + pt_sample\n",
    "print(tabulate(sample, headers='keys', tablefmt='psql'))"
   ]
  },
  {
   "cell_type": "markdown",
   "metadata": {},
   "source": [
    "#### 3. Sistematic Sampling \n",
    "Penyampelan dengan cara ini dilakukan dengan mengurutkan terlebih dahulu semua anggota, kemudian dipili urutan tertentu untuk dijadikan anggota sampel. "
   ]
  },
  {
   "cell_type": "code",
   "execution_count": 6,
   "metadata": {},
   "outputs": [
    {
     "name": "stdout",
     "output_type": "stream",
     "text": [
      "+----+--------------------------------+--------+------------+-----------------------+-------------------+-----------------+\n",
      "|    | Nama                           |   Umur | Kota       | Pendidikan Terakhir   | Jenis Pekerjaan   | Jenis Kelamin   |\n",
      "|----+--------------------------------+--------+------------+-----------------------+-------------------+-----------------|\n",
      "| 16 | Ade Pangestu                   |     34 | Malang     | SMP                   | Dokter            | Laki-laki       |\n",
      "| 29 | Adiarja Mardhiyah              |     22 | Surabaya   | SMP                   | Developer         | Perempuan       |\n",
      "| 42 | Agnes Putra                    |     25 | Surabaya   | SMA                   | Dokter            | Laki-laki       |\n",
      "| 39 | Banawa Rahmawati               |     25 | Surabaya   | SMP                   | Dokter            | Laki-laki       |\n",
      "|  0 | Carla Hardiansyah              |     21 | Jakarta    | SMP                   | Developer         | Perempuan       |\n",
      "| 30 | Ciaobella Rahayu               |     46 | Jakarta    | SMP                   | Polisi            | Perempuan       |\n",
      "| 11 | Dariati Winarno                |     40 | Jakarta    | SD                    | Dokter            | Perempuan       |\n",
      "| 23 | Dirja Fujiati                  |     34 | Surabaya   | SMA                   | Insinyur          | Perempuan       |\n",
      "| 17 | Dr. Malika Simbolon, S.I.Kom   |     22 | Malang     | SMP                   | Insinyur          | Laki-laki       |\n",
      "|  7 | Elisa Prasetya                 |     29 | Surabaya   | SMA                   | Guru              | Laki-laki       |\n",
      "| 36 | Emin Dabukke                   |     35 | Malang     | SMA                   | Desainer          | Laki-laki       |\n",
      "| 21 | Emin Saputra                   |     44 | Surabaya   | SMP                   | Akuntan           | Laki-laki       |\n",
      "| 38 | Gaiman Habibi                  |     18 | Yogyakarta | SD                    | Developer         | Perempuan       |\n",
      "| 46 | Galang Gunarto, M.Ak           |     46 | Yogyakarta | SMP                   | Akuntan           | Laki-laki       |\n",
      "| 28 | Gandi Maheswara                |     55 | Malang     | SMP                   | Guru              | Perempuan       |\n",
      "|  2 | Gilda Haryanti                 |     30 | Jakarta    | PT                    | Guru              | Laki-laki       |\n",
      "| 35 | H. Najam Pratama, M.Ak         |     30 | Jakarta    | PT                    | Desainer          | Laki-laki       |\n",
      "| 14 | Harsana Ardianto, S.Psi        |     27 | Jakarta    | PT                    | Guru              | Perempuan       |\n",
      "| 12 | Hj. Gabriella Lailasari, S.Kom |     26 | Yogyakarta | SMP                   | Desainer          | Laki-laki       |\n",
      "| 26 | Ian Haryanto                   |     54 | Surabaya   | PT                    | Polisi            | Perempuan       |\n",
      "| 18 | Ir. Cici Prayoga, S.Sos        |     38 | Yogyakarta | SMA                   | Polisi            | Laki-laki       |\n",
      "|  6 | Ir. Maryadi Tampubolon, M.Pd   |     58 | Surabaya   | PT                    | Developer         | Perempuan       |\n",
      "| 41 | Irma Sitorus                   |     58 | Jakarta    | SMP                   | Akuntan           | Laki-laki       |\n",
      "| 34 | Jais Sinaga                    |     23 | Surabaya   | SD                    | Developer         | Laki-laki       |\n",
      "| 32 | Jaka Situmorang                |     35 | Yogyakarta | PT                    | Dokter            | Laki-laki       |\n",
      "| 37 | Kiandra Najmudin               |     48 | Yogyakarta | SMA                   | Polisi            | Perempuan       |\n",
      "| 24 | Lukman Hardiansyah             |     49 | Malang     | SMP                   | Guru              | Perempuan       |\n",
      "|  5 | Maimunah Puspita               |     56 | Jakarta    | SMA                   | Dokter            | Laki-laki       |\n",
      "| 13 | Malika Prasetya, S.IP          |     43 | Jakarta    | SMA                   | Akuntan           | Laki-laki       |\n",
      "|  4 | Marsudi Manullang              |     41 | Surabaya   | SMA                   | Polisi            | Perempuan       |\n",
      "|  3 | Nurul Rajasa, S.Pt             |     54 | Malang     | SMP                   | Insinyur          | Laki-laki       |\n",
      "|  9 | Paulin Namaga                  |     30 | Surabaya   | SD                    | Akuntan           | Perempuan       |\n",
      "| 49 | R.M. Adiarja Putra             |     34 | Surabaya   | SMA                   | Insinyur          | Perempuan       |\n",
      "| 33 | Radit Wibisono                 |     64 | Jakarta    | SMP                   | Guru              | Laki-laki       |\n",
      "| 43 | Rahmi Rajasa                   |     43 | Yogyakarta | PT                    | Guru              | Laki-laki       |\n",
      "| 48 | Rahmi Wasita                   |     64 | Malang     | SMA                   | Developer         | Perempuan       |\n",
      "| 40 | Ratna Yuniar                   |     59 | Surabaya   | SMA                   | Dokter            | Laki-laki       |\n",
      "| 25 | Rusman Jailani                 |     65 | Jakarta    | SMA                   | Akuntan           | Laki-laki       |\n",
      "| 27 | Sakura Rahimah, S.E.           |     50 | Malang     | SMA                   | Insinyur          | Laki-laki       |\n",
      "| 19 | Sutan Mujur Jailani            |     65 | Yogyakarta | SD                    | Desainer          | Laki-laki       |\n",
      "| 22 | Syahrini Setiawan              |     45 | Yogyakarta | SD                    | Dokter            | Perempuan       |\n",
      "|  8 | T. Najam Mansur, S.Pt          |     30 | Yogyakarta | SMP                   | Polisi            | Laki-laki       |\n",
      "| 45 | Tgk. Pardi Ramadan             |     28 | Yogyakarta | SD                    | Guru              | Laki-laki       |\n",
      "| 10 | Uda Haryanti                   |     45 | Surabaya   | SD                    | Dokter            | Perempuan       |\n",
      "|  1 | Ulva Wibowo                    |     40 | Malang     | PT                    | Insinyur          | Laki-laki       |\n",
      "| 31 | Vanya Wibowo                   |     26 | Malang     | PT                    | Dokter            | Perempuan       |\n",
      "| 15 | Vivi Novitasari                |     63 | Malang     | PT                    | Insinyur          | Laki-laki       |\n",
      "| 44 | dr. Vivi Pranowo               |     46 | Yogyakarta | PT                    | Developer         | Perempuan       |\n",
      "| 47 | drg. Aditya Wijayanti          |     54 | Yogyakarta | SD                    | Guru              | Perempuan       |\n",
      "| 20 | drg. Widya Halimah             |     19 | Surabaya   | PT                    | Polisi            | Perempuan       |\n",
      "+----+--------------------------------+--------+------------+-----------------------+-------------------+-----------------+\n"
     ]
    }
   ],
   "source": [
    "sorted_df = df.sort_values(by='Nama')\n",
    "print(tabulate(sorted_df, headers='keys', tablefmt='psql'))"
   ]
  },
  {
   "cell_type": "code",
   "execution_count": 7,
   "metadata": {},
   "outputs": [
    {
     "name": "stdout",
     "output_type": "stream",
     "text": [
      "+-------------------------+--------+------------+-----------------------+-------------------+-----------------+\n",
      "| Nama                    |   Umur | Kota       | Pendidikan Terakhir   | Jenis Pekerjaan   | Jenis Kelamin   |\n",
      "|-------------------------+--------+------------+-----------------------+-------------------+-----------------|\n",
      "| Ade Pangestu            |     34 | Malang     | SMP                   | Dokter            | Laki-laki       |\n",
      "| Ciaobella Rahayu        |     46 | Jakarta    | SMP                   | Polisi            | Perempuan       |\n",
      "| Emin Dabukke            |     35 | Malang     | SMA                   | Desainer          | Laki-laki       |\n",
      "| Gilda Haryanti          |     30 | Jakarta    | PT                    | Guru              | Laki-laki       |\n",
      "| Ir. Cici Prayoga, S.Sos |     38 | Yogyakarta | SMA                   | Polisi            | Laki-laki       |\n",
      "| Kiandra Najmudin        |     48 | Yogyakarta | SMA                   | Polisi            | Perempuan       |\n",
      "| Nurul Rajasa, S.Pt      |     54 | Malang     | SMP                   | Insinyur          | Laki-laki       |\n",
      "| Rahmi Wasita            |     64 | Malang     | SMA                   | Developer         | Perempuan       |\n",
      "| Syahrini Setiawan       |     45 | Yogyakarta | SD                    | Dokter            | Perempuan       |\n",
      "| Vanya Wibowo            |     26 | Malang     | PT                    | Dokter            | Perempuan       |\n",
      "+-------------------------+--------+------------+-----------------------+-------------------+-----------------+\n"
     ]
    }
   ],
   "source": [
    "# Mengambil sampel setiap kelipatan 5\n",
    "sample = []\n",
    "for i in range(0, len(sorted_df), 5):\n",
    "    sample.append(sorted_df.iloc[i])\n",
    "\n",
    "print(tabulate(sample, headers='keys', tablefmt='psql')) "
   ]
  },
  {
   "cell_type": "markdown",
   "metadata": {},
   "source": [
    "#### 4. Cluster Sampling \n",
    "Pada penyampelan jenis ini, populasi dibagi menjadi wilayah atau klaster. Jika terpilih klasternya, seluruh anggota dalam klaster tersebut yang menjadi sampel. \n",
    "\n",
    "Langkah-langkah dalam pengambilan sample dengan cluster sampling:\n",
    "- Menentukan cluster-clusternya  \n",
    "- Menentukan banyak cluster yang akan dijadikan sample, misal n cluster \n",
    "- Memilih secara acak cluster \n",
    "- Semua anggota yang terdapat dalam klaster yang terpilih merupakan sampel "
   ]
  },
  {
   "cell_type": "code",
   "execution_count": 8,
   "metadata": {},
   "outputs": [
    {
     "name": "stdout",
     "output_type": "stream",
     "text": [
      "+------------------------------+--------+------------+-----------------------+-------------------+-----------------+\n",
      "| Nama                         |   Umur | Kota       | Pendidikan Terakhir   | Jenis Pekerjaan   | Jenis Kelamin   |\n",
      "|------------------------------+--------+------------+-----------------------+-------------------+-----------------|\n",
      "| Maimunah Puspita             |     56 | Jakarta    | SMA                   | Dokter            | Laki-laki       |\n",
      "| Ir. Maryadi Tampubolon, M.Pd |     58 | Surabaya   | PT                    | Developer         | Perempuan       |\n",
      "| Elisa Prasetya               |     29 | Surabaya   | SMA                   | Guru              | Laki-laki       |\n",
      "| T. Najam Mansur, S.Pt        |     30 | Yogyakarta | SMP                   | Polisi            | Laki-laki       |\n",
      "| Paulin Namaga                |     30 | Surabaya   | SD                    | Akuntan           | Perempuan       |\n",
      "+------------------------------+--------+------------+-----------------------+-------------------+-----------------+\n"
     ]
    }
   ],
   "source": [
    "# Misalkan terdapat 5 cluster\n",
    "temp = df\n",
    "c1 = []\n",
    "c2 = []\n",
    "c3 = []\n",
    "c4 = []\n",
    "c5 = []\n",
    "clusters = [c1, c2, c3, c4, c5]\n",
    "\n",
    "fill  = 0\n",
    "count = 0\n",
    "for i in range(len(temp)):\n",
    "    if count == 5:\n",
    "        count = 0\n",
    "        fill += 1\n",
    "        \n",
    "    if fill <= 4:    \n",
    "        clusters[fill].append(temp.iloc[i])\n",
    "    count += 1\n",
    "\n",
    "sample = random.choice(clusters)\n",
    "print(tabulate(sample, headers='keys', tablefmt='psql'))"
   ]
  },
  {
   "cell_type": "markdown",
   "metadata": {},
   "source": [
    "### B. Non Probability Sampling \n",
    "Nonprobability sampling adalah teknik pengambilan sampel yang tidak memberi peluang atau kesempatan sama bagi setiap unsur atau anggota populasi yang dipilih menjadi sampel. Teknik pengambilan sampel ini diantaranya sampling incidental, sampling bertujuan, sampling bola salju (snowball sampling), dan sampling kuota. Non probability sampling ini tidak bisa digunakan untuk membuat generalisasi. "
   ]
  },
  {
   "cell_type": "markdown",
   "metadata": {},
   "source": [
    "#### 1. Sampling Incidental\n",
    "Nonprobability sampling adalah teknik pengambilan sampel yang tidak memberi peluang atau kesempatan sama bagi setiap unsur atau anggota populasi yang dipilih menjadi sampel. Teknik pengambilan sampel ini diantaranya sampling incidental, sampling bertujuan, sampling bola salju (snowball sampling), dan sampling kuota. Non probability sampling ini tidak bisa digunakan untuk membuat generalisasi. "
   ]
  },
  {
   "cell_type": "markdown",
   "metadata": {},
   "source": [
    "#### 2. Sampling purposive \n",
    "Teknik penentuan sampel berdasarkan pertimbangan peneliti atau evaluator tentang sampel mana yang paling bermanfaat dan representative (Babbie, 2004: 183). \n",
    "Terkadang sampel yang akan diambil ditentukan berdasarkan pengetahuan tentang suatu populasi, anggota-anggotanya dan tujuan dari penelitian. Jenis sampel ini sangat baik jika dimanfaatkan untuk studi penjajagan (studi awal untuk penelitian atau evaluasi). \n"
   ]
  },
  {
   "cell_type": "code",
   "execution_count": 9,
   "metadata": {},
   "outputs": [
    {
     "name": "stdout",
     "output_type": "stream",
     "text": [
      "+-------------------------+--------+------------+-----------------------+-------------------+-----------------+\n",
      "| Nama                    |   Umur | Kota       | Pendidikan Terakhir   | Jenis Pekerjaan   | Jenis Kelamin   |\n",
      "|-------------------------+--------+------------+-----------------------+-------------------+-----------------|\n",
      "| Marsudi Manullang       |     41 | Surabaya   | SMA                   | Polisi            | Perempuan       |\n",
      "| T. Najam Mansur, S.Pt   |     30 | Yogyakarta | SMP                   | Polisi            | Laki-laki       |\n",
      "| Ir. Cici Prayoga, S.Sos |     38 | Yogyakarta | SMA                   | Polisi            | Laki-laki       |\n",
      "| drg. Widya Halimah      |     19 | Surabaya   | PT                    | Polisi            | Perempuan       |\n",
      "| Ian Haryanto            |     54 | Surabaya   | PT                    | Polisi            | Perempuan       |\n",
      "| Ciaobella Rahayu        |     46 | Jakarta    | SMP                   | Polisi            | Perempuan       |\n",
      "| Kiandra Najmudin        |     48 | Yogyakarta | SMA                   | Polisi            | Perempuan       |\n",
      "+-------------------------+--------+------------+-----------------------+-------------------+-----------------+\n"
     ]
    }
   ],
   "source": [
    "# Mengambil sampel hanya yang berprofesi sebagai Polisi\n",
    "sample = []\n",
    "\n",
    "for i in range(len(df)):\n",
    "    if df.iloc[i]['Jenis Pekerjaan'] == 'Polisi':\n",
    "        sample.append(df.iloc[i])\n",
    "\n",
    "print(tabulate(sample, headers='keys', tablefmt='psql'))  "
   ]
  },
  {
   "cell_type": "markdown",
   "metadata": {},
   "source": [
    "#### 3. Sampling Bola Salju\n",
    "Sampling snowball dapat dilakukan jika keberadaan dari suatu populasi sulit untuk ditemukan. Dengan kata lain, cara ini banyak dipakai ketika peneliti atau evaluator tidak banyak tahu tentang populasi penelitian aau evaluasinya. Pada sampling bola salju, peneliti mengumpulkan data dari beberapa sampel yang dapat ditemukan oleh peneliti sendiri, selanjutnya peneliti meminta individu yang telah dijadikan sampel tersebut untuk memberitahukan keberadaan anggota yang lainnya yang tidak dapat ditemukan oleh peneliti untuk dapat melengkapi data (Babbie, 2004: 184)."
   ]
  },
  {
   "cell_type": "code",
   "execution_count": 10,
   "metadata": {},
   "outputs": [
    {
     "name": "stdout",
     "output_type": "stream",
     "text": [
      "Memilih 3 orang acak:\n",
      "+---------------------+--------+------------+-----------------------+-------------------+-----------------+\n",
      "| Nama                |   Umur | Kota       | Pendidikan Terakhir   | Jenis Pekerjaan   | Jenis Kelamin   |\n",
      "|---------------------+--------+------------+-----------------------+-------------------+-----------------|\n",
      "| Sutan Mujur Jailani |     65 | Yogyakarta | SD                    | Desainer          | Laki-laki       |\n",
      "| Vanya Wibowo        |     26 | Malang     | PT                    | Dokter            | Perempuan       |\n",
      "| Uda Haryanti        |     45 | Surabaya   | SD                    | Dokter            | Perempuan       |\n",
      "+---------------------+--------+------------+-----------------------+-------------------+-----------------+\n",
      "Sample hasil rekomendasi:\n",
      "+-----------------------+--------+------------+-----------------------+-------------------+-----------------+----------+\n",
      "| Nama                  |   Umur | Kota       | Pendidikan Terakhir   | Jenis Pekerjaan   | Jenis Kelamin   | Saran    |\n",
      "|-----------------------+--------+------------+-----------------------+-------------------+-----------------+----------|\n",
      "| Sutan Mujur Jailani   |     65 | Yogyakarta | SD                    | Desainer          | Laki-laki       |          |\n",
      "| Vanya Wibowo          |     26 | Malang     | PT                    | Dokter            | Perempuan       |          |\n",
      "| Uda Haryanti          |     45 | Surabaya   | SD                    | Dokter            | Perempuan       |          |\n",
      "| Jaka Situmorang       |     35 | Yogyakarta | PT                    | Dokter            | Laki-laki       | Mujur    |\n",
      "| drg. Aditya Wijayanti |     54 | Yogyakarta | SD                    | Guru              | Perempuan       | Mujur    |\n",
      "| Syahrini Setiawan     |     45 | Yogyakarta | SD                    | Dokter            | Perempuan       | Mujur    |\n",
      "| Lukman Hardiansyah    |     49 | Malang     | SMP                   | Guru              | Perempuan       | Wibowo   |\n",
      "| Gandi Maheswara       |     55 | Malang     | SMP                   | Guru              | Perempuan       | Wibowo   |\n",
      "| Gandi Maheswara       |     55 | Malang     | SMP                   | Guru              | Perempuan       | Wibowo   |\n",
      "| drg. Widya Halimah    |     19 | Surabaya   | PT                    | Polisi            | Perempuan       | Haryanti |\n",
      "| Banawa Rahmawati      |     25 | Surabaya   | SMP                   | Dokter            | Laki-laki       | Haryanti |\n",
      "| drg. Widya Halimah    |     19 | Surabaya   | PT                    | Polisi            | Perempuan       | Haryanti |\n",
      "+-----------------------+--------+------------+-----------------------+-------------------+-----------------+----------+\n"
     ]
    }
   ],
   "source": [
    "# Misalkan memilih 3 orang acak, dan 3 orang tersebut memberi rekomendasi 3 orang lain di kota yg bersangkutan\n",
    "\n",
    "# Memilih 3 orang acak\n",
    "random_people = random.sample(df.to_dict('records'), 3)\n",
    "print(\"Memilih 3 orang acak:\")\n",
    "print(tabulate(random_people, headers='keys', tablefmt='psql'))\n",
    "\n",
    "recommendations = []\n",
    "for person in random_people:\n",
    "    city = person['Kota']\n",
    "    same_city_people = df[(df['Kota'] == city) & (df['Nama'] != person['Nama'])]\n",
    "    recommended_people = same_city_people.sample(3, replace=True).to_dict('records')\n",
    "\n",
    "    for recommended in recommended_people:\n",
    "        recommended['Saran'] = person['Nama'].split(' ')[1]\n",
    "\n",
    "    recommendations.extend(recommended_people)\n",
    "\n",
    "sample = random_people + recommendations\n",
    "\n",
    "# Hasil \n",
    "print(\"Sample hasil rekomendasi:\")\n",
    "print(tabulate(sample, headers='keys', tablefmt='psql'))\n"
   ]
  },
  {
   "cell_type": "markdown",
   "metadata": {},
   "source": [
    "#### 4. Sampling Quota \n",
    "Teknik sampling kuota adalah teknik menentukan sampel dari populasi yang mempunyai ciri-ciri tertentu sampai jumlah (kuota) yang diinginkan.  Pada sampling kuota, dimulai dengan membuat tabel atau matriks yang berisi penjabaran karakteristik dari populasi yang ingin dicapai atau karakteristik populasi yang sesuai dengan tujuan dari penelitian untuk selanjutnya ditentukan sampel yang memenuhi ciri-ciri dari populasi tersebut. "
   ]
  },
  {
   "cell_type": "code",
   "execution_count": 11,
   "metadata": {},
   "outputs": [
    {
     "name": "stdout",
     "output_type": "stream",
     "text": [
      "+------------------------------+--------+------------+-----------------------+-------------------+-----------------+\n",
      "| Nama                         |   Umur | Kota       | Pendidikan Terakhir   | Jenis Pekerjaan   | Jenis Kelamin   |\n",
      "|------------------------------+--------+------------+-----------------------+-------------------+-----------------|\n",
      "| Ciaobella Rahayu             |     46 | Jakarta    | SMP                   | Polisi            | Perempuan       |\n",
      "| Rusman Jailani               |     65 | Jakarta    | SMA                   | Akuntan           | Laki-laki       |\n",
      "| H. Najam Pratama, M.Ak       |     30 | Jakarta    | PT                    | Desainer          | Laki-laki       |\n",
      "| Ir. Maryadi Tampubolon, M.Pd |     58 | Surabaya   | PT                    | Developer         | Perempuan       |\n",
      "| Banawa Rahmawati             |     25 | Surabaya   | SMP                   | Dokter            | Laki-laki       |\n",
      "| drg. Widya Halimah           |     19 | Surabaya   | PT                    | Polisi            | Perempuan       |\n",
      "| Gandi Maheswara              |     55 | Malang     | SMP                   | Guru              | Perempuan       |\n",
      "| Rahmi Wasita                 |     64 | Malang     | SMA                   | Developer         | Perempuan       |\n",
      "| Sakura Rahimah, S.E.         |     50 | Malang     | SMA                   | Insinyur          | Laki-laki       |\n",
      "| Tgk. Pardi Ramadan           |     28 | Yogyakarta | SD                    | Guru              | Laki-laki       |\n",
      "| Jaka Situmorang              |     35 | Yogyakarta | PT                    | Dokter            | Laki-laki       |\n",
      "| Sutan Mujur Jailani          |     65 | Yogyakarta | SD                    | Desainer          | Laki-laki       |\n",
      "+------------------------------+--------+------------+-----------------------+-------------------+-----------------+\n"
     ]
    }
   ],
   "source": [
    "# Misalkan mengambil 3 sampel untuk setiap kota\n",
    "sample = []\n",
    "\n",
    "for city in cities:\n",
    "    city_df = df[df['Kota'] == city]\n",
    "    quota = 3\n",
    "    city_sample = random.sample(city_df.to_dict('records'), quota)\n",
    "    for selec in city_sample:\n",
    "        sample.append(selec)\n",
    "\n",
    "print(tabulate(sample, headers='keys', tablefmt='psql'))\n"
   ]
  }
 ],
 "metadata": {
  "kernelspec": {
   "display_name": "Python 3",
   "language": "python",
   "name": "python3"
  },
  "language_info": {
   "codemirror_mode": {
    "name": "ipython",
    "version": 3
   },
   "file_extension": ".py",
   "mimetype": "text/x-python",
   "name": "python",
   "nbconvert_exporter": "python",
   "pygments_lexer": "ipython3",
   "version": "3.12.4"
  }
 },
 "nbformat": 4,
 "nbformat_minor": 2
}
