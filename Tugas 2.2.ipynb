{
 "cells": [
  {
   "cell_type": "markdown",
   "metadata": {},
   "source": [
    "## Permasalahan Part B. Distribusi Probabilitas Diskrit. \n",
    "\n",
    "Soal 1: Distribusi Binomial dalam Pengujian Keamanan Jaringan \n",
    "\n",
    "Sebuah perusahaan teknologi informasi sedang menguji keandalan firewall baru mereka. Dari pengalaman sebelumnya, diketahui bahwa firewall berhasil menghentikan 80% dari semua serangan siber. Jika perusahaan tersebut melakukan 10 pengujian independen terhadap firewall tersebut, berapakah probabilitas bahwa firewall akan berhasil menghentikan tepat 8 serangan siber? "
   ]
  },
  {
   "cell_type": "code",
   "execution_count": 7,
   "metadata": {},
   "outputs": [
    {
     "name": "stdout",
     "output_type": "stream",
     "text": [
      "Probabilitas:  0.30198988799999993\n"
     ]
    }
   ],
   "source": [
    "from scipy.stats import binom\n",
    "\n",
    "# Parameter distribusi binomial\n",
    "n = 10  # jumlah percobaan (pengujian firewall)\n",
    "p = 0.8  # probabilitas keberhasilan firewall\n",
    "k = 8  # jumlah keberhasilan yang diinginkan\n",
    "\n",
    "# Menghitung probabilitas\n",
    "\n",
    "probabilitas = binom.pmf(k, n, p)\n",
    "print(\"Probabilitas: \", probabilitas)"
   ]
  },
  {
   "cell_type": "markdown",
   "metadata": {},
   "source": [
    "Soal 2: Distribusi Hipergeometrik dalam Seleksi Tim Proyek \n",
    "\n",
    "Sebuah perusahaan teknologi informasi memiliki 10 insinyur jaringan, yang terdiri dari 6 insinyur senior dan 4 insinyur junior. Perusahaan tersebut perlu membentuk tim proyek yang terdiri dari 4 insinyur. Berapa probabilitas bahwa tim yang terbentuk terdiri dari tepat 3 insinyur senior dan 1 insinyur junior? "
   ]
  },
  {
   "cell_type": "code",
   "execution_count": 8,
   "metadata": {},
   "outputs": [
    {
     "name": "stdout",
     "output_type": "stream",
     "text": [
      "Probabilitas:  0.38095238095238093\n"
     ]
    }
   ],
   "source": [
    "import math\n",
    "\n",
    "def kombinasi(n, k):\n",
    "    return math.factorial(n) // (math.factorial(k) * math.factorial(n - k))\n",
    "\n",
    "N = 10  # Jumlah total insinyur\n",
    "K1 = 6  # Jumlah insinyur senior\n",
    "K2 = 4  # Jumlah insinyur junior\n",
    "n = 4   # Jumlah insinyur dalam tim yang terbentuk\n",
    "k1 = 3  # Jumlah insinyur senior yang diinginkan\n",
    "k2 = 1  # Jumlah insinyur junior yang diinginkan\n",
    "\n",
    "# Menghitung probabilitas menggunakan distribusi hipergeometrik\n",
    "prob = (kombinasi(K1, k1) * kombinasi(K2, k2)) / kombinasi(N, n)\n",
    "\n",
    "print(\"Probabilitas: \", prob)"
   ]
  },
  {
   "cell_type": "markdown",
   "metadata": {},
   "source": [
    "Soal 3: Distribusi Poisson dalam Analisis Serangan Siber \n",
    "\n",
    "Sebuah perusahaan teknologi informasi mencatat rata-rata 5 serangan siber per bulan pada sistem mereka. Berapakah probabilitas bahwa perusahaan akan mengalami tepat 7 serangan siber dalam bulan berikutnya? "
   ]
  },
  {
   "cell_type": "code",
   "execution_count": 9,
   "metadata": {},
   "outputs": [
    {
     "name": "stdout",
     "output_type": "stream",
     "text": [
      "Probabilitas:  0.104444862957054\n"
     ]
    }
   ],
   "source": [
    "lambd = 5  # Rata-rata serangan siber per bulan\n",
    "k = 7      # Jumlah serangan siber yang ingin dihitung probabilitasnya\n",
    "\n",
    "# Menghitung probabilitas menggunakan distribusi Poisson\n",
    "prob = (math.exp(-lambd) * lambd**k) / math.factorial(k)\n",
    "\n",
    "print(\"Probabilitas: \", prob)"
   ]
  }
 ],
 "metadata": {
  "kernelspec": {
   "display_name": "Python 3",
   "language": "python",
   "name": "python3"
  },
  "language_info": {
   "codemirror_mode": {
    "name": "ipython",
    "version": 3
   },
   "file_extension": ".py",
   "mimetype": "text/x-python",
   "name": "python",
   "nbconvert_exporter": "python",
   "pygments_lexer": "ipython3",
   "version": "3.12.4"
  }
 },
 "nbformat": 4,
 "nbformat_minor": 2
}
